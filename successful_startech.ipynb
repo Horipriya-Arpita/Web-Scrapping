{
  "nbformat": 4,
  "nbformat_minor": 0,
  "metadata": {
    "colab": {
      "provenance": []
    },
    "kernelspec": {
      "name": "python3",
      "display_name": "Python 3"
    },
    "language_info": {
      "name": "python"
    }
  },
  "cells": [
    {
      "cell_type": "code",
      "source": [
        "# 1. Install required packages:\n",
        "!pip install crawl4ai beautifulsoup4 pandas nest-asyncio aiohttp\n"
      ],
      "metadata": {
        "colab": {
          "base_uri": "https://localhost:8080/"
        },
        "id": "IwLcyikmzLoK",
        "outputId": "eedbd16a-0f3f-42ef-b36a-13ef4e16e15a"
      },
      "execution_count": null,
      "outputs": [
        {
          "output_type": "stream",
          "name": "stdout",
          "text": [
            "Requirement already satisfied: crawl4ai in /usr/local/lib/python3.12/dist-packages (0.7.4)\n",
            "Requirement already satisfied: beautifulsoup4 in /usr/local/lib/python3.12/dist-packages (4.13.5)\n",
            "Requirement already satisfied: pandas in /usr/local/lib/python3.12/dist-packages (2.2.2)\n",
            "Requirement already satisfied: nest-asyncio in /usr/local/lib/python3.12/dist-packages (1.6.0)\n",
            "Requirement already satisfied: aiohttp in /usr/local/lib/python3.12/dist-packages (3.12.15)\n",
            "Requirement already satisfied: aiofiles>=24.1.0 in /usr/local/lib/python3.12/dist-packages (from crawl4ai) (24.1.0)\n",
            "Requirement already satisfied: aiosqlite~=0.20 in /usr/local/lib/python3.12/dist-packages (from crawl4ai) (0.21.0)\n",
            "Requirement already satisfied: anyio>=4.0.0 in /usr/local/lib/python3.12/dist-packages (from crawl4ai) (4.10.0)\n",
            "Requirement already satisfied: lxml~=5.3 in /usr/local/lib/python3.12/dist-packages (from crawl4ai) (5.4.0)\n",
            "Requirement already satisfied: litellm>=1.53.1 in /usr/local/lib/python3.12/dist-packages (from crawl4ai) (1.76.1)\n",
            "Requirement already satisfied: numpy<3,>=1.26.0 in /usr/local/lib/python3.12/dist-packages (from crawl4ai) (2.0.2)\n",
            "Requirement already satisfied: pillow>=10.4 in /usr/local/lib/python3.12/dist-packages (from crawl4ai) (11.3.0)\n",
            "Requirement already satisfied: playwright>=1.49.0 in /usr/local/lib/python3.12/dist-packages (from crawl4ai) (1.55.0)\n",
            "Requirement already satisfied: patchright>=1.49.0 in /usr/local/lib/python3.12/dist-packages (from crawl4ai) (1.52.5)\n",
            "Requirement already satisfied: python-dotenv~=1.0 in /usr/local/lib/python3.12/dist-packages (from crawl4ai) (1.1.1)\n",
            "Requirement already satisfied: requests~=2.26 in /usr/local/lib/python3.12/dist-packages (from crawl4ai) (2.32.4)\n",
            "Requirement already satisfied: tf-playwright-stealth>=1.1.0 in /usr/local/lib/python3.12/dist-packages (from crawl4ai) (1.2.0)\n",
            "Requirement already satisfied: xxhash~=3.4 in /usr/local/lib/python3.12/dist-packages (from crawl4ai) (3.5.0)\n",
            "Requirement already satisfied: rank-bm25~=0.2 in /usr/local/lib/python3.12/dist-packages (from crawl4ai) (0.2.2)\n",
            "Requirement already satisfied: snowballstemmer~=2.2 in /usr/local/lib/python3.12/dist-packages (from crawl4ai) (2.2.0)\n",
            "Requirement already satisfied: pydantic>=2.10 in /usr/local/lib/python3.12/dist-packages (from crawl4ai) (2.11.7)\n",
            "Requirement already satisfied: pyOpenSSL>=24.3.0 in /usr/local/lib/python3.12/dist-packages (from crawl4ai) (25.1.0)\n",
            "Requirement already satisfied: psutil>=6.1.1 in /usr/local/lib/python3.12/dist-packages (from crawl4ai) (7.0.0)\n",
            "Requirement already satisfied: PyYAML>=6.0 in /usr/local/lib/python3.12/dist-packages (from crawl4ai) (6.0.2)\n",
            "Requirement already satisfied: nltk>=3.9.1 in /usr/local/lib/python3.12/dist-packages (from crawl4ai) (3.9.1)\n",
            "Requirement already satisfied: rich>=13.9.4 in /usr/local/lib/python3.12/dist-packages (from crawl4ai) (13.9.4)\n",
            "Requirement already satisfied: httpx>=0.27.2 in /usr/local/lib/python3.12/dist-packages (from crawl4ai) (0.28.1)\n",
            "Requirement already satisfied: fake-useragent>=2.0.3 in /usr/local/lib/python3.12/dist-packages (from crawl4ai) (2.2.0)\n",
            "Requirement already satisfied: click>=8.1.7 in /usr/local/lib/python3.12/dist-packages (from crawl4ai) (8.2.1)\n",
            "Requirement already satisfied: chardet>=5.2.0 in /usr/local/lib/python3.12/dist-packages (from crawl4ai) (5.2.0)\n",
            "Requirement already satisfied: brotli>=1.1.0 in /usr/local/lib/python3.12/dist-packages (from crawl4ai) (1.1.0)\n",
            "Requirement already satisfied: humanize>=4.10.0 in /usr/local/lib/python3.12/dist-packages (from crawl4ai) (4.13.0)\n",
            "Requirement already satisfied: lark>=1.2.2 in /usr/local/lib/python3.12/dist-packages (from crawl4ai) (1.2.2)\n",
            "Requirement already satisfied: alphashape>=1.3.1 in /usr/local/lib/python3.12/dist-packages (from crawl4ai) (1.3.1)\n",
            "Requirement already satisfied: shapely>=2.0.0 in /usr/local/lib/python3.12/dist-packages (from crawl4ai) (2.1.1)\n",
            "Requirement already satisfied: soupsieve>1.2 in /usr/local/lib/python3.12/dist-packages (from beautifulsoup4) (2.7)\n",
            "Requirement already satisfied: typing-extensions>=4.0.0 in /usr/local/lib/python3.12/dist-packages (from beautifulsoup4) (4.15.0)\n",
            "Requirement already satisfied: python-dateutil>=2.8.2 in /usr/local/lib/python3.12/dist-packages (from pandas) (2.9.0.post0)\n",
            "Requirement already satisfied: pytz>=2020.1 in /usr/local/lib/python3.12/dist-packages (from pandas) (2025.2)\n",
            "Requirement already satisfied: tzdata>=2022.7 in /usr/local/lib/python3.12/dist-packages (from pandas) (2025.2)\n",
            "Requirement already satisfied: aiohappyeyeballs>=2.5.0 in /usr/local/lib/python3.12/dist-packages (from aiohttp) (2.6.1)\n",
            "Requirement already satisfied: aiosignal>=1.4.0 in /usr/local/lib/python3.12/dist-packages (from aiohttp) (1.4.0)\n",
            "Requirement already satisfied: attrs>=17.3.0 in /usr/local/lib/python3.12/dist-packages (from aiohttp) (25.3.0)\n",
            "Requirement already satisfied: frozenlist>=1.1.1 in /usr/local/lib/python3.12/dist-packages (from aiohttp) (1.7.0)\n",
            "Requirement already satisfied: multidict<7.0,>=4.5 in /usr/local/lib/python3.12/dist-packages (from aiohttp) (6.6.4)\n",
            "Requirement already satisfied: propcache>=0.2.0 in /usr/local/lib/python3.12/dist-packages (from aiohttp) (0.3.2)\n",
            "Requirement already satisfied: yarl<2.0,>=1.17.0 in /usr/local/lib/python3.12/dist-packages (from aiohttp) (1.20.1)\n",
            "Requirement already satisfied: click-log>=0.3.2 in /usr/local/lib/python3.12/dist-packages (from alphashape>=1.3.1->crawl4ai) (0.4.0)\n",
            "Requirement already satisfied: trimesh>=3.9.8 in /usr/local/lib/python3.12/dist-packages (from alphashape>=1.3.1->crawl4ai) (4.8.0)\n",
            "Requirement already satisfied: networkx>=2.5 in /usr/local/lib/python3.12/dist-packages (from alphashape>=1.3.1->crawl4ai) (3.5)\n",
            "Requirement already satisfied: rtree>=0.9.7 in /usr/local/lib/python3.12/dist-packages (from alphashape>=1.3.1->crawl4ai) (1.4.1)\n",
            "Requirement already satisfied: scipy>=1.0.0 in /usr/local/lib/python3.12/dist-packages (from alphashape>=1.3.1->crawl4ai) (1.16.1)\n",
            "Requirement already satisfied: idna>=2.8 in /usr/local/lib/python3.12/dist-packages (from anyio>=4.0.0->crawl4ai) (3.10)\n",
            "Requirement already satisfied: sniffio>=1.1 in /usr/local/lib/python3.12/dist-packages (from anyio>=4.0.0->crawl4ai) (1.3.1)\n",
            "Requirement already satisfied: certifi in /usr/local/lib/python3.12/dist-packages (from httpx>=0.27.2->crawl4ai) (2025.8.3)\n",
            "Requirement already satisfied: httpcore==1.* in /usr/local/lib/python3.12/dist-packages (from httpx>=0.27.2->crawl4ai) (1.0.9)\n",
            "Requirement already satisfied: h11>=0.16 in /usr/local/lib/python3.12/dist-packages (from httpcore==1.*->httpx>=0.27.2->crawl4ai) (0.16.0)\n",
            "Requirement already satisfied: h2<5,>=3 in /usr/local/lib/python3.12/dist-packages (from httpx[http2]>=0.27.2->crawl4ai) (4.3.0)\n",
            "Requirement already satisfied: fastuuid>=0.12.0 in /usr/local/lib/python3.12/dist-packages (from litellm>=1.53.1->crawl4ai) (0.12.0)\n",
            "Requirement already satisfied: importlib-metadata>=6.8.0 in /usr/local/lib/python3.12/dist-packages (from litellm>=1.53.1->crawl4ai) (8.7.0)\n",
            "Requirement already satisfied: jinja2<4.0.0,>=3.1.2 in /usr/local/lib/python3.12/dist-packages (from litellm>=1.53.1->crawl4ai) (3.1.6)\n",
            "Requirement already satisfied: jsonschema<5.0.0,>=4.22.0 in /usr/local/lib/python3.12/dist-packages (from litellm>=1.53.1->crawl4ai) (4.25.1)\n",
            "Requirement already satisfied: openai>=1.99.5 in /usr/local/lib/python3.12/dist-packages (from litellm>=1.53.1->crawl4ai) (1.101.0)\n",
            "Requirement already satisfied: tiktoken>=0.7.0 in /usr/local/lib/python3.12/dist-packages (from litellm>=1.53.1->crawl4ai) (0.11.0)\n",
            "Requirement already satisfied: tokenizers in /usr/local/lib/python3.12/dist-packages (from litellm>=1.53.1->crawl4ai) (0.21.4)\n",
            "Requirement already satisfied: joblib in /usr/local/lib/python3.12/dist-packages (from nltk>=3.9.1->crawl4ai) (1.5.1)\n",
            "Requirement already satisfied: regex>=2021.8.3 in /usr/local/lib/python3.12/dist-packages (from nltk>=3.9.1->crawl4ai) (2024.11.6)\n",
            "Requirement already satisfied: tqdm in /usr/local/lib/python3.12/dist-packages (from nltk>=3.9.1->crawl4ai) (4.67.1)\n",
            "Requirement already satisfied: pyee<14,>=13 in /usr/local/lib/python3.12/dist-packages (from patchright>=1.49.0->crawl4ai) (13.0.0)\n",
            "Requirement already satisfied: greenlet<4.0.0,>=3.1.1 in /usr/local/lib/python3.12/dist-packages (from patchright>=1.49.0->crawl4ai) (3.2.4)\n",
            "Requirement already satisfied: annotated-types>=0.6.0 in /usr/local/lib/python3.12/dist-packages (from pydantic>=2.10->crawl4ai) (0.7.0)\n",
            "Requirement already satisfied: pydantic-core==2.33.2 in /usr/local/lib/python3.12/dist-packages (from pydantic>=2.10->crawl4ai) (2.33.2)\n",
            "Requirement already satisfied: typing-inspection>=0.4.0 in /usr/local/lib/python3.12/dist-packages (from pydantic>=2.10->crawl4ai) (0.4.1)\n",
            "Requirement already satisfied: cryptography<46,>=41.0.5 in /usr/local/lib/python3.12/dist-packages (from pyOpenSSL>=24.3.0->crawl4ai) (43.0.3)\n",
            "Requirement already satisfied: six>=1.5 in /usr/local/lib/python3.12/dist-packages (from python-dateutil>=2.8.2->pandas) (1.17.0)\n",
            "Requirement already satisfied: charset_normalizer<4,>=2 in /usr/local/lib/python3.12/dist-packages (from requests~=2.26->crawl4ai) (3.4.3)\n",
            "Requirement already satisfied: urllib3<3,>=1.21.1 in /usr/local/lib/python3.12/dist-packages (from requests~=2.26->crawl4ai) (2.5.0)\n",
            "Requirement already satisfied: markdown-it-py>=2.2.0 in /usr/local/lib/python3.12/dist-packages (from rich>=13.9.4->crawl4ai) (4.0.0)\n",
            "Requirement already satisfied: pygments<3.0.0,>=2.13.0 in /usr/local/lib/python3.12/dist-packages (from rich>=13.9.4->crawl4ai) (2.19.2)\n",
            "Requirement already satisfied: fake-http-header<0.4.0,>=0.3.5 in /usr/local/lib/python3.12/dist-packages (from tf-playwright-stealth>=1.1.0->crawl4ai) (0.3.5)\n",
            "Requirement already satisfied: cffi>=1.12 in /usr/local/lib/python3.12/dist-packages (from cryptography<46,>=41.0.5->pyOpenSSL>=24.3.0->crawl4ai) (1.17.1)\n",
            "Requirement already satisfied: hyperframe<7,>=6.1 in /usr/local/lib/python3.12/dist-packages (from h2<5,>=3->httpx[http2]>=0.27.2->crawl4ai) (6.1.0)\n",
            "Requirement already satisfied: hpack<5,>=4.1 in /usr/local/lib/python3.12/dist-packages (from h2<5,>=3->httpx[http2]>=0.27.2->crawl4ai) (4.1.0)\n",
            "Requirement already satisfied: zipp>=3.20 in /usr/local/lib/python3.12/dist-packages (from importlib-metadata>=6.8.0->litellm>=1.53.1->crawl4ai) (3.23.0)\n",
            "Requirement already satisfied: MarkupSafe>=2.0 in /usr/local/lib/python3.12/dist-packages (from jinja2<4.0.0,>=3.1.2->litellm>=1.53.1->crawl4ai) (3.0.2)\n",
            "Requirement already satisfied: jsonschema-specifications>=2023.03.6 in /usr/local/lib/python3.12/dist-packages (from jsonschema<5.0.0,>=4.22.0->litellm>=1.53.1->crawl4ai) (2025.4.1)\n",
            "Requirement already satisfied: referencing>=0.28.4 in /usr/local/lib/python3.12/dist-packages (from jsonschema<5.0.0,>=4.22.0->litellm>=1.53.1->crawl4ai) (0.36.2)\n",
            "Requirement already satisfied: rpds-py>=0.7.1 in /usr/local/lib/python3.12/dist-packages (from jsonschema<5.0.0,>=4.22.0->litellm>=1.53.1->crawl4ai) (0.27.0)\n",
            "Requirement already satisfied: mdurl~=0.1 in /usr/local/lib/python3.12/dist-packages (from markdown-it-py>=2.2.0->rich>=13.9.4->crawl4ai) (0.1.2)\n",
            "Requirement already satisfied: distro<2,>=1.7.0 in /usr/local/lib/python3.12/dist-packages (from openai>=1.99.5->litellm>=1.53.1->crawl4ai) (1.9.0)\n",
            "Requirement already satisfied: jiter<1,>=0.4.0 in /usr/local/lib/python3.12/dist-packages (from openai>=1.99.5->litellm>=1.53.1->crawl4ai) (0.10.0)\n",
            "Requirement already satisfied: huggingface-hub<1.0,>=0.16.4 in /usr/local/lib/python3.12/dist-packages (from tokenizers->litellm>=1.53.1->crawl4ai) (0.34.4)\n",
            "Requirement already satisfied: pycparser in /usr/local/lib/python3.12/dist-packages (from cffi>=1.12->cryptography<46,>=41.0.5->pyOpenSSL>=24.3.0->crawl4ai) (2.22)\n",
            "Requirement already satisfied: filelock in /usr/local/lib/python3.12/dist-packages (from huggingface-hub<1.0,>=0.16.4->tokenizers->litellm>=1.53.1->crawl4ai) (3.19.1)\n",
            "Requirement already satisfied: fsspec>=2023.5.0 in /usr/local/lib/python3.12/dist-packages (from huggingface-hub<1.0,>=0.16.4->tokenizers->litellm>=1.53.1->crawl4ai) (2025.3.0)\n",
            "Requirement already satisfied: packaging>=20.9 in /usr/local/lib/python3.12/dist-packages (from huggingface-hub<1.0,>=0.16.4->tokenizers->litellm>=1.53.1->crawl4ai) (25.0)\n",
            "Requirement already satisfied: hf-xet<2.0.0,>=1.1.3 in /usr/local/lib/python3.12/dist-packages (from huggingface-hub<1.0,>=0.16.4->tokenizers->litellm>=1.53.1->crawl4ai) (1.1.8)\n"
          ]
        }
      ]
    },
    {
      "cell_type": "code",
      "source": [
        "# 2. Initialize Crawl4AI (one-time setup):\n",
        "!python -m crawl4ai.async_crawler_strategy\n"
      ],
      "metadata": {
        "colab": {
          "base_uri": "https://localhost:8080/"
        },
        "id": "k9xtcv73zNqH",
        "outputId": "60631d43-ec1e-44a3-d391-9fefbf5ca727"
      },
      "execution_count": null,
      "outputs": [
        {
          "output_type": "stream",
          "name": "stdout",
          "text": [
            "<frozen runpy>:128: RuntimeWarning: 'crawl4ai.async_crawler_strategy' found in sys.modules after import of package 'crawl4ai', but prior to execution of 'crawl4ai.async_crawler_strategy'; this may result in unpredictable behaviour\n"
          ]
        }
      ]
    },
    {
      "cell_type": "code",
      "source": [
        "!playwright install"
      ],
      "metadata": {
        "colab": {
          "base_uri": "https://localhost:8080/"
        },
        "id": "_91JOppy1LZC",
        "outputId": "a4894bfd-3618-4c5b-d607-392e5094aa5f"
      },
      "execution_count": null,
      "outputs": [
        {
          "output_type": "stream",
          "name": "stdout",
          "text": [
            "Downloading Chromium 140.0.7339.16 (playwright build v1187)\u001b[2m from https://cdn.playwright.dev/dbazure/download/playwright/builds/chromium/1187/chromium-linux.zip\u001b[22m\n",
            "\u001b[1G173.7 MiB [] 0% 0.0s\u001b[0K\u001b[1G173.7 MiB [] 0% 52.9s\u001b[0K\u001b[1G173.7 MiB [] 0% 25.9s\u001b[0K\u001b[1G173.7 MiB [] 0% 16.2s\u001b[0K\u001b[1G173.7 MiB [] 0% 8.1s\u001b[0K\u001b[1G173.7 MiB [] 1% 4.6s\u001b[0K\u001b[1G173.7 MiB [] 2% 3.4s\u001b[0K\u001b[1G173.7 MiB [] 4% 2.7s\u001b[0K\u001b[1G173.7 MiB [] 5% 2.4s\u001b[0K\u001b[1G173.7 MiB [] 5% 2.5s\u001b[0K\u001b[1G173.7 MiB [] 6% 2.3s\u001b[0K\u001b[1G173.7 MiB [] 7% 2.2s\u001b[0K\u001b[1G173.7 MiB [] 9% 2.0s\u001b[0K\u001b[1G173.7 MiB [] 10% 1.9s\u001b[0K\u001b[1G173.7 MiB [] 12% 1.8s\u001b[0K\u001b[1G173.7 MiB [] 13% 1.8s\u001b[0K\u001b[1G173.7 MiB [] 14% 1.7s\u001b[0K\u001b[1G173.7 MiB [] 15% 1.6s\u001b[0K\u001b[1G173.7 MiB [] 17% 1.5s\u001b[0K\u001b[1G173.7 MiB [] 18% 1.4s\u001b[0K\u001b[1G173.7 MiB [] 20% 1.3s\u001b[0K\u001b[1G173.7 MiB [] 21% 1.3s\u001b[0K\u001b[1G173.7 MiB [] 23% 1.2s\u001b[0K\u001b[1G173.7 MiB [] 24% 1.2s\u001b[0K\u001b[1G173.7 MiB [] 26% 1.1s\u001b[0K\u001b[1G173.7 MiB [] 26% 1.2s\u001b[0K\u001b[1G173.7 MiB [] 27% 1.1s\u001b[0K\u001b[1G173.7 MiB [] 29% 1.1s\u001b[0K\u001b[1G173.7 MiB [] 31% 1.0s\u001b[0K\u001b[1G173.7 MiB [] 33% 1.0s\u001b[0K\u001b[1G173.7 MiB [] 35% 0.9s\u001b[0K\u001b[1G173.7 MiB [] 36% 0.9s\u001b[0K\u001b[1G173.7 MiB [] 38% 0.9s\u001b[0K\u001b[1G173.7 MiB [] 40% 0.8s\u001b[0K\u001b[1G173.7 MiB [] 42% 0.8s\u001b[0K\u001b[1G173.7 MiB [] 43% 0.8s\u001b[0K\u001b[1G173.7 MiB [] 45% 0.7s\u001b[0K\u001b[1G173.7 MiB [] 47% 0.7s\u001b[0K\u001b[1G173.7 MiB [] 48% 0.7s\u001b[0K\u001b[1G173.7 MiB [] 50% 0.6s\u001b[0K\u001b[1G173.7 MiB [] 52% 0.6s\u001b[0K\u001b[1G173.7 MiB [] 53% 0.6s\u001b[0K\u001b[1G173.7 MiB [] 55% 0.6s\u001b[0K\u001b[1G173.7 MiB [] 57% 0.5s\u001b[0K\u001b[1G173.7 MiB [] 58% 0.5s\u001b[0K\u001b[1G173.7 MiB [] 60% 0.5s\u001b[0K\u001b[1G173.7 MiB [] 62% 0.5s\u001b[0K\u001b[1G173.7 MiB [] 63% 0.4s\u001b[0K\u001b[1G173.7 MiB [] 65% 0.4s\u001b[0K\u001b[1G173.7 MiB [] 66% 0.4s\u001b[0K\u001b[1G173.7 MiB [] 67% 0.4s\u001b[0K\u001b[1G173.7 MiB [] 68% 0.4s\u001b[0K\u001b[1G173.7 MiB [] 69% 0.4s\u001b[0K\u001b[1G173.7 MiB [] 71% 0.3s\u001b[0K\u001b[1G173.7 MiB [] 73% 0.3s\u001b[0K\u001b[1G173.7 MiB [] 74% 0.3s\u001b[0K\u001b[1G173.7 MiB [] 76% 0.3s\u001b[0K\u001b[1G173.7 MiB [] 77% 0.3s\u001b[0K\u001b[1G173.7 MiB [] 79% 0.2s\u001b[0K\u001b[1G173.7 MiB [] 81% 0.2s\u001b[0K\u001b[1G173.7 MiB [] 82% 0.2s\u001b[0K\u001b[1G173.7 MiB [] 84% 0.2s\u001b[0K\u001b[1G173.7 MiB [] 86% 0.2s\u001b[0K\u001b[1G173.7 MiB [] 87% 0.1s\u001b[0K\u001b[1G173.7 MiB [] 89% 0.1s\u001b[0K\u001b[1G173.7 MiB [] 90% 0.1s\u001b[0K\u001b[1G173.7 MiB [] 91% 0.1s\u001b[0K\u001b[1G173.7 MiB [] 92% 0.1s\u001b[0K\u001b[1G173.7 MiB [] 93% 0.1s\u001b[0K\u001b[1G173.7 MiB [] 94% 0.1s\u001b[0K\u001b[1G173.7 MiB [] 95% 0.1s\u001b[0K\u001b[1G173.7 MiB [] 96% 0.0s\u001b[0K\u001b[1G173.7 MiB [] 97% 0.0s\u001b[0K\u001b[1G173.7 MiB [] 98% 0.0s\u001b[0K\u001b[1G173.7 MiB [] 99% 0.0s\u001b[0K\u001b[1G173.7 MiB [] 100% 0.0s\u001b[0K\n",
            "Chromium 140.0.7339.16 (playwright build v1187) downloaded to /root/.cache/ms-playwright/chromium-1187\n",
            "Downloading Chromium Headless Shell 140.0.7339.16 (playwright build v1187)\u001b[2m from https://cdn.playwright.dev/dbazure/download/playwright/builds/chromium/1187/chromium-headless-shell-linux.zip\u001b[22m\n",
            "\u001b[1G104.3 MiB [] 0% 0.0s\u001b[0K\u001b[1G104.3 MiB [] 0% 33.5s\u001b[0K\u001b[1G104.3 MiB [] 0% 14.8s\u001b[0K\u001b[1G104.3 MiB [] 0% 9.0s\u001b[0K\u001b[1G104.3 MiB [] 1% 5.1s\u001b[0K\u001b[1G104.3 MiB [] 2% 3.6s\u001b[0K\u001b[1G104.3 MiB [] 3% 2.5s\u001b[0K\u001b[1G104.3 MiB [] 5% 1.8s\u001b[0K\u001b[1G104.3 MiB [] 7% 1.7s\u001b[0K\u001b[1G104.3 MiB [] 8% 1.6s\u001b[0K\u001b[1G104.3 MiB [] 10% 1.4s\u001b[0K\u001b[1G104.3 MiB [] 11% 1.4s\u001b[0K\u001b[1G104.3 MiB [] 13% 1.3s\u001b[0K\u001b[1G104.3 MiB [] 14% 1.2s\u001b[0K\u001b[1G104.3 MiB [] 15% 1.2s\u001b[0K\u001b[1G104.3 MiB [] 17% 1.2s\u001b[0K\u001b[1G104.3 MiB [] 20% 1.1s\u001b[0K\u001b[1G104.3 MiB [] 21% 1.0s\u001b[0K\u001b[1G104.3 MiB [] 23% 1.0s\u001b[0K\u001b[1G104.3 MiB [] 25% 0.9s\u001b[0K\u001b[1G104.3 MiB [] 28% 0.8s\u001b[0K\u001b[1G104.3 MiB [] 29% 0.8s\u001b[0K\u001b[1G104.3 MiB [] 33% 0.7s\u001b[0K\u001b[1G104.3 MiB [] 34% 0.7s\u001b[0K\u001b[1G104.3 MiB [] 35% 0.7s\u001b[0K\u001b[1G104.3 MiB [] 36% 0.7s\u001b[0K\u001b[1G104.3 MiB [] 37% 0.7s\u001b[0K\u001b[1G104.3 MiB [] 38% 0.7s\u001b[0K\u001b[1G104.3 MiB [] 40% 0.7s\u001b[0K\u001b[1G104.3 MiB [] 42% 0.6s\u001b[0K\u001b[1G104.3 MiB [] 43% 0.6s\u001b[0K\u001b[1G104.3 MiB [] 46% 0.6s\u001b[0K\u001b[1G104.3 MiB [] 49% 0.6s\u001b[0K\u001b[1G104.3 MiB [] 51% 0.5s\u001b[0K\u001b[1G104.3 MiB [] 54% 0.5s\u001b[0K\u001b[1G104.3 MiB [] 57% 0.4s\u001b[0K\u001b[1G104.3 MiB [] 58% 0.4s\u001b[0K\u001b[1G104.3 MiB [] 59% 0.4s\u001b[0K\u001b[1G104.3 MiB [] 60% 0.4s\u001b[0K\u001b[1G104.3 MiB [] 61% 0.4s\u001b[0K\u001b[1G104.3 MiB [] 63% 0.4s\u001b[0K\u001b[1G104.3 MiB [] 64% 0.4s\u001b[0K\u001b[1G104.3 MiB [] 65% 0.4s\u001b[0K\u001b[1G104.3 MiB [] 66% 0.4s\u001b[0K\u001b[1G104.3 MiB [] 67% 0.4s\u001b[0K\u001b[1G104.3 MiB [] 68% 0.3s\u001b[0K\u001b[1G104.3 MiB [] 69% 0.3s\u001b[0K\u001b[1G104.3 MiB [] 70% 0.3s\u001b[0K\u001b[1G104.3 MiB [] 71% 0.3s\u001b[0K\u001b[1G104.3 MiB [] 72% 0.3s\u001b[0K\u001b[1G104.3 MiB [] 74% 0.3s\u001b[0K\u001b[1G104.3 MiB [] 75% 0.3s\u001b[0K\u001b[1G104.3 MiB [] 76% 0.3s\u001b[0K\u001b[1G104.3 MiB [] 78% 0.2s\u001b[0K\u001b[1G104.3 MiB [] 79% 0.2s\u001b[0K\u001b[1G104.3 MiB [] 80% 0.2s\u001b[0K\u001b[1G104.3 MiB [] 81% 0.2s\u001b[0K\u001b[1G104.3 MiB [] 82% 0.2s\u001b[0K\u001b[1G104.3 MiB [] 83% 0.2s\u001b[0K\u001b[1G104.3 MiB [] 84% 0.2s\u001b[0K\u001b[1G104.3 MiB [] 85% 0.2s\u001b[0K\u001b[1G104.3 MiB [] 86% 0.2s\u001b[0K\u001b[1G104.3 MiB [] 87% 0.1s\u001b[0K\u001b[1G104.3 MiB [] 88% 0.1s\u001b[0K\u001b[1G104.3 MiB [] 89% 0.1s\u001b[0K\u001b[1G104.3 MiB [] 90% 0.1s\u001b[0K\u001b[1G104.3 MiB [] 91% 0.1s\u001b[0K\u001b[1G104.3 MiB [] 92% 0.1s\u001b[0K\u001b[1G104.3 MiB [] 94% 0.1s\u001b[0K\u001b[1G104.3 MiB [] 95% 0.1s\u001b[0K\u001b[1G104.3 MiB [] 96% 0.0s\u001b[0K\u001b[1G104.3 MiB [] 97% 0.0s\u001b[0K\u001b[1G104.3 MiB [] 98% 0.0s\u001b[0K\u001b[1G104.3 MiB [] 99% 0.0s\u001b[0K\u001b[1G104.3 MiB [] 100% 0.0s\u001b[0K\n",
            "Chromium Headless Shell 140.0.7339.16 (playwright build v1187) downloaded to /root/.cache/ms-playwright/chromium_headless_shell-1187\n",
            "Downloading Firefox 141.0 (playwright build v1490)\u001b[2m from https://cdn.playwright.dev/dbazure/download/playwright/builds/firefox/1490/firefox-ubuntu-22.04.zip\u001b[22m\n",
            "\u001b[1G96 MiB [] 0% 0.0s\u001b[0K\u001b[1G96 MiB [] 0% 27.1s\u001b[0K\u001b[1G96 MiB [] 0% 15.0s\u001b[0K\u001b[1G96 MiB [] 0% 9.7s\u001b[0K\u001b[1G96 MiB [] 0% 7.5s\u001b[0K\u001b[1G96 MiB [] 1% 6.5s\u001b[0K\u001b[1G96 MiB [] 1% 6.1s\u001b[0K\u001b[1G96 MiB [] 2% 5.5s\u001b[0K\u001b[1G96 MiB [] 2% 5.1s\u001b[0K\u001b[1G96 MiB [] 3% 4.8s\u001b[0K\u001b[1G96 MiB [] 3% 4.7s\u001b[0K\u001b[1G96 MiB [] 4% 4.3s\u001b[0K\u001b[1G96 MiB [] 5% 4.1s\u001b[0K\u001b[1G96 MiB [] 5% 3.9s\u001b[0K\u001b[1G96 MiB [] 6% 3.6s\u001b[0K\u001b[1G96 MiB [] 7% 3.6s\u001b[0K\u001b[1G96 MiB [] 7% 3.7s\u001b[0K\u001b[1G96 MiB [] 8% 3.6s\u001b[0K\u001b[1G96 MiB [] 8% 3.7s\u001b[0K\u001b[1G96 MiB [] 9% 3.6s\u001b[0K\u001b[1G96 MiB [] 9% 3.7s\u001b[0K\u001b[1G96 MiB [] 10% 3.6s\u001b[0K\u001b[1G96 MiB [] 11% 3.5s\u001b[0K\u001b[1G96 MiB [] 11% 3.6s\u001b[0K\u001b[1G96 MiB [] 11% 3.7s\u001b[0K\u001b[1G96 MiB [] 12% 3.5s\u001b[0K\u001b[1G96 MiB [] 13% 3.6s\u001b[0K\u001b[1G96 MiB [] 13% 3.5s\u001b[0K\u001b[1G96 MiB [] 14% 3.5s\u001b[0K\u001b[1G96 MiB [] 14% 3.6s\u001b[0K\u001b[1G96 MiB [] 15% 3.5s\u001b[0K\u001b[1G96 MiB [] 15% 3.6s\u001b[0K\u001b[1G96 MiB [] 16% 3.7s\u001b[0K\u001b[1G96 MiB [] 16% 3.6s\u001b[0K\u001b[1G96 MiB [] 16% 3.7s\u001b[0K\u001b[1G96 MiB [] 17% 3.8s\u001b[0K\u001b[1G96 MiB [] 17% 3.9s\u001b[0K\u001b[1G96 MiB [] 17% 4.0s\u001b[0K\u001b[1G96 MiB [] 17% 4.1s\u001b[0K\u001b[1G96 MiB [] 18% 4.1s\u001b[0K\u001b[1G96 MiB [] 18% 4.2s\u001b[0K\u001b[1G96 MiB [] 19% 4.2s\u001b[0K\u001b[1G96 MiB [] 19% 4.3s\u001b[0K\u001b[1G96 MiB [] 20% 4.4s\u001b[0K\u001b[1G96 MiB [] 20% 4.3s\u001b[0K\u001b[1G96 MiB [] 20% 4.4s\u001b[0K\u001b[1G96 MiB [] 20% 4.5s\u001b[0K\u001b[1G96 MiB [] 21% 4.5s\u001b[0K\u001b[1G96 MiB [] 22% 4.5s\u001b[0K\u001b[1G96 MiB [] 22% 4.4s\u001b[0K\u001b[1G96 MiB [] 22% 4.5s\u001b[0K\u001b[1G96 MiB [] 23% 4.4s\u001b[0K\u001b[1G96 MiB [] 23% 4.3s\u001b[0K\u001b[1G96 MiB [] 24% 4.1s\u001b[0K\u001b[1G96 MiB [] 25% 4.1s\u001b[0K\u001b[1G96 MiB [] 25% 4.0s\u001b[0K\u001b[1G96 MiB [] 26% 4.0s\u001b[0K\u001b[1G96 MiB [] 27% 3.8s\u001b[0K\u001b[1G96 MiB [] 28% 3.8s\u001b[0K\u001b[1G96 MiB [] 28% 3.7s\u001b[0K\u001b[1G96 MiB [] 29% 3.6s\u001b[0K\u001b[1G96 MiB [] 30% 3.5s\u001b[0K\u001b[1G96 MiB [] 31% 3.4s\u001b[0K\u001b[1G96 MiB [] 31% 3.3s\u001b[0K\u001b[1G96 MiB [] 32% 3.2s\u001b[0K\u001b[1G96 MiB [] 33% 3.2s\u001b[0K\u001b[1G96 MiB [] 34% 3.0s\u001b[0K\u001b[1G96 MiB [] 35% 2.9s\u001b[0K\u001b[1G96 MiB [] 36% 2.8s\u001b[0K\u001b[1G96 MiB [] 37% 2.7s\u001b[0K\u001b[1G96 MiB [] 38% 2.7s\u001b[0K\u001b[1G96 MiB [] 39% 2.6s\u001b[0K\u001b[1G96 MiB [] 40% 2.6s\u001b[0K\u001b[1G96 MiB [] 41% 2.5s\u001b[0K\u001b[1G96 MiB [] 42% 2.4s\u001b[0K\u001b[1G96 MiB [] 43% 2.3s\u001b[0K\u001b[1G96 MiB [] 44% 2.3s\u001b[0K\u001b[1G96 MiB [] 45% 2.2s\u001b[0K\u001b[1G96 MiB [] 46% 2.2s\u001b[0K\u001b[1G96 MiB [] 47% 2.2s\u001b[0K\u001b[1G96 MiB [] 48% 2.1s\u001b[0K\u001b[1G96 MiB [] 49% 2.1s\u001b[0K\u001b[1G96 MiB [] 50% 2.0s\u001b[0K\u001b[1G96 MiB [] 51% 1.9s\u001b[0K\u001b[1G96 MiB [] 52% 1.9s\u001b[0K\u001b[1G96 MiB [] 53% 1.9s\u001b[0K\u001b[1G96 MiB [] 54% 1.8s\u001b[0K\u001b[1G96 MiB [] 55% 1.7s\u001b[0K\u001b[1G96 MiB [] 56% 1.7s\u001b[0K\u001b[1G96 MiB [] 57% 1.6s\u001b[0K\u001b[1G96 MiB [] 58% 1.6s\u001b[0K\u001b[1G96 MiB [] 59% 1.6s\u001b[0K\u001b[1G96 MiB [] 59% 1.5s\u001b[0K\u001b[1G96 MiB [] 60% 1.5s\u001b[0K\u001b[1G96 MiB [] 61% 1.4s\u001b[0K\u001b[1G96 MiB [] 62% 1.4s\u001b[0K\u001b[1G96 MiB [] 63% 1.4s\u001b[0K\u001b[1G96 MiB [] 65% 1.2s\u001b[0K\u001b[1G96 MiB [] 68% 1.1s\u001b[0K\u001b[1G96 MiB [] 70% 1.0s\u001b[0K\u001b[1G96 MiB [] 72% 0.9s\u001b[0K\u001b[1G96 MiB [] 73% 0.9s\u001b[0K\u001b[1G96 MiB [] 75% 0.8s\u001b[0K\u001b[1G96 MiB [] 76% 0.8s\u001b[0K\u001b[1G96 MiB [] 78% 0.7s\u001b[0K\u001b[1G96 MiB [] 80% 0.6s\u001b[0K\u001b[1G96 MiB [] 82% 0.5s\u001b[0K\u001b[1G96 MiB [] 84% 0.5s\u001b[0K\u001b[1G96 MiB [] 85% 0.4s\u001b[0K\u001b[1G96 MiB [] 87% 0.4s\u001b[0K\u001b[1G96 MiB [] 89% 0.3s\u001b[0K\u001b[1G96 MiB [] 90% 0.3s\u001b[0K\u001b[1G96 MiB [] 92% 0.2s\u001b[0K\u001b[1G96 MiB [] 93% 0.2s\u001b[0K\u001b[1G96 MiB [] 94% 0.2s\u001b[0K\u001b[1G96 MiB [] 95% 0.1s\u001b[0K\u001b[1G96 MiB [] 97% 0.1s\u001b[0K\u001b[1G96 MiB [] 98% 0.0s\u001b[0K\u001b[1G96 MiB [] 99% 0.0s\u001b[0K\u001b[1G96 MiB [] 100% 0.0s\u001b[0K\n",
            "Firefox 141.0 (playwright build v1490) downloaded to /root/.cache/ms-playwright/firefox-1490\n",
            "Downloading Webkit 26.0 (playwright build v2203)\u001b[2m from https://cdn.playwright.dev/dbazure/download/playwright/builds/webkit/2203/webkit-ubuntu-22.04.zip\u001b[22m\n",
            "\u001b[1G94.6 MiB [] 0% 0.0s\u001b[0K\u001b[1G94.6 MiB [] 0% 24.6s\u001b[0K\u001b[1G94.6 MiB [] 0% 11.8s\u001b[0K\u001b[1G94.6 MiB [] 0% 7.9s\u001b[0K\u001b[1G94.6 MiB [] 1% 4.0s\u001b[0K\u001b[1G94.6 MiB [] 2% 3.0s\u001b[0K\u001b[1G94.6 MiB [] 3% 2.8s\u001b[0K\u001b[1G94.6 MiB [] 5% 2.1s\u001b[0K\u001b[1G94.6 MiB [] 8% 1.7s\u001b[0K\u001b[1G94.6 MiB [] 9% 1.5s\u001b[0K\u001b[1G94.6 MiB [] 10% 1.6s\u001b[0K\u001b[1G94.6 MiB [] 12% 1.4s\u001b[0K\u001b[1G94.6 MiB [] 13% 1.4s\u001b[0K\u001b[1G94.6 MiB [] 14% 1.4s\u001b[0K\u001b[1G94.6 MiB [] 15% 1.3s\u001b[0K\u001b[1G94.6 MiB [] 16% 2.2s\u001b[0K\u001b[1G94.6 MiB [] 17% 2.1s\u001b[0K\u001b[1G94.6 MiB [] 17% 2.2s\u001b[0K\u001b[1G94.6 MiB [] 18% 2.1s\u001b[0K\u001b[1G94.6 MiB [] 19% 2.1s\u001b[0K\u001b[1G94.6 MiB [] 21% 2.0s\u001b[0K\u001b[1G94.6 MiB [] 22% 1.9s\u001b[0K\u001b[1G94.6 MiB [] 23% 1.8s\u001b[0K\u001b[1G94.6 MiB [] 24% 1.8s\u001b[0K\u001b[1G94.6 MiB [] 25% 1.8s\u001b[0K\u001b[1G94.6 MiB [] 26% 1.7s\u001b[0K\u001b[1G94.6 MiB [] 27% 1.8s\u001b[0K\u001b[1G94.6 MiB [] 27% 1.7s\u001b[0K\u001b[1G94.6 MiB [] 28% 1.7s\u001b[0K\u001b[1G94.6 MiB [] 29% 1.7s\u001b[0K\u001b[1G94.6 MiB [] 30% 1.7s\u001b[0K\u001b[1G94.6 MiB [] 31% 1.7s\u001b[0K\u001b[1G94.6 MiB [] 31% 1.6s\u001b[0K\u001b[1G94.6 MiB [] 32% 1.6s\u001b[0K\u001b[1G94.6 MiB [] 33% 1.6s\u001b[0K\u001b[1G94.6 MiB [] 34% 1.5s\u001b[0K\u001b[1G94.6 MiB [] 35% 1.5s\u001b[0K\u001b[1G94.6 MiB [] 37% 1.5s\u001b[0K\u001b[1G94.6 MiB [] 37% 1.4s\u001b[0K\u001b[1G94.6 MiB [] 38% 1.4s\u001b[0K\u001b[1G94.6 MiB [] 39% 1.4s\u001b[0K\u001b[1G94.6 MiB [] 40% 1.4s\u001b[0K\u001b[1G94.6 MiB [] 41% 1.3s\u001b[0K\u001b[1G94.6 MiB [] 42% 1.3s\u001b[0K\u001b[1G94.6 MiB [] 43% 1.3s\u001b[0K\u001b[1G94.6 MiB [] 44% 1.3s\u001b[0K\u001b[1G94.6 MiB [] 45% 1.2s\u001b[0K\u001b[1G94.6 MiB [] 46% 1.2s\u001b[0K\u001b[1G94.6 MiB [] 47% 1.2s\u001b[0K\u001b[1G94.6 MiB [] 48% 1.2s\u001b[0K\u001b[1G94.6 MiB [] 49% 1.2s\u001b[0K\u001b[1G94.6 MiB [] 50% 1.2s\u001b[0K\u001b[1G94.6 MiB [] 50% 1.1s\u001b[0K\u001b[1G94.6 MiB [] 51% 1.1s\u001b[0K\u001b[1G94.6 MiB [] 52% 1.1s\u001b[0K\u001b[1G94.6 MiB [] 53% 1.1s\u001b[0K\u001b[1G94.6 MiB [] 54% 1.0s\u001b[0K\u001b[1G94.6 MiB [] 55% 1.0s\u001b[0K\u001b[1G94.6 MiB [] 56% 1.0s\u001b[0K\u001b[1G94.6 MiB [] 57% 1.0s\u001b[0K\u001b[1G94.6 MiB [] 58% 0.9s\u001b[0K\u001b[1G94.6 MiB [] 59% 0.9s\u001b[0K\u001b[1G94.6 MiB [] 60% 0.9s\u001b[0K\u001b[1G94.6 MiB [] 61% 0.9s\u001b[0K\u001b[1G94.6 MiB [] 62% 0.8s\u001b[0K\u001b[1G94.6 MiB [] 63% 0.8s\u001b[0K\u001b[1G94.6 MiB [] 64% 0.8s\u001b[0K\u001b[1G94.6 MiB [] 65% 0.8s\u001b[0K\u001b[1G94.6 MiB [] 66% 0.7s\u001b[0K\u001b[1G94.6 MiB [] 67% 0.7s\u001b[0K\u001b[1G94.6 MiB [] 68% 0.7s\u001b[0K\u001b[1G94.6 MiB [] 69% 0.7s\u001b[0K\u001b[1G94.6 MiB [] 70% 0.7s\u001b[0K\u001b[1G94.6 MiB [] 70% 0.6s\u001b[0K\u001b[1G94.6 MiB [] 71% 0.6s\u001b[0K\u001b[1G94.6 MiB [] 72% 0.6s\u001b[0K\u001b[1G94.6 MiB [] 73% 0.6s\u001b[0K\u001b[1G94.6 MiB [] 74% 0.6s\u001b[0K\u001b[1G94.6 MiB [] 75% 0.5s\u001b[0K\u001b[1G94.6 MiB [] 76% 0.5s\u001b[0K\u001b[1G94.6 MiB [] 77% 0.5s\u001b[0K\u001b[1G94.6 MiB [] 79% 0.5s\u001b[0K\u001b[1G94.6 MiB [] 80% 0.4s\u001b[0K\u001b[1G94.6 MiB [] 81% 0.4s\u001b[0K\u001b[1G94.6 MiB [] 82% 0.4s\u001b[0K\u001b[1G94.6 MiB [] 83% 0.4s\u001b[0K\u001b[1G94.6 MiB [] 84% 0.3s\u001b[0K\u001b[1G94.6 MiB [] 86% 0.3s\u001b[0K\u001b[1G94.6 MiB [] 87% 0.3s\u001b[0K\u001b[1G94.6 MiB [] 88% 0.3s\u001b[0K\u001b[1G94.6 MiB [] 89% 0.2s\u001b[0K\u001b[1G94.6 MiB [] 90% 0.2s\u001b[0K\u001b[1G94.6 MiB [] 91% 0.2s\u001b[0K\u001b[1G94.6 MiB [] 92% 0.2s\u001b[0K\u001b[1G94.6 MiB [] 94% 0.1s\u001b[0K\u001b[1G94.6 MiB [] 95% 0.1s\u001b[0K\u001b[1G94.6 MiB [] 96% 0.1s\u001b[0K\u001b[1G94.6 MiB [] 97% 0.0s\u001b[0K\u001b[1G94.6 MiB [] 99% 0.0s\u001b[0K\u001b[1G94.6 MiB [] 100% 0.0s\u001b[0K\n",
            "Webkit 26.0 (playwright build v2203) downloaded to /root/.cache/ms-playwright/webkit-2203\n",
            "Downloading FFMPEG playwright build v1011\u001b[2m from https://cdn.playwright.dev/dbazure/download/playwright/builds/ffmpeg/1011/ffmpeg-linux.zip\u001b[22m\n",
            "\u001b[1G2.3 MiB [] 0% 0.0s\u001b[0K\u001b[1G2.3 MiB [] 2% 0.7s\u001b[0K\u001b[1G2.3 MiB [] 8% 0.4s\u001b[0K\u001b[1G2.3 MiB [] 20% 0.2s\u001b[0K\u001b[1G2.3 MiB [] 49% 0.1s\u001b[0K\u001b[1G2.3 MiB [] 98% 0.0s\u001b[0K\u001b[1G2.3 MiB [] 100% 0.0s\u001b[0K\n",
            "FFMPEG playwright build v1011 downloaded to /root/.cache/ms-playwright/ffmpeg-1011\n",
            "Playwright Host validation warning: \n",
            "╔══════════════════════════════════════════════════════╗\n",
            "║ Host system is missing dependencies to run browsers. ║\n",
            "║ Missing libraries:                                   ║\n",
            "║     libwoff2dec.so.1.0.2                             ║\n",
            "║     libgstgl-1.0.so.0                                ║\n",
            "║     libgstcodecparsers-1.0.so.0                      ║\n",
            "║     libavif.so.13                                    ║\n",
            "║     libharfbuzz-icu.so.0                             ║\n",
            "║     libenchant-2.so.2                                ║\n",
            "║     libsecret-1.so.0                                 ║\n",
            "║     libhyphen.so.0                                   ║\n",
            "║     libmanette-0.2.so.0                              ║\n",
            "╚══════════════════════════════════════════════════════╝\n",
            "    at validateDependenciesLinux (/usr/local/lib/python3.12/dist-packages/playwright/driver/package/lib/server/registry/dependencies.js:269:9)\n",
            "    at async Registry._validateHostRequirements (/usr/local/lib/python3.12/dist-packages/playwright/driver/package/lib/server/registry/index.js:934:14)\n",
            "    at async Registry._validateHostRequirementsForExecutableIfNeeded (/usr/local/lib/python3.12/dist-packages/playwright/driver/package/lib/server/registry/index.js:1056:7)\n",
            "    at async Registry.validateHostRequirementsForExecutablesIfNeeded (/usr/local/lib/python3.12/dist-packages/playwright/driver/package/lib/server/registry/index.js:1045:7)\n",
            "    at async i.<anonymous> (/usr/local/lib/python3.12/dist-packages/playwright/driver/package/lib/cli/program.js:217:7)\n"
          ]
        }
      ]
    },
    {
      "cell_type": "code",
      "execution_count": null,
      "metadata": {
        "colab": {
          "base_uri": "https://localhost:8080/",
          "height": 835
        },
        "id": "mTyxi6vzyOXC",
        "outputId": "fb030b11-2d9d-4bcc-92f5-b38b201cdade"
      },
      "outputs": [
        {
          "output_type": "stream",
          "name": "stdout",
          "text": [
            "🔧 Setting up environment for Google Colab...\n",
            "Installing beautifulsoup4...\n",
            "Installing nest-asyncio...\n",
            "✅ Crawl4AI imports successful\n",
            "🎯 StarTech Scraper Loaded Successfully!\n",
            "📚 Run show_usage() for instructions\n",
            "🚀 Run run_scraper() to start complete scraping\n",
            "🔍 Run test_categories() for quick category test\n",
            "✅ crawl4ai\n",
            "✅ bs4\n",
            "✅ pandas\n",
            "✅ nest_asyncio\n",
            "\n",
            "🎉 All modules installed correctly!\n",
            "🔍 EXTRACTING CATEGORIES ONLY (QUICK TEST)\n",
            "==================================================\n"
          ]
        },
        {
          "output_type": "display_data",
          "data": {
            "text/plain": [
              "\u001b[1;36m[\u001b[0m\u001b[36mINIT\u001b[0m\u001b[1;36m]\u001b[0m\u001b[36m...\u001b[0m\u001b[36m. → Crawl4AI \u001b[0m\u001b[1;36m0.7\u001b[0m\u001b[36m.\u001b[0m\u001b[1;36m4\u001b[0m\u001b[36m \u001b[0m\n"
            ],
            "text/html": [
              "<pre style=\"white-space:pre;overflow-x:auto;line-height:normal;font-family:Menlo,'DejaVu Sans Mono',consolas,'Courier New',monospace\"><span style=\"color: #008080; text-decoration-color: #008080; font-weight: bold\">[</span><span style=\"color: #008080; text-decoration-color: #008080\">INIT</span><span style=\"color: #008080; text-decoration-color: #008080; font-weight: bold\">]</span><span style=\"color: #008080; text-decoration-color: #008080\">.... → Crawl4AI </span><span style=\"color: #008080; text-decoration-color: #008080; font-weight: bold\">0.7</span><span style=\"color: #008080; text-decoration-color: #008080\">.</span><span style=\"color: #008080; text-decoration-color: #008080; font-weight: bold\">4</span><span style=\"color: #008080; text-decoration-color: #008080\"> </span>\n",
              "</pre>\n"
            ]
          },
          "metadata": {}
        },
        {
          "output_type": "display_data",
          "data": {
            "text/plain": [
              "\u001b[1;32m[\u001b[0m\u001b[32mFETCH\u001b[0m\u001b[1;32m]\u001b[0m\u001b[32m...\u001b[0m\u001b[32m ↓ \u001b[0m\u001b[4;32mhttps://www.startech.com.bd\u001b[0m\u001b[32m                                                                          |\u001b[0m\n",
              "\u001b[32m✓\u001b[0m\u001b[32m | ⏱: \u001b[0m\u001b[1;32m3.\u001b[0m\u001b[32m36s \u001b[0m\n"
            ],
            "text/html": [
              "<pre style=\"white-space:pre;overflow-x:auto;line-height:normal;font-family:Menlo,'DejaVu Sans Mono',consolas,'Courier New',monospace\"><span style=\"color: #008000; text-decoration-color: #008000; font-weight: bold\">[</span><span style=\"color: #008000; text-decoration-color: #008000\">FETCH</span><span style=\"color: #008000; text-decoration-color: #008000; font-weight: bold\">]</span><span style=\"color: #008000; text-decoration-color: #008000\">... ↓ </span><span style=\"color: #008000; text-decoration-color: #008000; text-decoration: underline\">https://www.startech.com.bd</span><span style=\"color: #008000; text-decoration-color: #008000\">                                                                          |</span>\n",
              "<span style=\"color: #008000; text-decoration-color: #008000\">✓ | ⏱: </span><span style=\"color: #008000; text-decoration-color: #008000; font-weight: bold\">3.</span><span style=\"color: #008000; text-decoration-color: #008000\">36s </span>\n",
              "</pre>\n"
            ]
          },
          "metadata": {}
        },
        {
          "output_type": "display_data",
          "data": {
            "text/plain": [
              "\u001b[1;32m[\u001b[0m\u001b[32mSCRAPE\u001b[0m\u001b[1;32m]\u001b[0m\u001b[32m.. ◆ \u001b[0m\u001b[4;32mhttps://www.startech.com.bd\u001b[0m\u001b[32m                                                                          |\u001b[0m\n",
              "\u001b[32m✓\u001b[0m\u001b[32m | ⏱: \u001b[0m\u001b[1;32m0.\u001b[0m\u001b[32m62s \u001b[0m\n"
            ],
            "text/html": [
              "<pre style=\"white-space:pre;overflow-x:auto;line-height:normal;font-family:Menlo,'DejaVu Sans Mono',consolas,'Courier New',monospace\"><span style=\"color: #008000; text-decoration-color: #008000; font-weight: bold\">[</span><span style=\"color: #008000; text-decoration-color: #008000\">SCRAPE</span><span style=\"color: #008000; text-decoration-color: #008000; font-weight: bold\">]</span><span style=\"color: #008000; text-decoration-color: #008000\">.. ◆ </span><span style=\"color: #008000; text-decoration-color: #008000; text-decoration: underline\">https://www.startech.com.bd</span><span style=\"color: #008000; text-decoration-color: #008000\">                                                                          |</span>\n",
              "<span style=\"color: #008000; text-decoration-color: #008000\">✓ | ⏱: </span><span style=\"color: #008000; text-decoration-color: #008000; font-weight: bold\">0.</span><span style=\"color: #008000; text-decoration-color: #008000\">62s </span>\n",
              "</pre>\n"
            ]
          },
          "metadata": {}
        },
        {
          "output_type": "display_data",
          "data": {
            "text/plain": [
              "\u001b[1;32m[\u001b[0m\u001b[32mCOMPLETE\u001b[0m\u001b[1;32m]\u001b[0m\u001b[32m ● \u001b[0m\u001b[4;32mhttps://www.startech.com.bd\u001b[0m\u001b[32m                                                                          |\u001b[0m\n",
              "\u001b[32m✓\u001b[0m\u001b[32m | ⏱: \u001b[0m\u001b[1;32m4.\u001b[0m\u001b[32m00s \u001b[0m\n"
            ],
            "text/html": [
              "<pre style=\"white-space:pre;overflow-x:auto;line-height:normal;font-family:Menlo,'DejaVu Sans Mono',consolas,'Courier New',monospace\"><span style=\"color: #008000; text-decoration-color: #008000; font-weight: bold\">[</span><span style=\"color: #008000; text-decoration-color: #008000\">COMPLETE</span><span style=\"color: #008000; text-decoration-color: #008000; font-weight: bold\">]</span><span style=\"color: #008000; text-decoration-color: #008000\"> ● </span><span style=\"color: #008000; text-decoration-color: #008000; text-decoration: underline\">https://www.startech.com.bd</span><span style=\"color: #008000; text-decoration-color: #008000\">                                                                          |</span>\n",
              "<span style=\"color: #008000; text-decoration-color: #008000\">✓ | ⏱: </span><span style=\"color: #008000; text-decoration-color: #008000; font-weight: bold\">4.</span><span style=\"color: #008000; text-decoration-color: #008000\">00s </span>\n",
              "</pre>\n"
            ]
          },
          "metadata": {}
        },
        {
          "output_type": "stream",
          "name": "stdout",
          "text": [
            "✅ Successfully extracted 143 categories\n",
            "📊 Total items: 2206\n",
            "🏗️ Max depth: 3\n",
            "\n",
            "📂 FIRST 5 CATEGORIES:\n",
            "  1. Desktop (29 subs)\n",
            "  2. Star PC (2 subs)\n",
            "  3. Gaming PC (2 subs)\n",
            "  4. Brand PC (6 subs)\n",
            "  5. All-in-One PC (7 subs)\n"
          ]
        },
        {
          "output_type": "execute_result",
          "data": {
            "text/plain": [
              "\"\\n🚀 GOOGLE COLAB QUICK START GUIDE\\n===============================================\\n\\n1. INSTALLATION (Run once):\\n   The script auto-installs required packages\\n\\n2. BASIC USAGE:\\n   # Test category extraction first\\n   categories = test_categories()\\n   \\n   # Run complete scraping  \\n   result = run_scraper()\\n\\n3. CUSTOMIZATION:\\n   • Change max_pages in StarTechProductScraper.__init__()\\n   • Modify top categories count in _get_top_categories()\\n   • Adjust selectors in _extract_products_from_html()\\n\\n4. TROUBLESHOOTING:\\n   • If crawling fails, check internet connection\\n   • StarTech may have anti-bot measures\\n   • Try test_categories() first to verify access\\n   • Check the generated log messages for issues\\n\\n5. OUTPUT FILES:\\n   All files are saved in the current directory\\n   Download them from Colab's file browser\\n\\n🔧 OPTIMIZATIONS FOR COLAB:\\n✅ Fixed Crawl4AI 0.7.4+ configuration\\n✅ Removed deprecated LLM provider settings  \\n✅ Added nest_asyncio for Jupyter compatibility\\n✅ Enhanced error handling and logging\\n✅ Automatic package installation\\n✅ Progress indicators and status messages\\n\""
            ],
            "application/vnd.google.colaboratory.intrinsic+json": {
              "type": "string"
            }
          },
          "metadata": {},
          "execution_count": 7
        }
      ],
      "source": [
        "#!/usr/bin/env python3\n",
        "\"\"\"\n",
        "StarTech Complete Category & Product Scraper - Fixed for Google Colab\n",
        "Compatible with Crawl4AI 0.7.4+ and optimized for Jupyter/Colab environment\n",
        "Author: Professional Web Scraper\n",
        "Date: 2025\n",
        "\"\"\"\n",
        "\n",
        "# Google Colab Setup\n",
        "import sys\n",
        "import subprocess\n",
        "import importlib\n",
        "\n",
        "def install_and_import(package):\n",
        "    \"\"\"Install package if not available\"\"\"\n",
        "    try:\n",
        "        importlib.import_module(package.split('==')[0].split('>=')[0])\n",
        "    except ImportError:\n",
        "        print(f\"Installing {package}...\")\n",
        "        subprocess.check_call([sys.executable, \"-m\", \"pip\", \"install\", package])\n",
        "\n",
        "# Install required packages for Colab\n",
        "required_packages = [\n",
        "    \"crawl4ai>=0.7.4\",\n",
        "    \"beautifulsoup4\",\n",
        "    \"pandas\",\n",
        "    \"nest-asyncio\",\n",
        "    \"aiohttp\",\n",
        "    \"lxml\"\n",
        "]\n",
        "\n",
        "print(\"🔧 Setting up environment for Google Colab...\")\n",
        "for package in required_packages:\n",
        "    install_and_import(package)\n",
        "\n",
        "import asyncio\n",
        "import json\n",
        "import pandas as pd\n",
        "import time\n",
        "from typing import Dict, List, Optional, Tuple, Any\n",
        "from dataclasses import dataclass, asdict, field\n",
        "from urllib.parse import urljoin, urlparse\n",
        "import logging\n",
        "import re\n",
        "from bs4 import BeautifulSoup\n",
        "import nest_asyncio\n",
        "\n",
        "# Essential imports for Crawl4AI 0.7.4+\n",
        "try:\n",
        "    from crawl4ai import AsyncWebCrawler\n",
        "    from crawl4ai.extraction_strategy import LLMExtractionStrategy, LLMConfig\n",
        "    from crawl4ai.chunking_strategy import RegexChunking\n",
        "    print(\"✅ Crawl4AI imports successful\")\n",
        "except ImportError as e:\n",
        "    print(f\"❌ Crawl4AI import failed: {e}\")\n",
        "    print(\"Installing crawl4ai...\")\n",
        "    subprocess.check_call([sys.executable, \"-m\", \"pip\", \"install\", \"crawl4ai\", \"--upgrade\"])\n",
        "    from crawl4ai import AsyncWebCrawler\n",
        "    from crawl4ai.extraction_strategy import LLMExtractionStrategy, LLMConfig\n",
        "    from crawl4ai.chunking_strategy import RegexChunking\n",
        "\n",
        "# Apply nest_asyncio for Jupyter/Colab compatibility\n",
        "nest_asyncio.apply()\n",
        "\n",
        "# Configure logging\n",
        "logging.basicConfig(level=logging.INFO, format='%(asctime)s - %(levelname)s - %(message)s')\n",
        "logger = logging.getLogger(__name__)\n",
        "\n",
        "@dataclass\n",
        "class SubCategory:\n",
        "    \"\"\"Subcategory data structure\"\"\"\n",
        "    name: str\n",
        "    url: str\n",
        "    level: int\n",
        "    parent: str\n",
        "    children: List['SubCategory'] = field(default_factory=list)\n",
        "\n",
        "@dataclass\n",
        "class Category:\n",
        "    \"\"\"Main category data structure\"\"\"\n",
        "    name: str\n",
        "    url: str\n",
        "    level: int\n",
        "    subcategories: List[SubCategory] = field(default_factory=list)\n",
        "    product_count: int = 0\n",
        "\n",
        "@dataclass\n",
        "class Product:\n",
        "    \"\"\"Product data structure\"\"\"\n",
        "    name: str\n",
        "    price: str\n",
        "    original_price: str\n",
        "    discount: str\n",
        "    model: str\n",
        "    brand: str\n",
        "    availability: str\n",
        "    rating: str\n",
        "    review_count: str\n",
        "    image_url: str\n",
        "    product_url: str\n",
        "    specifications: Dict[str, Any]\n",
        "    category: str\n",
        "    subcategory: str\n",
        "    description: str\n",
        "\n",
        "class StarTechCategoryExtractor:\n",
        "    \"\"\"Extract all categories and subcategories from StarTech navigation\"\"\"\n",
        "\n",
        "    def __init__(self, base_url: str = \"https://www.startech.com.bd\"):\n",
        "        self.base_url = base_url\n",
        "        self.all_categories = []\n",
        "        self.category_hierarchy = {}\n",
        "\n",
        "    async def extract_all_categories(self) -> Dict[str, Any]:\n",
        "        \"\"\"Extract complete category hierarchy from StarTech\"\"\"\n",
        "        logger.info(\"🔍 Starting complete category extraction...\")\n",
        "\n",
        "        # Crawl4AI 0.7.4+ configuration\n",
        "        crawler_config = {\n",
        "            'headless': True,\n",
        "            'browser_type': 'chromium',\n",
        "            'verbose': False\n",
        "        }\n",
        "\n",
        "        async with AsyncWebCrawler(**crawler_config) as crawler:\n",
        "            try:\n",
        "                # Simple crawl without LLM first (more reliable)\n",
        "                result = await crawler.arun(\n",
        "                    url=self.base_url,\n",
        "                    word_count_threshold=10,\n",
        "                    bypass_cache=True,\n",
        "                    wait_for=\"css:nav, .navigation, .navbar\",\n",
        "                    delay_before_return_html=2.0\n",
        "                )\n",
        "\n",
        "                if result.success:\n",
        "                    # Parse with BeautifulSoup (more reliable than LLM for structure)\n",
        "                    soup = BeautifulSoup(result.html, 'html.parser')\n",
        "                    categories = self._parse_navigation_structure(soup)\n",
        "\n",
        "                    logger.info(f\"✅ Extracted {len(categories)} main categories\")\n",
        "                    return self._build_category_hierarchy(categories)\n",
        "                else:\n",
        "                    logger.error(f\"❌ Failed to crawl main page: {result.error_message}\")\n",
        "                    return {}\n",
        "\n",
        "            except Exception as e:\n",
        "                logger.error(f\"❌ Error during category extraction: {e}\")\n",
        "                return {}\n",
        "\n",
        "    def _parse_navigation_structure(self, soup: BeautifulSoup) -> List[Category]:\n",
        "        \"\"\"Parse the navigation structure from HTML\"\"\"\n",
        "        categories = []\n",
        "\n",
        "        # Enhanced selectors based on your HTML structure\n",
        "        nav_selectors = [\n",
        "            'li.nav-item.has-child',  # Exact match from your HTML\n",
        "            '.nav-item.has-child',\n",
        "            'nav .nav-item.has-child',\n",
        "            '.navbar .nav-item.has-child',\n",
        "            '.main-menu .nav-item.has-child',\n",
        "            'ul.menu > li.has-child'\n",
        "        ]\n",
        "\n",
        "        main_nav_items = None\n",
        "        for selector in nav_selectors:\n",
        "            main_nav_items = soup.select(selector)\n",
        "            if main_nav_items:\n",
        "                logger.info(f\"✅ Found {len(main_nav_items)} categories using selector: {selector}\")\n",
        "                break\n",
        "\n",
        "        if not main_nav_items:\n",
        "            logger.warning(\"⚠️ No main navigation items found, trying fallback selectors\")\n",
        "            # Fallback selectors\n",
        "            fallback_selectors = ['li:has(ul)', '.dropdown > li', 'li.dropdown']\n",
        "            for selector in fallback_selectors:\n",
        "                main_nav_items = soup.select(selector)\n",
        "                if main_nav_items:\n",
        "                    logger.info(f\"✅ Found categories using fallback selector: {selector}\")\n",
        "                    break\n",
        "\n",
        "        for nav_item in main_nav_items:\n",
        "            category = self._extract_category_from_nav_item(nav_item)\n",
        "            if category:\n",
        "                categories.append(category)\n",
        "\n",
        "        logger.info(f\"📊 Parsed {len(categories)} categories from navigation\")\n",
        "        return categories\n",
        "\n",
        "    def _extract_category_from_nav_item(self, nav_item) -> Optional[Category]:\n",
        "        \"\"\"Extract category and all its subcategories from a nav item\"\"\"\n",
        "        try:\n",
        "            # Get main category link - matches your HTML structure\n",
        "            main_link = nav_item.find('a', class_='nav-link')\n",
        "            if not main_link:\n",
        "                # Fallback\n",
        "                main_link = nav_item.find('a')\n",
        "\n",
        "            if not main_link:\n",
        "                return None\n",
        "\n",
        "            category_name = main_link.get_text(strip=True)\n",
        "            category_url = urljoin(self.base_url, main_link.get('href', ''))\n",
        "\n",
        "            # Skip empty categories\n",
        "            if not category_name or len(category_name.strip()) < 2:\n",
        "                return None\n",
        "\n",
        "            category = Category(\n",
        "                name=category_name,\n",
        "                url=category_url,\n",
        "                level=1,\n",
        "                subcategories=[]\n",
        "            )\n",
        "\n",
        "            # Extract subcategories - matches your HTML structure\n",
        "            dropdown_menu = nav_item.find('ul', class_='drop-down')\n",
        "            if not dropdown_menu:\n",
        "                dropdown_menu = nav_item.find('ul')  # Fallback\n",
        "\n",
        "            if dropdown_menu:\n",
        "                subcategories = self._extract_subcategories_recursive(\n",
        "                    dropdown_menu, category_name, level=2\n",
        "                )\n",
        "                category.subcategories = subcategories\n",
        "                logger.info(f\"📁 {category_name}: {len(subcategories)} subcategories\")\n",
        "\n",
        "            return category\n",
        "\n",
        "        except Exception as e:\n",
        "            logger.error(f\"❌ Error extracting category: {e}\")\n",
        "            return None\n",
        "\n",
        "    def _extract_subcategories_recursive(self, menu_element, parent_name: str, level: int) -> List[SubCategory]:\n",
        "        \"\"\"Recursively extract subcategories from dropdown menus\"\"\"\n",
        "        subcategories = []\n",
        "\n",
        "        # Find nav items - matches your HTML structure\n",
        "        nav_items = menu_element.find_all('li', class_='nav-item', recursive=False)\n",
        "        if not nav_items:\n",
        "            nav_items = menu_element.find_all('li', recursive=False)  # Fallback\n",
        "\n",
        "        for nav_item in nav_items:\n",
        "            link = nav_item.find('a', class_='nav-link')\n",
        "            if not link:\n",
        "                link = nav_item.find('a')  # Fallback\n",
        "\n",
        "            if not link:\n",
        "                continue\n",
        "\n",
        "            name = link.get_text(strip=True)\n",
        "            url = urljoin(self.base_url, link.get('href', ''))\n",
        "\n",
        "            # Skip \"Show All\" links and empty names\n",
        "            if ('show all' in name.lower() or 'see all' in name.lower() or\n",
        "                'view all' in name.lower() or len(name.strip()) < 2):\n",
        "                continue\n",
        "\n",
        "            subcategory = SubCategory(\n",
        "                name=name,\n",
        "                url=url,\n",
        "                level=level,\n",
        "                parent=parent_name,\n",
        "                children=[]\n",
        "            )\n",
        "\n",
        "            # Check for deeper nested menus (drop-menu-2, drop-menu-3, etc.)\n",
        "            nested_menu = nav_item.find('ul', class_='drop-down')\n",
        "            if not nested_menu:\n",
        "                nested_menu = nav_item.find('ul')  # Fallback\n",
        "\n",
        "            if nested_menu and level < 4:  # Prevent infinite recursion\n",
        "                children = self._extract_subcategories_recursive(\n",
        "                    nested_menu, name, level + 1\n",
        "                )\n",
        "                subcategory.children = children\n",
        "\n",
        "            subcategories.append(subcategory)\n",
        "\n",
        "        return subcategories\n",
        "\n",
        "    def _build_category_hierarchy(self, categories: List[Category]) -> Dict[str, Any]:\n",
        "        \"\"\"Build a comprehensive hierarchy structure\"\"\"\n",
        "        hierarchy = {\n",
        "            'total_categories': len(categories),\n",
        "            'categories': [],\n",
        "            'flat_list': [],\n",
        "            'summary': {}\n",
        "        }\n",
        "\n",
        "        for category in categories:\n",
        "            cat_dict = {\n",
        "                'name': category.name,\n",
        "                'url': category.url,\n",
        "                'level': category.level,\n",
        "                'subcategories': self._subcategories_to_dict(category.subcategories),\n",
        "                'total_subcategories': self._count_total_subcategories(category.subcategories)\n",
        "            }\n",
        "\n",
        "            hierarchy['categories'].append(cat_dict)\n",
        "\n",
        "            # Add to flat list for easy access\n",
        "            hierarchy['flat_list'].append({\n",
        "                'name': category.name,\n",
        "                'url': category.url,\n",
        "                'level': 1,\n",
        "                'parent': None\n",
        "            })\n",
        "\n",
        "            # Add subcategories to flat list\n",
        "            self._add_subcategories_to_flat_list(\n",
        "                category.subcategories, hierarchy['flat_list'], category.name\n",
        "            )\n",
        "\n",
        "        # Generate summary\n",
        "        hierarchy['summary'] = self._generate_summary(hierarchy)\n",
        "\n",
        "        return hierarchy\n",
        "\n",
        "    def _subcategories_to_dict(self, subcategories: List[SubCategory]) -> List[Dict]:\n",
        "        \"\"\"Convert subcategories to dictionary format\"\"\"\n",
        "        result = []\n",
        "        for sub in subcategories:\n",
        "            sub_dict = {\n",
        "                'name': sub.name,\n",
        "                'url': sub.url,\n",
        "                'level': sub.level,\n",
        "                'parent': sub.parent,\n",
        "                'children': self._subcategories_to_dict(sub.children) if sub.children else []\n",
        "            }\n",
        "            result.append(sub_dict)\n",
        "        return result\n",
        "\n",
        "    def _count_total_subcategories(self, subcategories: List[SubCategory]) -> int:\n",
        "        \"\"\"Count total subcategories recursively\"\"\"\n",
        "        total = len(subcategories)\n",
        "        for sub in subcategories:\n",
        "            total += self._count_total_subcategories(sub.children)\n",
        "        return total\n",
        "\n",
        "    def _add_subcategories_to_flat_list(self, subcategories: List[SubCategory], flat_list: List, parent: str):\n",
        "        \"\"\"Add subcategories to flat list recursively\"\"\"\n",
        "        for sub in subcategories:\n",
        "            flat_list.append({\n",
        "                'name': sub.name,\n",
        "                'url': sub.url,\n",
        "                'level': sub.level,\n",
        "                'parent': parent\n",
        "            })\n",
        "\n",
        "            if sub.children:\n",
        "                self._add_subcategories_to_flat_list(sub.children, flat_list, sub.name)\n",
        "\n",
        "    def _generate_summary(self, hierarchy: Dict) -> Dict:\n",
        "        \"\"\"Generate summary statistics\"\"\"\n",
        "        level_counts = {}\n",
        "        for item in hierarchy['flat_list']:\n",
        "            level = item['level']\n",
        "            level_counts[f'level_{level}'] = level_counts.get(f'level_{level}', 0) + 1\n",
        "\n",
        "        return {\n",
        "            'total_items': len(hierarchy['flat_list']),\n",
        "            'level_distribution': level_counts,\n",
        "            'deepest_level': max([item['level'] for item in hierarchy['flat_list']]) if hierarchy['flat_list'] else 0\n",
        "        }\n",
        "\n",
        "class StarTechProductScraper:\n",
        "    \"\"\"Scrape products using Crawl4AI with fixed configuration\"\"\"\n",
        "\n",
        "    def __init__(self, base_url: str = \"https://www.startech.com.bd\"):\n",
        "        self.base_url = base_url\n",
        "        self.products = []\n",
        "        self.max_pages = 5\n",
        "\n",
        "    async def scrape_category_products(self, category_url: str, category_name: str,\n",
        "                                     subcategory_name: str = \"\") -> List[Product]:\n",
        "        \"\"\"Scrape products from a category using Crawl4AI\"\"\"\n",
        "        logger.info(f\"🛍️ Scraping products from {category_name}/{subcategory_name}\")\n",
        "\n",
        "        products = []\n",
        "\n",
        "        # Crawl4AI 0.7.4+ configuration\n",
        "        crawler_config = {\n",
        "            'headless': True,\n",
        "            'browser_type': 'chromium',\n",
        "            'verbose': False\n",
        "        }\n",
        "\n",
        "        async with AsyncWebCrawler(**crawler_config) as crawler:\n",
        "\n",
        "            for page in range(1, self.max_pages + 1):\n",
        "                page_url = self._construct_page_url(category_url, page)\n",
        "\n",
        "                logger.info(f\"📄 Scraping page {page}: {page_url}\")\n",
        "\n",
        "                try:\n",
        "                    # Use simple crawling without LLM (more reliable and faster)\n",
        "                    result = await crawler.arun(\n",
        "                        url=page_url,\n",
        "                        word_count_threshold=10,\n",
        "                        bypass_cache=True,\n",
        "                        wait_for=\"css:.product-item, .p-item, .product-card\",\n",
        "                        delay_before_return_html=2.0\n",
        "                    )\n",
        "\n",
        "                    if result.success:\n",
        "                        # Parse with BeautifulSoup\n",
        "                        soup = BeautifulSoup(result.html, 'html.parser')\n",
        "                        page_products = self._extract_products_from_html(\n",
        "                            soup, category_name, subcategory_name\n",
        "                        )\n",
        "\n",
        "                        if not page_products:\n",
        "                            logger.info(f\"⚠️ No products found on page {page}\")\n",
        "                            break\n",
        "\n",
        "                        products.extend(page_products)\n",
        "                        logger.info(f\"✅ Extracted {len(page_products)} products from page {page}\")\n",
        "\n",
        "                        # Add delay between pages\n",
        "                        await asyncio.sleep(1)\n",
        "\n",
        "                        # Check if this is the last page\n",
        "                        if not self._has_next_page(soup):\n",
        "                            logger.info(f\"📄 Reached last page at page {page}\")\n",
        "                            break\n",
        "                    else:\n",
        "                        logger.error(f\"❌ Failed to crawl page {page}: {result.error_message}\")\n",
        "                        break\n",
        "\n",
        "                except Exception as e:\n",
        "                    logger.error(f\"❌ Error scraping page {page}: {e}\")\n",
        "                    break\n",
        "\n",
        "        return products\n",
        "\n",
        "    def _construct_page_url(self, base_url: str, page: int) -> str:\n",
        "        \"\"\"Construct pagination URL for StarTech\"\"\"\n",
        "        if page == 1:\n",
        "            return base_url\n",
        "\n",
        "        # StarTech pagination patterns\n",
        "        if '?' in base_url:\n",
        "            return f\"{base_url}&page={page}\"\n",
        "        else:\n",
        "            return f\"{base_url}?page={page}\"\n",
        "\n",
        "    def _extract_products_from_html(self, soup: BeautifulSoup, category: str, subcategory: str) -> List[Product]:\n",
        "        \"\"\"Extract products from HTML using BeautifulSoup\"\"\"\n",
        "        products = []\n",
        "\n",
        "        # StarTech-specific product selectors (based on common patterns)\n",
        "        product_selectors = [\n",
        "            '.p-item',              # Most common StarTech selector\n",
        "            '.product-item',        # Alternative selector\n",
        "            '.main-product',        # Another common selector\n",
        "            '.product-layout',      # Layout-based selector\n",
        "            '.product-card',        # Card-based layout\n",
        "            '[data-product-id]',    # Data attribute selector\n",
        "            '.product-box'          # Box-based layout\n",
        "        ]\n",
        "\n",
        "        product_elements = []\n",
        "        for selector in product_selectors:\n",
        "            elements = soup.select(selector)\n",
        "            if elements:\n",
        "                product_elements = elements\n",
        "                logger.info(f\"🎯 Found {len(elements)} products using selector: {selector}\")\n",
        "                break\n",
        "\n",
        "        if not product_elements:\n",
        "            logger.warning(\"⚠️ No product elements found with any selector\")\n",
        "            return products\n",
        "\n",
        "        for element in product_elements:\n",
        "            product = self._extract_single_product(element, category, subcategory)\n",
        "            if product:\n",
        "                products.append(product)\n",
        "\n",
        "        return products\n",
        "\n",
        "    def _extract_single_product(self, element, category: str, subcategory: str) -> Optional[Product]:\n",
        "        \"\"\"Extract single product data from element\"\"\"\n",
        "        try:\n",
        "            # Product name - StarTech specific selectors\n",
        "            name_selectors = [\n",
        "                '.p-item-name a',       # StarTech specific\n",
        "                '.p-item-name',         # Alternative\n",
        "                '.product-title a',     # Generic\n",
        "                '.product-name a',      # Generic\n",
        "                'h4 a', 'h3 a', 'h2 a', # Header links\n",
        "                '.title a'              # Generic title\n",
        "            ]\n",
        "            name = self._get_text_by_selectors(element, name_selectors)\n",
        "\n",
        "            # Prices - StarTech specific\n",
        "            price_selectors = [\n",
        "                '.p-item-price',        # StarTech specific\n",
        "                '.current-price',       # Current price\n",
        "                '.price',               # Generic price\n",
        "                '.product-price',       # Product price\n",
        "                '.price-current'        # Current price variant\n",
        "            ]\n",
        "            price = self._get_text_by_selectors(element, price_selectors)\n",
        "\n",
        "            # Original price (for discounts)\n",
        "            original_price_selectors = [\n",
        "                '.p-item-price .old-price',  # StarTech specific\n",
        "                '.old-price',                # Generic\n",
        "                '.original-price',           # Original\n",
        "                '.was-price',                # Was price\n",
        "                '.price-old'                 # Old price\n",
        "            ]\n",
        "            original_price = self._get_text_by_selectors(element, original_price_selectors)\n",
        "\n",
        "            # Discount/Offer\n",
        "            discount_selectors = [\n",
        "                '.discount-badge', '.offer-badge', '.sale-badge',\n",
        "                '.discount', '.offer', '.sale'\n",
        "            ]\n",
        "            discount = self._get_text_by_selectors(element, discount_selectors)\n",
        "\n",
        "            # Model/SKU\n",
        "            model_selectors = [\n",
        "                '.p-item-model', '.model', '.sku', '.product-code', '.part-number'\n",
        "            ]\n",
        "            model = self._get_text_by_selectors(element, model_selectors)\n",
        "\n",
        "            # Brand\n",
        "            brand_selectors = [\n",
        "                '.p-item-brand', '.brand', '.manufacturer', '.brand-name'\n",
        "            ]\n",
        "            brand = self._get_text_by_selectors(element, brand_selectors)\n",
        "\n",
        "            # Availability/Stock\n",
        "            availability_selectors = [\n",
        "                '.p-item-stock', '.stock-status', '.availability',\n",
        "                '.in-stock', '.out-of-stock', '.stock'\n",
        "            ]\n",
        "            availability = self._get_text_by_selectors(element, availability_selectors)\n",
        "\n",
        "            # Rating\n",
        "            rating_selectors = [\n",
        "                '.rating', '.stars', '.review-rating', '.product-rating'\n",
        "            ]\n",
        "            rating = self._get_text_by_selectors(element, rating_selectors)\n",
        "\n",
        "            # Review count\n",
        "            review_selectors = [\n",
        "                '.review-count', '.reviews-count', '.rating-count'\n",
        "            ]\n",
        "            review_count = self._get_text_by_selectors(element, review_selectors)\n",
        "\n",
        "            # Image\n",
        "            img = element.find('img')\n",
        "            image_url = \"\"\n",
        "            if img:\n",
        "                src = img.get('src') or img.get('data-src') or img.get('data-lazy-src')\n",
        "                if src:\n",
        "                    image_url = urljoin(self.base_url, src)\n",
        "\n",
        "            # Product URL\n",
        "            link = element.find('a', href=True)\n",
        "            product_url = \"\"\n",
        "            if link:\n",
        "                product_url = urljoin(self.base_url, link.get('href', ''))\n",
        "\n",
        "            # Description\n",
        "            desc_selectors = [\n",
        "                '.p-item-desc', '.description', '.product-desc', '.short-desc'\n",
        "            ]\n",
        "            description = self._get_text_by_selectors(element, desc_selectors)\n",
        "\n",
        "            # Basic specifications\n",
        "            specifications = self._extract_specifications(element)\n",
        "\n",
        "            # Only create product if we have essential data\n",
        "            if name and len(name.strip()) > 2:\n",
        "                return Product(\n",
        "                    name=name.strip(),\n",
        "                    price=price.strip() if price else \"N/A\",\n",
        "                    original_price=original_price.strip() if original_price else \"\",\n",
        "                    discount=discount.strip() if discount else \"\",\n",
        "                    model=model.strip() if model else \"\",\n",
        "                    brand=brand.strip() if brand else \"\",\n",
        "                    availability=availability.strip() if availability else \"N/A\",\n",
        "                    rating=rating.strip() if rating else \"\",\n",
        "                    review_count=review_count.strip() if review_count else \"\",\n",
        "                    image_url=image_url,\n",
        "                    product_url=product_url,\n",
        "                    specifications=specifications,\n",
        "                    category=category,\n",
        "                    subcategory=subcategory,\n",
        "                    description=description.strip() if description else \"\"\n",
        "                )\n",
        "\n",
        "        except Exception as e:\n",
        "            logger.error(f\"❌ Error extracting product: {e}\")\n",
        "\n",
        "        return None\n",
        "\n",
        "    def _get_text_by_selectors(self, element, selectors: List[str]) -> str:\n",
        "        \"\"\"Get text using multiple selectors\"\"\"\n",
        "        for selector in selectors:\n",
        "            found = element.select_one(selector)\n",
        "            if found:\n",
        "                text = found.get_text(strip=True)\n",
        "                if text:  # Only return non-empty text\n",
        "                    return text\n",
        "        return \"\"\n",
        "\n",
        "    def _extract_specifications(self, element) -> Dict[str, str]:\n",
        "        \"\"\"Extract specifications from product element\"\"\"\n",
        "        specs = {}\n",
        "\n",
        "        # Look for specification elements\n",
        "        spec_elements = element.select('.spec, .specification, .feature, .p-item-spec')\n",
        "        for spec_element in spec_elements:\n",
        "            text = spec_element.get_text(strip=True)\n",
        "            if ':' in text:\n",
        "                parts = text.split(':', 1)\n",
        "                if len(parts) == 2:\n",
        "                    key, value = parts\n",
        "                    specs[key.strip()] = value.strip()\n",
        "\n",
        "        return specs\n",
        "\n",
        "    def _has_next_page(self, soup: BeautifulSoup) -> bool:\n",
        "        \"\"\"Check if there's a next page\"\"\"\n",
        "        next_selectors = [\n",
        "            '.pagination .next:not(.disabled)',\n",
        "            '.pagination a[aria-label=\"Next\"]',\n",
        "            '.next-page:not(.disabled)',\n",
        "            '.pager .next:not(.disabled)'\n",
        "        ]\n",
        "\n",
        "        for selector in next_selectors:\n",
        "            if soup.select(selector):\n",
        "                return True\n",
        "        return False\n",
        "\n",
        "class StarTechCompleteScraper:\n",
        "    \"\"\"Main scraper class - Colab optimized\"\"\"\n",
        "\n",
        "    def __init__(self, base_url: str = \"https://www.startech.com.bd\"):\n",
        "        self.base_url = base_url\n",
        "        self.category_extractor = StarTechCategoryExtractor(base_url)\n",
        "        self.product_scraper = StarTechProductScraper(base_url)\n",
        "        self.categories_data = {}\n",
        "        self.products_data = []\n",
        "\n",
        "    async def run_complete_scraping(self) -> Dict[str, Any]:\n",
        "        \"\"\"Run complete scraping process\"\"\"\n",
        "        print(\"🚀 STARTING STARTECH COMPLETE SCRAPER\")\n",
        "        print(\"=\" * 60)\n",
        "\n",
        "        try:\n",
        "            # Step 1: Extract all categories\n",
        "            print(\"\\n📁 STEP 1: Extracting All Categories & Subcategories...\")\n",
        "            print(\"-\" * 50)\n",
        "\n",
        "            self.categories_data = await self.category_extractor.extract_all_categories()\n",
        "\n",
        "            if not self.categories_data.get('categories'):\n",
        "                print(\"❌ No categories found! Check the website structure.\")\n",
        "                return {}\n",
        "\n",
        "            self._print_category_hierarchy()\n",
        "\n",
        "            # Step 2: Get top 10 categories for product scraping\n",
        "            print(f\"\\n🛍️ STEP 2: Scraping Products from Top 10 Categories...\")\n",
        "            print(\"-\" * 50)\n",
        "\n",
        "            top_categories = self._get_top_categories(10)\n",
        "\n",
        "            for i, category in enumerate(top_categories, 1):\n",
        "                print(f\"\\n--- Processing Category {i}/10: {category['name']} ---\")\n",
        "\n",
        "                # Scrape main category products\n",
        "                try:\n",
        "                    main_products = await self.product_scraper.scrape_category_products(\n",
        "                        category['url'], category['name']\n",
        "                    )\n",
        "                    self.products_data.extend(main_products)\n",
        "                    print(f\"✅ Main category: {len(main_products)} products\")\n",
        "                except Exception as e:\n",
        "                    print(f\"❌ Error in main category: {e}\")\n",
        "\n",
        "                # Scrape subcategories (limit to top 5)\n",
        "                subcategories = category.get('subcategories', [])[:5]\n",
        "                for j, sub in enumerate(subcategories, 1):\n",
        "                    try:\n",
        "                        print(f\"  📂 Processing subcategory {j}/5: {sub['name']}\")\n",
        "                        sub_products = await self.product_scraper.scrape_category_products(\n",
        "                            sub['url'], category['name'], sub['name']\n",
        "                        )\n",
        "                        self.products_data.extend(sub_products)\n",
        "                        print(f\"     ✅ {len(sub_products)} products\")\n",
        "                    except Exception as e:\n",
        "                        print(f\"     ❌ Error in subcategory: {e}\")\n",
        "\n",
        "                print(f\"📊 Total products so far: {len(self.products_data)}\")\n",
        "\n",
        "            # Step 3: Generate final report\n",
        "            return self._generate_final_report()\n",
        "\n",
        "        except Exception as e:\n",
        "            logger.error(f\"❌ Complete scraping failed: {e}\")\n",
        "            print(f\"❌ SCRAPING FAILED: {e}\")\n",
        "            return {}\n",
        "\n",
        "    def _print_category_hierarchy(self):\n",
        "        \"\"\"Print the complete category hierarchy\"\"\"\n",
        "        if not self.categories_data:\n",
        "            return\n",
        "\n",
        "        print(f\"\\n📊 STARTECH CATEGORY HIERARCHY EXTRACTED\")\n",
        "        print(\"=\" * 60)\n",
        "\n",
        "        summary = self.categories_data.get('summary', {})\n",
        "        print(f\"📈 Total Categories/Subcategories: {summary.get('total_items', 0)}\")\n",
        "        print(f\"🏗️ Maximum Depth Level: {summary.get('deepest_level', 0)}\")\n",
        "\n",
        "        level_dist = summary.get('level_distribution', {})\n",
        "        for level, count in level_dist.items():\n",
        "            level_num = level.split('_')[1]\n",
        "            print(f\"   📁 Level {level_num}: {count} items\")\n",
        "\n",
        "        print(f\"\\n📂 HIERARCHICAL STRUCTURE:\")\n",
        "        print(\"-\" * 40)\n",
        "\n",
        "        categories = self.categories_data.get('categories', [])\n",
        "        for i, category in enumerate(categories, 1):\n",
        "            sub_count = category['total_subcategories']\n",
        "            print(f\"\\n{i:2d}. 🏷️ {category['name']} ({sub_count} subcategories)\")\n",
        "            print(f\"     🔗 {category['url']}\")\n",
        "\n",
        "            # Show first few subcategories\n",
        "            subcats = category['subcategories'][:3]  # Show first 3\n",
        "            for sub in subcats:\n",
        "                print(f\"     ├─ {sub['name']}\")\n",
        "                # Show children if any\n",
        "                if sub.get('children'):\n",
        "                    for child in sub['children'][:2]:  # Show first 2 children\n",
        "                        print(f\"     │  └─ {child['name']}\")\n",
        "\n",
        "            if len(category['subcategories']) > 3:\n",
        "                remaining = len(category['subcategories']) - 3\n",
        "                print(f\"     └─ ... and {remaining} more subcategories\")\n",
        "\n",
        "    def _get_top_categories(self, count: int = 10) -> List[Dict]:\n",
        "        \"\"\"Get top N categories for product scraping\"\"\"\n",
        "        categories = self.categories_data.get('categories', [])\n",
        "        return categories[:count]\n",
        "\n",
        "    def _generate_final_report(self) -> Dict[str, Any]:\n",
        "        \"\"\"Generate comprehensive final report\"\"\"\n",
        "        return {\n",
        "            'scraping_timestamp': time.strftime('%Y-%m-%d %H:%M:%S'),\n",
        "            'categories_summary': self.categories_data.get('summary', {}),\n",
        "            'total_categories_found': len(self.categories_data.get('categories', [])),\n",
        "            'total_products_scraped': len(self.products_data),\n",
        "            'products_by_category': self._group_products_by_category(),\n",
        "            'categories_hierarchy': self.categories_data,\n",
        "            'products_data': [asdict(product) for product in self.products_data]\n",
        "        }\n",
        "\n",
        "    def _group_products_by_category(self) -> Dict[str, int]:\n",
        "        \"\"\"Group products by category for summary\"\"\"\n",
        "        category_counts = {}\n",
        "        for product in self.products_data:\n",
        "            key = f\"{product.category}\"\n",
        "            if product.subcategory:\n",
        "                key += f\"/{product.subcategory}\"\n",
        "            category_counts[key] = category_counts.get(key, 0) + 1\n",
        "        return category_counts\n",
        "\n",
        "    def save_results(self, base_filename: str = \"startech_complete\"):\n",
        "        \"\"\"Save all results to files - Colab optimized\"\"\"\n",
        "        try:\n",
        "            # Save categories hierarchy\n",
        "            categories_file = f\"{base_filename}_categories.json\"\n",
        "            with open(categories_file, 'w', encoding='utf-8') as f:\n",
        "                json.dump(self.categories_data, f, indent=2, ensure_ascii=False)\n",
        "            print(f\"✅ Saved categories to: {categories_file}\")\n",
        "\n",
        "            # Save products data\n",
        "            if self.products_data:\n",
        "                # CSV format\n",
        "                products_csv = f\"{base_filename}_products.csv\"\n",
        "                df = pd.DataFrame([asdict(product) for product in self.products_data])\n",
        "                df.to_csv(products_csv, index=False)\n",
        "                print(f\"✅ Saved products CSV to: {products_csv}\")\n",
        "\n",
        "                # JSON format\n",
        "                products_json = f\"{base_filename}_products.json\"\n",
        "                with open(products_json, 'w', encoding='utf-8') as f:\n",
        "                    json.dump([asdict(product) for product in self.products_data],\n",
        "                             f, indent=2, ensure_ascii=False)\n",
        "                print(f\"✅ Saved products JSON to: {products_json}\")\n",
        "\n",
        "            # Save complete report\n",
        "            report_file = f\"{base_filename}_complete_report.json\"\n",
        "            report = self._generate_final_report()\n",
        "            with open(report_file, 'w', encoding='utf-8') as f:\n",
        "                json.dump(report, f, indent=2, ensure_ascii=False)\n",
        "            print(f\"✅ Saved complete report to: {report_file}\")\n",
        "\n",
        "            return True\n",
        "\n",
        "        except Exception as e:\n",
        "            print(f\"❌ Error saving files: {e}\")\n",
        "            return False\n",
        "\n",
        "# Main execution functions for Google Colab\n",
        "async def run_scraper_async():\n",
        "    \"\"\"Main async function for Google Colab\"\"\"\n",
        "    print(\"🎯 STARTECH COMPLETE SCRAPER - COLAB EDITION\")\n",
        "    print(\"🔧 Optimized for Crawl4AI 0.7.4+\")\n",
        "    print(\"=\" * 60)\n",
        "\n",
        "    scraper = StarTechCompleteScraper()\n",
        "\n",
        "    try:\n",
        "        # Run complete scraping\n",
        "        start_time = time.time()\n",
        "        final_report = await scraper.run_complete_scraping()\n",
        "        end_time = time.time()\n",
        "\n",
        "        if not final_report:\n",
        "            print(\"❌ Scraping failed - no data collected\")\n",
        "            return None\n",
        "\n",
        "        # Save results\n",
        "        print(f\"\\n💾 SAVING RESULTS...\")\n",
        "        print(\"-\" * 30)\n",
        "        success = scraper.save_results()\n",
        "\n",
        "        if not success:\n",
        "            print(\"⚠️ Some files may not have been saved properly\")\n",
        "\n",
        "        # Print final summary\n",
        "        elapsed_time = end_time - start_time\n",
        "        print(f\"\\n🎉 SCRAPING COMPLETED SUCCESSFULLY!\")\n",
        "        print(\"=\" * 60)\n",
        "        print(f\"⏱️ Total Time: {elapsed_time:.1f} seconds\")\n",
        "        print(f\"📊 Total Categories Found: {final_report.get('total_categories_found', 0)}\")\n",
        "        print(f\"🛍️ Total Products Scraped: {final_report.get('total_products_scraped', 0)}\")\n",
        "        print(f\"⏰ Completed At: {final_report.get('scraping_timestamp', 'Unknown')}\")\n",
        "\n",
        "        # Show category summary\n",
        "        categories_summary = final_report.get('categories_summary', {})\n",
        "        print(f\"\\n📁 CATEGORY BREAKDOWN:\")\n",
        "        level_dist = categories_summary.get('level_distribution', {})\n",
        "        for level, count in level_dist.items():\n",
        "            level_num = level.split('_')[1]\n",
        "            print(f\"   📂 Level {level_num}: {count} categories\")\n",
        "\n",
        "        print(f\"\\n📋 FILES GENERATED:\")\n",
        "        print(f\"   📄 startech_complete_categories.json - Complete category hierarchy\")\n",
        "        print(f\"   📊 startech_complete_products.csv - Products in CSV format\")\n",
        "        print(f\"   📋 startech_complete_products.json - Products in JSON format\")\n",
        "        print(f\"   📈 startech_complete_complete_report.json - Complete scraping report\")\n",
        "\n",
        "        # Show top categories by product count\n",
        "        products_by_cat = final_report.get('products_by_category', {})\n",
        "        if products_by_cat:\n",
        "            print(f\"\\n🏆 TOP CATEGORIES BY PRODUCT COUNT:\")\n",
        "            sorted_categories = sorted(products_by_cat.items(), key=lambda x: x[1], reverse=True)\n",
        "            for i, (category, count) in enumerate(sorted_categories[:10], 1):\n",
        "                print(f\"   {i:2d}. {category}: {count} products\")\n",
        "\n",
        "        # Show sample products\n",
        "        if scraper.products_data:\n",
        "            print(f\"\\n🛍️ SAMPLE PRODUCTS:\")\n",
        "            print(\"-\" * 30)\n",
        "            for i, product in enumerate(scraper.products_data[:5], 1):\n",
        "                print(f\"{i}. 📱 {product.name}\")\n",
        "                print(f\"   💰 Price: {product.price}\")\n",
        "                print(f\"   📂 Category: {product.category}\")\n",
        "                if product.subcategory:\n",
        "                    print(f\"   📁 Subcategory: {product.subcategory}\")\n",
        "                print(f\"   🔗 {product.product_url}\")\n",
        "                print()\n",
        "\n",
        "        return final_report\n",
        "\n",
        "    except Exception as e:\n",
        "        print(f\"❌ SCRAPING FAILED: {e}\")\n",
        "        logger.error(f\"Complete scraping failed: {e}\")\n",
        "        return None\n",
        "\n",
        "def run_scraper():\n",
        "    \"\"\"Synchronous wrapper for Google Colab\"\"\"\n",
        "    return asyncio.run(run_scraper_async())\n",
        "\n",
        "# Quick category-only extraction for testing\n",
        "async def extract_categories_only():\n",
        "    \"\"\"Extract only categories for quick testing\"\"\"\n",
        "    print(\"🔍 EXTRACTING CATEGORIES ONLY (QUICK TEST)\")\n",
        "    print(\"=\" * 50)\n",
        "\n",
        "    extractor = StarTechCategoryExtractor()\n",
        "    categories_data = await extractor.extract_all_categories()\n",
        "\n",
        "    if categories_data:\n",
        "        print(f\"✅ Successfully extracted {len(categories_data.get('categories', []))} categories\")\n",
        "\n",
        "        # Save just categories\n",
        "        with open(\"startech_categories_only.json\", 'w', encoding='utf-8') as f:\n",
        "            json.dump(categories_data, f, indent=2, ensure_ascii=False)\n",
        "\n",
        "        # Print summary\n",
        "        summary = categories_data.get('summary', {})\n",
        "        print(f\"📊 Total items: {summary.get('total_items', 0)}\")\n",
        "        print(f\"🏗️ Max depth: {summary.get('deepest_level', 0)}\")\n",
        "\n",
        "        # Show first few categories\n",
        "        categories = categories_data.get('categories', [])\n",
        "        print(f\"\\n📂 FIRST 5 CATEGORIES:\")\n",
        "        for i, cat in enumerate(categories[:5], 1):\n",
        "            print(f\"  {i}. {cat['name']} ({cat['total_subcategories']} subs)\")\n",
        "\n",
        "        return categories_data\n",
        "    else:\n",
        "        print(\"❌ Failed to extract categories\")\n",
        "        return None\n",
        "\n",
        "def test_categories():\n",
        "    \"\"\"Test function to extract categories only\"\"\"\n",
        "    return asyncio.run(extract_categories_only())\n",
        "\n",
        "# Demo/Test Functions for Colab\n",
        "def show_usage():\n",
        "    \"\"\"Show usage instructions for Google Colab\"\"\"\n",
        "    print(\"🚀 STARTECH SCRAPER - COLAB USAGE\")\n",
        "    print(\"=\" * 50)\n",
        "    print()\n",
        "    print(\"📖 AVAILABLE FUNCTIONS:\")\n",
        "    print()\n",
        "    print(\"1️⃣ FULL SCRAPING (Categories + Products):\")\n",
        "    print(\"   result = run_scraper()\")\n",
        "    print(\"   • Extracts all categories & subcategories\")\n",
        "    print(\"   • Scrapes products from top 10 categories\")\n",
        "    print(\"   • Saves results to multiple files\")\n",
        "    print()\n",
        "    print(\"2️⃣ CATEGORIES ONLY (Quick Test):\")\n",
        "    print(\"   categories = test_categories()\")\n",
        "    print(\"   • Only extracts category hierarchy\")\n",
        "    print(\"   • Faster for testing website structure\")\n",
        "    print()\n",
        "    print(\"3️⃣ SHOW THIS HELP:\")\n",
        "    print(\"   show_usage()\")\n",
        "    print()\n",
        "    print(\"📁 OUTPUT FILES:\")\n",
        "    print(\"   • startech_complete_categories.json\")\n",
        "    print(\"   • startech_complete_products.csv\")\n",
        "    print(\"   • startech_complete_products.json\")\n",
        "    print(\"   • startech_complete_complete_report.json\")\n",
        "    print()\n",
        "    print(\"💡 TIP: Start with test_categories() to verify site access\")\n",
        "\n",
        "# Initialize for immediate use in Colab\n",
        "print(\"🎯 StarTech Scraper Loaded Successfully!\")\n",
        "print(\"📚 Run show_usage() for instructions\")\n",
        "print(\"🚀 Run run_scraper() to start complete scraping\")\n",
        "print(\"🔍 Run test_categories() for quick category test\")\n",
        "\n",
        "# Installation verification\n",
        "def verify_installation():\n",
        "    \"\"\"Verify all required packages are installed\"\"\"\n",
        "    required_modules = ['crawl4ai', 'bs4', 'pandas', 'nest_asyncio']\n",
        "    missing = []\n",
        "\n",
        "    for module in required_modules:\n",
        "        try:\n",
        "            importlib.import_module(module)\n",
        "            print(f\"✅ {module}\")\n",
        "        except ImportError:\n",
        "            print(f\"❌ {module}\")\n",
        "            missing.append(module)\n",
        "\n",
        "    if missing:\n",
        "        print(f\"\\n⚠️ Missing modules: {', '.join(missing)}\")\n",
        "        print(\"Run the installation commands at the top of the script\")\n",
        "        return False\n",
        "    else:\n",
        "        print(f\"\\n🎉 All modules installed correctly!\")\n",
        "        return True\n",
        "\n",
        "# Auto-verify installation when script loads\n",
        "verify_installation()\n",
        "test_categories()\n",
        "\n",
        "\"\"\"\n",
        "🚀 GOOGLE COLAB QUICK START GUIDE\n",
        "===============================================\n",
        "\n",
        "1. INSTALLATION (Run once):\n",
        "   The script auto-installs required packages\n",
        "\n",
        "2. BASIC USAGE:\n",
        "   # Test category extraction first\n",
        "   categories = test_categories()\n",
        "\n",
        "   # Run complete scraping\n",
        "   result = run_scraper()\n",
        "\n",
        "3. CUSTOMIZATION:\n",
        "   • Change max_pages in StarTechProductScraper.__init__()\n",
        "   • Modify top categories count in _get_top_categories()\n",
        "   • Adjust selectors in _extract_products_from_html()\n",
        "\n",
        "4. TROUBLESHOOTING:\n",
        "   • If crawling fails, check internet connection\n",
        "   • StarTech may have anti-bot measures\n",
        "   • Try test_categories() first to verify access\n",
        "   • Check the generated log messages for issues\n",
        "\n",
        "5. OUTPUT FILES:\n",
        "   All files are saved in the current directory\n",
        "   Download them from Colab's file browser\n",
        "\n",
        "🔧 OPTIMIZATIONS FOR COLAB:\n",
        "✅ Fixed Crawl4AI 0.7.4+ configuration\n",
        "✅ Removed deprecated LLM provider settings\n",
        "✅ Added nest_asyncio for Jupyter compatibility\n",
        "✅ Enhanced error handling and logging\n",
        "✅ Automatic package installation\n",
        "✅ Progress indicators and status messages\n",
        "\"\"\""
      ]
    },
    {
      "cell_type": "code",
      "source": [
        "# # 1. Test category extraction first (recommended)\n",
        "# categories = test_categories()\n",
        "\n",
        "# 2. Run complete scraping (categories + products)\n",
        "result = run_scraper()\n",
        "\n",
        "# 3. Show usage instructions\n",
        "show_usage()"
      ],
      "metadata": {
        "colab": {
          "base_uri": "https://localhost:8080/",
          "height": 1000
        },
        "id": "ALCRq1t6KYb3",
        "outputId": "69dd72f2-fc7b-46de-b3a2-03efc61c9505"
      },
      "execution_count": null,
      "outputs": [
        {
          "output_type": "stream",
          "name": "stdout",
          "text": [
            "🎯 STARTECH COMPLETE SCRAPER - COLAB EDITION\n",
            "🔧 Optimized for Crawl4AI 0.7.4+\n",
            "============================================================\n",
            "🚀 STARTING STARTECH COMPLETE SCRAPER\n",
            "============================================================\n",
            "\n",
            "📁 STEP 1: Extracting All Categories & Subcategories...\n",
            "--------------------------------------------------\n"
          ]
        },
        {
          "output_type": "display_data",
          "data": {
            "text/plain": [
              "\u001b[1;36m[\u001b[0m\u001b[36mINIT\u001b[0m\u001b[1;36m]\u001b[0m\u001b[36m...\u001b[0m\u001b[36m. → Crawl4AI \u001b[0m\u001b[1;36m0.7\u001b[0m\u001b[36m.\u001b[0m\u001b[1;36m4\u001b[0m\u001b[36m \u001b[0m\n"
            ],
            "text/html": [
              "<pre style=\"white-space:pre;overflow-x:auto;line-height:normal;font-family:Menlo,'DejaVu Sans Mono',consolas,'Courier New',monospace\"><span style=\"color: #008080; text-decoration-color: #008080; font-weight: bold\">[</span><span style=\"color: #008080; text-decoration-color: #008080\">INIT</span><span style=\"color: #008080; text-decoration-color: #008080; font-weight: bold\">]</span><span style=\"color: #008080; text-decoration-color: #008080\">.... → Crawl4AI </span><span style=\"color: #008080; text-decoration-color: #008080; font-weight: bold\">0.7</span><span style=\"color: #008080; text-decoration-color: #008080\">.</span><span style=\"color: #008080; text-decoration-color: #008080; font-weight: bold\">4</span><span style=\"color: #008080; text-decoration-color: #008080\"> </span>\n",
              "</pre>\n"
            ]
          },
          "metadata": {}
        },
        {
          "output_type": "display_data",
          "data": {
            "text/plain": [
              "\u001b[1;32m[\u001b[0m\u001b[32mFETCH\u001b[0m\u001b[1;32m]\u001b[0m\u001b[32m...\u001b[0m\u001b[32m ↓ \u001b[0m\u001b[4;32mhttps://www.startech.com.bd\u001b[0m\u001b[32m                                                                          |\u001b[0m\n",
              "\u001b[32m✓\u001b[0m\u001b[32m | ⏱: \u001b[0m\u001b[1;32m1.\u001b[0m\u001b[32m71s \u001b[0m\n"
            ],
            "text/html": [
              "<pre style=\"white-space:pre;overflow-x:auto;line-height:normal;font-family:Menlo,'DejaVu Sans Mono',consolas,'Courier New',monospace\"><span style=\"color: #008000; text-decoration-color: #008000; font-weight: bold\">[</span><span style=\"color: #008000; text-decoration-color: #008000\">FETCH</span><span style=\"color: #008000; text-decoration-color: #008000; font-weight: bold\">]</span><span style=\"color: #008000; text-decoration-color: #008000\">... ↓ </span><span style=\"color: #008000; text-decoration-color: #008000; text-decoration: underline\">https://www.startech.com.bd</span><span style=\"color: #008000; text-decoration-color: #008000\">                                                                          |</span>\n",
              "<span style=\"color: #008000; text-decoration-color: #008000\">✓ | ⏱: </span><span style=\"color: #008000; text-decoration-color: #008000; font-weight: bold\">1.</span><span style=\"color: #008000; text-decoration-color: #008000\">71s </span>\n",
              "</pre>\n"
            ]
          },
          "metadata": {}
        },
        {
          "output_type": "display_data",
          "data": {
            "text/plain": [
              "\u001b[1;32m[\u001b[0m\u001b[32mSCRAPE\u001b[0m\u001b[1;32m]\u001b[0m\u001b[32m.. ◆ \u001b[0m\u001b[4;32mhttps://www.startech.com.bd\u001b[0m\u001b[32m                                                                          |\u001b[0m\n",
              "\u001b[32m✓\u001b[0m\u001b[32m | ⏱: \u001b[0m\u001b[1;32m0.\u001b[0m\u001b[32m37s \u001b[0m\n"
            ],
            "text/html": [
              "<pre style=\"white-space:pre;overflow-x:auto;line-height:normal;font-family:Menlo,'DejaVu Sans Mono',consolas,'Courier New',monospace\"><span style=\"color: #008000; text-decoration-color: #008000; font-weight: bold\">[</span><span style=\"color: #008000; text-decoration-color: #008000\">SCRAPE</span><span style=\"color: #008000; text-decoration-color: #008000; font-weight: bold\">]</span><span style=\"color: #008000; text-decoration-color: #008000\">.. ◆ </span><span style=\"color: #008000; text-decoration-color: #008000; text-decoration: underline\">https://www.startech.com.bd</span><span style=\"color: #008000; text-decoration-color: #008000\">                                                                          |</span>\n",
              "<span style=\"color: #008000; text-decoration-color: #008000\">✓ | ⏱: </span><span style=\"color: #008000; text-decoration-color: #008000; font-weight: bold\">0.</span><span style=\"color: #008000; text-decoration-color: #008000\">37s </span>\n",
              "</pre>\n"
            ]
          },
          "metadata": {}
        },
        {
          "output_type": "display_data",
          "data": {
            "text/plain": [
              "\u001b[1;32m[\u001b[0m\u001b[32mCOMPLETE\u001b[0m\u001b[1;32m]\u001b[0m\u001b[32m ● \u001b[0m\u001b[4;32mhttps://www.startech.com.bd\u001b[0m\u001b[32m                                                                          |\u001b[0m\n",
              "\u001b[32m✓\u001b[0m\u001b[32m | ⏱: \u001b[0m\u001b[1;32m2.\u001b[0m\u001b[32m09s \u001b[0m\n"
            ],
            "text/html": [
              "<pre style=\"white-space:pre;overflow-x:auto;line-height:normal;font-family:Menlo,'DejaVu Sans Mono',consolas,'Courier New',monospace\"><span style=\"color: #008000; text-decoration-color: #008000; font-weight: bold\">[</span><span style=\"color: #008000; text-decoration-color: #008000\">COMPLETE</span><span style=\"color: #008000; text-decoration-color: #008000; font-weight: bold\">]</span><span style=\"color: #008000; text-decoration-color: #008000\"> ● </span><span style=\"color: #008000; text-decoration-color: #008000; text-decoration: underline\">https://www.startech.com.bd</span><span style=\"color: #008000; text-decoration-color: #008000\">                                                                          |</span>\n",
              "<span style=\"color: #008000; text-decoration-color: #008000\">✓ | ⏱: </span><span style=\"color: #008000; text-decoration-color: #008000; font-weight: bold\">2.</span><span style=\"color: #008000; text-decoration-color: #008000\">09s </span>\n",
              "</pre>\n"
            ]
          },
          "metadata": {}
        },
        {
          "output_type": "stream",
          "name": "stdout",
          "text": [
            "\n",
            "📊 STARTECH CATEGORY HIERARCHY EXTRACTED\n",
            "============================================================\n",
            "📈 Total Categories/Subcategories: 2206\n",
            "🏗️ Maximum Depth Level: 3\n",
            "   📁 Level 1: 143 items\n",
            "   📁 Level 2: 1243 items\n",
            "   📁 Level 3: 820 items\n",
            "\n",
            "📂 HIERARCHICAL STRUCTURE:\n",
            "----------------------------------------\n",
            "\n",
            " 1. 🏷️ Desktop (29 subcategories)\n",
            "     🔗 https://www.startech.com.bd/desktops\n",
            "     ├─ Desktop Offer\n",
            "     ├─ Star PC\n",
            "     │  └─ Intel PC\n",
            "     │  └─ Ryzen PC\n",
            "     ├─ Gaming PC\n",
            "     │  └─ Intel PC\n",
            "     │  └─ RYZEN PC\n",
            "     └─ ... and 7 more subcategories\n",
            "\n",
            " 2. 🏷️ Star PC (2 subcategories)\n",
            "     🔗 https://www.startech.com.bd/desktops/star-pc\n",
            "     ├─ Intel PC\n",
            "     ├─ Ryzen PC\n",
            "\n",
            " 3. 🏷️ Gaming PC (2 subcategories)\n",
            "     🔗 https://www.startech.com.bd/desktops/gaming-pc\n",
            "     ├─ Intel PC\n",
            "     ├─ RYZEN PC\n",
            "\n",
            " 4. 🏷️ Brand PC (6 subcategories)\n",
            "     🔗 https://www.startech.com.bd/desktops/brand-pc\n",
            "     ├─ Acer\n",
            "     ├─ ASUS\n",
            "     ├─ Dell\n",
            "     └─ ... and 3 more subcategories\n",
            "\n",
            " 5. 🏷️ All-in-One PC (7 subcategories)\n",
            "     🔗 https://www.startech.com.bd/desktops/all-in-one-pc\n",
            "     ├─ Dell\n",
            "     ├─ HP\n",
            "     ├─ ASUS\n",
            "     └─ ... and 4 more subcategories\n",
            "\n",
            " 6. 🏷️ Portable Mini PC (2 subcategories)\n",
            "     🔗 https://www.startech.com.bd/desktops/portable-mini-pc\n",
            "     ├─ Asus\n",
            "     ├─ Zotac\n",
            "\n",
            " 7. 🏷️ Laptop (54 subcategories)\n",
            "     🔗 https://www.startech.com.bd/laptop-notebook\n",
            "     ├─ All Laptop\n",
            "     │  └─ MSI\n",
            "     │  └─ Lenovo\n",
            "     ├─ Gaming Laptop\n",
            "     │  └─ HP\n",
            "     │  └─ Lenovo\n",
            "     ├─ Premium Ultrabook\n",
            "     │  └─ Asus\n",
            "     │  └─ Acer\n",
            "     └─ ... and 2 more subcategories\n",
            "\n",
            " 8. 🏷️ All Laptop (15 subcategories)\n",
            "     🔗 https://www.startech.com.bd/laptop-notebook/laptop\n",
            "     ├─ MSI\n",
            "     ├─ Lenovo\n",
            "     ├─ Asus\n",
            "     └─ ... and 12 more subcategories\n",
            "\n",
            " 9. 🏷️ Gaming Laptop (7 subcategories)\n",
            "     🔗 https://www.startech.com.bd/laptop-notebook/Gaming-Laptop\n",
            "     ├─ HP\n",
            "     ├─ Lenovo\n",
            "     ├─ Asus\n",
            "     └─ ... and 4 more subcategories\n",
            "\n",
            "10. 🏷️ Premium Ultrabook (7 subcategories)\n",
            "     🔗 https://www.startech.com.bd/laptop-notebook/ultrabook\n",
            "     ├─ Asus\n",
            "     ├─ Acer\n",
            "     ├─ HP\n",
            "     └─ ... and 4 more subcategories\n",
            "\n",
            "11. 🏷️ Laptop Bag (12 subcategories)\n",
            "     🔗 https://www.startech.com.bd/laptop-bag-backpack\n",
            "     ├─ Asus\n",
            "     ├─ Dell\n",
            "     ├─ Fantech\n",
            "     └─ ... and 9 more subcategories\n",
            "\n",
            "12. 🏷️ Laptop Accessories (8 subcategories)\n",
            "     🔗 https://www.startech.com.bd/laptop-notebook/laptop-accessories\n",
            "     ├─ Laptop Cooler\n",
            "     ├─ Laptop Desk\n",
            "     ├─ Laptop Stand\n",
            "     └─ ... and 5 more subcategories\n",
            "\n",
            "13. 🏷️ Component (150 subcategories)\n",
            "     🔗 https://www.startech.com.bd/component\n",
            "     ├─ Processor\n",
            "     │  └─ AMD\n",
            "     │  └─ Intel\n",
            "     ├─ CPU Cooler\n",
            "     │  └─ MSI\n",
            "     │  └─ Antec\n",
            "     ├─ Water / Liquid Cooling\n",
            "     │  └─ EKWB\n",
            "     └─ ... and 13 more subcategories\n",
            "\n",
            "14. 🏷️ Processor (2 subcategories)\n",
            "     🔗 https://www.startech.com.bd/component/processor\n",
            "     ├─ AMD\n",
            "     ├─ Intel\n",
            "\n",
            "15. 🏷️ CPU Cooler (10 subcategories)\n",
            "     🔗 https://www.startech.com.bd/component/CPU-Cooler\n",
            "     ├─ MSI\n",
            "     ├─ Antec\n",
            "     ├─ Gamdias\n",
            "     └─ ... and 7 more subcategories\n",
            "\n",
            "16. 🏷️ Water / Liquid Cooling (1 subcategories)\n",
            "     🔗 https://www.startech.com.bd/water-or-liquid-cooling\n",
            "     ├─ EKWB\n",
            "\n",
            "17. 🏷️ Motherboard (10 subcategories)\n",
            "     🔗 https://www.startech.com.bd/component/motherboard\n",
            "     ├─ MSI (Intel)\n",
            "     ├─ MSI (AMD)\n",
            "     ├─ ASRock (Intel)\n",
            "     └─ ... and 7 more subcategories\n",
            "\n",
            "18. 🏷️ Graphics Card (16 subcategories)\n",
            "     🔗 https://www.startech.com.bd/component/graphics-card\n",
            "     ├─ Colorful\n",
            "     ├─ ASUS\n",
            "     ├─ GIGABYTE\n",
            "     └─ ... and 13 more subcategories\n",
            "\n",
            "19. 🏷️ RAM (Desktop) (15 subcategories)\n",
            "     🔗 https://www.startech.com.bd/component/ram\n",
            "     ├─ TEAM\n",
            "     ├─ Colorful\n",
            "     ├─ Corsair\n",
            "     └─ ... and 12 more subcategories\n",
            "\n",
            "20. 🏷️ RAM (Laptop) (12 subcategories)\n",
            "     🔗 https://www.startech.com.bd/component/laptop-ram\n",
            "     ├─ TEAM\n",
            "     ├─ Colorful\n",
            "     ├─ Adata\n",
            "     └─ ... and 9 more subcategories\n",
            "\n",
            "21. 🏷️ Power Supply (8 subcategories)\n",
            "     🔗 https://www.startech.com.bd/component/power-supply\n",
            "     ├─ MSI\n",
            "     ├─ Antec\n",
            "     ├─ Gamdias\n",
            "     └─ ... and 5 more subcategories\n",
            "\n",
            "22. 🏷️ Hard Disk Drive (3 subcategories)\n",
            "     🔗 https://www.startech.com.bd/component/hard-disk-drive\n",
            "     ├─ Seagate\n",
            "     ├─ Toshiba\n",
            "     ├─ Western Digital\n",
            "\n",
            "23. 🏷️ Portable Hard Disk Drive (8 subcategories)\n",
            "     🔗 https://www.startech.com.bd/component/portable-hard-disk-drive\n",
            "     ├─ Toshiba\n",
            "     ├─ ADATA\n",
            "     ├─ Transcend\n",
            "     └─ ... and 5 more subcategories\n",
            "\n",
            "24. 🏷️ SSD (12 subcategories)\n",
            "     🔗 https://www.startech.com.bd/ssd\n",
            "     ├─ TEAM\n",
            "     ├─ Colorful\n",
            "     ├─ MiPhi\n",
            "     └─ ... and 9 more subcategories\n",
            "\n",
            "25. 🏷️ Portable SSD (13 subcategories)\n",
            "     🔗 https://www.startech.com.bd/portable-ssd\n",
            "     ├─ TEAM\n",
            "     ├─ SanDisk\n",
            "     ├─ Samsung\n",
            "     └─ ... and 10 more subcategories\n",
            "\n",
            "26. 🏷️ Casing (13 subcategories)\n",
            "     🔗 https://www.startech.com.bd/component/casing\n",
            "     ├─ MSI\n",
            "     ├─ Antec\n",
            "     ├─ Gamdias\n",
            "     └─ ... and 10 more subcategories\n",
            "\n",
            "27. 🏷️ Casing Cooler (9 subcategories)\n",
            "     🔗 https://www.startech.com.bd/component/casing-cooler\n",
            "     ├─ Antec\n",
            "     ├─ Xtreme\n",
            "     ├─ Lian Li\n",
            "     └─ ... and 6 more subcategories\n",
            "\n",
            "28. 🏷️ Optical Disk Drive (2 subcategories)\n",
            "     🔗 https://www.startech.com.bd/component/optical-hdd\n",
            "     ├─ External Optical Disk Drive\n",
            "     ├─ Internal Optical Disk Drive\n",
            "\n",
            "29. 🏷️ Monitor (15 subcategories)\n",
            "     🔗 https://www.startech.com.bd/monitor\n",
            "     ├─ AOC\n",
            "     ├─ MSI\n",
            "     ├─ LG\n",
            "     └─ ... and 12 more subcategories\n",
            "\n",
            "30. 🏷️ Power (34 subcategories)\n",
            "     🔗 https://www.startech.com.bd/power\n",
            "     ├─ UPS\n",
            "     │  └─ MaxGreen\n",
            "     │  └─ SANTAK\n",
            "     ├─ Online UPS\n",
            "     │  └─ MaxGreen\n",
            "     │  └─ SANTAK\n",
            "     ├─ Mini UPS\n",
            "     │  └─ MARSRIVA\n",
            "     │  └─ Power Guard\n",
            "     └─ ... and 5 more subcategories\n",
            "\n",
            "31. 🏷️ UPS (10 subcategories)\n",
            "     🔗 https://www.startech.com.bd/ups\n",
            "     ├─ MaxGreen\n",
            "     ├─ SANTAK\n",
            "     ├─ Digital X\n",
            "     └─ ... and 7 more subcategories\n",
            "\n",
            "32. 🏷️ Online UPS (12 subcategories)\n",
            "     🔗 https://www.startech.com.bd/online-ups\n",
            "     ├─ MaxGreen\n",
            "     ├─ SANTAK\n",
            "     ├─ MARSRIVA\n",
            "     └─ ... and 9 more subcategories\n",
            "\n",
            "33. 🏷️ Mini UPS (4 subcategories)\n",
            "     🔗 https://www.startech.com.bd/mini-ups\n",
            "     ├─ MARSRIVA\n",
            "     ├─ Power Guard\n",
            "     ├─ PC Power\n",
            "     └─ ... and 1 more subcategories\n",
            "\n",
            "34. 🏷️ Phone (24 subcategories)\n",
            "     🔗 https://www.startech.com.bd/mobile-phone\n",
            "     ├─ iPhone\n",
            "     ├─ Google\n",
            "     ├─ Samsung\n",
            "     └─ ... and 17 more subcategories\n",
            "\n",
            "35. 🏷️ Mobile Accessories (4 subcategories)\n",
            "     🔗 https://www.startech.com.bd/mobile-phone-accessories\n",
            "     ├─ Charger & Adapter\n",
            "     ├─ Holder & Stand\n",
            "     ├─ Case & Cover\n",
            "     └─ ... and 1 more subcategories\n",
            "\n",
            "36. 🏷️ Tablet (24 subcategories)\n",
            "     🔗 https://www.startech.com.bd/tablet-pc\n",
            "     ├─ Graphics Tablet\n",
            "     │  └─ XP-PEN\n",
            "     │  └─ Huion\n",
            "     ├─ iPad\n",
            "     ├─ Black Shark\n",
            "     └─ ... and 17 more subcategories\n",
            "\n",
            "37. 🏷️ Graphics Tablet (4 subcategories)\n",
            "     🔗 https://www.startech.com.bd/graphics-tablet\n",
            "     ├─ XP-PEN\n",
            "     ├─ Huion\n",
            "     ├─ Wacom\n",
            "     └─ ... and 1 more subcategories\n",
            "\n",
            "38. 🏷️ Office Equipment (17 subcategories)\n",
            "     🔗 https://www.startech.com.bd/office-equipment\n",
            "     ├─ Optoma\n",
            "     ├─ BenQ\n",
            "     ├─ Acer\n",
            "     └─ ... and 14 more subcategories\n",
            "\n",
            "39. 🏷️ Projector (17 subcategories)\n",
            "     🔗 https://www.startech.com.bd/projector\n",
            "     ├─ Optoma\n",
            "     ├─ BenQ\n",
            "     ├─ Acer\n",
            "     └─ ... and 14 more subcategories\n",
            "\n",
            "40. 🏷️ Conference System (13 subcategories)\n",
            "     🔗 https://www.startech.com.bd/office-equipment/conference-systems\n",
            "     ├─ Logitech\n",
            "     ├─ Jabra\n",
            "     ├─ HTDZ\n",
            "     └─ ... and 10 more subcategories\n",
            "\n",
            "41. 🏷️ PA System (4 subcategories)\n",
            "     🔗 https://www.startech.com.bd/pa-system\n",
            "     ├─ TEV\n",
            "     ├─ CMX\n",
            "     ├─ Grandstream\n",
            "     └─ ... and 1 more subcategories\n",
            "\n",
            "42. 🏷️ Interactive Flat Panel (17 subcategories)\n",
            "     🔗 https://www.startech.com.bd/interactive-flat-panel\n",
            "     ├─ InFocus\n",
            "     ├─ Optoma\n",
            "     ├─ Dahua\n",
            "     └─ ... and 14 more subcategories\n",
            "\n",
            "43. 🏷️ Signage (6 subcategories)\n",
            "     🔗 https://www.startech.com.bd/office-equipment/signage\n",
            "     ├─ BenQ\n",
            "     ├─ ViewSonic\n",
            "     ├─ LG\n",
            "     └─ ... and 3 more subcategories\n",
            "\n",
            "44. 🏷️ Kiosk (4 subcategories)\n",
            "     🔗 https://www.startech.com.bd/kiosk\n",
            "     ├─ ViewSonic\n",
            "     ├─ ARMOR\n",
            "     ├─ Hikvision\n",
            "     └─ ... and 1 more subcategories\n",
            "\n",
            "45. 🏷️ Printer (6 subcategories)\n",
            "     🔗 https://www.startech.com.bd/printer\n",
            "     ├─ Pantum\n",
            "     ├─ Brother\n",
            "     ├─ Canon\n",
            "     └─ ... and 3 more subcategories\n",
            "\n",
            "46. 🏷️ ID Card Printer (3 subcategories)\n",
            "     🔗 https://www.startech.com.bd/id-card-printer\n",
            "     ├─ Zebra\n",
            "     ├─ Evolis\n",
            "     ├─ HID\n",
            "\n",
            "47. 🏷️ POS Printer (10 subcategories)\n",
            "     🔗 https://www.startech.com.bd/pos-printer\n",
            "     ├─ Deli\n",
            "     ├─ RONGTA\n",
            "     ├─ Sewoo\n",
            "     └─ ... and 7 more subcategories\n",
            "\n",
            "48. 🏷️ Label Printer (10 subcategories)\n",
            "     🔗 https://www.startech.com.bd/label-printer\n",
            "     ├─ Deli\n",
            "     ├─ Brother\n",
            "     ├─ Xprinter\n",
            "     └─ ... and 7 more subcategories\n",
            "\n",
            "49. 🏷️ Photocopier (5 subcategories)\n",
            "     🔗 https://www.startech.com.bd/photocopier\n",
            "     ├─ Toshiba\n",
            "     ├─ Canon\n",
            "     ├─ Sharp\n",
            "     └─ ... and 2 more subcategories\n",
            "\n",
            "50. 🏷️ Toner (17 subcategories)\n",
            "     🔗 https://www.startech.com.bd/office-equipment/toner\n",
            "     ├─ HP\n",
            "     ├─ Pantum\n",
            "     ├─ Canon\n",
            "     └─ ... and 14 more subcategories\n",
            "\n",
            "51. 🏷️ Cartridge (4 subcategories)\n",
            "     🔗 https://www.startech.com.bd/cartridge\n",
            "     ├─ Canon\n",
            "     ├─ Epson\n",
            "     ├─ HP\n",
            "     └─ ... and 1 more subcategories\n",
            "\n",
            "52. 🏷️ Ink Bottle (4 subcategories)\n",
            "     🔗 https://www.startech.com.bd/ink-bottle\n",
            "     ├─ Epson\n",
            "     ├─ Brother\n",
            "     ├─ HP\n",
            "     └─ ... and 1 more subcategories\n",
            "\n",
            "53. 🏷️ Scanner (8 subcategories)\n",
            "     🔗 https://www.startech.com.bd/office-equipment/Scanner\n",
            "     ├─ HP\n",
            "     ├─ Canon\n",
            "     ├─ Epson\n",
            "     └─ ... and 5 more subcategories\n",
            "\n",
            "54. 🏷️ Barcode Scanner (9 subcategories)\n",
            "     🔗 https://www.startech.com.bd/office-equipment/Barcode-Scanner\n",
            "     ├─ Deli\n",
            "     ├─ Winson\n",
            "     ├─ Yumite\n",
            "     └─ ... and 6 more subcategories\n",
            "\n",
            "55. 🏷️ IP Phone (7 subcategories)\n",
            "     🔗 https://www.startech.com.bd/office-equipment/ip-phone\n",
            "     ├─ Mitel\n",
            "     ├─ Grandstream\n",
            "     ├─ Cisco\n",
            "     └─ ... and 4 more subcategories\n",
            "\n",
            "56. 🏷️ PABX System (5 subcategories)\n",
            "     🔗 https://www.startech.com.bd/ip-pabx-system\n",
            "     ├─ Mitel\n",
            "     ├─ Grandstream\n",
            "     ├─ DINSTAR\n",
            "     └─ ... and 2 more subcategories\n",
            "\n",
            "57. 🏷️ Money Counting Machine (11 subcategories)\n",
            "     🔗 https://www.startech.com.bd/office-equipment/money-counting-machine\n",
            "     ├─ Apollo\n",
            "     ├─ Kington\n",
            "     ├─ Domens\n",
            "     └─ ... and 8 more subcategories\n",
            "\n",
            "58. 🏷️ Paper Shredder (4 subcategories)\n",
            "     🔗 https://www.startech.com.bd/office-equipment/paper-shredder\n",
            "     ├─ Deli\n",
            "     ├─ Ofitech\n",
            "     ├─ Aurora\n",
            "     └─ ... and 1 more subcategories\n",
            "\n",
            "59. 🏷️ Camera (59 subcategories)\n",
            "     🔗 https://www.startech.com.bd/camera\n",
            "     ├─ Action Camera\n",
            "     │  └─ GoPro\n",
            "     │  └─ DJI\n",
            "     ├─ Camera Lenses\n",
            "     │  └─ Canon\n",
            "     │  └─ Nikon\n",
            "     ├─ Digital Camera\n",
            "     │  └─ Sony\n",
            "     │  └─ Canon\n",
            "     └─ ... and 8 more subcategories\n",
            "\n",
            "60. 🏷️ Action Camera (12 subcategories)\n",
            "     🔗 https://www.startech.com.bd/camera/action-camera\n",
            "     ├─ GoPro\n",
            "     ├─ DJI\n",
            "     ├─ Insta360\n",
            "     └─ ... and 9 more subcategories\n",
            "\n",
            "61. 🏷️ Camera Lenses (4 subcategories)\n",
            "     🔗 https://www.startech.com.bd/camera/camera-lenses\n",
            "     ├─ Canon\n",
            "     ├─ Nikon\n",
            "     ├─ Sony\n",
            "     └─ ... and 1 more subcategories\n",
            "\n",
            "62. 🏷️ Digital Camera (3 subcategories)\n",
            "     🔗 https://www.startech.com.bd/camera/digital-camera\n",
            "     ├─ Sony\n",
            "     ├─ Canon\n",
            "     ├─ Fujifilm\n",
            "\n",
            "63. 🏷️ DSLR (1 subcategories)\n",
            "     🔗 https://www.startech.com.bd/dslr-camera\n",
            "     ├─ Canon\n",
            "\n",
            "64. 🏷️ Mirrorless Camera (5 subcategories)\n",
            "     🔗 https://www.startech.com.bd/mirrorless-camera\n",
            "     ├─ Canon\n",
            "     ├─ Sony\n",
            "     ├─ Nikon\n",
            "     └─ ... and 2 more subcategories\n",
            "\n",
            "65. 🏷️ Dash Cam (2 subcategories)\n",
            "     🔗 https://www.startech.com.bd/dash-cam\n",
            "     ├─ Transcend\n",
            "     ├─ 70mai\n",
            "\n",
            "66. 🏷️ Video Camera (3 subcategories)\n",
            "     🔗 https://www.startech.com.bd/camera/video-camera\n",
            "     ├─ Sony\n",
            "     ├─ Panasonic\n",
            "     ├─ Canon\n",
            "\n",
            "67. 🏷️ Camera Accessories (8 subcategories)\n",
            "     🔗 https://www.startech.com.bd/camera-accessories\n",
            "     ├─ Camera Flash\n",
            "     ├─ Studio Light\n",
            "     ├─ Softbox\n",
            "     └─ ... and 5 more subcategories\n",
            "\n",
            "68. 🏷️ Camera Tripod (10 subcategories)\n",
            "     🔗 https://www.startech.com.bd/camera/camera-tripod\n",
            "     ├─ Manbily\n",
            "     ├─ K&F Concept\n",
            "     ├─ Digipod\n",
            "     └─ ... and 7 more subcategories\n",
            "\n",
            "69. 🏷️ Security (69 subcategories)\n",
            "     🔗 https://www.startech.com.bd/Security-Camera\n",
            "     ├─ Portable WiFi Camera\n",
            "     │  └─ Meari\n",
            "     │  └─ Dahua\n",
            "     ├─ IP Camera\n",
            "     │  └─ Dahua\n",
            "     │  └─ Jovision\n",
            "     ├─ CC Camera\n",
            "     │  └─ Dahua\n",
            "     │  └─ Hikvision\n",
            "     └─ ... and 13 more subcategories\n",
            "\n",
            "70. 🏷️ Portable WiFi Camera (10 subcategories)\n",
            "     🔗 https://www.startech.com.bd/wifi-camera\n",
            "     ├─ Meari\n",
            "     ├─ Dahua\n",
            "     ├─ Imou\n",
            "     └─ ... and 7 more subcategories\n",
            "\n",
            "71. 🏷️ IP Camera (6 subcategories)\n",
            "     🔗 https://www.startech.com.bd/Security-Camera/ip-camera\n",
            "     ├─ Dahua\n",
            "     ├─ Jovision\n",
            "     ├─ Hikvision\n",
            "     └─ ... and 3 more subcategories\n",
            "\n",
            "72. 🏷️ CC Camera (3 subcategories)\n",
            "     🔗 https://www.startech.com.bd/Security-Camera/cc-camera\n",
            "     ├─ Dahua\n",
            "     ├─ Hikvision\n",
            "     ├─ Uniview\n",
            "\n",
            "73. 🏷️ PTZ Camera (6 subcategories)\n",
            "     🔗 https://www.startech.com.bd/Security-Camera/ptz-camera\n",
            "     ├─ Dahua\n",
            "     ├─ Hikvision\n",
            "     ├─ Jovision\n",
            "     └─ ... and 3 more subcategories\n",
            "\n",
            "74. 🏷️ CC Camera Package (2 subcategories)\n",
            "     🔗 https://www.startech.com.bd/cc-camera-package\n",
            "     ├─ Hikvision\n",
            "     ├─ Dahua\n",
            "\n",
            "75. 🏷️ IP Camera Package (3 subcategories)\n",
            "     🔗 https://www.startech.com.bd/ip-camera-package\n",
            "     ├─ Hikvision\n",
            "     ├─ Dahua\n",
            "     ├─ TP-Link\n",
            "\n",
            "76. 🏷️ DVR (2 subcategories)\n",
            "     🔗 https://www.startech.com.bd/Security-Camera/dvr\n",
            "     ├─ Jovision\n",
            "     ├─ Hikvision\n",
            "\n",
            "77. 🏷️ NVR (7 subcategories)\n",
            "     🔗 https://www.startech.com.bd/Security-Camera/nvr\n",
            "     ├─ Dahua\n",
            "     ├─ Hikvision\n",
            "     ├─ Jovision\n",
            "     └─ ... and 4 more subcategories\n",
            "\n",
            "78. 🏷️ XVR (3 subcategories)\n",
            "     🔗 https://www.startech.com.bd/Security-Camera/xvr\n",
            "     ├─ Dahua\n",
            "     ├─ Uniview\n",
            "     ├─ Jovision\n",
            "\n",
            "79. 🏷️ Door Lock (5 subcategories)\n",
            "     🔗 https://www.startech.com.bd/Security-Camera/door-lock\n",
            "     ├─ ZKTeco\n",
            "     ├─ STATA\n",
            "     ├─ SmartX\n",
            "     └─ ... and 2 more subcategories\n",
            "\n",
            "80. 🏷️ Access Control (6 subcategories)\n",
            "     🔗 https://www.startech.com.bd/Security-Camera/access-control\n",
            "     ├─ ZKTeco\n",
            "     ├─ Hikvision\n",
            "     ├─ Onspot\n",
            "     └─ ... and 3 more subcategories\n",
            "\n",
            "81. 🏷️ Networking (90 subcategories)\n",
            "     🔗 https://www.startech.com.bd/networking\n",
            "     ├─ Starlink\n",
            "     ├─ Router\n",
            "     │  └─ TP-Link\n",
            "     │  └─ Tenda\n",
            "     ├─ Pocket Router\n",
            "     │  └─ TP-Link\n",
            "     │  └─ Mercusys\n",
            "     └─ ... and 19 more subcategories\n",
            "\n",
            "82. 🏷️ Router (18 subcategories)\n",
            "     🔗 https://www.startech.com.bd/networking/router\n",
            "     ├─ TP-Link\n",
            "     ├─ Tenda\n",
            "     ├─ Cudy\n",
            "     └─ ... and 15 more subcategories\n",
            "\n",
            "83. 🏷️ Pocket Router (2 subcategories)\n",
            "     🔗 https://www.startech.com.bd/pocket-router\n",
            "     ├─ TP-Link\n",
            "     ├─ Mercusys\n",
            "\n",
            "84. 🏷️ Access Point & Range Extender (17 subcategories)\n",
            "     🔗 https://www.startech.com.bd/wifi-extender\n",
            "     ├─ Zyxel\n",
            "     ├─ TP-Link\n",
            "     ├─ Tenda\n",
            "     └─ ... and 14 more subcategories\n",
            "\n",
            "85. 🏷️ Network Switch (21 subcategories)\n",
            "     🔗 https://www.startech.com.bd/networking/network-switch\n",
            "     ├─ Zyxel\n",
            "     ├─ Cisco\n",
            "     ├─ MikroTik\n",
            "     └─ ... and 18 more subcategories\n",
            "\n",
            "86. 🏷️ WiFi Adapter (6 subcategories)\n",
            "     🔗 https://www.startech.com.bd/wifi-adapter\n",
            "     ├─ TP-Link\n",
            "     ├─ Tenda\n",
            "     ├─ Cudy\n",
            "     └─ ... and 3 more subcategories\n",
            "\n",
            "87. 🏷️ Networking Cable (2 subcategories)\n",
            "     🔗 https://www.startech.com.bd/networking-cable\n",
            "     ├─ UTP Cable\n",
            "     ├─ Fiber Optic Cable\n",
            "\n",
            "88. 🏷️ Media Converter (2 subcategories)\n",
            "     🔗 https://www.startech.com.bd/media-converter\n",
            "     ├─ D-Link\n",
            "     ├─ TP-Link\n",
            "\n",
            "89. 🏷️ Software (17 subcategories)\n",
            "     🔗 https://www.startech.com.bd/software\n",
            "     ├─ Operating System\n",
            "     │  └─ Microsoft Windows\n",
            "     │  └─ Red Hat\n",
            "     ├─ Office Application\n",
            "     │  └─ Microsoft Office\n",
            "     ├─ Database Server Solution\n",
            "     └─ ... and 8 more subcategories\n",
            "\n",
            "90. 🏷️ Operating System (2 subcategories)\n",
            "     🔗 https://www.startech.com.bd/operating-system\n",
            "     ├─ Microsoft Windows\n",
            "     ├─ Red Hat\n",
            "\n",
            "91. 🏷️ Office Application (1 subcategories)\n",
            "     🔗 https://www.startech.com.bd/office-application\n",
            "     ├─ Microsoft Office\n",
            "\n",
            "92. 🏷️ Antivirus (2 subcategories)\n",
            "     🔗 https://www.startech.com.bd/software/antivirus\n",
            "     ├─ For Home User\n",
            "     ├─ For Business Users\n",
            "\n",
            "93. 🏷️ Bangla Typing Software (1 subcategories)\n",
            "     🔗 https://www.startech.com.bd/bangla-typing-software\n",
            "     ├─ Bijoy\n",
            "\n",
            "94. 🏷️ Server & Storage (27 subcategories)\n",
            "     🔗 https://www.startech.com.bd/server-networking\n",
            "     ├─ Server\n",
            "     │  └─ Dell\n",
            "     │  └─ HPE\n",
            "     ├─ GPU Server\n",
            "     ├─ Server Rack\n",
            "     │  └─ Toten\n",
            "     │  └─ Safenet\n",
            "     └─ ... and 9 more subcategories\n",
            "\n",
            "95. 🏷️ Server (4 subcategories)\n",
            "     🔗 https://www.startech.com.bd/server-networking/server\n",
            "     ├─ Dell\n",
            "     ├─ HPE\n",
            "     ├─ Cisco\n",
            "     └─ ... and 1 more subcategories\n",
            "\n",
            "96. 🏷️ Server Rack (4 subcategories)\n",
            "     🔗 https://www.startech.com.bd/server-rack\n",
            "     ├─ Toten\n",
            "     ├─ Safenet\n",
            "     ├─ Cote\n",
            "     └─ ... and 1 more subcategories\n",
            "\n",
            "97. 🏷️ Workstation (3 subcategories)\n",
            "     🔗 https://www.startech.com.bd/server-networking/workstation\n",
            "     ├─ HP\n",
            "     ├─ Dell\n",
            "     ├─ Lenovo\n",
            "\n",
            "98. 🏷️ NAS Storage (3 subcategories)\n",
            "     🔗 https://www.startech.com.bd/nas-storage\n",
            "     ├─ Asustor\n",
            "     ├─ Synology\n",
            "     ├─ Orico\n",
            "\n",
            "99. 🏷️ SAN Storage (1 subcategories)\n",
            "     🔗 https://www.startech.com.bd/san-storage\n",
            "     ├─ DELL\n",
            "\n",
            "100. 🏷️ Accessories (229 subcategories)\n",
            "     🔗 https://www.startech.com.bd/accessories\n",
            "     ├─ Keyboard\n",
            "     │  └─ Logitech\n",
            "     │  └─ Xtrike Me\n",
            "     ├─ Mouse\n",
            "     │  └─ Logitech\n",
            "     │  └─ Xtrike Me\n",
            "     ├─ Headphone\n",
            "     │  └─ Logitech\n",
            "     │  └─ Xtrike Me\n",
            "     └─ ... and 23 more subcategories\n",
            "\n",
            "101. 🏷️ Keyboard (16 subcategories)\n",
            "     🔗 https://www.startech.com.bd/accessories/keyboards\n",
            "     ├─ Logitech\n",
            "     ├─ Xtrike Me\n",
            "     ├─ RAZER\n",
            "     └─ ... and 13 more subcategories\n",
            "\n",
            "102. 🏷️ Mouse (20 subcategories)\n",
            "     🔗 https://www.startech.com.bd/accessories/mouse\n",
            "     ├─ Logitech\n",
            "     ├─ Xtrike Me\n",
            "     ├─ RAZER\n",
            "     └─ ... and 17 more subcategories\n",
            "\n",
            "103. 🏷️ Headphone (22 subcategories)\n",
            "     🔗 https://www.startech.com.bd/accessories/headphone\n",
            "     ├─ Logitech\n",
            "     ├─ Xtrike Me\n",
            "     ├─ RAZER\n",
            "     └─ ... and 19 more subcategories\n",
            "\n",
            "104. 🏷️ Mouse Pad (19 subcategories)\n",
            "     🔗 https://www.startech.com.bd/accessories/mouse-pad\n",
            "     ├─ RAZER\n",
            "     ├─ Xtrike Me\n",
            "     ├─ Asus\n",
            "     └─ ... and 16 more subcategories\n",
            "\n",
            "105. 🏷️ Speaker & Home Theater (10 subcategories)\n",
            "     🔗 https://www.startech.com.bd/accessories/speaker-and-home-theater\n",
            "     ├─ JBL\n",
            "     ├─ Bose\n",
            "     ├─ Sony\n",
            "     └─ ... and 7 more subcategories\n",
            "\n",
            "106. 🏷️ Bluetooth Speakers (19 subcategories)\n",
            "     🔗 https://www.startech.com.bd/accessories/bluetooth-speaker\n",
            "     ├─ AULA\n",
            "     ├─ Awei\n",
            "     ├─ Anker\n",
            "     └─ ... and 16 more subcategories\n",
            "\n",
            "107. 🏷️ Webcam (10 subcategories)\n",
            "     🔗 https://www.startech.com.bd/accessories/webcam\n",
            "     ├─ A4TECH\n",
            "     ├─ Logitech\n",
            "     ├─ Asus\n",
            "     └─ ... and 7 more subcategories\n",
            "\n",
            "108. 🏷️ Cable (10 subcategories)\n",
            "     🔗 https://www.startech.com.bd/cable\n",
            "     ├─ USB Cable\n",
            "     ├─ Type-C Cable\n",
            "     ├─ Audio Cable\n",
            "     └─ ... and 7 more subcategories\n",
            "\n",
            "109. 🏷️ Converter (7 subcategories)\n",
            "     🔗 https://www.startech.com.bd/converter\n",
            "     ├─ USB Converter\n",
            "     ├─ Audio Converter\n",
            "     ├─ Type-C Converter\n",
            "     └─ ... and 4 more subcategories\n",
            "\n",
            "110. 🏷️ Microphone (16 subcategories)\n",
            "     🔗 https://www.startech.com.bd/accessories/microphone\n",
            "     ├─ Gamdias\n",
            "     ├─ Maono\n",
            "     ├─ BOYA\n",
            "     └─ ... and 13 more subcategories\n",
            "\n",
            "111. 🏷️ Digital Voice Recorder (2 subcategories)\n",
            "     🔗 https://www.startech.com.bd/accessories/digital-voice-recorder\n",
            "     ├─ Sony\n",
            "     ├─ ZOOM\n",
            "\n",
            "112. 🏷️ Presenter (8 subcategories)\n",
            "     🔗 https://www.startech.com.bd/presenter\n",
            "     ├─ Logitech\n",
            "     ├─ Targus\n",
            "     ├─ Rapoo\n",
            "     └─ ... and 5 more subcategories\n",
            "\n",
            "113. 🏷️ Memory Card (15 subcategories)\n",
            "     🔗 https://www.startech.com.bd/memory-card\n",
            "     ├─ TEAM\n",
            "     ├─ PNY\n",
            "     ├─ SanDisk\n",
            "     └─ ... and 12 more subcategories\n",
            "\n",
            "114. 🏷️ Capture Card (5 subcategories)\n",
            "     🔗 https://www.startech.com.bd/capture-card\n",
            "     ├─ AVerMedia\n",
            "     ├─ ORICO\n",
            "     ├─ Ugreen\n",
            "     └─ ... and 2 more subcategories\n",
            "\n",
            "115. 🏷️ Pen Drive (8 subcategories)\n",
            "     🔗 https://www.startech.com.bd/pen-drive\n",
            "     ├─ TEAM\n",
            "     ├─ Transcend\n",
            "     ├─ TWINMOS\n",
            "     └─ ... and 5 more subcategories\n",
            "\n",
            "116. 🏷️ HDD-SSD Enclosure (6 subcategories)\n",
            "     🔗 https://www.startech.com.bd/accessories/enclosure\n",
            "     ├─ Orico\n",
            "     ├─ UGREEN\n",
            "     ├─ Transcend\n",
            "     └─ ... and 3 more subcategories\n",
            "\n",
            "117. 🏷️ Power Strip (10 subcategories)\n",
            "     🔗 https://www.startech.com.bd/power-strip\n",
            "     ├─ Deli\n",
            "     ├─ Havit\n",
            "     ├─ Huntkey\n",
            "     └─ ... and 7 more subcategories\n",
            "\n",
            "118. 🏷️ Gadget (116 subcategories)\n",
            "     🔗 https://www.startech.com.bd/gadget\n",
            "     ├─ Smart Watch\n",
            "     │  └─ Amazfit\n",
            "     │  └─ Apple\n",
            "     ├─ Smart Band\n",
            "     ├─ Earphone\n",
            "     │  └─ Apple\n",
            "     │  └─ CHARG\n",
            "     └─ ... and 14 more subcategories\n",
            "\n",
            "119. 🏷️ Smart Watch (18 subcategories)\n",
            "     🔗 https://www.startech.com.bd/gadget/smart-watch\n",
            "     ├─ Amazfit\n",
            "     ├─ Apple\n",
            "     ├─ Black Shark\n",
            "     └─ ... and 15 more subcategories\n",
            "\n",
            "120. 🏷️ Earphone (13 subcategories)\n",
            "     🔗 https://www.startech.com.bd/earphone\n",
            "     ├─ Apple\n",
            "     ├─ CHARG\n",
            "     ├─ Asus\n",
            "     └─ ... and 10 more subcategories\n",
            "\n",
            "121. 🏷️ Earbuds (23 subcategories)\n",
            "     🔗 https://www.startech.com.bd/earbuds\n",
            "     ├─ A4Tech\n",
            "     ├─ Anker\n",
            "     ├─ Apple\n",
            "     └─ ... and 20 more subcategories\n",
            "\n",
            "122. 🏷️ Neckband (12 subcategories)\n",
            "     🔗 https://www.startech.com.bd/neckband\n",
            "     ├─ Baseus\n",
            "     ├─ CHARG\n",
            "     ├─ boAt\n",
            "     └─ ... and 9 more subcategories\n",
            "\n",
            "123. 🏷️ Power Bank (13 subcategories)\n",
            "     🔗 https://www.startech.com.bd/power-bank\n",
            "     ├─ Adata\n",
            "     ├─ Anker\n",
            "     ├─ Awei\n",
            "     └─ ... and 10 more subcategories\n",
            "\n",
            "124. 🏷️ Studio Equipment (6 subcategories)\n",
            "     🔗 https://www.startech.com.bd/studio-equipment\n",
            "     ├─ Studio Microphones\n",
            "     ├─ Studio Monitors\n",
            "     ├─ Studio Headphones\n",
            "     └─ ... and 3 more subcategories\n",
            "\n",
            "125. 🏷️ Drones (6 subcategories)\n",
            "     🔗 https://www.startech.com.bd/drone\n",
            "     ├─ DJI\n",
            "     ├─ Mini Toy Drone\n",
            "     ├─ 4K Drone\n",
            "     └─ ... and 3 more subcategories\n",
            "\n",
            "126. 🏷️ Gimbal (6 subcategories)\n",
            "     🔗 https://www.startech.com.bd/gimbal\n",
            "     ├─ DJI\n",
            "     ├─ Zhiyun\n",
            "     ├─ Insta360\n",
            "     └─ ... and 3 more subcategories\n",
            "\n",
            "127. 🏷️ Calculator (2 subcategories)\n",
            "     🔗 https://www.startech.com.bd/calculator\n",
            "     ├─ Casio\n",
            "     ├─ Scientific Calculator\n",
            "\n",
            "128. 🏷️ Gaming (33 subcategories)\n",
            "     🔗 https://www.startech.com.bd/gaming\n",
            "     ├─ Gaming Chair\n",
            "     │  └─ Phantom Edge\n",
            "     │  └─ Cougar\n",
            "     ├─ Gaming Desk\n",
            "     ├─ Keyboard\n",
            "     └─ ... and 7 more subcategories\n",
            "\n",
            "129. 🏷️ Gaming Chair (5 subcategories)\n",
            "     🔗 https://www.startech.com.bd/gaming-chair\n",
            "     ├─ Phantom Edge\n",
            "     ├─ Cougar\n",
            "     ├─ GameMax\n",
            "     └─ ... and 2 more subcategories\n",
            "\n",
            "130. 🏷️ Gamepad (12 subcategories)\n",
            "     🔗 https://www.startech.com.bd/game-pad\n",
            "     ├─ Razer\n",
            "     ├─ Xbox\n",
            "     ├─ PlayStation\n",
            "     └─ ... and 9 more subcategories\n",
            "\n",
            "131. 🏷️ Gaming Console (6 subcategories)\n",
            "     🔗 https://www.startech.com.bd/gaming-console\n",
            "     ├─ PlayStation\n",
            "     ├─ Xbox\n",
            "     ├─ Nintendo\n",
            "     └─ ... and 3 more subcategories\n",
            "\n",
            "132. 🏷️ TV (20 subcategories)\n",
            "     🔗 https://www.startech.com.bd/television-shop\n",
            "     ├─ All TV\n",
            "     │  └─ Hisense\n",
            "     │  └─ Samsung\n",
            "     ├─ LED TV\n",
            "     ├─ Smart TV\n",
            "     └─ ... and 4 more subcategories\n",
            "\n",
            "133. 🏷️ All TV (13 subcategories)\n",
            "     🔗 https://www.startech.com.bd/television-startech\n",
            "     ├─ Hisense\n",
            "     ├─ Samsung\n",
            "     ├─ Sony\n",
            "     └─ ... and 10 more subcategories\n",
            "\n",
            "134. 🏷️ Appliance (72 subcategories)\n",
            "     🔗 https://www.startech.com.bd/appliance\n",
            "     ├─ AC\n",
            "     │  └─ Hisense\n",
            "     │  └─ Gree\n",
            "     ├─ Fridge\n",
            "     │  └─ Sharp\n",
            "     │  └─ Hisense\n",
            "     ├─ Washing Machine\n",
            "     │  └─ Haier\n",
            "     │  └─ Hisense\n",
            "     └─ ... and 13 more subcategories\n",
            "\n",
            "135. 🏷️ AC (18 subcategories)\n",
            "     🔗 https://www.startech.com.bd/air-conditioner\n",
            "     ├─ Hisense\n",
            "     ├─ Gree\n",
            "     ├─ Haier\n",
            "     └─ ... and 15 more subcategories\n",
            "\n",
            "136. 🏷️ Fridge (9 subcategories)\n",
            "     🔗 https://www.startech.com.bd/refrigerator\n",
            "     ├─ Sharp\n",
            "     ├─ Hisense\n",
            "     ├─ Haier\n",
            "     └─ ... and 6 more subcategories\n",
            "\n",
            "137. 🏷️ Washing Machine (9 subcategories)\n",
            "     🔗 https://www.startech.com.bd/washing-machine\n",
            "     ├─ Haier\n",
            "     ├─ Hisense\n",
            "     ├─ Sharp\n",
            "     └─ ... and 6 more subcategories\n",
            "\n",
            "138. 🏷️ Fan (3 subcategories)\n",
            "     🔗 https://www.startech.com.bd/fan\n",
            "     ├─ Charger Fan\n",
            "     ├─ Ceiling Fan\n",
            "     ├─ Stand Fan\n",
            "\n",
            "139. 🏷️ Sewing Machine (3 subcategories)\n",
            "     🔗 https://www.startech.com.bd/sewing-machine\n",
            "     ├─ JACK\n",
            "     ├─ SINGER\n",
            "     ├─ ZOJE\n",
            "\n",
            "140. 🏷️ Air Cooler (2 subcategories)\n",
            "     🔗 https://www.startech.com.bd/air-cooler\n",
            "     ├─ Gree\n",
            "     ├─ Vision\n",
            "\n",
            "141. 🏷️ Oven (6 subcategories)\n",
            "     🔗 https://www.startech.com.bd/oven\n",
            "     ├─ Walton\n",
            "     ├─ Sharp\n",
            "     ├─ Panasonic\n",
            "     └─ ... and 3 more subcategories\n",
            "\n",
            "142. 🏷️ Blender (3 subcategories)\n",
            "     🔗 https://www.startech.com.bd/blender\n",
            "     ├─ Panasonic\n",
            "     ├─ Xiaomi\n",
            "     ├─ Philips\n",
            "\n",
            "143. 🏷️ Geyser (3 subcategories)\n",
            "     🔗 https://www.startech.com.bd/geyser-water-heater\n",
            "     ├─ Midea\n",
            "     ├─ Shameem\n",
            "     ├─ Haier\n",
            "\n",
            "🛍️ STEP 2: Scraping Products from Top 10 Categories...\n",
            "--------------------------------------------------\n",
            "\n",
            "--- Processing Category 1/10: Desktop ---\n"
          ]
        },
        {
          "output_type": "display_data",
          "data": {
            "text/plain": [
              "\u001b[1;36m[\u001b[0m\u001b[36mINIT\u001b[0m\u001b[1;36m]\u001b[0m\u001b[36m...\u001b[0m\u001b[36m. → Crawl4AI \u001b[0m\u001b[1;36m0.7\u001b[0m\u001b[36m.\u001b[0m\u001b[1;36m4\u001b[0m\u001b[36m \u001b[0m\n"
            ],
            "text/html": [
              "<pre style=\"white-space:pre;overflow-x:auto;line-height:normal;font-family:Menlo,'DejaVu Sans Mono',consolas,'Courier New',monospace\"><span style=\"color: #008080; text-decoration-color: #008080; font-weight: bold\">[</span><span style=\"color: #008080; text-decoration-color: #008080\">INIT</span><span style=\"color: #008080; text-decoration-color: #008080; font-weight: bold\">]</span><span style=\"color: #008080; text-decoration-color: #008080\">.... → Crawl4AI </span><span style=\"color: #008080; text-decoration-color: #008080; font-weight: bold\">0.7</span><span style=\"color: #008080; text-decoration-color: #008080\">.</span><span style=\"color: #008080; text-decoration-color: #008080; font-weight: bold\">4</span><span style=\"color: #008080; text-decoration-color: #008080\"> </span>\n",
              "</pre>\n"
            ]
          },
          "metadata": {}
        },
        {
          "output_type": "display_data",
          "data": {
            "text/plain": [
              "\u001b[1;32m[\u001b[0m\u001b[32mFETCH\u001b[0m\u001b[1;32m]\u001b[0m\u001b[32m...\u001b[0m\u001b[32m ↓ \u001b[0m\u001b[4;32mhttps://www.startech.com.bd/desktops\u001b[0m\u001b[32m                                                                 |\u001b[0m\n",
              "\u001b[32m✓\u001b[0m\u001b[32m | ⏱: \u001b[0m\u001b[1;32m1.\u001b[0m\u001b[32m40s \u001b[0m\n"
            ],
            "text/html": [
              "<pre style=\"white-space:pre;overflow-x:auto;line-height:normal;font-family:Menlo,'DejaVu Sans Mono',consolas,'Courier New',monospace\"><span style=\"color: #008000; text-decoration-color: #008000; font-weight: bold\">[</span><span style=\"color: #008000; text-decoration-color: #008000\">FETCH</span><span style=\"color: #008000; text-decoration-color: #008000; font-weight: bold\">]</span><span style=\"color: #008000; text-decoration-color: #008000\">... ↓ </span><span style=\"color: #008000; text-decoration-color: #008000; text-decoration: underline\">https://www.startech.com.bd/desktops</span><span style=\"color: #008000; text-decoration-color: #008000\">                                                                 |</span>\n",
              "<span style=\"color: #008000; text-decoration-color: #008000\">✓ | ⏱: </span><span style=\"color: #008000; text-decoration-color: #008000; font-weight: bold\">1.</span><span style=\"color: #008000; text-decoration-color: #008000\">40s </span>\n",
              "</pre>\n"
            ]
          },
          "metadata": {}
        },
        {
          "output_type": "display_data",
          "data": {
            "text/plain": [
              "\u001b[1;32m[\u001b[0m\u001b[32mSCRAPE\u001b[0m\u001b[1;32m]\u001b[0m\u001b[32m.. ◆ \u001b[0m\u001b[4;32mhttps://www.startech.com.bd/desktops\u001b[0m\u001b[32m                                                                 |\u001b[0m\n",
              "\u001b[32m✓\u001b[0m\u001b[32m | ⏱: \u001b[0m\u001b[1;32m0.\u001b[0m\u001b[32m34s \u001b[0m\n"
            ],
            "text/html": [
              "<pre style=\"white-space:pre;overflow-x:auto;line-height:normal;font-family:Menlo,'DejaVu Sans Mono',consolas,'Courier New',monospace\"><span style=\"color: #008000; text-decoration-color: #008000; font-weight: bold\">[</span><span style=\"color: #008000; text-decoration-color: #008000\">SCRAPE</span><span style=\"color: #008000; text-decoration-color: #008000; font-weight: bold\">]</span><span style=\"color: #008000; text-decoration-color: #008000\">.. ◆ </span><span style=\"color: #008000; text-decoration-color: #008000; text-decoration: underline\">https://www.startech.com.bd/desktops</span><span style=\"color: #008000; text-decoration-color: #008000\">                                                                 |</span>\n",
              "<span style=\"color: #008000; text-decoration-color: #008000\">✓ | ⏱: </span><span style=\"color: #008000; text-decoration-color: #008000; font-weight: bold\">0.</span><span style=\"color: #008000; text-decoration-color: #008000\">34s </span>\n",
              "</pre>\n"
            ]
          },
          "metadata": {}
        },
        {
          "output_type": "display_data",
          "data": {
            "text/plain": [
              "\u001b[1;32m[\u001b[0m\u001b[32mCOMPLETE\u001b[0m\u001b[1;32m]\u001b[0m\u001b[32m ● \u001b[0m\u001b[4;32mhttps://www.startech.com.bd/desktops\u001b[0m\u001b[32m                                                                 |\u001b[0m\n",
              "\u001b[32m✓\u001b[0m\u001b[32m | ⏱: \u001b[0m\u001b[1;32m1.\u001b[0m\u001b[32m75s \u001b[0m\n"
            ],
            "text/html": [
              "<pre style=\"white-space:pre;overflow-x:auto;line-height:normal;font-family:Menlo,'DejaVu Sans Mono',consolas,'Courier New',monospace\"><span style=\"color: #008000; text-decoration-color: #008000; font-weight: bold\">[</span><span style=\"color: #008000; text-decoration-color: #008000\">COMPLETE</span><span style=\"color: #008000; text-decoration-color: #008000; font-weight: bold\">]</span><span style=\"color: #008000; text-decoration-color: #008000\"> ● </span><span style=\"color: #008000; text-decoration-color: #008000; text-decoration: underline\">https://www.startech.com.bd/desktops</span><span style=\"color: #008000; text-decoration-color: #008000\">                                                                 |</span>\n",
              "<span style=\"color: #008000; text-decoration-color: #008000\">✓ | ⏱: </span><span style=\"color: #008000; text-decoration-color: #008000; font-weight: bold\">1.</span><span style=\"color: #008000; text-decoration-color: #008000\">75s </span>\n",
              "</pre>\n"
            ]
          },
          "metadata": {}
        },
        {
          "output_type": "stream",
          "name": "stdout",
          "text": [
            "✅ Main category: 20 products\n",
            "  📂 Processing subcategory 1/5: Desktop Offer\n"
          ]
        },
        {
          "output_type": "display_data",
          "data": {
            "text/plain": [
              "\u001b[1;36m[\u001b[0m\u001b[36mINIT\u001b[0m\u001b[1;36m]\u001b[0m\u001b[36m...\u001b[0m\u001b[36m. → Crawl4AI \u001b[0m\u001b[1;36m0.7\u001b[0m\u001b[36m.\u001b[0m\u001b[1;36m4\u001b[0m\u001b[36m \u001b[0m\n"
            ],
            "text/html": [
              "<pre style=\"white-space:pre;overflow-x:auto;line-height:normal;font-family:Menlo,'DejaVu Sans Mono',consolas,'Courier New',monospace\"><span style=\"color: #008080; text-decoration-color: #008080; font-weight: bold\">[</span><span style=\"color: #008080; text-decoration-color: #008080\">INIT</span><span style=\"color: #008080; text-decoration-color: #008080; font-weight: bold\">]</span><span style=\"color: #008080; text-decoration-color: #008080\">.... → Crawl4AI </span><span style=\"color: #008080; text-decoration-color: #008080; font-weight: bold\">0.7</span><span style=\"color: #008080; text-decoration-color: #008080\">.</span><span style=\"color: #008080; text-decoration-color: #008080; font-weight: bold\">4</span><span style=\"color: #008080; text-decoration-color: #008080\"> </span>\n",
              "</pre>\n"
            ]
          },
          "metadata": {}
        },
        {
          "output_type": "display_data",
          "data": {
            "text/plain": [
              "\u001b[1;32m[\u001b[0m\u001b[32mFETCH\u001b[0m\u001b[1;32m]\u001b[0m\u001b[32m...\u001b[0m\u001b[32m ↓ \u001b[0m\u001b[4;32mhttps://www.startech.com.bd/special-pc\u001b[0m\u001b[32m                                                               |\u001b[0m\n",
              "\u001b[32m✓\u001b[0m\u001b[32m | ⏱: \u001b[0m\u001b[1;32m1.\u001b[0m\u001b[32m67s \u001b[0m\n"
            ],
            "text/html": [
              "<pre style=\"white-space:pre;overflow-x:auto;line-height:normal;font-family:Menlo,'DejaVu Sans Mono',consolas,'Courier New',monospace\"><span style=\"color: #008000; text-decoration-color: #008000; font-weight: bold\">[</span><span style=\"color: #008000; text-decoration-color: #008000\">FETCH</span><span style=\"color: #008000; text-decoration-color: #008000; font-weight: bold\">]</span><span style=\"color: #008000; text-decoration-color: #008000\">... ↓ </span><span style=\"color: #008000; text-decoration-color: #008000; text-decoration: underline\">https://www.startech.com.bd/special-pc</span><span style=\"color: #008000; text-decoration-color: #008000\">                                                               |</span>\n",
              "<span style=\"color: #008000; text-decoration-color: #008000\">✓ | ⏱: </span><span style=\"color: #008000; text-decoration-color: #008000; font-weight: bold\">1.</span><span style=\"color: #008000; text-decoration-color: #008000\">67s </span>\n",
              "</pre>\n"
            ]
          },
          "metadata": {}
        },
        {
          "output_type": "display_data",
          "data": {
            "text/plain": [
              "\u001b[1;32m[\u001b[0m\u001b[32mSCRAPE\u001b[0m\u001b[1;32m]\u001b[0m\u001b[32m.. ◆ \u001b[0m\u001b[4;32mhttps://www.startech.com.bd/special-pc\u001b[0m\u001b[32m                                                               |\u001b[0m\n",
              "\u001b[32m✓\u001b[0m\u001b[32m | ⏱: \u001b[0m\u001b[1;32m0.\u001b[0m\u001b[32m65s \u001b[0m\n"
            ],
            "text/html": [
              "<pre style=\"white-space:pre;overflow-x:auto;line-height:normal;font-family:Menlo,'DejaVu Sans Mono',consolas,'Courier New',monospace\"><span style=\"color: #008000; text-decoration-color: #008000; font-weight: bold\">[</span><span style=\"color: #008000; text-decoration-color: #008000\">SCRAPE</span><span style=\"color: #008000; text-decoration-color: #008000; font-weight: bold\">]</span><span style=\"color: #008000; text-decoration-color: #008000\">.. ◆ </span><span style=\"color: #008000; text-decoration-color: #008000; text-decoration: underline\">https://www.startech.com.bd/special-pc</span><span style=\"color: #008000; text-decoration-color: #008000\">                                                               |</span>\n",
              "<span style=\"color: #008000; text-decoration-color: #008000\">✓ | ⏱: </span><span style=\"color: #008000; text-decoration-color: #008000; font-weight: bold\">0.</span><span style=\"color: #008000; text-decoration-color: #008000\">65s </span>\n",
              "</pre>\n"
            ]
          },
          "metadata": {}
        },
        {
          "output_type": "display_data",
          "data": {
            "text/plain": [
              "\u001b[1;32m[\u001b[0m\u001b[32mCOMPLETE\u001b[0m\u001b[1;32m]\u001b[0m\u001b[32m ● \u001b[0m\u001b[4;32mhttps://www.startech.com.bd/special-pc\u001b[0m\u001b[32m                                                               |\u001b[0m\n",
              "\u001b[32m✓\u001b[0m\u001b[32m | ⏱: \u001b[0m\u001b[1;32m2.\u001b[0m\u001b[32m34s \u001b[0m\n"
            ],
            "text/html": [
              "<pre style=\"white-space:pre;overflow-x:auto;line-height:normal;font-family:Menlo,'DejaVu Sans Mono',consolas,'Courier New',monospace\"><span style=\"color: #008000; text-decoration-color: #008000; font-weight: bold\">[</span><span style=\"color: #008000; text-decoration-color: #008000\">COMPLETE</span><span style=\"color: #008000; text-decoration-color: #008000; font-weight: bold\">]</span><span style=\"color: #008000; text-decoration-color: #008000\"> ● </span><span style=\"color: #008000; text-decoration-color: #008000; text-decoration: underline\">https://www.startech.com.bd/special-pc</span><span style=\"color: #008000; text-decoration-color: #008000\">                                                               |</span>\n",
              "<span style=\"color: #008000; text-decoration-color: #008000\">✓ | ⏱: </span><span style=\"color: #008000; text-decoration-color: #008000; font-weight: bold\">2.</span><span style=\"color: #008000; text-decoration-color: #008000\">34s </span>\n",
              "</pre>\n"
            ]
          },
          "metadata": {}
        },
        {
          "output_type": "stream",
          "name": "stdout",
          "text": [
            "     ✅ 20 products\n",
            "  📂 Processing subcategory 2/5: Star PC\n"
          ]
        },
        {
          "output_type": "display_data",
          "data": {
            "text/plain": [
              "\u001b[1;36m[\u001b[0m\u001b[36mINIT\u001b[0m\u001b[1;36m]\u001b[0m\u001b[36m...\u001b[0m\u001b[36m. → Crawl4AI \u001b[0m\u001b[1;36m0.7\u001b[0m\u001b[36m.\u001b[0m\u001b[1;36m4\u001b[0m\u001b[36m \u001b[0m\n"
            ],
            "text/html": [
              "<pre style=\"white-space:pre;overflow-x:auto;line-height:normal;font-family:Menlo,'DejaVu Sans Mono',consolas,'Courier New',monospace\"><span style=\"color: #008080; text-decoration-color: #008080; font-weight: bold\">[</span><span style=\"color: #008080; text-decoration-color: #008080\">INIT</span><span style=\"color: #008080; text-decoration-color: #008080; font-weight: bold\">]</span><span style=\"color: #008080; text-decoration-color: #008080\">.... → Crawl4AI </span><span style=\"color: #008080; text-decoration-color: #008080; font-weight: bold\">0.7</span><span style=\"color: #008080; text-decoration-color: #008080\">.</span><span style=\"color: #008080; text-decoration-color: #008080; font-weight: bold\">4</span><span style=\"color: #008080; text-decoration-color: #008080\"> </span>\n",
              "</pre>\n"
            ]
          },
          "metadata": {}
        },
        {
          "output_type": "display_data",
          "data": {
            "text/plain": [
              "\u001b[1;32m[\u001b[0m\u001b[32mFETCH\u001b[0m\u001b[1;32m]\u001b[0m\u001b[32m...\u001b[0m\u001b[32m ↓ \u001b[0m\u001b[4;32mhttps://www.startech.com.bd/desktops/star-pc\u001b[0m\u001b[32m                                                         |\u001b[0m\n",
              "\u001b[32m✓\u001b[0m\u001b[32m | ⏱: \u001b[0m\u001b[1;32m1.\u001b[0m\u001b[32m63s \u001b[0m\n"
            ],
            "text/html": [
              "<pre style=\"white-space:pre;overflow-x:auto;line-height:normal;font-family:Menlo,'DejaVu Sans Mono',consolas,'Courier New',monospace\"><span style=\"color: #008000; text-decoration-color: #008000; font-weight: bold\">[</span><span style=\"color: #008000; text-decoration-color: #008000\">FETCH</span><span style=\"color: #008000; text-decoration-color: #008000; font-weight: bold\">]</span><span style=\"color: #008000; text-decoration-color: #008000\">... ↓ </span><span style=\"color: #008000; text-decoration-color: #008000; text-decoration: underline\">https://www.startech.com.bd/desktops/star-pc</span><span style=\"color: #008000; text-decoration-color: #008000\">                                                         |</span>\n",
              "<span style=\"color: #008000; text-decoration-color: #008000\">✓ | ⏱: </span><span style=\"color: #008000; text-decoration-color: #008000; font-weight: bold\">1.</span><span style=\"color: #008000; text-decoration-color: #008000\">63s </span>\n",
              "</pre>\n"
            ]
          },
          "metadata": {}
        },
        {
          "output_type": "display_data",
          "data": {
            "text/plain": [
              "\u001b[1;32m[\u001b[0m\u001b[32mSCRAPE\u001b[0m\u001b[1;32m]\u001b[0m\u001b[32m.. ◆ \u001b[0m\u001b[4;32mhttps://www.startech.com.bd/desktops/star-pc\u001b[0m\u001b[32m                                                         |\u001b[0m\n",
              "\u001b[32m✓\u001b[0m\u001b[32m | ⏱: \u001b[0m\u001b[1;32m0.\u001b[0m\u001b[32m30s \u001b[0m\n"
            ],
            "text/html": [
              "<pre style=\"white-space:pre;overflow-x:auto;line-height:normal;font-family:Menlo,'DejaVu Sans Mono',consolas,'Courier New',monospace\"><span style=\"color: #008000; text-decoration-color: #008000; font-weight: bold\">[</span><span style=\"color: #008000; text-decoration-color: #008000\">SCRAPE</span><span style=\"color: #008000; text-decoration-color: #008000; font-weight: bold\">]</span><span style=\"color: #008000; text-decoration-color: #008000\">.. ◆ </span><span style=\"color: #008000; text-decoration-color: #008000; text-decoration: underline\">https://www.startech.com.bd/desktops/star-pc</span><span style=\"color: #008000; text-decoration-color: #008000\">                                                         |</span>\n",
              "<span style=\"color: #008000; text-decoration-color: #008000\">✓ | ⏱: </span><span style=\"color: #008000; text-decoration-color: #008000; font-weight: bold\">0.</span><span style=\"color: #008000; text-decoration-color: #008000\">30s </span>\n",
              "</pre>\n"
            ]
          },
          "metadata": {}
        },
        {
          "output_type": "display_data",
          "data": {
            "text/plain": [
              "\u001b[1;32m[\u001b[0m\u001b[32mCOMPLETE\u001b[0m\u001b[1;32m]\u001b[0m\u001b[32m ● \u001b[0m\u001b[4;32mhttps://www.startech.com.bd/desktops/star-pc\u001b[0m\u001b[32m                                                         |\u001b[0m\n",
              "\u001b[32m✓\u001b[0m\u001b[32m | ⏱: \u001b[0m\u001b[1;32m1.\u001b[0m\u001b[32m95s \u001b[0m\n"
            ],
            "text/html": [
              "<pre style=\"white-space:pre;overflow-x:auto;line-height:normal;font-family:Menlo,'DejaVu Sans Mono',consolas,'Courier New',monospace\"><span style=\"color: #008000; text-decoration-color: #008000; font-weight: bold\">[</span><span style=\"color: #008000; text-decoration-color: #008000\">COMPLETE</span><span style=\"color: #008000; text-decoration-color: #008000; font-weight: bold\">]</span><span style=\"color: #008000; text-decoration-color: #008000\"> ● </span><span style=\"color: #008000; text-decoration-color: #008000; text-decoration: underline\">https://www.startech.com.bd/desktops/star-pc</span><span style=\"color: #008000; text-decoration-color: #008000\">                                                         |</span>\n",
              "<span style=\"color: #008000; text-decoration-color: #008000\">✓ | ⏱: </span><span style=\"color: #008000; text-decoration-color: #008000; font-weight: bold\">1.</span><span style=\"color: #008000; text-decoration-color: #008000\">95s </span>\n",
              "</pre>\n"
            ]
          },
          "metadata": {}
        },
        {
          "output_type": "stream",
          "name": "stdout",
          "text": [
            "     ✅ 10 products\n",
            "  📂 Processing subcategory 3/5: Gaming PC\n"
          ]
        },
        {
          "output_type": "display_data",
          "data": {
            "text/plain": [
              "\u001b[1;36m[\u001b[0m\u001b[36mINIT\u001b[0m\u001b[1;36m]\u001b[0m\u001b[36m...\u001b[0m\u001b[36m. → Crawl4AI \u001b[0m\u001b[1;36m0.7\u001b[0m\u001b[36m.\u001b[0m\u001b[1;36m4\u001b[0m\u001b[36m \u001b[0m\n"
            ],
            "text/html": [
              "<pre style=\"white-space:pre;overflow-x:auto;line-height:normal;font-family:Menlo,'DejaVu Sans Mono',consolas,'Courier New',monospace\"><span style=\"color: #008080; text-decoration-color: #008080; font-weight: bold\">[</span><span style=\"color: #008080; text-decoration-color: #008080\">INIT</span><span style=\"color: #008080; text-decoration-color: #008080; font-weight: bold\">]</span><span style=\"color: #008080; text-decoration-color: #008080\">.... → Crawl4AI </span><span style=\"color: #008080; text-decoration-color: #008080; font-weight: bold\">0.7</span><span style=\"color: #008080; text-decoration-color: #008080\">.</span><span style=\"color: #008080; text-decoration-color: #008080; font-weight: bold\">4</span><span style=\"color: #008080; text-decoration-color: #008080\"> </span>\n",
              "</pre>\n"
            ]
          },
          "metadata": {}
        },
        {
          "output_type": "display_data",
          "data": {
            "text/plain": [
              "\u001b[1;32m[\u001b[0m\u001b[32mFETCH\u001b[0m\u001b[1;32m]\u001b[0m\u001b[32m...\u001b[0m\u001b[32m ↓ \u001b[0m\u001b[4;32mhttps://www.startech.com.bd/desktops/gaming-pc\u001b[0m\u001b[32m                                                       |\u001b[0m\n",
              "\u001b[32m✓\u001b[0m\u001b[32m | ⏱: \u001b[0m\u001b[1;32m1.\u001b[0m\u001b[32m45s \u001b[0m\n"
            ],
            "text/html": [
              "<pre style=\"white-space:pre;overflow-x:auto;line-height:normal;font-family:Menlo,'DejaVu Sans Mono',consolas,'Courier New',monospace\"><span style=\"color: #008000; text-decoration-color: #008000; font-weight: bold\">[</span><span style=\"color: #008000; text-decoration-color: #008000\">FETCH</span><span style=\"color: #008000; text-decoration-color: #008000; font-weight: bold\">]</span><span style=\"color: #008000; text-decoration-color: #008000\">... ↓ </span><span style=\"color: #008000; text-decoration-color: #008000; text-decoration: underline\">https://www.startech.com.bd/desktops/gaming-pc</span><span style=\"color: #008000; text-decoration-color: #008000\">                                                       |</span>\n",
              "<span style=\"color: #008000; text-decoration-color: #008000\">✓ | ⏱: </span><span style=\"color: #008000; text-decoration-color: #008000; font-weight: bold\">1.</span><span style=\"color: #008000; text-decoration-color: #008000\">45s </span>\n",
              "</pre>\n"
            ]
          },
          "metadata": {}
        },
        {
          "output_type": "display_data",
          "data": {
            "text/plain": [
              "\u001b[1;32m[\u001b[0m\u001b[32mSCRAPE\u001b[0m\u001b[1;32m]\u001b[0m\u001b[32m.. ◆ \u001b[0m\u001b[4;32mhttps://www.startech.com.bd/desktops/gaming-pc\u001b[0m\u001b[32m                                                       |\u001b[0m\n",
              "\u001b[32m✓\u001b[0m\u001b[32m | ⏱: \u001b[0m\u001b[1;33m0.\u001b[0m\u001b[33m36\u001b[0m\u001b[32ms \u001b[0m\n"
            ],
            "text/html": [
              "<pre style=\"white-space:pre;overflow-x:auto;line-height:normal;font-family:Menlo,'DejaVu Sans Mono',consolas,'Courier New',monospace\"><span style=\"color: #008000; text-decoration-color: #008000; font-weight: bold\">[</span><span style=\"color: #008000; text-decoration-color: #008000\">SCRAPE</span><span style=\"color: #008000; text-decoration-color: #008000; font-weight: bold\">]</span><span style=\"color: #008000; text-decoration-color: #008000\">.. ◆ </span><span style=\"color: #008000; text-decoration-color: #008000; text-decoration: underline\">https://www.startech.com.bd/desktops/gaming-pc</span><span style=\"color: #008000; text-decoration-color: #008000\">                                                       |</span>\n",
              "<span style=\"color: #008000; text-decoration-color: #008000\">✓ | ⏱: </span><span style=\"color: #808000; text-decoration-color: #808000; font-weight: bold\">0.</span><span style=\"color: #808000; text-decoration-color: #808000\">36</span><span style=\"color: #008000; text-decoration-color: #008000\">s </span>\n",
              "</pre>\n"
            ]
          },
          "metadata": {}
        },
        {
          "output_type": "display_data",
          "data": {
            "text/plain": [
              "\u001b[1;32m[\u001b[0m\u001b[32mCOMPLETE\u001b[0m\u001b[1;32m]\u001b[0m\u001b[32m ● \u001b[0m\u001b[4;32mhttps://www.startech.com.bd/desktops/gaming-pc\u001b[0m\u001b[32m                                                       |\u001b[0m\n",
              "\u001b[32m✓\u001b[0m\u001b[32m | ⏱: \u001b[0m\u001b[1;32m1.\u001b[0m\u001b[32m83s \u001b[0m\n"
            ],
            "text/html": [
              "<pre style=\"white-space:pre;overflow-x:auto;line-height:normal;font-family:Menlo,'DejaVu Sans Mono',consolas,'Courier New',monospace\"><span style=\"color: #008000; text-decoration-color: #008000; font-weight: bold\">[</span><span style=\"color: #008000; text-decoration-color: #008000\">COMPLETE</span><span style=\"color: #008000; text-decoration-color: #008000; font-weight: bold\">]</span><span style=\"color: #008000; text-decoration-color: #008000\"> ● </span><span style=\"color: #008000; text-decoration-color: #008000; text-decoration: underline\">https://www.startech.com.bd/desktops/gaming-pc</span><span style=\"color: #008000; text-decoration-color: #008000\">                                                       |</span>\n",
              "<span style=\"color: #008000; text-decoration-color: #008000\">✓ | ⏱: </span><span style=\"color: #008000; text-decoration-color: #008000; font-weight: bold\">1.</span><span style=\"color: #008000; text-decoration-color: #008000\">83s </span>\n",
              "</pre>\n"
            ]
          },
          "metadata": {}
        },
        {
          "output_type": "stream",
          "name": "stdout",
          "text": [
            "     ✅ 20 products\n",
            "  📂 Processing subcategory 4/5: Brand PC\n"
          ]
        },
        {
          "output_type": "display_data",
          "data": {
            "text/plain": [
              "\u001b[1;36m[\u001b[0m\u001b[36mINIT\u001b[0m\u001b[1;36m]\u001b[0m\u001b[36m...\u001b[0m\u001b[36m. → Crawl4AI \u001b[0m\u001b[1;36m0.7\u001b[0m\u001b[36m.\u001b[0m\u001b[1;36m4\u001b[0m\u001b[36m \u001b[0m\n"
            ],
            "text/html": [
              "<pre style=\"white-space:pre;overflow-x:auto;line-height:normal;font-family:Menlo,'DejaVu Sans Mono',consolas,'Courier New',monospace\"><span style=\"color: #008080; text-decoration-color: #008080; font-weight: bold\">[</span><span style=\"color: #008080; text-decoration-color: #008080\">INIT</span><span style=\"color: #008080; text-decoration-color: #008080; font-weight: bold\">]</span><span style=\"color: #008080; text-decoration-color: #008080\">.... → Crawl4AI </span><span style=\"color: #008080; text-decoration-color: #008080; font-weight: bold\">0.7</span><span style=\"color: #008080; text-decoration-color: #008080\">.</span><span style=\"color: #008080; text-decoration-color: #008080; font-weight: bold\">4</span><span style=\"color: #008080; text-decoration-color: #008080\"> </span>\n",
              "</pre>\n"
            ]
          },
          "metadata": {}
        },
        {
          "output_type": "display_data",
          "data": {
            "text/plain": [
              "\u001b[1;32m[\u001b[0m\u001b[32mFETCH\u001b[0m\u001b[1;32m]\u001b[0m\u001b[32m...\u001b[0m\u001b[32m ↓ \u001b[0m\u001b[4;32mhttps://www.startech.com.bd/desktops/brand-pc\u001b[0m\u001b[32m                                                        |\u001b[0m\n",
              "\u001b[32m✓\u001b[0m\u001b[32m | ⏱: \u001b[0m\u001b[1;32m1.\u001b[0m\u001b[32m28s \u001b[0m\n"
            ],
            "text/html": [
              "<pre style=\"white-space:pre;overflow-x:auto;line-height:normal;font-family:Menlo,'DejaVu Sans Mono',consolas,'Courier New',monospace\"><span style=\"color: #008000; text-decoration-color: #008000; font-weight: bold\">[</span><span style=\"color: #008000; text-decoration-color: #008000\">FETCH</span><span style=\"color: #008000; text-decoration-color: #008000; font-weight: bold\">]</span><span style=\"color: #008000; text-decoration-color: #008000\">... ↓ </span><span style=\"color: #008000; text-decoration-color: #008000; text-decoration: underline\">https://www.startech.com.bd/desktops/brand-pc</span><span style=\"color: #008000; text-decoration-color: #008000\">                                                        |</span>\n",
              "<span style=\"color: #008000; text-decoration-color: #008000\">✓ | ⏱: </span><span style=\"color: #008000; text-decoration-color: #008000; font-weight: bold\">1.</span><span style=\"color: #008000; text-decoration-color: #008000\">28s </span>\n",
              "</pre>\n"
            ]
          },
          "metadata": {}
        },
        {
          "output_type": "display_data",
          "data": {
            "text/plain": [
              "\u001b[1;32m[\u001b[0m\u001b[32mSCRAPE\u001b[0m\u001b[1;32m]\u001b[0m\u001b[32m.. ◆ \u001b[0m\u001b[4;32mhttps://www.startech.com.bd/desktops/brand-pc\u001b[0m\u001b[32m                                                        |\u001b[0m\n",
              "\u001b[32m✓\u001b[0m\u001b[32m | ⏱: \u001b[0m\u001b[1;32m0.\u001b[0m\u001b[32m30s \u001b[0m\n"
            ],
            "text/html": [
              "<pre style=\"white-space:pre;overflow-x:auto;line-height:normal;font-family:Menlo,'DejaVu Sans Mono',consolas,'Courier New',monospace\"><span style=\"color: #008000; text-decoration-color: #008000; font-weight: bold\">[</span><span style=\"color: #008000; text-decoration-color: #008000\">SCRAPE</span><span style=\"color: #008000; text-decoration-color: #008000; font-weight: bold\">]</span><span style=\"color: #008000; text-decoration-color: #008000\">.. ◆ </span><span style=\"color: #008000; text-decoration-color: #008000; text-decoration: underline\">https://www.startech.com.bd/desktops/brand-pc</span><span style=\"color: #008000; text-decoration-color: #008000\">                                                        |</span>\n",
              "<span style=\"color: #008000; text-decoration-color: #008000\">✓ | ⏱: </span><span style=\"color: #008000; text-decoration-color: #008000; font-weight: bold\">0.</span><span style=\"color: #008000; text-decoration-color: #008000\">30s </span>\n",
              "</pre>\n"
            ]
          },
          "metadata": {}
        },
        {
          "output_type": "display_data",
          "data": {
            "text/plain": [
              "\u001b[1;32m[\u001b[0m\u001b[32mCOMPLETE\u001b[0m\u001b[1;32m]\u001b[0m\u001b[32m ● \u001b[0m\u001b[4;32mhttps://www.startech.com.bd/desktops/brand-pc\u001b[0m\u001b[32m                                                        |\u001b[0m\n",
              "\u001b[32m✓\u001b[0m\u001b[32m | ⏱: \u001b[0m\u001b[1;32m1.\u001b[0m\u001b[32m59s \u001b[0m\n"
            ],
            "text/html": [
              "<pre style=\"white-space:pre;overflow-x:auto;line-height:normal;font-family:Menlo,'DejaVu Sans Mono',consolas,'Courier New',monospace\"><span style=\"color: #008000; text-decoration-color: #008000; font-weight: bold\">[</span><span style=\"color: #008000; text-decoration-color: #008000\">COMPLETE</span><span style=\"color: #008000; text-decoration-color: #008000; font-weight: bold\">]</span><span style=\"color: #008000; text-decoration-color: #008000\"> ● </span><span style=\"color: #008000; text-decoration-color: #008000; text-decoration: underline\">https://www.startech.com.bd/desktops/brand-pc</span><span style=\"color: #008000; text-decoration-color: #008000\">                                                        |</span>\n",
              "<span style=\"color: #008000; text-decoration-color: #008000\">✓ | ⏱: </span><span style=\"color: #008000; text-decoration-color: #008000; font-weight: bold\">1.</span><span style=\"color: #008000; text-decoration-color: #008000\">59s </span>\n",
              "</pre>\n"
            ]
          },
          "metadata": {}
        },
        {
          "output_type": "stream",
          "name": "stdout",
          "text": [
            "     ✅ 20 products\n",
            "  📂 Processing subcategory 5/5: All-in-One PC\n"
          ]
        },
        {
          "output_type": "display_data",
          "data": {
            "text/plain": [
              "\u001b[1;36m[\u001b[0m\u001b[36mINIT\u001b[0m\u001b[1;36m]\u001b[0m\u001b[36m...\u001b[0m\u001b[36m. → Crawl4AI \u001b[0m\u001b[1;36m0.7\u001b[0m\u001b[36m.\u001b[0m\u001b[1;36m4\u001b[0m\u001b[36m \u001b[0m\n"
            ],
            "text/html": [
              "<pre style=\"white-space:pre;overflow-x:auto;line-height:normal;font-family:Menlo,'DejaVu Sans Mono',consolas,'Courier New',monospace\"><span style=\"color: #008080; text-decoration-color: #008080; font-weight: bold\">[</span><span style=\"color: #008080; text-decoration-color: #008080\">INIT</span><span style=\"color: #008080; text-decoration-color: #008080; font-weight: bold\">]</span><span style=\"color: #008080; text-decoration-color: #008080\">.... → Crawl4AI </span><span style=\"color: #008080; text-decoration-color: #008080; font-weight: bold\">0.7</span><span style=\"color: #008080; text-decoration-color: #008080\">.</span><span style=\"color: #008080; text-decoration-color: #008080; font-weight: bold\">4</span><span style=\"color: #008080; text-decoration-color: #008080\"> </span>\n",
              "</pre>\n"
            ]
          },
          "metadata": {}
        },
        {
          "output_type": "display_data",
          "data": {
            "text/plain": [
              "\u001b[1;32m[\u001b[0m\u001b[32mFETCH\u001b[0m\u001b[1;32m]\u001b[0m\u001b[32m...\u001b[0m\u001b[32m ↓ \u001b[0m\u001b[4;32mhttps://www.startech.com.bd/desktops/all-in-one-pc\u001b[0m\u001b[32m                                                   |\u001b[0m\n",
              "\u001b[32m✓\u001b[0m\u001b[32m | ⏱: \u001b[0m\u001b[1;32m1.\u001b[0m\u001b[32m52s \u001b[0m\n"
            ],
            "text/html": [
              "<pre style=\"white-space:pre;overflow-x:auto;line-height:normal;font-family:Menlo,'DejaVu Sans Mono',consolas,'Courier New',monospace\"><span style=\"color: #008000; text-decoration-color: #008000; font-weight: bold\">[</span><span style=\"color: #008000; text-decoration-color: #008000\">FETCH</span><span style=\"color: #008000; text-decoration-color: #008000; font-weight: bold\">]</span><span style=\"color: #008000; text-decoration-color: #008000\">... ↓ </span><span style=\"color: #008000; text-decoration-color: #008000; text-decoration: underline\">https://www.startech.com.bd/desktops/all-in-one-pc</span><span style=\"color: #008000; text-decoration-color: #008000\">                                                   |</span>\n",
              "<span style=\"color: #008000; text-decoration-color: #008000\">✓ | ⏱: </span><span style=\"color: #008000; text-decoration-color: #008000; font-weight: bold\">1.</span><span style=\"color: #008000; text-decoration-color: #008000\">52s </span>\n",
              "</pre>\n"
            ]
          },
          "metadata": {}
        },
        {
          "output_type": "display_data",
          "data": {
            "text/plain": [
              "\u001b[1;32m[\u001b[0m\u001b[32mSCRAPE\u001b[0m\u001b[1;32m]\u001b[0m\u001b[32m.. ◆ \u001b[0m\u001b[4;32mhttps://www.startech.com.bd/desktops/all-in-one-pc\u001b[0m\u001b[32m                                                   |\u001b[0m\n",
              "\u001b[32m✓\u001b[0m\u001b[32m | ⏱: \u001b[0m\u001b[1;32m0.\u001b[0m\u001b[32m32s \u001b[0m\n"
            ],
            "text/html": [
              "<pre style=\"white-space:pre;overflow-x:auto;line-height:normal;font-family:Menlo,'DejaVu Sans Mono',consolas,'Courier New',monospace\"><span style=\"color: #008000; text-decoration-color: #008000; font-weight: bold\">[</span><span style=\"color: #008000; text-decoration-color: #008000\">SCRAPE</span><span style=\"color: #008000; text-decoration-color: #008000; font-weight: bold\">]</span><span style=\"color: #008000; text-decoration-color: #008000\">.. ◆ </span><span style=\"color: #008000; text-decoration-color: #008000; text-decoration: underline\">https://www.startech.com.bd/desktops/all-in-one-pc</span><span style=\"color: #008000; text-decoration-color: #008000\">                                                   |</span>\n",
              "<span style=\"color: #008000; text-decoration-color: #008000\">✓ | ⏱: </span><span style=\"color: #008000; text-decoration-color: #008000; font-weight: bold\">0.</span><span style=\"color: #008000; text-decoration-color: #008000\">32s </span>\n",
              "</pre>\n"
            ]
          },
          "metadata": {}
        },
        {
          "output_type": "display_data",
          "data": {
            "text/plain": [
              "\u001b[1;32m[\u001b[0m\u001b[32mCOMPLETE\u001b[0m\u001b[1;32m]\u001b[0m\u001b[32m ● \u001b[0m\u001b[4;32mhttps://www.startech.com.bd/desktops/all-in-one-pc\u001b[0m\u001b[32m                                                   |\u001b[0m\n",
              "\u001b[32m✓\u001b[0m\u001b[32m | ⏱: \u001b[0m\u001b[1;32m1.\u001b[0m\u001b[32m85s \u001b[0m\n"
            ],
            "text/html": [
              "<pre style=\"white-space:pre;overflow-x:auto;line-height:normal;font-family:Menlo,'DejaVu Sans Mono',consolas,'Courier New',monospace\"><span style=\"color: #008000; text-decoration-color: #008000; font-weight: bold\">[</span><span style=\"color: #008000; text-decoration-color: #008000\">COMPLETE</span><span style=\"color: #008000; text-decoration-color: #008000; font-weight: bold\">]</span><span style=\"color: #008000; text-decoration-color: #008000\"> ● </span><span style=\"color: #008000; text-decoration-color: #008000; text-decoration: underline\">https://www.startech.com.bd/desktops/all-in-one-pc</span><span style=\"color: #008000; text-decoration-color: #008000\">                                                   |</span>\n",
              "<span style=\"color: #008000; text-decoration-color: #008000\">✓ | ⏱: </span><span style=\"color: #008000; text-decoration-color: #008000; font-weight: bold\">1.</span><span style=\"color: #008000; text-decoration-color: #008000\">85s </span>\n",
              "</pre>\n"
            ]
          },
          "metadata": {}
        },
        {
          "output_type": "stream",
          "name": "stdout",
          "text": [
            "     ✅ 20 products\n",
            "📊 Total products so far: 110\n",
            "\n",
            "--- Processing Category 2/10: Star PC ---\n"
          ]
        },
        {
          "output_type": "display_data",
          "data": {
            "text/plain": [
              "\u001b[1;36m[\u001b[0m\u001b[36mINIT\u001b[0m\u001b[1;36m]\u001b[0m\u001b[36m...\u001b[0m\u001b[36m. → Crawl4AI \u001b[0m\u001b[1;36m0.7\u001b[0m\u001b[36m.\u001b[0m\u001b[1;36m4\u001b[0m\u001b[36m \u001b[0m\n"
            ],
            "text/html": [
              "<pre style=\"white-space:pre;overflow-x:auto;line-height:normal;font-family:Menlo,'DejaVu Sans Mono',consolas,'Courier New',monospace\"><span style=\"color: #008080; text-decoration-color: #008080; font-weight: bold\">[</span><span style=\"color: #008080; text-decoration-color: #008080\">INIT</span><span style=\"color: #008080; text-decoration-color: #008080; font-weight: bold\">]</span><span style=\"color: #008080; text-decoration-color: #008080\">.... → Crawl4AI </span><span style=\"color: #008080; text-decoration-color: #008080; font-weight: bold\">0.7</span><span style=\"color: #008080; text-decoration-color: #008080\">.</span><span style=\"color: #008080; text-decoration-color: #008080; font-weight: bold\">4</span><span style=\"color: #008080; text-decoration-color: #008080\"> </span>\n",
              "</pre>\n"
            ]
          },
          "metadata": {}
        },
        {
          "output_type": "display_data",
          "data": {
            "text/plain": [
              "\u001b[1;32m[\u001b[0m\u001b[32mFETCH\u001b[0m\u001b[1;32m]\u001b[0m\u001b[32m...\u001b[0m\u001b[32m ↓ \u001b[0m\u001b[4;32mhttps://www.startech.com.bd/desktops/star-pc\u001b[0m\u001b[32m                                                         |\u001b[0m\n",
              "\u001b[32m✓\u001b[0m\u001b[32m | ⏱: \u001b[0m\u001b[1;32m1.\u001b[0m\u001b[32m38s \u001b[0m\n"
            ],
            "text/html": [
              "<pre style=\"white-space:pre;overflow-x:auto;line-height:normal;font-family:Menlo,'DejaVu Sans Mono',consolas,'Courier New',monospace\"><span style=\"color: #008000; text-decoration-color: #008000; font-weight: bold\">[</span><span style=\"color: #008000; text-decoration-color: #008000\">FETCH</span><span style=\"color: #008000; text-decoration-color: #008000; font-weight: bold\">]</span><span style=\"color: #008000; text-decoration-color: #008000\">... ↓ </span><span style=\"color: #008000; text-decoration-color: #008000; text-decoration: underline\">https://www.startech.com.bd/desktops/star-pc</span><span style=\"color: #008000; text-decoration-color: #008000\">                                                         |</span>\n",
              "<span style=\"color: #008000; text-decoration-color: #008000\">✓ | ⏱: </span><span style=\"color: #008000; text-decoration-color: #008000; font-weight: bold\">1.</span><span style=\"color: #008000; text-decoration-color: #008000\">38s </span>\n",
              "</pre>\n"
            ]
          },
          "metadata": {}
        },
        {
          "output_type": "display_data",
          "data": {
            "text/plain": [
              "\u001b[1;32m[\u001b[0m\u001b[32mSCRAPE\u001b[0m\u001b[1;32m]\u001b[0m\u001b[32m.. ◆ \u001b[0m\u001b[4;32mhttps://www.startech.com.bd/desktops/star-pc\u001b[0m\u001b[32m                                                         |\u001b[0m\n",
              "\u001b[32m✓\u001b[0m\u001b[32m | ⏱: \u001b[0m\u001b[1;33m0.\u001b[0m\u001b[33m3\u001b[0m\u001b[32m0s \u001b[0m\n"
            ],
            "text/html": [
              "<pre style=\"white-space:pre;overflow-x:auto;line-height:normal;font-family:Menlo,'DejaVu Sans Mono',consolas,'Courier New',monospace\"><span style=\"color: #008000; text-decoration-color: #008000; font-weight: bold\">[</span><span style=\"color: #008000; text-decoration-color: #008000\">SCRAPE</span><span style=\"color: #008000; text-decoration-color: #008000; font-weight: bold\">]</span><span style=\"color: #008000; text-decoration-color: #008000\">.. ◆ </span><span style=\"color: #008000; text-decoration-color: #008000; text-decoration: underline\">https://www.startech.com.bd/desktops/star-pc</span><span style=\"color: #008000; text-decoration-color: #008000\">                                                         |</span>\n",
              "<span style=\"color: #008000; text-decoration-color: #008000\">✓ | ⏱: </span><span style=\"color: #808000; text-decoration-color: #808000; font-weight: bold\">0.</span><span style=\"color: #808000; text-decoration-color: #808000\">3</span><span style=\"color: #008000; text-decoration-color: #008000\">0s </span>\n",
              "</pre>\n"
            ]
          },
          "metadata": {}
        },
        {
          "output_type": "display_data",
          "data": {
            "text/plain": [
              "\u001b[1;32m[\u001b[0m\u001b[32mCOMPLETE\u001b[0m\u001b[1;32m]\u001b[0m\u001b[32m ● \u001b[0m\u001b[4;32mhttps://www.startech.com.bd/desktops/star-pc\u001b[0m\u001b[32m                                                         |\u001b[0m\n",
              "\u001b[32m✓\u001b[0m\u001b[32m | ⏱: \u001b[0m\u001b[1;32m1.\u001b[0m\u001b[32m69s \u001b[0m\n"
            ],
            "text/html": [
              "<pre style=\"white-space:pre;overflow-x:auto;line-height:normal;font-family:Menlo,'DejaVu Sans Mono',consolas,'Courier New',monospace\"><span style=\"color: #008000; text-decoration-color: #008000; font-weight: bold\">[</span><span style=\"color: #008000; text-decoration-color: #008000\">COMPLETE</span><span style=\"color: #008000; text-decoration-color: #008000; font-weight: bold\">]</span><span style=\"color: #008000; text-decoration-color: #008000\"> ● </span><span style=\"color: #008000; text-decoration-color: #008000; text-decoration: underline\">https://www.startech.com.bd/desktops/star-pc</span><span style=\"color: #008000; text-decoration-color: #008000\">                                                         |</span>\n",
              "<span style=\"color: #008000; text-decoration-color: #008000\">✓ | ⏱: </span><span style=\"color: #008000; text-decoration-color: #008000; font-weight: bold\">1.</span><span style=\"color: #008000; text-decoration-color: #008000\">69s </span>\n",
              "</pre>\n"
            ]
          },
          "metadata": {}
        },
        {
          "output_type": "stream",
          "name": "stdout",
          "text": [
            "✅ Main category: 10 products\n",
            "  📂 Processing subcategory 1/5: Intel PC\n"
          ]
        },
        {
          "output_type": "display_data",
          "data": {
            "text/plain": [
              "\u001b[1;36m[\u001b[0m\u001b[36mINIT\u001b[0m\u001b[1;36m]\u001b[0m\u001b[36m...\u001b[0m\u001b[36m. → Crawl4AI \u001b[0m\u001b[1;36m0.7\u001b[0m\u001b[36m.\u001b[0m\u001b[1;36m4\u001b[0m\u001b[36m \u001b[0m\n"
            ],
            "text/html": [
              "<pre style=\"white-space:pre;overflow-x:auto;line-height:normal;font-family:Menlo,'DejaVu Sans Mono',consolas,'Courier New',monospace\"><span style=\"color: #008080; text-decoration-color: #008080; font-weight: bold\">[</span><span style=\"color: #008080; text-decoration-color: #008080\">INIT</span><span style=\"color: #008080; text-decoration-color: #008080; font-weight: bold\">]</span><span style=\"color: #008080; text-decoration-color: #008080\">.... → Crawl4AI </span><span style=\"color: #008080; text-decoration-color: #008080; font-weight: bold\">0.7</span><span style=\"color: #008080; text-decoration-color: #008080\">.</span><span style=\"color: #008080; text-decoration-color: #008080; font-weight: bold\">4</span><span style=\"color: #008080; text-decoration-color: #008080\"> </span>\n",
              "</pre>\n"
            ]
          },
          "metadata": {}
        },
        {
          "output_type": "display_data",
          "data": {
            "text/plain": [
              "\u001b[1;32m[\u001b[0m\u001b[32mFETCH\u001b[0m\u001b[1;32m]\u001b[0m\u001b[32m...\u001b[0m\u001b[32m ↓ \u001b[0m\u001b[4;32mhttps://www.startech.com.bd/intel-pc\u001b[0m\u001b[32m                                                                 |\u001b[0m\n",
              "\u001b[32m✓\u001b[0m\u001b[32m | ⏱: \u001b[0m\u001b[1;32m1.\u001b[0m\u001b[32m36s \u001b[0m\n"
            ],
            "text/html": [
              "<pre style=\"white-space:pre;overflow-x:auto;line-height:normal;font-family:Menlo,'DejaVu Sans Mono',consolas,'Courier New',monospace\"><span style=\"color: #008000; text-decoration-color: #008000; font-weight: bold\">[</span><span style=\"color: #008000; text-decoration-color: #008000\">FETCH</span><span style=\"color: #008000; text-decoration-color: #008000; font-weight: bold\">]</span><span style=\"color: #008000; text-decoration-color: #008000\">... ↓ </span><span style=\"color: #008000; text-decoration-color: #008000; text-decoration: underline\">https://www.startech.com.bd/intel-pc</span><span style=\"color: #008000; text-decoration-color: #008000\">                                                                 |</span>\n",
              "<span style=\"color: #008000; text-decoration-color: #008000\">✓ | ⏱: </span><span style=\"color: #008000; text-decoration-color: #008000; font-weight: bold\">1.</span><span style=\"color: #008000; text-decoration-color: #008000\">36s </span>\n",
              "</pre>\n"
            ]
          },
          "metadata": {}
        },
        {
          "output_type": "display_data",
          "data": {
            "text/plain": [
              "\u001b[1;32m[\u001b[0m\u001b[32mSCRAPE\u001b[0m\u001b[1;32m]\u001b[0m\u001b[32m.. ◆ \u001b[0m\u001b[4;32mhttps://www.startech.com.bd/intel-pc\u001b[0m\u001b[32m                                                                 |\u001b[0m\n",
              "\u001b[32m✓\u001b[0m\u001b[32m | ⏱: \u001b[0m\u001b[1;32m0.\u001b[0m\u001b[32m32s \u001b[0m\n"
            ],
            "text/html": [
              "<pre style=\"white-space:pre;overflow-x:auto;line-height:normal;font-family:Menlo,'DejaVu Sans Mono',consolas,'Courier New',monospace\"><span style=\"color: #008000; text-decoration-color: #008000; font-weight: bold\">[</span><span style=\"color: #008000; text-decoration-color: #008000\">SCRAPE</span><span style=\"color: #008000; text-decoration-color: #008000; font-weight: bold\">]</span><span style=\"color: #008000; text-decoration-color: #008000\">.. ◆ </span><span style=\"color: #008000; text-decoration-color: #008000; text-decoration: underline\">https://www.startech.com.bd/intel-pc</span><span style=\"color: #008000; text-decoration-color: #008000\">                                                                 |</span>\n",
              "<span style=\"color: #008000; text-decoration-color: #008000\">✓ | ⏱: </span><span style=\"color: #008000; text-decoration-color: #008000; font-weight: bold\">0.</span><span style=\"color: #008000; text-decoration-color: #008000\">32s </span>\n",
              "</pre>\n"
            ]
          },
          "metadata": {}
        },
        {
          "output_type": "display_data",
          "data": {
            "text/plain": [
              "\u001b[1;32m[\u001b[0m\u001b[32mCOMPLETE\u001b[0m\u001b[1;32m]\u001b[0m\u001b[32m ● \u001b[0m\u001b[4;32mhttps://www.startech.com.bd/intel-pc\u001b[0m\u001b[32m                                                                 |\u001b[0m\n",
              "\u001b[32m✓\u001b[0m\u001b[32m | ⏱: \u001b[0m\u001b[1;32m1.\u001b[0m\u001b[32m68s \u001b[0m\n"
            ],
            "text/html": [
              "<pre style=\"white-space:pre;overflow-x:auto;line-height:normal;font-family:Menlo,'DejaVu Sans Mono',consolas,'Courier New',monospace\"><span style=\"color: #008000; text-decoration-color: #008000; font-weight: bold\">[</span><span style=\"color: #008000; text-decoration-color: #008000\">COMPLETE</span><span style=\"color: #008000; text-decoration-color: #008000; font-weight: bold\">]</span><span style=\"color: #008000; text-decoration-color: #008000\"> ● </span><span style=\"color: #008000; text-decoration-color: #008000; text-decoration: underline\">https://www.startech.com.bd/intel-pc</span><span style=\"color: #008000; text-decoration-color: #008000\">                                                                 |</span>\n",
              "<span style=\"color: #008000; text-decoration-color: #008000\">✓ | ⏱: </span><span style=\"color: #008000; text-decoration-color: #008000; font-weight: bold\">1.</span><span style=\"color: #008000; text-decoration-color: #008000\">68s </span>\n",
              "</pre>\n"
            ]
          },
          "metadata": {}
        },
        {
          "output_type": "stream",
          "name": "stdout",
          "text": [
            "     ✅ 5 products\n",
            "  📂 Processing subcategory 2/5: Ryzen PC\n"
          ]
        },
        {
          "output_type": "display_data",
          "data": {
            "text/plain": [
              "\u001b[1;36m[\u001b[0m\u001b[36mINIT\u001b[0m\u001b[1;36m]\u001b[0m\u001b[36m...\u001b[0m\u001b[36m. → Crawl4AI \u001b[0m\u001b[1;36m0.7\u001b[0m\u001b[36m.\u001b[0m\u001b[1;36m4\u001b[0m\u001b[36m \u001b[0m\n"
            ],
            "text/html": [
              "<pre style=\"white-space:pre;overflow-x:auto;line-height:normal;font-family:Menlo,'DejaVu Sans Mono',consolas,'Courier New',monospace\"><span style=\"color: #008080; text-decoration-color: #008080; font-weight: bold\">[</span><span style=\"color: #008080; text-decoration-color: #008080\">INIT</span><span style=\"color: #008080; text-decoration-color: #008080; font-weight: bold\">]</span><span style=\"color: #008080; text-decoration-color: #008080\">.... → Crawl4AI </span><span style=\"color: #008080; text-decoration-color: #008080; font-weight: bold\">0.7</span><span style=\"color: #008080; text-decoration-color: #008080\">.</span><span style=\"color: #008080; text-decoration-color: #008080; font-weight: bold\">4</span><span style=\"color: #008080; text-decoration-color: #008080\"> </span>\n",
              "</pre>\n"
            ]
          },
          "metadata": {}
        },
        {
          "output_type": "display_data",
          "data": {
            "text/plain": [
              "\u001b[1;32m[\u001b[0m\u001b[32mFETCH\u001b[0m\u001b[1;32m]\u001b[0m\u001b[32m...\u001b[0m\u001b[32m ↓ \u001b[0m\u001b[4;32mhttps://www.startech.com.bd/ryzen-pc\u001b[0m\u001b[32m                                                                 |\u001b[0m\n",
              "\u001b[32m✓\u001b[0m\u001b[32m | ⏱: \u001b[0m\u001b[1;32m1.\u001b[0m\u001b[32m36s \u001b[0m\n"
            ],
            "text/html": [
              "<pre style=\"white-space:pre;overflow-x:auto;line-height:normal;font-family:Menlo,'DejaVu Sans Mono',consolas,'Courier New',monospace\"><span style=\"color: #008000; text-decoration-color: #008000; font-weight: bold\">[</span><span style=\"color: #008000; text-decoration-color: #008000\">FETCH</span><span style=\"color: #008000; text-decoration-color: #008000; font-weight: bold\">]</span><span style=\"color: #008000; text-decoration-color: #008000\">... ↓ </span><span style=\"color: #008000; text-decoration-color: #008000; text-decoration: underline\">https://www.startech.com.bd/ryzen-pc</span><span style=\"color: #008000; text-decoration-color: #008000\">                                                                 |</span>\n",
              "<span style=\"color: #008000; text-decoration-color: #008000\">✓ | ⏱: </span><span style=\"color: #008000; text-decoration-color: #008000; font-weight: bold\">1.</span><span style=\"color: #008000; text-decoration-color: #008000\">36s </span>\n",
              "</pre>\n"
            ]
          },
          "metadata": {}
        },
        {
          "output_type": "display_data",
          "data": {
            "text/plain": [
              "\u001b[1;32m[\u001b[0m\u001b[32mSCRAPE\u001b[0m\u001b[1;32m]\u001b[0m\u001b[32m.. ◆ \u001b[0m\u001b[4;32mhttps://www.startech.com.bd/ryzen-pc\u001b[0m\u001b[32m                                                                 |\u001b[0m\n",
              "\u001b[32m✓\u001b[0m\u001b[32m | ⏱: \u001b[0m\u001b[1;32m0.\u001b[0m\u001b[32m30s \u001b[0m\n"
            ],
            "text/html": [
              "<pre style=\"white-space:pre;overflow-x:auto;line-height:normal;font-family:Menlo,'DejaVu Sans Mono',consolas,'Courier New',monospace\"><span style=\"color: #008000; text-decoration-color: #008000; font-weight: bold\">[</span><span style=\"color: #008000; text-decoration-color: #008000\">SCRAPE</span><span style=\"color: #008000; text-decoration-color: #008000; font-weight: bold\">]</span><span style=\"color: #008000; text-decoration-color: #008000\">.. ◆ </span><span style=\"color: #008000; text-decoration-color: #008000; text-decoration: underline\">https://www.startech.com.bd/ryzen-pc</span><span style=\"color: #008000; text-decoration-color: #008000\">                                                                 |</span>\n",
              "<span style=\"color: #008000; text-decoration-color: #008000\">✓ | ⏱: </span><span style=\"color: #008000; text-decoration-color: #008000; font-weight: bold\">0.</span><span style=\"color: #008000; text-decoration-color: #008000\">30s </span>\n",
              "</pre>\n"
            ]
          },
          "metadata": {}
        },
        {
          "output_type": "display_data",
          "data": {
            "text/plain": [
              "\u001b[1;32m[\u001b[0m\u001b[32mCOMPLETE\u001b[0m\u001b[1;32m]\u001b[0m\u001b[32m ● \u001b[0m\u001b[4;32mhttps://www.startech.com.bd/ryzen-pc\u001b[0m\u001b[32m                                                                 |\u001b[0m\n",
              "\u001b[32m✓\u001b[0m\u001b[32m | ⏱: \u001b[0m\u001b[1;32m1.\u001b[0m\u001b[32m67s \u001b[0m\n"
            ],
            "text/html": [
              "<pre style=\"white-space:pre;overflow-x:auto;line-height:normal;font-family:Menlo,'DejaVu Sans Mono',consolas,'Courier New',monospace\"><span style=\"color: #008000; text-decoration-color: #008000; font-weight: bold\">[</span><span style=\"color: #008000; text-decoration-color: #008000\">COMPLETE</span><span style=\"color: #008000; text-decoration-color: #008000; font-weight: bold\">]</span><span style=\"color: #008000; text-decoration-color: #008000\"> ● </span><span style=\"color: #008000; text-decoration-color: #008000; text-decoration: underline\">https://www.startech.com.bd/ryzen-pc</span><span style=\"color: #008000; text-decoration-color: #008000\">                                                                 |</span>\n",
              "<span style=\"color: #008000; text-decoration-color: #008000\">✓ | ⏱: </span><span style=\"color: #008000; text-decoration-color: #008000; font-weight: bold\">1.</span><span style=\"color: #008000; text-decoration-color: #008000\">67s </span>\n",
              "</pre>\n"
            ]
          },
          "metadata": {}
        },
        {
          "output_type": "stream",
          "name": "stdout",
          "text": [
            "     ✅ 12 products\n",
            "📊 Total products so far: 137\n",
            "\n",
            "--- Processing Category 3/10: Gaming PC ---\n"
          ]
        },
        {
          "output_type": "display_data",
          "data": {
            "text/plain": [
              "\u001b[1;36m[\u001b[0m\u001b[36mINIT\u001b[0m\u001b[1;36m]\u001b[0m\u001b[36m...\u001b[0m\u001b[36m. → Crawl4AI \u001b[0m\u001b[1;36m0.7\u001b[0m\u001b[36m.\u001b[0m\u001b[1;36m4\u001b[0m\u001b[36m \u001b[0m\n"
            ],
            "text/html": [
              "<pre style=\"white-space:pre;overflow-x:auto;line-height:normal;font-family:Menlo,'DejaVu Sans Mono',consolas,'Courier New',monospace\"><span style=\"color: #008080; text-decoration-color: #008080; font-weight: bold\">[</span><span style=\"color: #008080; text-decoration-color: #008080\">INIT</span><span style=\"color: #008080; text-decoration-color: #008080; font-weight: bold\">]</span><span style=\"color: #008080; text-decoration-color: #008080\">.... → Crawl4AI </span><span style=\"color: #008080; text-decoration-color: #008080; font-weight: bold\">0.7</span><span style=\"color: #008080; text-decoration-color: #008080\">.</span><span style=\"color: #008080; text-decoration-color: #008080; font-weight: bold\">4</span><span style=\"color: #008080; text-decoration-color: #008080\"> </span>\n",
              "</pre>\n"
            ]
          },
          "metadata": {}
        },
        {
          "output_type": "display_data",
          "data": {
            "text/plain": [
              "\u001b[1;32m[\u001b[0m\u001b[32mFETCH\u001b[0m\u001b[1;32m]\u001b[0m\u001b[32m...\u001b[0m\u001b[32m ↓ \u001b[0m\u001b[4;32mhttps://www.startech.com.bd/desktops/gaming-pc\u001b[0m\u001b[32m                                                       |\u001b[0m\n",
              "\u001b[32m✓\u001b[0m\u001b[32m | ⏱: \u001b[0m\u001b[1;32m1.\u001b[0m\u001b[32m41s \u001b[0m\n"
            ],
            "text/html": [
              "<pre style=\"white-space:pre;overflow-x:auto;line-height:normal;font-family:Menlo,'DejaVu Sans Mono',consolas,'Courier New',monospace\"><span style=\"color: #008000; text-decoration-color: #008000; font-weight: bold\">[</span><span style=\"color: #008000; text-decoration-color: #008000\">FETCH</span><span style=\"color: #008000; text-decoration-color: #008000; font-weight: bold\">]</span><span style=\"color: #008000; text-decoration-color: #008000\">... ↓ </span><span style=\"color: #008000; text-decoration-color: #008000; text-decoration: underline\">https://www.startech.com.bd/desktops/gaming-pc</span><span style=\"color: #008000; text-decoration-color: #008000\">                                                       |</span>\n",
              "<span style=\"color: #008000; text-decoration-color: #008000\">✓ | ⏱: </span><span style=\"color: #008000; text-decoration-color: #008000; font-weight: bold\">1.</span><span style=\"color: #008000; text-decoration-color: #008000\">41s </span>\n",
              "</pre>\n"
            ]
          },
          "metadata": {}
        },
        {
          "output_type": "display_data",
          "data": {
            "text/plain": [
              "\u001b[1;32m[\u001b[0m\u001b[32mSCRAPE\u001b[0m\u001b[1;32m]\u001b[0m\u001b[32m.. ◆ \u001b[0m\u001b[4;32mhttps://www.startech.com.bd/desktops/gaming-pc\u001b[0m\u001b[32m                                                       |\u001b[0m\n",
              "\u001b[32m✓\u001b[0m\u001b[32m | ⏱: \u001b[0m\u001b[1;32m0.\u001b[0m\u001b[32m30s \u001b[0m\n"
            ],
            "text/html": [
              "<pre style=\"white-space:pre;overflow-x:auto;line-height:normal;font-family:Menlo,'DejaVu Sans Mono',consolas,'Courier New',monospace\"><span style=\"color: #008000; text-decoration-color: #008000; font-weight: bold\">[</span><span style=\"color: #008000; text-decoration-color: #008000\">SCRAPE</span><span style=\"color: #008000; text-decoration-color: #008000; font-weight: bold\">]</span><span style=\"color: #008000; text-decoration-color: #008000\">.. ◆ </span><span style=\"color: #008000; text-decoration-color: #008000; text-decoration: underline\">https://www.startech.com.bd/desktops/gaming-pc</span><span style=\"color: #008000; text-decoration-color: #008000\">                                                       |</span>\n",
              "<span style=\"color: #008000; text-decoration-color: #008000\">✓ | ⏱: </span><span style=\"color: #008000; text-decoration-color: #008000; font-weight: bold\">0.</span><span style=\"color: #008000; text-decoration-color: #008000\">30s </span>\n",
              "</pre>\n"
            ]
          },
          "metadata": {}
        },
        {
          "output_type": "display_data",
          "data": {
            "text/plain": [
              "\u001b[1;32m[\u001b[0m\u001b[32mCOMPLETE\u001b[0m\u001b[1;32m]\u001b[0m\u001b[32m ● \u001b[0m\u001b[4;32mhttps://www.startech.com.bd/desktops/gaming-pc\u001b[0m\u001b[32m                                                       |\u001b[0m\n",
              "\u001b[32m✓\u001b[0m\u001b[32m | ⏱: \u001b[0m\u001b[1;32m1.\u001b[0m\u001b[32m72s \u001b[0m\n"
            ],
            "text/html": [
              "<pre style=\"white-space:pre;overflow-x:auto;line-height:normal;font-family:Menlo,'DejaVu Sans Mono',consolas,'Courier New',monospace\"><span style=\"color: #008000; text-decoration-color: #008000; font-weight: bold\">[</span><span style=\"color: #008000; text-decoration-color: #008000\">COMPLETE</span><span style=\"color: #008000; text-decoration-color: #008000; font-weight: bold\">]</span><span style=\"color: #008000; text-decoration-color: #008000\"> ● </span><span style=\"color: #008000; text-decoration-color: #008000; text-decoration: underline\">https://www.startech.com.bd/desktops/gaming-pc</span><span style=\"color: #008000; text-decoration-color: #008000\">                                                       |</span>\n",
              "<span style=\"color: #008000; text-decoration-color: #008000\">✓ | ⏱: </span><span style=\"color: #008000; text-decoration-color: #008000; font-weight: bold\">1.</span><span style=\"color: #008000; text-decoration-color: #008000\">72s </span>\n",
              "</pre>\n"
            ]
          },
          "metadata": {}
        },
        {
          "output_type": "stream",
          "name": "stdout",
          "text": [
            "✅ Main category: 20 products\n",
            "  📂 Processing subcategory 1/5: Intel PC\n"
          ]
        },
        {
          "output_type": "display_data",
          "data": {
            "text/plain": [
              "\u001b[1;36m[\u001b[0m\u001b[36mINIT\u001b[0m\u001b[1;36m]\u001b[0m\u001b[36m...\u001b[0m\u001b[36m. → Crawl4AI \u001b[0m\u001b[1;36m0.7\u001b[0m\u001b[36m.\u001b[0m\u001b[1;36m4\u001b[0m\u001b[36m \u001b[0m\n"
            ],
            "text/html": [
              "<pre style=\"white-space:pre;overflow-x:auto;line-height:normal;font-family:Menlo,'DejaVu Sans Mono',consolas,'Courier New',monospace\"><span style=\"color: #008080; text-decoration-color: #008080; font-weight: bold\">[</span><span style=\"color: #008080; text-decoration-color: #008080\">INIT</span><span style=\"color: #008080; text-decoration-color: #008080; font-weight: bold\">]</span><span style=\"color: #008080; text-decoration-color: #008080\">.... → Crawl4AI </span><span style=\"color: #008080; text-decoration-color: #008080; font-weight: bold\">0.7</span><span style=\"color: #008080; text-decoration-color: #008080\">.</span><span style=\"color: #008080; text-decoration-color: #008080; font-weight: bold\">4</span><span style=\"color: #008080; text-decoration-color: #008080\"> </span>\n",
              "</pre>\n"
            ]
          },
          "metadata": {}
        },
        {
          "output_type": "display_data",
          "data": {
            "text/plain": [
              "\u001b[1;32m[\u001b[0m\u001b[32mFETCH\u001b[0m\u001b[1;32m]\u001b[0m\u001b[32m...\u001b[0m\u001b[32m ↓ \u001b[0m\u001b[4;32mhttps://www.startech.com.bd/desktops/gaming-pc/intel-gaming-pc\u001b[0m\u001b[32m                                       |\u001b[0m\n",
              "\u001b[32m✓\u001b[0m\u001b[32m | ⏱: \u001b[0m\u001b[1;32m1.\u001b[0m\u001b[32m29s \u001b[0m\n"
            ],
            "text/html": [
              "<pre style=\"white-space:pre;overflow-x:auto;line-height:normal;font-family:Menlo,'DejaVu Sans Mono',consolas,'Courier New',monospace\"><span style=\"color: #008000; text-decoration-color: #008000; font-weight: bold\">[</span><span style=\"color: #008000; text-decoration-color: #008000\">FETCH</span><span style=\"color: #008000; text-decoration-color: #008000; font-weight: bold\">]</span><span style=\"color: #008000; text-decoration-color: #008000\">... ↓ </span><span style=\"color: #008000; text-decoration-color: #008000; text-decoration: underline\">https://www.startech.com.bd/desktops/gaming-pc/intel-gaming-pc</span><span style=\"color: #008000; text-decoration-color: #008000\">                                       |</span>\n",
              "<span style=\"color: #008000; text-decoration-color: #008000\">✓ | ⏱: </span><span style=\"color: #008000; text-decoration-color: #008000; font-weight: bold\">1.</span><span style=\"color: #008000; text-decoration-color: #008000\">29s </span>\n",
              "</pre>\n"
            ]
          },
          "metadata": {}
        },
        {
          "output_type": "display_data",
          "data": {
            "text/plain": [
              "\u001b[1;32m[\u001b[0m\u001b[32mSCRAPE\u001b[0m\u001b[1;32m]\u001b[0m\u001b[32m.. ◆ \u001b[0m\u001b[4;32mhttps://www.startech.com.bd/desktops/gaming-pc/intel-gaming-pc\u001b[0m\u001b[32m                                       |\u001b[0m\n",
              "\u001b[32m✓\u001b[0m\u001b[32m | ⏱: \u001b[0m\u001b[1;32m0.\u001b[0m\u001b[32m42s \u001b[0m\n"
            ],
            "text/html": [
              "<pre style=\"white-space:pre;overflow-x:auto;line-height:normal;font-family:Menlo,'DejaVu Sans Mono',consolas,'Courier New',monospace\"><span style=\"color: #008000; text-decoration-color: #008000; font-weight: bold\">[</span><span style=\"color: #008000; text-decoration-color: #008000\">SCRAPE</span><span style=\"color: #008000; text-decoration-color: #008000; font-weight: bold\">]</span><span style=\"color: #008000; text-decoration-color: #008000\">.. ◆ </span><span style=\"color: #008000; text-decoration-color: #008000; text-decoration: underline\">https://www.startech.com.bd/desktops/gaming-pc/intel-gaming-pc</span><span style=\"color: #008000; text-decoration-color: #008000\">                                       |</span>\n",
              "<span style=\"color: #008000; text-decoration-color: #008000\">✓ | ⏱: </span><span style=\"color: #008000; text-decoration-color: #008000; font-weight: bold\">0.</span><span style=\"color: #008000; text-decoration-color: #008000\">42s </span>\n",
              "</pre>\n"
            ]
          },
          "metadata": {}
        },
        {
          "output_type": "display_data",
          "data": {
            "text/plain": [
              "\u001b[1;32m[\u001b[0m\u001b[32mCOMPLETE\u001b[0m\u001b[1;32m]\u001b[0m\u001b[32m ● \u001b[0m\u001b[4;32mhttps://www.startech.com.bd/desktops/gaming-pc/intel-gaming-pc\u001b[0m\u001b[32m                                       |\u001b[0m\n",
              "\u001b[32m✓\u001b[0m\u001b[32m | ⏱: \u001b[0m\u001b[1;32m1.\u001b[0m\u001b[32m73s \u001b[0m\n"
            ],
            "text/html": [
              "<pre style=\"white-space:pre;overflow-x:auto;line-height:normal;font-family:Menlo,'DejaVu Sans Mono',consolas,'Courier New',monospace\"><span style=\"color: #008000; text-decoration-color: #008000; font-weight: bold\">[</span><span style=\"color: #008000; text-decoration-color: #008000\">COMPLETE</span><span style=\"color: #008000; text-decoration-color: #008000; font-weight: bold\">]</span><span style=\"color: #008000; text-decoration-color: #008000\"> ● </span><span style=\"color: #008000; text-decoration-color: #008000; text-decoration: underline\">https://www.startech.com.bd/desktops/gaming-pc/intel-gaming-pc</span><span style=\"color: #008000; text-decoration-color: #008000\">                                       |</span>\n",
              "<span style=\"color: #008000; text-decoration-color: #008000\">✓ | ⏱: </span><span style=\"color: #008000; text-decoration-color: #008000; font-weight: bold\">1.</span><span style=\"color: #008000; text-decoration-color: #008000\">73s </span>\n",
              "</pre>\n"
            ]
          },
          "metadata": {}
        },
        {
          "output_type": "stream",
          "name": "stdout",
          "text": [
            "     ✅ 8 products\n",
            "  📂 Processing subcategory 2/5: RYZEN PC\n"
          ]
        },
        {
          "output_type": "display_data",
          "data": {
            "text/plain": [
              "\u001b[1;36m[\u001b[0m\u001b[36mINIT\u001b[0m\u001b[1;36m]\u001b[0m\u001b[36m...\u001b[0m\u001b[36m. → Crawl4AI \u001b[0m\u001b[1;36m0.7\u001b[0m\u001b[36m.\u001b[0m\u001b[1;36m4\u001b[0m\u001b[36m \u001b[0m\n"
            ],
            "text/html": [
              "<pre style=\"white-space:pre;overflow-x:auto;line-height:normal;font-family:Menlo,'DejaVu Sans Mono',consolas,'Courier New',monospace\"><span style=\"color: #008080; text-decoration-color: #008080; font-weight: bold\">[</span><span style=\"color: #008080; text-decoration-color: #008080\">INIT</span><span style=\"color: #008080; text-decoration-color: #008080; font-weight: bold\">]</span><span style=\"color: #008080; text-decoration-color: #008080\">.... → Crawl4AI </span><span style=\"color: #008080; text-decoration-color: #008080; font-weight: bold\">0.7</span><span style=\"color: #008080; text-decoration-color: #008080\">.</span><span style=\"color: #008080; text-decoration-color: #008080; font-weight: bold\">4</span><span style=\"color: #008080; text-decoration-color: #008080\"> </span>\n",
              "</pre>\n"
            ]
          },
          "metadata": {}
        },
        {
          "output_type": "display_data",
          "data": {
            "text/plain": [
              "\u001b[1;32m[\u001b[0m\u001b[32mFETCH\u001b[0m\u001b[1;32m]\u001b[0m\u001b[32m...\u001b[0m\u001b[32m ↓ \u001b[0m\u001b[4;32mhttps://www.startech.com.bd/desktops/gaming-pc/amd-gaming-pc\u001b[0m\u001b[32m                                         |\u001b[0m\n",
              "\u001b[32m✓\u001b[0m\u001b[32m | ⏱: \u001b[0m\u001b[1;32m1.\u001b[0m\u001b[32m63s \u001b[0m\n"
            ],
            "text/html": [
              "<pre style=\"white-space:pre;overflow-x:auto;line-height:normal;font-family:Menlo,'DejaVu Sans Mono',consolas,'Courier New',monospace\"><span style=\"color: #008000; text-decoration-color: #008000; font-weight: bold\">[</span><span style=\"color: #008000; text-decoration-color: #008000\">FETCH</span><span style=\"color: #008000; text-decoration-color: #008000; font-weight: bold\">]</span><span style=\"color: #008000; text-decoration-color: #008000\">... ↓ </span><span style=\"color: #008000; text-decoration-color: #008000; text-decoration: underline\">https://www.startech.com.bd/desktops/gaming-pc/amd-gaming-pc</span><span style=\"color: #008000; text-decoration-color: #008000\">                                         |</span>\n",
              "<span style=\"color: #008000; text-decoration-color: #008000\">✓ | ⏱: </span><span style=\"color: #008000; text-decoration-color: #008000; font-weight: bold\">1.</span><span style=\"color: #008000; text-decoration-color: #008000\">63s </span>\n",
              "</pre>\n"
            ]
          },
          "metadata": {}
        },
        {
          "output_type": "display_data",
          "data": {
            "text/plain": [
              "\u001b[1;32m[\u001b[0m\u001b[32mSCRAPE\u001b[0m\u001b[1;32m]\u001b[0m\u001b[32m.. ◆ \u001b[0m\u001b[4;32mhttps://www.startech.com.bd/desktops/gaming-pc/amd-gaming-pc\u001b[0m\u001b[32m                                         |\u001b[0m\n",
              "\u001b[32m✓\u001b[0m\u001b[32m | ⏱: \u001b[0m\u001b[1;32m0.\u001b[0m\u001b[32m29s \u001b[0m\n"
            ],
            "text/html": [
              "<pre style=\"white-space:pre;overflow-x:auto;line-height:normal;font-family:Menlo,'DejaVu Sans Mono',consolas,'Courier New',monospace\"><span style=\"color: #008000; text-decoration-color: #008000; font-weight: bold\">[</span><span style=\"color: #008000; text-decoration-color: #008000\">SCRAPE</span><span style=\"color: #008000; text-decoration-color: #008000; font-weight: bold\">]</span><span style=\"color: #008000; text-decoration-color: #008000\">.. ◆ </span><span style=\"color: #008000; text-decoration-color: #008000; text-decoration: underline\">https://www.startech.com.bd/desktops/gaming-pc/amd-gaming-pc</span><span style=\"color: #008000; text-decoration-color: #008000\">                                         |</span>\n",
              "<span style=\"color: #008000; text-decoration-color: #008000\">✓ | ⏱: </span><span style=\"color: #008000; text-decoration-color: #008000; font-weight: bold\">0.</span><span style=\"color: #008000; text-decoration-color: #008000\">29s </span>\n",
              "</pre>\n"
            ]
          },
          "metadata": {}
        },
        {
          "output_type": "display_data",
          "data": {
            "text/plain": [
              "\u001b[1;32m[\u001b[0m\u001b[32mCOMPLETE\u001b[0m\u001b[1;32m]\u001b[0m\u001b[32m ● \u001b[0m\u001b[4;32mhttps://www.startech.com.bd/desktops/gaming-pc/amd-gaming-pc\u001b[0m\u001b[32m                                         |\u001b[0m\n",
              "\u001b[32m✓\u001b[0m\u001b[32m | ⏱: \u001b[0m\u001b[1;32m1.\u001b[0m\u001b[32m93s \u001b[0m\n"
            ],
            "text/html": [
              "<pre style=\"white-space:pre;overflow-x:auto;line-height:normal;font-family:Menlo,'DejaVu Sans Mono',consolas,'Courier New',monospace\"><span style=\"color: #008000; text-decoration-color: #008000; font-weight: bold\">[</span><span style=\"color: #008000; text-decoration-color: #008000\">COMPLETE</span><span style=\"color: #008000; text-decoration-color: #008000; font-weight: bold\">]</span><span style=\"color: #008000; text-decoration-color: #008000\"> ● </span><span style=\"color: #008000; text-decoration-color: #008000; text-decoration: underline\">https://www.startech.com.bd/desktops/gaming-pc/amd-gaming-pc</span><span style=\"color: #008000; text-decoration-color: #008000\">                                         |</span>\n",
              "<span style=\"color: #008000; text-decoration-color: #008000\">✓ | ⏱: </span><span style=\"color: #008000; text-decoration-color: #008000; font-weight: bold\">1.</span><span style=\"color: #008000; text-decoration-color: #008000\">93s </span>\n",
              "</pre>\n"
            ]
          },
          "metadata": {}
        },
        {
          "output_type": "stream",
          "name": "stdout",
          "text": [
            "     ✅ 20 products\n",
            "📊 Total products so far: 185\n",
            "\n",
            "--- Processing Category 4/10: Brand PC ---\n"
          ]
        },
        {
          "output_type": "display_data",
          "data": {
            "text/plain": [
              "\u001b[1;36m[\u001b[0m\u001b[36mINIT\u001b[0m\u001b[1;36m]\u001b[0m\u001b[36m...\u001b[0m\u001b[36m. → Crawl4AI \u001b[0m\u001b[1;36m0.7\u001b[0m\u001b[36m.\u001b[0m\u001b[1;36m4\u001b[0m\u001b[36m \u001b[0m\n"
            ],
            "text/html": [
              "<pre style=\"white-space:pre;overflow-x:auto;line-height:normal;font-family:Menlo,'DejaVu Sans Mono',consolas,'Courier New',monospace\"><span style=\"color: #008080; text-decoration-color: #008080; font-weight: bold\">[</span><span style=\"color: #008080; text-decoration-color: #008080\">INIT</span><span style=\"color: #008080; text-decoration-color: #008080; font-weight: bold\">]</span><span style=\"color: #008080; text-decoration-color: #008080\">.... → Crawl4AI </span><span style=\"color: #008080; text-decoration-color: #008080; font-weight: bold\">0.7</span><span style=\"color: #008080; text-decoration-color: #008080\">.</span><span style=\"color: #008080; text-decoration-color: #008080; font-weight: bold\">4</span><span style=\"color: #008080; text-decoration-color: #008080\"> </span>\n",
              "</pre>\n"
            ]
          },
          "metadata": {}
        },
        {
          "output_type": "display_data",
          "data": {
            "text/plain": [
              "\u001b[1;32m[\u001b[0m\u001b[32mFETCH\u001b[0m\u001b[1;32m]\u001b[0m\u001b[32m...\u001b[0m\u001b[32m ↓ \u001b[0m\u001b[4;32mhttps://www.startech.com.bd/desktops/brand-pc\u001b[0m\u001b[32m                                                        |\u001b[0m\n",
              "\u001b[32m✓\u001b[0m\u001b[32m | ⏱: \u001b[0m\u001b[1;32m1.\u001b[0m\u001b[32m45s \u001b[0m\n"
            ],
            "text/html": [
              "<pre style=\"white-space:pre;overflow-x:auto;line-height:normal;font-family:Menlo,'DejaVu Sans Mono',consolas,'Courier New',monospace\"><span style=\"color: #008000; text-decoration-color: #008000; font-weight: bold\">[</span><span style=\"color: #008000; text-decoration-color: #008000\">FETCH</span><span style=\"color: #008000; text-decoration-color: #008000; font-weight: bold\">]</span><span style=\"color: #008000; text-decoration-color: #008000\">... ↓ </span><span style=\"color: #008000; text-decoration-color: #008000; text-decoration: underline\">https://www.startech.com.bd/desktops/brand-pc</span><span style=\"color: #008000; text-decoration-color: #008000\">                                                        |</span>\n",
              "<span style=\"color: #008000; text-decoration-color: #008000\">✓ | ⏱: </span><span style=\"color: #008000; text-decoration-color: #008000; font-weight: bold\">1.</span><span style=\"color: #008000; text-decoration-color: #008000\">45s </span>\n",
              "</pre>\n"
            ]
          },
          "metadata": {}
        },
        {
          "output_type": "display_data",
          "data": {
            "text/plain": [
              "\u001b[1;32m[\u001b[0m\u001b[32mSCRAPE\u001b[0m\u001b[1;32m]\u001b[0m\u001b[32m.. ◆ \u001b[0m\u001b[4;32mhttps://www.startech.com.bd/desktops/brand-pc\u001b[0m\u001b[32m                                                        |\u001b[0m\n",
              "\u001b[32m✓\u001b[0m\u001b[32m | ⏱: \u001b[0m\u001b[1;32m0.\u001b[0m\u001b[32m31s \u001b[0m\n"
            ],
            "text/html": [
              "<pre style=\"white-space:pre;overflow-x:auto;line-height:normal;font-family:Menlo,'DejaVu Sans Mono',consolas,'Courier New',monospace\"><span style=\"color: #008000; text-decoration-color: #008000; font-weight: bold\">[</span><span style=\"color: #008000; text-decoration-color: #008000\">SCRAPE</span><span style=\"color: #008000; text-decoration-color: #008000; font-weight: bold\">]</span><span style=\"color: #008000; text-decoration-color: #008000\">.. ◆ </span><span style=\"color: #008000; text-decoration-color: #008000; text-decoration: underline\">https://www.startech.com.bd/desktops/brand-pc</span><span style=\"color: #008000; text-decoration-color: #008000\">                                                        |</span>\n",
              "<span style=\"color: #008000; text-decoration-color: #008000\">✓ | ⏱: </span><span style=\"color: #008000; text-decoration-color: #008000; font-weight: bold\">0.</span><span style=\"color: #008000; text-decoration-color: #008000\">31s </span>\n",
              "</pre>\n"
            ]
          },
          "metadata": {}
        },
        {
          "output_type": "display_data",
          "data": {
            "text/plain": [
              "\u001b[1;32m[\u001b[0m\u001b[32mCOMPLETE\u001b[0m\u001b[1;32m]\u001b[0m\u001b[32m ● \u001b[0m\u001b[4;32mhttps://www.startech.com.bd/desktops/brand-pc\u001b[0m\u001b[32m                                                        |\u001b[0m\n",
              "\u001b[32m✓\u001b[0m\u001b[32m | ⏱: \u001b[0m\u001b[1;32m1.\u001b[0m\u001b[32m78s \u001b[0m\n"
            ],
            "text/html": [
              "<pre style=\"white-space:pre;overflow-x:auto;line-height:normal;font-family:Menlo,'DejaVu Sans Mono',consolas,'Courier New',monospace\"><span style=\"color: #008000; text-decoration-color: #008000; font-weight: bold\">[</span><span style=\"color: #008000; text-decoration-color: #008000\">COMPLETE</span><span style=\"color: #008000; text-decoration-color: #008000; font-weight: bold\">]</span><span style=\"color: #008000; text-decoration-color: #008000\"> ● </span><span style=\"color: #008000; text-decoration-color: #008000; text-decoration: underline\">https://www.startech.com.bd/desktops/brand-pc</span><span style=\"color: #008000; text-decoration-color: #008000\">                                                        |</span>\n",
              "<span style=\"color: #008000; text-decoration-color: #008000\">✓ | ⏱: </span><span style=\"color: #008000; text-decoration-color: #008000; font-weight: bold\">1.</span><span style=\"color: #008000; text-decoration-color: #008000\">78s </span>\n",
              "</pre>\n"
            ]
          },
          "metadata": {}
        },
        {
          "output_type": "stream",
          "name": "stdout",
          "text": [
            "✅ Main category: 20 products\n",
            "  📂 Processing subcategory 1/5: Acer\n"
          ]
        },
        {
          "output_type": "display_data",
          "data": {
            "text/plain": [
              "\u001b[1;36m[\u001b[0m\u001b[36mINIT\u001b[0m\u001b[1;36m]\u001b[0m\u001b[36m...\u001b[0m\u001b[36m. → Crawl4AI \u001b[0m\u001b[1;36m0.7\u001b[0m\u001b[36m.\u001b[0m\u001b[1;36m4\u001b[0m\u001b[36m \u001b[0m\n"
            ],
            "text/html": [
              "<pre style=\"white-space:pre;overflow-x:auto;line-height:normal;font-family:Menlo,'DejaVu Sans Mono',consolas,'Courier New',monospace\"><span style=\"color: #008080; text-decoration-color: #008080; font-weight: bold\">[</span><span style=\"color: #008080; text-decoration-color: #008080\">INIT</span><span style=\"color: #008080; text-decoration-color: #008080; font-weight: bold\">]</span><span style=\"color: #008080; text-decoration-color: #008080\">.... → Crawl4AI </span><span style=\"color: #008080; text-decoration-color: #008080; font-weight: bold\">0.7</span><span style=\"color: #008080; text-decoration-color: #008080\">.</span><span style=\"color: #008080; text-decoration-color: #008080; font-weight: bold\">4</span><span style=\"color: #008080; text-decoration-color: #008080\"> </span>\n",
              "</pre>\n"
            ]
          },
          "metadata": {}
        },
        {
          "output_type": "display_data",
          "data": {
            "text/plain": [
              "\u001b[1;32m[\u001b[0m\u001b[32mFETCH\u001b[0m\u001b[1;32m]\u001b[0m\u001b[32m...\u001b[0m\u001b[32m ↓ \u001b[0m\u001b[4;32mhttps://www.startech.com.bd/desktops/brand-pc/acer-desktop\u001b[0m\u001b[32m                                           |\u001b[0m\n",
              "\u001b[32m✓\u001b[0m\u001b[32m | ⏱: \u001b[0m\u001b[1;32m1.\u001b[0m\u001b[32m30s \u001b[0m\n"
            ],
            "text/html": [
              "<pre style=\"white-space:pre;overflow-x:auto;line-height:normal;font-family:Menlo,'DejaVu Sans Mono',consolas,'Courier New',monospace\"><span style=\"color: #008000; text-decoration-color: #008000; font-weight: bold\">[</span><span style=\"color: #008000; text-decoration-color: #008000\">FETCH</span><span style=\"color: #008000; text-decoration-color: #008000; font-weight: bold\">]</span><span style=\"color: #008000; text-decoration-color: #008000\">... ↓ </span><span style=\"color: #008000; text-decoration-color: #008000; text-decoration: underline\">https://www.startech.com.bd/desktops/brand-pc/acer-desktop</span><span style=\"color: #008000; text-decoration-color: #008000\">                                           |</span>\n",
              "<span style=\"color: #008000; text-decoration-color: #008000\">✓ | ⏱: </span><span style=\"color: #008000; text-decoration-color: #008000; font-weight: bold\">1.</span><span style=\"color: #008000; text-decoration-color: #008000\">30s </span>\n",
              "</pre>\n"
            ]
          },
          "metadata": {}
        },
        {
          "output_type": "display_data",
          "data": {
            "text/plain": [
              "\u001b[1;32m[\u001b[0m\u001b[32mSCRAPE\u001b[0m\u001b[1;32m]\u001b[0m\u001b[32m.. ◆ \u001b[0m\u001b[4;32mhttps://www.startech.com.bd/desktops/brand-pc/acer-desktop\u001b[0m\u001b[32m                                           |\u001b[0m\n",
              "\u001b[32m✓\u001b[0m\u001b[32m | ⏱: \u001b[0m\u001b[1;32m0.\u001b[0m\u001b[32m30s \u001b[0m\n"
            ],
            "text/html": [
              "<pre style=\"white-space:pre;overflow-x:auto;line-height:normal;font-family:Menlo,'DejaVu Sans Mono',consolas,'Courier New',monospace\"><span style=\"color: #008000; text-decoration-color: #008000; font-weight: bold\">[</span><span style=\"color: #008000; text-decoration-color: #008000\">SCRAPE</span><span style=\"color: #008000; text-decoration-color: #008000; font-weight: bold\">]</span><span style=\"color: #008000; text-decoration-color: #008000\">.. ◆ </span><span style=\"color: #008000; text-decoration-color: #008000; text-decoration: underline\">https://www.startech.com.bd/desktops/brand-pc/acer-desktop</span><span style=\"color: #008000; text-decoration-color: #008000\">                                           |</span>\n",
              "<span style=\"color: #008000; text-decoration-color: #008000\">✓ | ⏱: </span><span style=\"color: #008000; text-decoration-color: #008000; font-weight: bold\">0.</span><span style=\"color: #008000; text-decoration-color: #008000\">30s </span>\n",
              "</pre>\n"
            ]
          },
          "metadata": {}
        },
        {
          "output_type": "display_data",
          "data": {
            "text/plain": [
              "\u001b[1;32m[\u001b[0m\u001b[32mCOMPLETE\u001b[0m\u001b[1;32m]\u001b[0m\u001b[32m ● \u001b[0m\u001b[4;32mhttps://www.startech.com.bd/desktops/brand-pc/acer-desktop\u001b[0m\u001b[32m                                           |\u001b[0m\n",
              "\u001b[32m✓\u001b[0m\u001b[32m | ⏱: \u001b[0m\u001b[1;32m1.\u001b[0m\u001b[32m61s \u001b[0m\n"
            ],
            "text/html": [
              "<pre style=\"white-space:pre;overflow-x:auto;line-height:normal;font-family:Menlo,'DejaVu Sans Mono',consolas,'Courier New',monospace\"><span style=\"color: #008000; text-decoration-color: #008000; font-weight: bold\">[</span><span style=\"color: #008000; text-decoration-color: #008000\">COMPLETE</span><span style=\"color: #008000; text-decoration-color: #008000; font-weight: bold\">]</span><span style=\"color: #008000; text-decoration-color: #008000\"> ● </span><span style=\"color: #008000; text-decoration-color: #008000; text-decoration: underline\">https://www.startech.com.bd/desktops/brand-pc/acer-desktop</span><span style=\"color: #008000; text-decoration-color: #008000\">                                           |</span>\n",
              "<span style=\"color: #008000; text-decoration-color: #008000\">✓ | ⏱: </span><span style=\"color: #008000; text-decoration-color: #008000; font-weight: bold\">1.</span><span style=\"color: #008000; text-decoration-color: #008000\">61s </span>\n",
              "</pre>\n"
            ]
          },
          "metadata": {}
        },
        {
          "output_type": "stream",
          "name": "stdout",
          "text": [
            "     ✅ 3 products\n",
            "  📂 Processing subcategory 2/5: ASUS\n"
          ]
        },
        {
          "output_type": "display_data",
          "data": {
            "text/plain": [
              "\u001b[1;36m[\u001b[0m\u001b[36mINIT\u001b[0m\u001b[1;36m]\u001b[0m\u001b[36m...\u001b[0m\u001b[36m. → Crawl4AI \u001b[0m\u001b[1;36m0.7\u001b[0m\u001b[36m.\u001b[0m\u001b[1;36m4\u001b[0m\u001b[36m \u001b[0m\n"
            ],
            "text/html": [
              "<pre style=\"white-space:pre;overflow-x:auto;line-height:normal;font-family:Menlo,'DejaVu Sans Mono',consolas,'Courier New',monospace\"><span style=\"color: #008080; text-decoration-color: #008080; font-weight: bold\">[</span><span style=\"color: #008080; text-decoration-color: #008080\">INIT</span><span style=\"color: #008080; text-decoration-color: #008080; font-weight: bold\">]</span><span style=\"color: #008080; text-decoration-color: #008080\">.... → Crawl4AI </span><span style=\"color: #008080; text-decoration-color: #008080; font-weight: bold\">0.7</span><span style=\"color: #008080; text-decoration-color: #008080\">.</span><span style=\"color: #008080; text-decoration-color: #008080; font-weight: bold\">4</span><span style=\"color: #008080; text-decoration-color: #008080\"> </span>\n",
              "</pre>\n"
            ]
          },
          "metadata": {}
        },
        {
          "output_type": "display_data",
          "data": {
            "text/plain": [
              "\u001b[1;32m[\u001b[0m\u001b[32mFETCH\u001b[0m\u001b[1;32m]\u001b[0m\u001b[32m...\u001b[0m\u001b[32m ↓ \u001b[0m\u001b[4;32mhttps://www.startech.com.bd/desktops/brand-pc/asus-desktop\u001b[0m\u001b[32m                                           |\u001b[0m\n",
              "\u001b[32m✓\u001b[0m\u001b[32m | ⏱: \u001b[0m\u001b[1;32m1.\u001b[0m\u001b[32m71s \u001b[0m\n"
            ],
            "text/html": [
              "<pre style=\"white-space:pre;overflow-x:auto;line-height:normal;font-family:Menlo,'DejaVu Sans Mono',consolas,'Courier New',monospace\"><span style=\"color: #008000; text-decoration-color: #008000; font-weight: bold\">[</span><span style=\"color: #008000; text-decoration-color: #008000\">FETCH</span><span style=\"color: #008000; text-decoration-color: #008000; font-weight: bold\">]</span><span style=\"color: #008000; text-decoration-color: #008000\">... ↓ </span><span style=\"color: #008000; text-decoration-color: #008000; text-decoration: underline\">https://www.startech.com.bd/desktops/brand-pc/asus-desktop</span><span style=\"color: #008000; text-decoration-color: #008000\">                                           |</span>\n",
              "<span style=\"color: #008000; text-decoration-color: #008000\">✓ | ⏱: </span><span style=\"color: #008000; text-decoration-color: #008000; font-weight: bold\">1.</span><span style=\"color: #008000; text-decoration-color: #008000\">71s </span>\n",
              "</pre>\n"
            ]
          },
          "metadata": {}
        },
        {
          "output_type": "display_data",
          "data": {
            "text/plain": [
              "\u001b[1;32m[\u001b[0m\u001b[32mSCRAPE\u001b[0m\u001b[1;32m]\u001b[0m\u001b[32m.. ◆ \u001b[0m\u001b[4;32mhttps://www.startech.com.bd/desktops/brand-pc/asus-desktop\u001b[0m\u001b[32m                                           |\u001b[0m\n",
              "\u001b[32m✓\u001b[0m\u001b[32m | ⏱: \u001b[0m\u001b[1;32m0.\u001b[0m\u001b[32m28s \u001b[0m\n"
            ],
            "text/html": [
              "<pre style=\"white-space:pre;overflow-x:auto;line-height:normal;font-family:Menlo,'DejaVu Sans Mono',consolas,'Courier New',monospace\"><span style=\"color: #008000; text-decoration-color: #008000; font-weight: bold\">[</span><span style=\"color: #008000; text-decoration-color: #008000\">SCRAPE</span><span style=\"color: #008000; text-decoration-color: #008000; font-weight: bold\">]</span><span style=\"color: #008000; text-decoration-color: #008000\">.. ◆ </span><span style=\"color: #008000; text-decoration-color: #008000; text-decoration: underline\">https://www.startech.com.bd/desktops/brand-pc/asus-desktop</span><span style=\"color: #008000; text-decoration-color: #008000\">                                           |</span>\n",
              "<span style=\"color: #008000; text-decoration-color: #008000\">✓ | ⏱: </span><span style=\"color: #008000; text-decoration-color: #008000; font-weight: bold\">0.</span><span style=\"color: #008000; text-decoration-color: #008000\">28s </span>\n",
              "</pre>\n"
            ]
          },
          "metadata": {}
        },
        {
          "output_type": "display_data",
          "data": {
            "text/plain": [
              "\u001b[1;32m[\u001b[0m\u001b[32mCOMPLETE\u001b[0m\u001b[1;32m]\u001b[0m\u001b[32m ● \u001b[0m\u001b[4;32mhttps://www.startech.com.bd/desktops/brand-pc/asus-desktop\u001b[0m\u001b[32m                                           |\u001b[0m\n",
              "\u001b[32m✓\u001b[0m\u001b[32m | ⏱: \u001b[0m\u001b[1;32m2.\u001b[0m\u001b[32m00s \u001b[0m\n"
            ],
            "text/html": [
              "<pre style=\"white-space:pre;overflow-x:auto;line-height:normal;font-family:Menlo,'DejaVu Sans Mono',consolas,'Courier New',monospace\"><span style=\"color: #008000; text-decoration-color: #008000; font-weight: bold\">[</span><span style=\"color: #008000; text-decoration-color: #008000\">COMPLETE</span><span style=\"color: #008000; text-decoration-color: #008000; font-weight: bold\">]</span><span style=\"color: #008000; text-decoration-color: #008000\"> ● </span><span style=\"color: #008000; text-decoration-color: #008000; text-decoration: underline\">https://www.startech.com.bd/desktops/brand-pc/asus-desktop</span><span style=\"color: #008000; text-decoration-color: #008000\">                                           |</span>\n",
              "<span style=\"color: #008000; text-decoration-color: #008000\">✓ | ⏱: </span><span style=\"color: #008000; text-decoration-color: #008000; font-weight: bold\">2.</span><span style=\"color: #008000; text-decoration-color: #008000\">00s </span>\n",
              "</pre>\n"
            ]
          },
          "metadata": {}
        },
        {
          "output_type": "stream",
          "name": "stdout",
          "text": [
            "     ✅ 3 products\n",
            "  📂 Processing subcategory 3/5: Dell\n"
          ]
        },
        {
          "output_type": "display_data",
          "data": {
            "text/plain": [
              "\u001b[1;36m[\u001b[0m\u001b[36mINIT\u001b[0m\u001b[1;36m]\u001b[0m\u001b[36m...\u001b[0m\u001b[36m. → Crawl4AI \u001b[0m\u001b[1;36m0.7\u001b[0m\u001b[36m.\u001b[0m\u001b[1;36m4\u001b[0m\u001b[36m \u001b[0m\n"
            ],
            "text/html": [
              "<pre style=\"white-space:pre;overflow-x:auto;line-height:normal;font-family:Menlo,'DejaVu Sans Mono',consolas,'Courier New',monospace\"><span style=\"color: #008080; text-decoration-color: #008080; font-weight: bold\">[</span><span style=\"color: #008080; text-decoration-color: #008080\">INIT</span><span style=\"color: #008080; text-decoration-color: #008080; font-weight: bold\">]</span><span style=\"color: #008080; text-decoration-color: #008080\">.... → Crawl4AI </span><span style=\"color: #008080; text-decoration-color: #008080; font-weight: bold\">0.7</span><span style=\"color: #008080; text-decoration-color: #008080\">.</span><span style=\"color: #008080; text-decoration-color: #008080; font-weight: bold\">4</span><span style=\"color: #008080; text-decoration-color: #008080\"> </span>\n",
              "</pre>\n"
            ]
          },
          "metadata": {}
        },
        {
          "output_type": "display_data",
          "data": {
            "text/plain": [
              "\u001b[1;32m[\u001b[0m\u001b[32mFETCH\u001b[0m\u001b[1;32m]\u001b[0m\u001b[32m...\u001b[0m\u001b[32m ↓ \u001b[0m\u001b[4;32mhttps://www.startech.com.bd/desktops/brand-pc/dell-desktop\u001b[0m\u001b[32m                                           |\u001b[0m\n",
              "\u001b[32m✓\u001b[0m\u001b[32m | ⏱: \u001b[0m\u001b[1;32m1.\u001b[0m\u001b[32m67s \u001b[0m\n"
            ],
            "text/html": [
              "<pre style=\"white-space:pre;overflow-x:auto;line-height:normal;font-family:Menlo,'DejaVu Sans Mono',consolas,'Courier New',monospace\"><span style=\"color: #008000; text-decoration-color: #008000; font-weight: bold\">[</span><span style=\"color: #008000; text-decoration-color: #008000\">FETCH</span><span style=\"color: #008000; text-decoration-color: #008000; font-weight: bold\">]</span><span style=\"color: #008000; text-decoration-color: #008000\">... ↓ </span><span style=\"color: #008000; text-decoration-color: #008000; text-decoration: underline\">https://www.startech.com.bd/desktops/brand-pc/dell-desktop</span><span style=\"color: #008000; text-decoration-color: #008000\">                                           |</span>\n",
              "<span style=\"color: #008000; text-decoration-color: #008000\">✓ | ⏱: </span><span style=\"color: #008000; text-decoration-color: #008000; font-weight: bold\">1.</span><span style=\"color: #008000; text-decoration-color: #008000\">67s </span>\n",
              "</pre>\n"
            ]
          },
          "metadata": {}
        },
        {
          "output_type": "display_data",
          "data": {
            "text/plain": [
              "\u001b[1;32m[\u001b[0m\u001b[32mSCRAPE\u001b[0m\u001b[1;32m]\u001b[0m\u001b[32m.. ◆ \u001b[0m\u001b[4;32mhttps://www.startech.com.bd/desktops/brand-pc/dell-desktop\u001b[0m\u001b[32m                                           |\u001b[0m\n",
              "\u001b[32m✓\u001b[0m\u001b[32m | ⏱: \u001b[0m\u001b[1;32m0.\u001b[0m\u001b[32m30s \u001b[0m\n"
            ],
            "text/html": [
              "<pre style=\"white-space:pre;overflow-x:auto;line-height:normal;font-family:Menlo,'DejaVu Sans Mono',consolas,'Courier New',monospace\"><span style=\"color: #008000; text-decoration-color: #008000; font-weight: bold\">[</span><span style=\"color: #008000; text-decoration-color: #008000\">SCRAPE</span><span style=\"color: #008000; text-decoration-color: #008000; font-weight: bold\">]</span><span style=\"color: #008000; text-decoration-color: #008000\">.. ◆ </span><span style=\"color: #008000; text-decoration-color: #008000; text-decoration: underline\">https://www.startech.com.bd/desktops/brand-pc/dell-desktop</span><span style=\"color: #008000; text-decoration-color: #008000\">                                           |</span>\n",
              "<span style=\"color: #008000; text-decoration-color: #008000\">✓ | ⏱: </span><span style=\"color: #008000; text-decoration-color: #008000; font-weight: bold\">0.</span><span style=\"color: #008000; text-decoration-color: #008000\">30s </span>\n",
              "</pre>\n"
            ]
          },
          "metadata": {}
        },
        {
          "output_type": "display_data",
          "data": {
            "text/plain": [
              "\u001b[1;32m[\u001b[0m\u001b[32mCOMPLETE\u001b[0m\u001b[1;32m]\u001b[0m\u001b[32m ● \u001b[0m\u001b[4;32mhttps://www.startech.com.bd/desktops/brand-pc/dell-desktop\u001b[0m\u001b[32m                                           |\u001b[0m\n",
              "\u001b[32m✓\u001b[0m\u001b[32m | ⏱: \u001b[0m\u001b[1;32m1.\u001b[0m\u001b[32m97s \u001b[0m\n"
            ],
            "text/html": [
              "<pre style=\"white-space:pre;overflow-x:auto;line-height:normal;font-family:Menlo,'DejaVu Sans Mono',consolas,'Courier New',monospace\"><span style=\"color: #008000; text-decoration-color: #008000; font-weight: bold\">[</span><span style=\"color: #008000; text-decoration-color: #008000\">COMPLETE</span><span style=\"color: #008000; text-decoration-color: #008000; font-weight: bold\">]</span><span style=\"color: #008000; text-decoration-color: #008000\"> ● </span><span style=\"color: #008000; text-decoration-color: #008000; text-decoration: underline\">https://www.startech.com.bd/desktops/brand-pc/dell-desktop</span><span style=\"color: #008000; text-decoration-color: #008000\">                                           |</span>\n",
              "<span style=\"color: #008000; text-decoration-color: #008000\">✓ | ⏱: </span><span style=\"color: #008000; text-decoration-color: #008000; font-weight: bold\">1.</span><span style=\"color: #008000; text-decoration-color: #008000\">97s </span>\n",
              "</pre>\n"
            ]
          },
          "metadata": {}
        },
        {
          "output_type": "stream",
          "name": "stdout",
          "text": [
            "     ✅ 20 products\n",
            "  📂 Processing subcategory 4/5: HP\n"
          ]
        },
        {
          "output_type": "display_data",
          "data": {
            "text/plain": [
              "\u001b[1;36m[\u001b[0m\u001b[36mINIT\u001b[0m\u001b[1;36m]\u001b[0m\u001b[36m...\u001b[0m\u001b[36m. → Crawl4AI \u001b[0m\u001b[1;36m0.7\u001b[0m\u001b[36m.\u001b[0m\u001b[1;36m4\u001b[0m\u001b[36m \u001b[0m\n"
            ],
            "text/html": [
              "<pre style=\"white-space:pre;overflow-x:auto;line-height:normal;font-family:Menlo,'DejaVu Sans Mono',consolas,'Courier New',monospace\"><span style=\"color: #008080; text-decoration-color: #008080; font-weight: bold\">[</span><span style=\"color: #008080; text-decoration-color: #008080\">INIT</span><span style=\"color: #008080; text-decoration-color: #008080; font-weight: bold\">]</span><span style=\"color: #008080; text-decoration-color: #008080\">.... → Crawl4AI </span><span style=\"color: #008080; text-decoration-color: #008080; font-weight: bold\">0.7</span><span style=\"color: #008080; text-decoration-color: #008080\">.</span><span style=\"color: #008080; text-decoration-color: #008080; font-weight: bold\">4</span><span style=\"color: #008080; text-decoration-color: #008080\"> </span>\n",
              "</pre>\n"
            ]
          },
          "metadata": {}
        },
        {
          "output_type": "display_data",
          "data": {
            "text/plain": [
              "\u001b[1;32m[\u001b[0m\u001b[32mFETCH\u001b[0m\u001b[1;32m]\u001b[0m\u001b[32m...\u001b[0m\u001b[32m ↓ \u001b[0m\u001b[4;32mhttps://www.startech.com.bd/desktops/brand-pc/hp-desktop\u001b[0m\u001b[32m                                             |\u001b[0m\n",
              "\u001b[32m✓\u001b[0m\u001b[32m | ⏱: \u001b[0m\u001b[1;32m1.\u001b[0m\u001b[32m31s \u001b[0m\n"
            ],
            "text/html": [
              "<pre style=\"white-space:pre;overflow-x:auto;line-height:normal;font-family:Menlo,'DejaVu Sans Mono',consolas,'Courier New',monospace\"><span style=\"color: #008000; text-decoration-color: #008000; font-weight: bold\">[</span><span style=\"color: #008000; text-decoration-color: #008000\">FETCH</span><span style=\"color: #008000; text-decoration-color: #008000; font-weight: bold\">]</span><span style=\"color: #008000; text-decoration-color: #008000\">... ↓ </span><span style=\"color: #008000; text-decoration-color: #008000; text-decoration: underline\">https://www.startech.com.bd/desktops/brand-pc/hp-desktop</span><span style=\"color: #008000; text-decoration-color: #008000\">                                             |</span>\n",
              "<span style=\"color: #008000; text-decoration-color: #008000\">✓ | ⏱: </span><span style=\"color: #008000; text-decoration-color: #008000; font-weight: bold\">1.</span><span style=\"color: #008000; text-decoration-color: #008000\">31s </span>\n",
              "</pre>\n"
            ]
          },
          "metadata": {}
        },
        {
          "output_type": "display_data",
          "data": {
            "text/plain": [
              "\u001b[1;32m[\u001b[0m\u001b[32mSCRAPE\u001b[0m\u001b[1;32m]\u001b[0m\u001b[32m.. ◆ \u001b[0m\u001b[4;32mhttps://www.startech.com.bd/desktops/brand-pc/hp-desktop\u001b[0m\u001b[32m                                             |\u001b[0m\n",
              "\u001b[32m✓\u001b[0m\u001b[32m | ⏱: \u001b[0m\u001b[1;32m0.\u001b[0m\u001b[32m32s \u001b[0m\n"
            ],
            "text/html": [
              "<pre style=\"white-space:pre;overflow-x:auto;line-height:normal;font-family:Menlo,'DejaVu Sans Mono',consolas,'Courier New',monospace\"><span style=\"color: #008000; text-decoration-color: #008000; font-weight: bold\">[</span><span style=\"color: #008000; text-decoration-color: #008000\">SCRAPE</span><span style=\"color: #008000; text-decoration-color: #008000; font-weight: bold\">]</span><span style=\"color: #008000; text-decoration-color: #008000\">.. ◆ </span><span style=\"color: #008000; text-decoration-color: #008000; text-decoration: underline\">https://www.startech.com.bd/desktops/brand-pc/hp-desktop</span><span style=\"color: #008000; text-decoration-color: #008000\">                                             |</span>\n",
              "<span style=\"color: #008000; text-decoration-color: #008000\">✓ | ⏱: </span><span style=\"color: #008000; text-decoration-color: #008000; font-weight: bold\">0.</span><span style=\"color: #008000; text-decoration-color: #008000\">32s </span>\n",
              "</pre>\n"
            ]
          },
          "metadata": {}
        },
        {
          "output_type": "display_data",
          "data": {
            "text/plain": [
              "\u001b[1;32m[\u001b[0m\u001b[32mCOMPLETE\u001b[0m\u001b[1;32m]\u001b[0m\u001b[32m ● \u001b[0m\u001b[4;32mhttps://www.startech.com.bd/desktops/brand-pc/hp-desktop\u001b[0m\u001b[32m                                             |\u001b[0m\n",
              "\u001b[32m✓\u001b[0m\u001b[32m | ⏱: \u001b[0m\u001b[1;32m1.\u001b[0m\u001b[32m64s \u001b[0m\n"
            ],
            "text/html": [
              "<pre style=\"white-space:pre;overflow-x:auto;line-height:normal;font-family:Menlo,'DejaVu Sans Mono',consolas,'Courier New',monospace\"><span style=\"color: #008000; text-decoration-color: #008000; font-weight: bold\">[</span><span style=\"color: #008000; text-decoration-color: #008000\">COMPLETE</span><span style=\"color: #008000; text-decoration-color: #008000; font-weight: bold\">]</span><span style=\"color: #008000; text-decoration-color: #008000\"> ● </span><span style=\"color: #008000; text-decoration-color: #008000; text-decoration: underline\">https://www.startech.com.bd/desktops/brand-pc/hp-desktop</span><span style=\"color: #008000; text-decoration-color: #008000\">                                             |</span>\n",
              "<span style=\"color: #008000; text-decoration-color: #008000\">✓ | ⏱: </span><span style=\"color: #008000; text-decoration-color: #008000; font-weight: bold\">1.</span><span style=\"color: #008000; text-decoration-color: #008000\">64s </span>\n",
              "</pre>\n"
            ]
          },
          "metadata": {}
        },
        {
          "output_type": "stream",
          "name": "stdout",
          "text": [
            "     ✅ 10 products\n",
            "  📂 Processing subcategory 5/5: Lenovo\n"
          ]
        },
        {
          "output_type": "display_data",
          "data": {
            "text/plain": [
              "\u001b[1;36m[\u001b[0m\u001b[36mINIT\u001b[0m\u001b[1;36m]\u001b[0m\u001b[36m...\u001b[0m\u001b[36m. → Crawl4AI \u001b[0m\u001b[1;36m0.7\u001b[0m\u001b[36m.\u001b[0m\u001b[1;36m4\u001b[0m\u001b[36m \u001b[0m\n"
            ],
            "text/html": [
              "<pre style=\"white-space:pre;overflow-x:auto;line-height:normal;font-family:Menlo,'DejaVu Sans Mono',consolas,'Courier New',monospace\"><span style=\"color: #008080; text-decoration-color: #008080; font-weight: bold\">[</span><span style=\"color: #008080; text-decoration-color: #008080\">INIT</span><span style=\"color: #008080; text-decoration-color: #008080; font-weight: bold\">]</span><span style=\"color: #008080; text-decoration-color: #008080\">.... → Crawl4AI </span><span style=\"color: #008080; text-decoration-color: #008080; font-weight: bold\">0.7</span><span style=\"color: #008080; text-decoration-color: #008080\">.</span><span style=\"color: #008080; text-decoration-color: #008080; font-weight: bold\">4</span><span style=\"color: #008080; text-decoration-color: #008080\"> </span>\n",
              "</pre>\n"
            ]
          },
          "metadata": {}
        },
        {
          "output_type": "display_data",
          "data": {
            "text/plain": [
              "\u001b[1;32m[\u001b[0m\u001b[32mFETCH\u001b[0m\u001b[1;32m]\u001b[0m\u001b[32m...\u001b[0m\u001b[32m ↓ \u001b[0m\u001b[4;32mhttps://www.startech.com.bd/desktops/brand-pc/lenovo-desktop\u001b[0m\u001b[32m                                         |\u001b[0m\n",
              "\u001b[32m✓\u001b[0m\u001b[32m | ⏱: \u001b[0m\u001b[1;32m1.\u001b[0m\u001b[32m72s \u001b[0m\n"
            ],
            "text/html": [
              "<pre style=\"white-space:pre;overflow-x:auto;line-height:normal;font-family:Menlo,'DejaVu Sans Mono',consolas,'Courier New',monospace\"><span style=\"color: #008000; text-decoration-color: #008000; font-weight: bold\">[</span><span style=\"color: #008000; text-decoration-color: #008000\">FETCH</span><span style=\"color: #008000; text-decoration-color: #008000; font-weight: bold\">]</span><span style=\"color: #008000; text-decoration-color: #008000\">... ↓ </span><span style=\"color: #008000; text-decoration-color: #008000; text-decoration: underline\">https://www.startech.com.bd/desktops/brand-pc/lenovo-desktop</span><span style=\"color: #008000; text-decoration-color: #008000\">                                         |</span>\n",
              "<span style=\"color: #008000; text-decoration-color: #008000\">✓ | ⏱: </span><span style=\"color: #008000; text-decoration-color: #008000; font-weight: bold\">1.</span><span style=\"color: #008000; text-decoration-color: #008000\">72s </span>\n",
              "</pre>\n"
            ]
          },
          "metadata": {}
        },
        {
          "output_type": "display_data",
          "data": {
            "text/plain": [
              "\u001b[1;32m[\u001b[0m\u001b[32mSCRAPE\u001b[0m\u001b[1;32m]\u001b[0m\u001b[32m.. ◆ \u001b[0m\u001b[4;32mhttps://www.startech.com.bd/desktops/brand-pc/lenovo-desktop\u001b[0m\u001b[32m                                         |\u001b[0m\n",
              "\u001b[32m✓\u001b[0m\u001b[32m | ⏱: \u001b[0m\u001b[1;32m0.\u001b[0m\u001b[32m34s \u001b[0m\n"
            ],
            "text/html": [
              "<pre style=\"white-space:pre;overflow-x:auto;line-height:normal;font-family:Menlo,'DejaVu Sans Mono',consolas,'Courier New',monospace\"><span style=\"color: #008000; text-decoration-color: #008000; font-weight: bold\">[</span><span style=\"color: #008000; text-decoration-color: #008000\">SCRAPE</span><span style=\"color: #008000; text-decoration-color: #008000; font-weight: bold\">]</span><span style=\"color: #008000; text-decoration-color: #008000\">.. ◆ </span><span style=\"color: #008000; text-decoration-color: #008000; text-decoration: underline\">https://www.startech.com.bd/desktops/brand-pc/lenovo-desktop</span><span style=\"color: #008000; text-decoration-color: #008000\">                                         |</span>\n",
              "<span style=\"color: #008000; text-decoration-color: #008000\">✓ | ⏱: </span><span style=\"color: #008000; text-decoration-color: #008000; font-weight: bold\">0.</span><span style=\"color: #008000; text-decoration-color: #008000\">34s </span>\n",
              "</pre>\n"
            ]
          },
          "metadata": {}
        },
        {
          "output_type": "display_data",
          "data": {
            "text/plain": [
              "\u001b[1;32m[\u001b[0m\u001b[32mCOMPLETE\u001b[0m\u001b[1;32m]\u001b[0m\u001b[32m ● \u001b[0m\u001b[4;32mhttps://www.startech.com.bd/desktops/brand-pc/lenovo-desktop\u001b[0m\u001b[32m                                         |\u001b[0m\n",
              "\u001b[32m✓\u001b[0m\u001b[32m | ⏱: \u001b[0m\u001b[1;32m2.\u001b[0m\u001b[32m08s \u001b[0m\n"
            ],
            "text/html": [
              "<pre style=\"white-space:pre;overflow-x:auto;line-height:normal;font-family:Menlo,'DejaVu Sans Mono',consolas,'Courier New',monospace\"><span style=\"color: #008000; text-decoration-color: #008000; font-weight: bold\">[</span><span style=\"color: #008000; text-decoration-color: #008000\">COMPLETE</span><span style=\"color: #008000; text-decoration-color: #008000; font-weight: bold\">]</span><span style=\"color: #008000; text-decoration-color: #008000\"> ● </span><span style=\"color: #008000; text-decoration-color: #008000; text-decoration: underline\">https://www.startech.com.bd/desktops/brand-pc/lenovo-desktop</span><span style=\"color: #008000; text-decoration-color: #008000\">                                         |</span>\n",
              "<span style=\"color: #008000; text-decoration-color: #008000\">✓ | ⏱: </span><span style=\"color: #008000; text-decoration-color: #008000; font-weight: bold\">2.</span><span style=\"color: #008000; text-decoration-color: #008000\">08s </span>\n",
              "</pre>\n"
            ]
          },
          "metadata": {}
        },
        {
          "output_type": "stream",
          "name": "stdout",
          "text": [
            "     ✅ 13 products\n",
            "📊 Total products so far: 254\n",
            "\n",
            "--- Processing Category 5/10: All-in-One PC ---\n"
          ]
        },
        {
          "output_type": "display_data",
          "data": {
            "text/plain": [
              "\u001b[1;36m[\u001b[0m\u001b[36mINIT\u001b[0m\u001b[1;36m]\u001b[0m\u001b[36m...\u001b[0m\u001b[36m. → Crawl4AI \u001b[0m\u001b[1;36m0.7\u001b[0m\u001b[36m.\u001b[0m\u001b[1;36m4\u001b[0m\u001b[36m \u001b[0m\n"
            ],
            "text/html": [
              "<pre style=\"white-space:pre;overflow-x:auto;line-height:normal;font-family:Menlo,'DejaVu Sans Mono',consolas,'Courier New',monospace\"><span style=\"color: #008080; text-decoration-color: #008080; font-weight: bold\">[</span><span style=\"color: #008080; text-decoration-color: #008080\">INIT</span><span style=\"color: #008080; text-decoration-color: #008080; font-weight: bold\">]</span><span style=\"color: #008080; text-decoration-color: #008080\">.... → Crawl4AI </span><span style=\"color: #008080; text-decoration-color: #008080; font-weight: bold\">0.7</span><span style=\"color: #008080; text-decoration-color: #008080\">.</span><span style=\"color: #008080; text-decoration-color: #008080; font-weight: bold\">4</span><span style=\"color: #008080; text-decoration-color: #008080\"> </span>\n",
              "</pre>\n"
            ]
          },
          "metadata": {}
        },
        {
          "output_type": "display_data",
          "data": {
            "text/plain": [
              "\u001b[1;32m[\u001b[0m\u001b[32mFETCH\u001b[0m\u001b[1;32m]\u001b[0m\u001b[32m...\u001b[0m\u001b[32m ↓ \u001b[0m\u001b[4;32mhttps://www.startech.com.bd/desktops/all-in-one-pc\u001b[0m\u001b[32m                                                   |\u001b[0m\n",
              "\u001b[32m✓\u001b[0m\u001b[32m | ⏱: \u001b[0m\u001b[1;32m1.\u001b[0m\u001b[32m71s \u001b[0m\n"
            ],
            "text/html": [
              "<pre style=\"white-space:pre;overflow-x:auto;line-height:normal;font-family:Menlo,'DejaVu Sans Mono',consolas,'Courier New',monospace\"><span style=\"color: #008000; text-decoration-color: #008000; font-weight: bold\">[</span><span style=\"color: #008000; text-decoration-color: #008000\">FETCH</span><span style=\"color: #008000; text-decoration-color: #008000; font-weight: bold\">]</span><span style=\"color: #008000; text-decoration-color: #008000\">... ↓ </span><span style=\"color: #008000; text-decoration-color: #008000; text-decoration: underline\">https://www.startech.com.bd/desktops/all-in-one-pc</span><span style=\"color: #008000; text-decoration-color: #008000\">                                                   |</span>\n",
              "<span style=\"color: #008000; text-decoration-color: #008000\">✓ | ⏱: </span><span style=\"color: #008000; text-decoration-color: #008000; font-weight: bold\">1.</span><span style=\"color: #008000; text-decoration-color: #008000\">71s </span>\n",
              "</pre>\n"
            ]
          },
          "metadata": {}
        },
        {
          "output_type": "display_data",
          "data": {
            "text/plain": [
              "\u001b[1;32m[\u001b[0m\u001b[32mSCRAPE\u001b[0m\u001b[1;32m]\u001b[0m\u001b[32m.. ◆ \u001b[0m\u001b[4;32mhttps://www.startech.com.bd/desktops/all-in-one-pc\u001b[0m\u001b[32m                                                   |\u001b[0m\n",
              "\u001b[32m✓\u001b[0m\u001b[32m | ⏱: \u001b[0m\u001b[1;32m0.\u001b[0m\u001b[32m58s \u001b[0m\n"
            ],
            "text/html": [
              "<pre style=\"white-space:pre;overflow-x:auto;line-height:normal;font-family:Menlo,'DejaVu Sans Mono',consolas,'Courier New',monospace\"><span style=\"color: #008000; text-decoration-color: #008000; font-weight: bold\">[</span><span style=\"color: #008000; text-decoration-color: #008000\">SCRAPE</span><span style=\"color: #008000; text-decoration-color: #008000; font-weight: bold\">]</span><span style=\"color: #008000; text-decoration-color: #008000\">.. ◆ </span><span style=\"color: #008000; text-decoration-color: #008000; text-decoration: underline\">https://www.startech.com.bd/desktops/all-in-one-pc</span><span style=\"color: #008000; text-decoration-color: #008000\">                                                   |</span>\n",
              "<span style=\"color: #008000; text-decoration-color: #008000\">✓ | ⏱: </span><span style=\"color: #008000; text-decoration-color: #008000; font-weight: bold\">0.</span><span style=\"color: #008000; text-decoration-color: #008000\">58s </span>\n",
              "</pre>\n"
            ]
          },
          "metadata": {}
        },
        {
          "output_type": "display_data",
          "data": {
            "text/plain": [
              "\u001b[1;32m[\u001b[0m\u001b[32mCOMPLETE\u001b[0m\u001b[1;32m]\u001b[0m\u001b[32m ● \u001b[0m\u001b[4;32mhttps://www.startech.com.bd/desktops/all-in-one-pc\u001b[0m\u001b[32m                                                   |\u001b[0m\n",
              "\u001b[32m✓\u001b[0m\u001b[32m | ⏱: \u001b[0m\u001b[1;32m2.\u001b[0m\u001b[32m32s \u001b[0m\n"
            ],
            "text/html": [
              "<pre style=\"white-space:pre;overflow-x:auto;line-height:normal;font-family:Menlo,'DejaVu Sans Mono',consolas,'Courier New',monospace\"><span style=\"color: #008000; text-decoration-color: #008000; font-weight: bold\">[</span><span style=\"color: #008000; text-decoration-color: #008000\">COMPLETE</span><span style=\"color: #008000; text-decoration-color: #008000; font-weight: bold\">]</span><span style=\"color: #008000; text-decoration-color: #008000\"> ● </span><span style=\"color: #008000; text-decoration-color: #008000; text-decoration: underline\">https://www.startech.com.bd/desktops/all-in-one-pc</span><span style=\"color: #008000; text-decoration-color: #008000\">                                                   |</span>\n",
              "<span style=\"color: #008000; text-decoration-color: #008000\">✓ | ⏱: </span><span style=\"color: #008000; text-decoration-color: #008000; font-weight: bold\">2.</span><span style=\"color: #008000; text-decoration-color: #008000\">32s </span>\n",
              "</pre>\n"
            ]
          },
          "metadata": {}
        },
        {
          "output_type": "stream",
          "name": "stdout",
          "text": [
            "✅ Main category: 20 products\n",
            "  📂 Processing subcategory 1/5: Dell\n"
          ]
        },
        {
          "output_type": "display_data",
          "data": {
            "text/plain": [
              "\u001b[1;36m[\u001b[0m\u001b[36mINIT\u001b[0m\u001b[1;36m]\u001b[0m\u001b[36m...\u001b[0m\u001b[36m. → Crawl4AI \u001b[0m\u001b[1;36m0.7\u001b[0m\u001b[36m.\u001b[0m\u001b[1;36m4\u001b[0m\u001b[36m \u001b[0m\n"
            ],
            "text/html": [
              "<pre style=\"white-space:pre;overflow-x:auto;line-height:normal;font-family:Menlo,'DejaVu Sans Mono',consolas,'Courier New',monospace\"><span style=\"color: #008080; text-decoration-color: #008080; font-weight: bold\">[</span><span style=\"color: #008080; text-decoration-color: #008080\">INIT</span><span style=\"color: #008080; text-decoration-color: #008080; font-weight: bold\">]</span><span style=\"color: #008080; text-decoration-color: #008080\">.... → Crawl4AI </span><span style=\"color: #008080; text-decoration-color: #008080; font-weight: bold\">0.7</span><span style=\"color: #008080; text-decoration-color: #008080\">.</span><span style=\"color: #008080; text-decoration-color: #008080; font-weight: bold\">4</span><span style=\"color: #008080; text-decoration-color: #008080\"> </span>\n",
              "</pre>\n"
            ]
          },
          "metadata": {}
        },
        {
          "output_type": "display_data",
          "data": {
            "text/plain": [
              "\u001b[1;32m[\u001b[0m\u001b[32mFETCH\u001b[0m\u001b[1;32m]\u001b[0m\u001b[32m...\u001b[0m\u001b[32m ↓ \u001b[0m\u001b[4;32mhttps://www.startech.com.bd/dell-all-in-one-pc\u001b[0m\u001b[32m                                                       |\u001b[0m\n",
              "\u001b[32m✓\u001b[0m\u001b[32m | ⏱: \u001b[0m\u001b[1;32m1.\u001b[0m\u001b[32m32s \u001b[0m\n"
            ],
            "text/html": [
              "<pre style=\"white-space:pre;overflow-x:auto;line-height:normal;font-family:Menlo,'DejaVu Sans Mono',consolas,'Courier New',monospace\"><span style=\"color: #008000; text-decoration-color: #008000; font-weight: bold\">[</span><span style=\"color: #008000; text-decoration-color: #008000\">FETCH</span><span style=\"color: #008000; text-decoration-color: #008000; font-weight: bold\">]</span><span style=\"color: #008000; text-decoration-color: #008000\">... ↓ </span><span style=\"color: #008000; text-decoration-color: #008000; text-decoration: underline\">https://www.startech.com.bd/dell-all-in-one-pc</span><span style=\"color: #008000; text-decoration-color: #008000\">                                                       |</span>\n",
              "<span style=\"color: #008000; text-decoration-color: #008000\">✓ | ⏱: </span><span style=\"color: #008000; text-decoration-color: #008000; font-weight: bold\">1.</span><span style=\"color: #008000; text-decoration-color: #008000\">32s </span>\n",
              "</pre>\n"
            ]
          },
          "metadata": {}
        },
        {
          "output_type": "display_data",
          "data": {
            "text/plain": [
              "\u001b[1;32m[\u001b[0m\u001b[32mSCRAPE\u001b[0m\u001b[1;32m]\u001b[0m\u001b[32m.. ◆ \u001b[0m\u001b[4;32mhttps://www.startech.com.bd/dell-all-in-one-pc\u001b[0m\u001b[32m                                                       |\u001b[0m\n",
              "\u001b[32m✓\u001b[0m\u001b[32m | ⏱: \u001b[0m\u001b[1;32m0.\u001b[0m\u001b[32m29s \u001b[0m\n"
            ],
            "text/html": [
              "<pre style=\"white-space:pre;overflow-x:auto;line-height:normal;font-family:Menlo,'DejaVu Sans Mono',consolas,'Courier New',monospace\"><span style=\"color: #008000; text-decoration-color: #008000; font-weight: bold\">[</span><span style=\"color: #008000; text-decoration-color: #008000\">SCRAPE</span><span style=\"color: #008000; text-decoration-color: #008000; font-weight: bold\">]</span><span style=\"color: #008000; text-decoration-color: #008000\">.. ◆ </span><span style=\"color: #008000; text-decoration-color: #008000; text-decoration: underline\">https://www.startech.com.bd/dell-all-in-one-pc</span><span style=\"color: #008000; text-decoration-color: #008000\">                                                       |</span>\n",
              "<span style=\"color: #008000; text-decoration-color: #008000\">✓ | ⏱: </span><span style=\"color: #008000; text-decoration-color: #008000; font-weight: bold\">0.</span><span style=\"color: #008000; text-decoration-color: #008000\">29s </span>\n",
              "</pre>\n"
            ]
          },
          "metadata": {}
        },
        {
          "output_type": "display_data",
          "data": {
            "text/plain": [
              "\u001b[1;32m[\u001b[0m\u001b[32mCOMPLETE\u001b[0m\u001b[1;32m]\u001b[0m\u001b[32m ● \u001b[0m\u001b[4;32mhttps://www.startech.com.bd/dell-all-in-one-pc\u001b[0m\u001b[32m                                                       |\u001b[0m\n",
              "\u001b[32m✓\u001b[0m\u001b[32m | ⏱: \u001b[0m\u001b[1;32m1.\u001b[0m\u001b[32m61s \u001b[0m\n"
            ],
            "text/html": [
              "<pre style=\"white-space:pre;overflow-x:auto;line-height:normal;font-family:Menlo,'DejaVu Sans Mono',consolas,'Courier New',monospace\"><span style=\"color: #008000; text-decoration-color: #008000; font-weight: bold\">[</span><span style=\"color: #008000; text-decoration-color: #008000\">COMPLETE</span><span style=\"color: #008000; text-decoration-color: #008000; font-weight: bold\">]</span><span style=\"color: #008000; text-decoration-color: #008000\"> ● </span><span style=\"color: #008000; text-decoration-color: #008000; text-decoration: underline\">https://www.startech.com.bd/dell-all-in-one-pc</span><span style=\"color: #008000; text-decoration-color: #008000\">                                                       |</span>\n",
              "<span style=\"color: #008000; text-decoration-color: #008000\">✓ | ⏱: </span><span style=\"color: #008000; text-decoration-color: #008000; font-weight: bold\">1.</span><span style=\"color: #008000; text-decoration-color: #008000\">61s </span>\n",
              "</pre>\n"
            ]
          },
          "metadata": {}
        },
        {
          "output_type": "stream",
          "name": "stdout",
          "text": [
            "     ✅ 4 products\n",
            "  📂 Processing subcategory 2/5: HP\n"
          ]
        },
        {
          "output_type": "display_data",
          "data": {
            "text/plain": [
              "\u001b[1;36m[\u001b[0m\u001b[36mINIT\u001b[0m\u001b[1;36m]\u001b[0m\u001b[36m...\u001b[0m\u001b[36m. → Crawl4AI \u001b[0m\u001b[1;36m0.7\u001b[0m\u001b[36m.\u001b[0m\u001b[1;36m4\u001b[0m\u001b[36m \u001b[0m\n"
            ],
            "text/html": [
              "<pre style=\"white-space:pre;overflow-x:auto;line-height:normal;font-family:Menlo,'DejaVu Sans Mono',consolas,'Courier New',monospace\"><span style=\"color: #008080; text-decoration-color: #008080; font-weight: bold\">[</span><span style=\"color: #008080; text-decoration-color: #008080\">INIT</span><span style=\"color: #008080; text-decoration-color: #008080; font-weight: bold\">]</span><span style=\"color: #008080; text-decoration-color: #008080\">.... → Crawl4AI </span><span style=\"color: #008080; text-decoration-color: #008080; font-weight: bold\">0.7</span><span style=\"color: #008080; text-decoration-color: #008080\">.</span><span style=\"color: #008080; text-decoration-color: #008080; font-weight: bold\">4</span><span style=\"color: #008080; text-decoration-color: #008080\"> </span>\n",
              "</pre>\n"
            ]
          },
          "metadata": {}
        },
        {
          "output_type": "display_data",
          "data": {
            "text/plain": [
              "\u001b[1;32m[\u001b[0m\u001b[32mFETCH\u001b[0m\u001b[1;32m]\u001b[0m\u001b[32m...\u001b[0m\u001b[32m ↓ \u001b[0m\u001b[4;32mhttps://www.startech.com.bd/hp-all-in-one-pc\u001b[0m\u001b[32m                                                         |\u001b[0m\n",
              "\u001b[32m✓\u001b[0m\u001b[32m | ⏱: \u001b[0m\u001b[1;32m1.\u001b[0m\u001b[32m60s \u001b[0m\n"
            ],
            "text/html": [
              "<pre style=\"white-space:pre;overflow-x:auto;line-height:normal;font-family:Menlo,'DejaVu Sans Mono',consolas,'Courier New',monospace\"><span style=\"color: #008000; text-decoration-color: #008000; font-weight: bold\">[</span><span style=\"color: #008000; text-decoration-color: #008000\">FETCH</span><span style=\"color: #008000; text-decoration-color: #008000; font-weight: bold\">]</span><span style=\"color: #008000; text-decoration-color: #008000\">... ↓ </span><span style=\"color: #008000; text-decoration-color: #008000; text-decoration: underline\">https://www.startech.com.bd/hp-all-in-one-pc</span><span style=\"color: #008000; text-decoration-color: #008000\">                                                         |</span>\n",
              "<span style=\"color: #008000; text-decoration-color: #008000\">✓ | ⏱: </span><span style=\"color: #008000; text-decoration-color: #008000; font-weight: bold\">1.</span><span style=\"color: #008000; text-decoration-color: #008000\">60s </span>\n",
              "</pre>\n"
            ]
          },
          "metadata": {}
        },
        {
          "output_type": "display_data",
          "data": {
            "text/plain": [
              "\u001b[1;32m[\u001b[0m\u001b[32mSCRAPE\u001b[0m\u001b[1;32m]\u001b[0m\u001b[32m.. ◆ \u001b[0m\u001b[4;32mhttps://www.startech.com.bd/hp-all-in-one-pc\u001b[0m\u001b[32m                                                         |\u001b[0m\n",
              "\u001b[32m✓\u001b[0m\u001b[32m | ⏱: \u001b[0m\u001b[1;33m0.\u001b[0m\u001b[33m32\u001b[0m\u001b[32ms \u001b[0m\n"
            ],
            "text/html": [
              "<pre style=\"white-space:pre;overflow-x:auto;line-height:normal;font-family:Menlo,'DejaVu Sans Mono',consolas,'Courier New',monospace\"><span style=\"color: #008000; text-decoration-color: #008000; font-weight: bold\">[</span><span style=\"color: #008000; text-decoration-color: #008000\">SCRAPE</span><span style=\"color: #008000; text-decoration-color: #008000; font-weight: bold\">]</span><span style=\"color: #008000; text-decoration-color: #008000\">.. ◆ </span><span style=\"color: #008000; text-decoration-color: #008000; text-decoration: underline\">https://www.startech.com.bd/hp-all-in-one-pc</span><span style=\"color: #008000; text-decoration-color: #008000\">                                                         |</span>\n",
              "<span style=\"color: #008000; text-decoration-color: #008000\">✓ | ⏱: </span><span style=\"color: #808000; text-decoration-color: #808000; font-weight: bold\">0.</span><span style=\"color: #808000; text-decoration-color: #808000\">32</span><span style=\"color: #008000; text-decoration-color: #008000\">s </span>\n",
              "</pre>\n"
            ]
          },
          "metadata": {}
        },
        {
          "output_type": "display_data",
          "data": {
            "text/plain": [
              "\u001b[1;32m[\u001b[0m\u001b[32mCOMPLETE\u001b[0m\u001b[1;32m]\u001b[0m\u001b[32m ● \u001b[0m\u001b[4;32mhttps://www.startech.com.bd/hp-all-in-one-pc\u001b[0m\u001b[32m                                                         |\u001b[0m\n",
              "\u001b[32m✓\u001b[0m\u001b[32m | ⏱: \u001b[0m\u001b[1;32m1.\u001b[0m\u001b[32m94s \u001b[0m\n"
            ],
            "text/html": [
              "<pre style=\"white-space:pre;overflow-x:auto;line-height:normal;font-family:Menlo,'DejaVu Sans Mono',consolas,'Courier New',monospace\"><span style=\"color: #008000; text-decoration-color: #008000; font-weight: bold\">[</span><span style=\"color: #008000; text-decoration-color: #008000\">COMPLETE</span><span style=\"color: #008000; text-decoration-color: #008000; font-weight: bold\">]</span><span style=\"color: #008000; text-decoration-color: #008000\"> ● </span><span style=\"color: #008000; text-decoration-color: #008000; text-decoration: underline\">https://www.startech.com.bd/hp-all-in-one-pc</span><span style=\"color: #008000; text-decoration-color: #008000\">                                                         |</span>\n",
              "<span style=\"color: #008000; text-decoration-color: #008000\">✓ | ⏱: </span><span style=\"color: #008000; text-decoration-color: #008000; font-weight: bold\">1.</span><span style=\"color: #008000; text-decoration-color: #008000\">94s </span>\n",
              "</pre>\n"
            ]
          },
          "metadata": {}
        },
        {
          "output_type": "stream",
          "name": "stdout",
          "text": [
            "     ✅ 5 products\n",
            "  📂 Processing subcategory 3/5: ASUS\n"
          ]
        },
        {
          "output_type": "display_data",
          "data": {
            "text/plain": [
              "\u001b[1;36m[\u001b[0m\u001b[36mINIT\u001b[0m\u001b[1;36m]\u001b[0m\u001b[36m...\u001b[0m\u001b[36m. → Crawl4AI \u001b[0m\u001b[1;36m0.7\u001b[0m\u001b[36m.\u001b[0m\u001b[1;36m4\u001b[0m\u001b[36m \u001b[0m\n"
            ],
            "text/html": [
              "<pre style=\"white-space:pre;overflow-x:auto;line-height:normal;font-family:Menlo,'DejaVu Sans Mono',consolas,'Courier New',monospace\"><span style=\"color: #008080; text-decoration-color: #008080; font-weight: bold\">[</span><span style=\"color: #008080; text-decoration-color: #008080\">INIT</span><span style=\"color: #008080; text-decoration-color: #008080; font-weight: bold\">]</span><span style=\"color: #008080; text-decoration-color: #008080\">.... → Crawl4AI </span><span style=\"color: #008080; text-decoration-color: #008080; font-weight: bold\">0.7</span><span style=\"color: #008080; text-decoration-color: #008080\">.</span><span style=\"color: #008080; text-decoration-color: #008080; font-weight: bold\">4</span><span style=\"color: #008080; text-decoration-color: #008080\"> </span>\n",
              "</pre>\n"
            ]
          },
          "metadata": {}
        },
        {
          "output_type": "display_data",
          "data": {
            "text/plain": [
              "\u001b[1;32m[\u001b[0m\u001b[32mFETCH\u001b[0m\u001b[1;32m]\u001b[0m\u001b[32m...\u001b[0m\u001b[32m ↓ \u001b[0m\u001b[4;32mhttps://www.startech.com.bd/asus-all-in-one-pc\u001b[0m\u001b[32m                                                       |\u001b[0m\n",
              "\u001b[32m✓\u001b[0m\u001b[32m | ⏱: \u001b[0m\u001b[1;32m1.\u001b[0m\u001b[32m24s \u001b[0m\n"
            ],
            "text/html": [
              "<pre style=\"white-space:pre;overflow-x:auto;line-height:normal;font-family:Menlo,'DejaVu Sans Mono',consolas,'Courier New',monospace\"><span style=\"color: #008000; text-decoration-color: #008000; font-weight: bold\">[</span><span style=\"color: #008000; text-decoration-color: #008000\">FETCH</span><span style=\"color: #008000; text-decoration-color: #008000; font-weight: bold\">]</span><span style=\"color: #008000; text-decoration-color: #008000\">... ↓ </span><span style=\"color: #008000; text-decoration-color: #008000; text-decoration: underline\">https://www.startech.com.bd/asus-all-in-one-pc</span><span style=\"color: #008000; text-decoration-color: #008000\">                                                       |</span>\n",
              "<span style=\"color: #008000; text-decoration-color: #008000\">✓ | ⏱: </span><span style=\"color: #008000; text-decoration-color: #008000; font-weight: bold\">1.</span><span style=\"color: #008000; text-decoration-color: #008000\">24s </span>\n",
              "</pre>\n"
            ]
          },
          "metadata": {}
        },
        {
          "output_type": "display_data",
          "data": {
            "text/plain": [
              "\u001b[1;32m[\u001b[0m\u001b[32mSCRAPE\u001b[0m\u001b[1;32m]\u001b[0m\u001b[32m.. ◆ \u001b[0m\u001b[4;32mhttps://www.startech.com.bd/asus-all-in-one-pc\u001b[0m\u001b[32m                                                       |\u001b[0m\n",
              "\u001b[32m✓\u001b[0m\u001b[32m | ⏱: \u001b[0m\u001b[1;32m0.\u001b[0m\u001b[32m31s \u001b[0m\n"
            ],
            "text/html": [
              "<pre style=\"white-space:pre;overflow-x:auto;line-height:normal;font-family:Menlo,'DejaVu Sans Mono',consolas,'Courier New',monospace\"><span style=\"color: #008000; text-decoration-color: #008000; font-weight: bold\">[</span><span style=\"color: #008000; text-decoration-color: #008000\">SCRAPE</span><span style=\"color: #008000; text-decoration-color: #008000; font-weight: bold\">]</span><span style=\"color: #008000; text-decoration-color: #008000\">.. ◆ </span><span style=\"color: #008000; text-decoration-color: #008000; text-decoration: underline\">https://www.startech.com.bd/asus-all-in-one-pc</span><span style=\"color: #008000; text-decoration-color: #008000\">                                                       |</span>\n",
              "<span style=\"color: #008000; text-decoration-color: #008000\">✓ | ⏱: </span><span style=\"color: #008000; text-decoration-color: #008000; font-weight: bold\">0.</span><span style=\"color: #008000; text-decoration-color: #008000\">31s </span>\n",
              "</pre>\n"
            ]
          },
          "metadata": {}
        },
        {
          "output_type": "display_data",
          "data": {
            "text/plain": [
              "\u001b[1;32m[\u001b[0m\u001b[32mCOMPLETE\u001b[0m\u001b[1;32m]\u001b[0m\u001b[32m ● \u001b[0m\u001b[4;32mhttps://www.startech.com.bd/asus-all-in-one-pc\u001b[0m\u001b[32m                                                       |\u001b[0m\n",
              "\u001b[32m✓\u001b[0m\u001b[32m | ⏱: \u001b[0m\u001b[1;32m1.\u001b[0m\u001b[32m56s \u001b[0m\n"
            ],
            "text/html": [
              "<pre style=\"white-space:pre;overflow-x:auto;line-height:normal;font-family:Menlo,'DejaVu Sans Mono',consolas,'Courier New',monospace\"><span style=\"color: #008000; text-decoration-color: #008000; font-weight: bold\">[</span><span style=\"color: #008000; text-decoration-color: #008000\">COMPLETE</span><span style=\"color: #008000; text-decoration-color: #008000; font-weight: bold\">]</span><span style=\"color: #008000; text-decoration-color: #008000\"> ● </span><span style=\"color: #008000; text-decoration-color: #008000; text-decoration: underline\">https://www.startech.com.bd/asus-all-in-one-pc</span><span style=\"color: #008000; text-decoration-color: #008000\">                                                       |</span>\n",
              "<span style=\"color: #008000; text-decoration-color: #008000\">✓ | ⏱: </span><span style=\"color: #008000; text-decoration-color: #008000; font-weight: bold\">1.</span><span style=\"color: #008000; text-decoration-color: #008000\">56s </span>\n",
              "</pre>\n"
            ]
          },
          "metadata": {}
        },
        {
          "output_type": "stream",
          "name": "stdout",
          "text": [
            "     ✅ 4 products\n",
            "  📂 Processing subcategory 4/5: LENOVO\n"
          ]
        },
        {
          "output_type": "display_data",
          "data": {
            "text/plain": [
              "\u001b[1;36m[\u001b[0m\u001b[36mINIT\u001b[0m\u001b[1;36m]\u001b[0m\u001b[36m...\u001b[0m\u001b[36m. → Crawl4AI \u001b[0m\u001b[1;36m0.7\u001b[0m\u001b[36m.\u001b[0m\u001b[1;36m4\u001b[0m\u001b[36m \u001b[0m\n"
            ],
            "text/html": [
              "<pre style=\"white-space:pre;overflow-x:auto;line-height:normal;font-family:Menlo,'DejaVu Sans Mono',consolas,'Courier New',monospace\"><span style=\"color: #008080; text-decoration-color: #008080; font-weight: bold\">[</span><span style=\"color: #008080; text-decoration-color: #008080\">INIT</span><span style=\"color: #008080; text-decoration-color: #008080; font-weight: bold\">]</span><span style=\"color: #008080; text-decoration-color: #008080\">.... → Crawl4AI </span><span style=\"color: #008080; text-decoration-color: #008080; font-weight: bold\">0.7</span><span style=\"color: #008080; text-decoration-color: #008080\">.</span><span style=\"color: #008080; text-decoration-color: #008080; font-weight: bold\">4</span><span style=\"color: #008080; text-decoration-color: #008080\"> </span>\n",
              "</pre>\n"
            ]
          },
          "metadata": {}
        },
        {
          "output_type": "display_data",
          "data": {
            "text/plain": [
              "\u001b[1;32m[\u001b[0m\u001b[32mFETCH\u001b[0m\u001b[1;32m]\u001b[0m\u001b[32m...\u001b[0m\u001b[32m ↓ \u001b[0m\u001b[4;32mhttps://www.startech.com.bd/desktops/all-in-one-pc/lenovo-all-in-one\u001b[0m\u001b[32m                                 |\u001b[0m\n",
              "\u001b[32m✓\u001b[0m\u001b[32m | ⏱: \u001b[0m\u001b[1;32m1.\u001b[0m\u001b[32m20s \u001b[0m\n"
            ],
            "text/html": [
              "<pre style=\"white-space:pre;overflow-x:auto;line-height:normal;font-family:Menlo,'DejaVu Sans Mono',consolas,'Courier New',monospace\"><span style=\"color: #008000; text-decoration-color: #008000; font-weight: bold\">[</span><span style=\"color: #008000; text-decoration-color: #008000\">FETCH</span><span style=\"color: #008000; text-decoration-color: #008000; font-weight: bold\">]</span><span style=\"color: #008000; text-decoration-color: #008000\">... ↓ </span><span style=\"color: #008000; text-decoration-color: #008000; text-decoration: underline\">https://www.startech.com.bd/desktops/all-in-one-pc/lenovo-all-in-one</span><span style=\"color: #008000; text-decoration-color: #008000\">                                 |</span>\n",
              "<span style=\"color: #008000; text-decoration-color: #008000\">✓ | ⏱: </span><span style=\"color: #008000; text-decoration-color: #008000; font-weight: bold\">1.</span><span style=\"color: #008000; text-decoration-color: #008000\">20s </span>\n",
              "</pre>\n"
            ]
          },
          "metadata": {}
        },
        {
          "output_type": "display_data",
          "data": {
            "text/plain": [
              "\u001b[1;32m[\u001b[0m\u001b[32mSCRAPE\u001b[0m\u001b[1;32m]\u001b[0m\u001b[32m.. ◆ \u001b[0m\u001b[4;32mhttps://www.startech.com.bd/desktops/all-in-one-pc/lenovo-all-in-one\u001b[0m\u001b[32m                                 |\u001b[0m\n",
              "\u001b[32m✓\u001b[0m\u001b[32m | ⏱: \u001b[0m\u001b[1;32m0.\u001b[0m\u001b[32m27s \u001b[0m\n"
            ],
            "text/html": [
              "<pre style=\"white-space:pre;overflow-x:auto;line-height:normal;font-family:Menlo,'DejaVu Sans Mono',consolas,'Courier New',monospace\"><span style=\"color: #008000; text-decoration-color: #008000; font-weight: bold\">[</span><span style=\"color: #008000; text-decoration-color: #008000\">SCRAPE</span><span style=\"color: #008000; text-decoration-color: #008000; font-weight: bold\">]</span><span style=\"color: #008000; text-decoration-color: #008000\">.. ◆ </span><span style=\"color: #008000; text-decoration-color: #008000; text-decoration: underline\">https://www.startech.com.bd/desktops/all-in-one-pc/lenovo-all-in-one</span><span style=\"color: #008000; text-decoration-color: #008000\">                                 |</span>\n",
              "<span style=\"color: #008000; text-decoration-color: #008000\">✓ | ⏱: </span><span style=\"color: #008000; text-decoration-color: #008000; font-weight: bold\">0.</span><span style=\"color: #008000; text-decoration-color: #008000\">27s </span>\n",
              "</pre>\n"
            ]
          },
          "metadata": {}
        },
        {
          "output_type": "display_data",
          "data": {
            "text/plain": [
              "\u001b[1;32m[\u001b[0m\u001b[32mCOMPLETE\u001b[0m\u001b[1;32m]\u001b[0m\u001b[32m ● \u001b[0m\u001b[4;32mhttps://www.startech.com.bd/desktops/all-in-one-pc/lenovo-all-in-one\u001b[0m\u001b[32m                                 |\u001b[0m\n",
              "\u001b[32m✓\u001b[0m\u001b[32m | ⏱: \u001b[0m\u001b[1;32m1.\u001b[0m\u001b[32m48s \u001b[0m\n"
            ],
            "text/html": [
              "<pre style=\"white-space:pre;overflow-x:auto;line-height:normal;font-family:Menlo,'DejaVu Sans Mono',consolas,'Courier New',monospace\"><span style=\"color: #008000; text-decoration-color: #008000; font-weight: bold\">[</span><span style=\"color: #008000; text-decoration-color: #008000\">COMPLETE</span><span style=\"color: #008000; text-decoration-color: #008000; font-weight: bold\">]</span><span style=\"color: #008000; text-decoration-color: #008000\"> ● </span><span style=\"color: #008000; text-decoration-color: #008000; text-decoration: underline\">https://www.startech.com.bd/desktops/all-in-one-pc/lenovo-all-in-one</span><span style=\"color: #008000; text-decoration-color: #008000\">                                 |</span>\n",
              "<span style=\"color: #008000; text-decoration-color: #008000\">✓ | ⏱: </span><span style=\"color: #008000; text-decoration-color: #008000; font-weight: bold\">1.</span><span style=\"color: #008000; text-decoration-color: #008000\">48s </span>\n",
              "</pre>\n"
            ]
          },
          "metadata": {}
        },
        {
          "output_type": "stream",
          "name": "stdout",
          "text": [
            "     ✅ 1 products\n",
            "  📂 Processing subcategory 5/5: Teclast\n"
          ]
        },
        {
          "output_type": "display_data",
          "data": {
            "text/plain": [
              "\u001b[1;36m[\u001b[0m\u001b[36mINIT\u001b[0m\u001b[1;36m]\u001b[0m\u001b[36m...\u001b[0m\u001b[36m. → Crawl4AI \u001b[0m\u001b[1;36m0.7\u001b[0m\u001b[36m.\u001b[0m\u001b[1;36m4\u001b[0m\u001b[36m \u001b[0m\n"
            ],
            "text/html": [
              "<pre style=\"white-space:pre;overflow-x:auto;line-height:normal;font-family:Menlo,'DejaVu Sans Mono',consolas,'Courier New',monospace\"><span style=\"color: #008080; text-decoration-color: #008080; font-weight: bold\">[</span><span style=\"color: #008080; text-decoration-color: #008080\">INIT</span><span style=\"color: #008080; text-decoration-color: #008080; font-weight: bold\">]</span><span style=\"color: #008080; text-decoration-color: #008080\">.... → Crawl4AI </span><span style=\"color: #008080; text-decoration-color: #008080; font-weight: bold\">0.7</span><span style=\"color: #008080; text-decoration-color: #008080\">.</span><span style=\"color: #008080; text-decoration-color: #008080; font-weight: bold\">4</span><span style=\"color: #008080; text-decoration-color: #008080\"> </span>\n",
              "</pre>\n"
            ]
          },
          "metadata": {}
        },
        {
          "output_type": "display_data",
          "data": {
            "text/plain": [
              "\u001b[1;32m[\u001b[0m\u001b[32mFETCH\u001b[0m\u001b[1;32m]\u001b[0m\u001b[32m...\u001b[0m\u001b[32m ↓ \u001b[0m\u001b[4;32mhttps://www.startech.com.bd/teclast-all-in-one-pc\u001b[0m\u001b[32m                                                    |\u001b[0m\n",
              "\u001b[32m✓\u001b[0m\u001b[32m | ⏱: \u001b[0m\u001b[1;32m1.\u001b[0m\u001b[32m52s \u001b[0m\n"
            ],
            "text/html": [
              "<pre style=\"white-space:pre;overflow-x:auto;line-height:normal;font-family:Menlo,'DejaVu Sans Mono',consolas,'Courier New',monospace\"><span style=\"color: #008000; text-decoration-color: #008000; font-weight: bold\">[</span><span style=\"color: #008000; text-decoration-color: #008000\">FETCH</span><span style=\"color: #008000; text-decoration-color: #008000; font-weight: bold\">]</span><span style=\"color: #008000; text-decoration-color: #008000\">... ↓ </span><span style=\"color: #008000; text-decoration-color: #008000; text-decoration: underline\">https://www.startech.com.bd/teclast-all-in-one-pc</span><span style=\"color: #008000; text-decoration-color: #008000\">                                                    |</span>\n",
              "<span style=\"color: #008000; text-decoration-color: #008000\">✓ | ⏱: </span><span style=\"color: #008000; text-decoration-color: #008000; font-weight: bold\">1.</span><span style=\"color: #008000; text-decoration-color: #008000\">52s </span>\n",
              "</pre>\n"
            ]
          },
          "metadata": {}
        },
        {
          "output_type": "display_data",
          "data": {
            "text/plain": [
              "\u001b[1;32m[\u001b[0m\u001b[32mSCRAPE\u001b[0m\u001b[1;32m]\u001b[0m\u001b[32m.. ◆ \u001b[0m\u001b[4;32mhttps://www.startech.com.bd/teclast-all-in-one-pc\u001b[0m\u001b[32m                                                    |\u001b[0m\n",
              "\u001b[32m✓\u001b[0m\u001b[32m | ⏱: \u001b[0m\u001b[1;32m0.\u001b[0m\u001b[32m73s \u001b[0m\n"
            ],
            "text/html": [
              "<pre style=\"white-space:pre;overflow-x:auto;line-height:normal;font-family:Menlo,'DejaVu Sans Mono',consolas,'Courier New',monospace\"><span style=\"color: #008000; text-decoration-color: #008000; font-weight: bold\">[</span><span style=\"color: #008000; text-decoration-color: #008000\">SCRAPE</span><span style=\"color: #008000; text-decoration-color: #008000; font-weight: bold\">]</span><span style=\"color: #008000; text-decoration-color: #008000\">.. ◆ </span><span style=\"color: #008000; text-decoration-color: #008000; text-decoration: underline\">https://www.startech.com.bd/teclast-all-in-one-pc</span><span style=\"color: #008000; text-decoration-color: #008000\">                                                    |</span>\n",
              "<span style=\"color: #008000; text-decoration-color: #008000\">✓ | ⏱: </span><span style=\"color: #008000; text-decoration-color: #008000; font-weight: bold\">0.</span><span style=\"color: #008000; text-decoration-color: #008000\">73s </span>\n",
              "</pre>\n"
            ]
          },
          "metadata": {}
        },
        {
          "output_type": "display_data",
          "data": {
            "text/plain": [
              "\u001b[1;32m[\u001b[0m\u001b[32mCOMPLETE\u001b[0m\u001b[1;32m]\u001b[0m\u001b[32m ● \u001b[0m\u001b[4;32mhttps://www.startech.com.bd/teclast-all-in-one-pc\u001b[0m\u001b[32m                                                    |\u001b[0m\n",
              "\u001b[32m✓\u001b[0m\u001b[32m | ⏱: \u001b[0m\u001b[1;32m2.\u001b[0m\u001b[32m26s \u001b[0m\n"
            ],
            "text/html": [
              "<pre style=\"white-space:pre;overflow-x:auto;line-height:normal;font-family:Menlo,'DejaVu Sans Mono',consolas,'Courier New',monospace\"><span style=\"color: #008000; text-decoration-color: #008000; font-weight: bold\">[</span><span style=\"color: #008000; text-decoration-color: #008000\">COMPLETE</span><span style=\"color: #008000; text-decoration-color: #008000; font-weight: bold\">]</span><span style=\"color: #008000; text-decoration-color: #008000\"> ● </span><span style=\"color: #008000; text-decoration-color: #008000; text-decoration: underline\">https://www.startech.com.bd/teclast-all-in-one-pc</span><span style=\"color: #008000; text-decoration-color: #008000\">                                                    |</span>\n",
              "<span style=\"color: #008000; text-decoration-color: #008000\">✓ | ⏱: </span><span style=\"color: #008000; text-decoration-color: #008000; font-weight: bold\">2.</span><span style=\"color: #008000; text-decoration-color: #008000\">26s </span>\n",
              "</pre>\n"
            ]
          },
          "metadata": {}
        },
        {
          "output_type": "stream",
          "name": "stdout",
          "text": [
            "     ✅ 2 products\n",
            "📊 Total products so far: 290\n",
            "\n",
            "--- Processing Category 6/10: Portable Mini PC ---\n"
          ]
        },
        {
          "output_type": "display_data",
          "data": {
            "text/plain": [
              "\u001b[1;36m[\u001b[0m\u001b[36mINIT\u001b[0m\u001b[1;36m]\u001b[0m\u001b[36m...\u001b[0m\u001b[36m. → Crawl4AI \u001b[0m\u001b[1;36m0.7\u001b[0m\u001b[36m.\u001b[0m\u001b[1;36m4\u001b[0m\u001b[36m \u001b[0m\n"
            ],
            "text/html": [
              "<pre style=\"white-space:pre;overflow-x:auto;line-height:normal;font-family:Menlo,'DejaVu Sans Mono',consolas,'Courier New',monospace\"><span style=\"color: #008080; text-decoration-color: #008080; font-weight: bold\">[</span><span style=\"color: #008080; text-decoration-color: #008080\">INIT</span><span style=\"color: #008080; text-decoration-color: #008080; font-weight: bold\">]</span><span style=\"color: #008080; text-decoration-color: #008080\">.... → Crawl4AI </span><span style=\"color: #008080; text-decoration-color: #008080; font-weight: bold\">0.7</span><span style=\"color: #008080; text-decoration-color: #008080\">.</span><span style=\"color: #008080; text-decoration-color: #008080; font-weight: bold\">4</span><span style=\"color: #008080; text-decoration-color: #008080\"> </span>\n",
              "</pre>\n"
            ]
          },
          "metadata": {}
        },
        {
          "output_type": "display_data",
          "data": {
            "text/plain": [
              "\u001b[1;32m[\u001b[0m\u001b[32mFETCH\u001b[0m\u001b[1;32m]\u001b[0m\u001b[32m...\u001b[0m\u001b[32m ↓ \u001b[0m\u001b[4;32mhttps://www.startech.com.bd/desktops/portable-mini-pc\u001b[0m\u001b[32m                                                |\u001b[0m\n",
              "\u001b[32m✓\u001b[0m\u001b[32m | ⏱: \u001b[0m\u001b[1;32m1.\u001b[0m\u001b[32m31s \u001b[0m\n"
            ],
            "text/html": [
              "<pre style=\"white-space:pre;overflow-x:auto;line-height:normal;font-family:Menlo,'DejaVu Sans Mono',consolas,'Courier New',monospace\"><span style=\"color: #008000; text-decoration-color: #008000; font-weight: bold\">[</span><span style=\"color: #008000; text-decoration-color: #008000\">FETCH</span><span style=\"color: #008000; text-decoration-color: #008000; font-weight: bold\">]</span><span style=\"color: #008000; text-decoration-color: #008000\">... ↓ </span><span style=\"color: #008000; text-decoration-color: #008000; text-decoration: underline\">https://www.startech.com.bd/desktops/portable-mini-pc</span><span style=\"color: #008000; text-decoration-color: #008000\">                                                |</span>\n",
              "<span style=\"color: #008000; text-decoration-color: #008000\">✓ | ⏱: </span><span style=\"color: #008000; text-decoration-color: #008000; font-weight: bold\">1.</span><span style=\"color: #008000; text-decoration-color: #008000\">31s </span>\n",
              "</pre>\n"
            ]
          },
          "metadata": {}
        },
        {
          "output_type": "display_data",
          "data": {
            "text/plain": [
              "\u001b[1;32m[\u001b[0m\u001b[32mSCRAPE\u001b[0m\u001b[1;32m]\u001b[0m\u001b[32m.. ◆ \u001b[0m\u001b[4;32mhttps://www.startech.com.bd/desktops/portable-mini-pc\u001b[0m\u001b[32m                                                |\u001b[0m\n",
              "\u001b[32m✓\u001b[0m\u001b[32m | ⏱: \u001b[0m\u001b[1;32m0.\u001b[0m\u001b[32m29s \u001b[0m\n"
            ],
            "text/html": [
              "<pre style=\"white-space:pre;overflow-x:auto;line-height:normal;font-family:Menlo,'DejaVu Sans Mono',consolas,'Courier New',monospace\"><span style=\"color: #008000; text-decoration-color: #008000; font-weight: bold\">[</span><span style=\"color: #008000; text-decoration-color: #008000\">SCRAPE</span><span style=\"color: #008000; text-decoration-color: #008000; font-weight: bold\">]</span><span style=\"color: #008000; text-decoration-color: #008000\">.. ◆ </span><span style=\"color: #008000; text-decoration-color: #008000; text-decoration: underline\">https://www.startech.com.bd/desktops/portable-mini-pc</span><span style=\"color: #008000; text-decoration-color: #008000\">                                                |</span>\n",
              "<span style=\"color: #008000; text-decoration-color: #008000\">✓ | ⏱: </span><span style=\"color: #008000; text-decoration-color: #008000; font-weight: bold\">0.</span><span style=\"color: #008000; text-decoration-color: #008000\">29s </span>\n",
              "</pre>\n"
            ]
          },
          "metadata": {}
        },
        {
          "output_type": "display_data",
          "data": {
            "text/plain": [
              "\u001b[1;32m[\u001b[0m\u001b[32mCOMPLETE\u001b[0m\u001b[1;32m]\u001b[0m\u001b[32m ● \u001b[0m\u001b[4;32mhttps://www.startech.com.bd/desktops/portable-mini-pc\u001b[0m\u001b[32m                                                |\u001b[0m\n",
              "\u001b[32m✓\u001b[0m\u001b[32m | ⏱: \u001b[0m\u001b[1;32m1.\u001b[0m\u001b[32m61s \u001b[0m\n"
            ],
            "text/html": [
              "<pre style=\"white-space:pre;overflow-x:auto;line-height:normal;font-family:Menlo,'DejaVu Sans Mono',consolas,'Courier New',monospace\"><span style=\"color: #008000; text-decoration-color: #008000; font-weight: bold\">[</span><span style=\"color: #008000; text-decoration-color: #008000\">COMPLETE</span><span style=\"color: #008000; text-decoration-color: #008000; font-weight: bold\">]</span><span style=\"color: #008000; text-decoration-color: #008000\"> ● </span><span style=\"color: #008000; text-decoration-color: #008000; text-decoration: underline\">https://www.startech.com.bd/desktops/portable-mini-pc</span><span style=\"color: #008000; text-decoration-color: #008000\">                                                |</span>\n",
              "<span style=\"color: #008000; text-decoration-color: #008000\">✓ | ⏱: </span><span style=\"color: #008000; text-decoration-color: #008000; font-weight: bold\">1.</span><span style=\"color: #008000; text-decoration-color: #008000\">61s </span>\n",
              "</pre>\n"
            ]
          },
          "metadata": {}
        },
        {
          "output_type": "stream",
          "name": "stdout",
          "text": [
            "✅ Main category: 16 products\n",
            "  📂 Processing subcategory 1/5: Asus\n"
          ]
        },
        {
          "output_type": "display_data",
          "data": {
            "text/plain": [
              "\u001b[1;36m[\u001b[0m\u001b[36mINIT\u001b[0m\u001b[1;36m]\u001b[0m\u001b[36m...\u001b[0m\u001b[36m. → Crawl4AI \u001b[0m\u001b[1;36m0.7\u001b[0m\u001b[36m.\u001b[0m\u001b[1;36m4\u001b[0m\u001b[36m \u001b[0m\n"
            ],
            "text/html": [
              "<pre style=\"white-space:pre;overflow-x:auto;line-height:normal;font-family:Menlo,'DejaVu Sans Mono',consolas,'Courier New',monospace\"><span style=\"color: #008080; text-decoration-color: #008080; font-weight: bold\">[</span><span style=\"color: #008080; text-decoration-color: #008080\">INIT</span><span style=\"color: #008080; text-decoration-color: #008080; font-weight: bold\">]</span><span style=\"color: #008080; text-decoration-color: #008080\">.... → Crawl4AI </span><span style=\"color: #008080; text-decoration-color: #008080; font-weight: bold\">0.7</span><span style=\"color: #008080; text-decoration-color: #008080\">.</span><span style=\"color: #008080; text-decoration-color: #008080; font-weight: bold\">4</span><span style=\"color: #008080; text-decoration-color: #008080\"> </span>\n",
              "</pre>\n"
            ]
          },
          "metadata": {}
        },
        {
          "output_type": "display_data",
          "data": {
            "text/plain": [
              "\u001b[1;32m[\u001b[0m\u001b[32mFETCH\u001b[0m\u001b[1;32m]\u001b[0m\u001b[32m...\u001b[0m\u001b[32m ↓ \u001b[0m\u001b[4;32mhttps://www.startech.com.bd/asus-mini-pc\u001b[0m\u001b[32m                                                             |\u001b[0m\n",
              "\u001b[32m✓\u001b[0m\u001b[32m | ⏱: \u001b[0m\u001b[1;32m1.\u001b[0m\u001b[32m34s \u001b[0m\n"
            ],
            "text/html": [
              "<pre style=\"white-space:pre;overflow-x:auto;line-height:normal;font-family:Menlo,'DejaVu Sans Mono',consolas,'Courier New',monospace\"><span style=\"color: #008000; text-decoration-color: #008000; font-weight: bold\">[</span><span style=\"color: #008000; text-decoration-color: #008000\">FETCH</span><span style=\"color: #008000; text-decoration-color: #008000; font-weight: bold\">]</span><span style=\"color: #008000; text-decoration-color: #008000\">... ↓ </span><span style=\"color: #008000; text-decoration-color: #008000; text-decoration: underline\">https://www.startech.com.bd/asus-mini-pc</span><span style=\"color: #008000; text-decoration-color: #008000\">                                                             |</span>\n",
              "<span style=\"color: #008000; text-decoration-color: #008000\">✓ | ⏱: </span><span style=\"color: #008000; text-decoration-color: #008000; font-weight: bold\">1.</span><span style=\"color: #008000; text-decoration-color: #008000\">34s </span>\n",
              "</pre>\n"
            ]
          },
          "metadata": {}
        },
        {
          "output_type": "display_data",
          "data": {
            "text/plain": [
              "\u001b[1;32m[\u001b[0m\u001b[32mSCRAPE\u001b[0m\u001b[1;32m]\u001b[0m\u001b[32m.. ◆ \u001b[0m\u001b[4;32mhttps://www.startech.com.bd/asus-mini-pc\u001b[0m\u001b[32m                                                             |\u001b[0m\n",
              "\u001b[32m✓\u001b[0m\u001b[32m | ⏱: \u001b[0m\u001b[1;32m0.\u001b[0m\u001b[32m32s \u001b[0m\n"
            ],
            "text/html": [
              "<pre style=\"white-space:pre;overflow-x:auto;line-height:normal;font-family:Menlo,'DejaVu Sans Mono',consolas,'Courier New',monospace\"><span style=\"color: #008000; text-decoration-color: #008000; font-weight: bold\">[</span><span style=\"color: #008000; text-decoration-color: #008000\">SCRAPE</span><span style=\"color: #008000; text-decoration-color: #008000; font-weight: bold\">]</span><span style=\"color: #008000; text-decoration-color: #008000\">.. ◆ </span><span style=\"color: #008000; text-decoration-color: #008000; text-decoration: underline\">https://www.startech.com.bd/asus-mini-pc</span><span style=\"color: #008000; text-decoration-color: #008000\">                                                             |</span>\n",
              "<span style=\"color: #008000; text-decoration-color: #008000\">✓ | ⏱: </span><span style=\"color: #008000; text-decoration-color: #008000; font-weight: bold\">0.</span><span style=\"color: #008000; text-decoration-color: #008000\">32s </span>\n",
              "</pre>\n"
            ]
          },
          "metadata": {}
        },
        {
          "output_type": "display_data",
          "data": {
            "text/plain": [
              "\u001b[1;32m[\u001b[0m\u001b[32mCOMPLETE\u001b[0m\u001b[1;32m]\u001b[0m\u001b[32m ● \u001b[0m\u001b[4;32mhttps://www.startech.com.bd/asus-mini-pc\u001b[0m\u001b[32m                                                             |\u001b[0m\n",
              "\u001b[32m✓\u001b[0m\u001b[32m | ⏱: \u001b[0m\u001b[1;32m1.\u001b[0m\u001b[32m67s \u001b[0m\n"
            ],
            "text/html": [
              "<pre style=\"white-space:pre;overflow-x:auto;line-height:normal;font-family:Menlo,'DejaVu Sans Mono',consolas,'Courier New',monospace\"><span style=\"color: #008000; text-decoration-color: #008000; font-weight: bold\">[</span><span style=\"color: #008000; text-decoration-color: #008000\">COMPLETE</span><span style=\"color: #008000; text-decoration-color: #008000; font-weight: bold\">]</span><span style=\"color: #008000; text-decoration-color: #008000\"> ● </span><span style=\"color: #008000; text-decoration-color: #008000; text-decoration: underline\">https://www.startech.com.bd/asus-mini-pc</span><span style=\"color: #008000; text-decoration-color: #008000\">                                                             |</span>\n",
              "<span style=\"color: #008000; text-decoration-color: #008000\">✓ | ⏱: </span><span style=\"color: #008000; text-decoration-color: #008000; font-weight: bold\">1.</span><span style=\"color: #008000; text-decoration-color: #008000\">67s </span>\n",
              "</pre>\n"
            ]
          },
          "metadata": {}
        },
        {
          "output_type": "stream",
          "name": "stdout",
          "text": [
            "     ✅ 14 products\n",
            "  📂 Processing subcategory 2/5: Zotac\n"
          ]
        },
        {
          "output_type": "display_data",
          "data": {
            "text/plain": [
              "\u001b[1;36m[\u001b[0m\u001b[36mINIT\u001b[0m\u001b[1;36m]\u001b[0m\u001b[36m...\u001b[0m\u001b[36m. → Crawl4AI \u001b[0m\u001b[1;36m0.7\u001b[0m\u001b[36m.\u001b[0m\u001b[1;36m4\u001b[0m\u001b[36m \u001b[0m\n"
            ],
            "text/html": [
              "<pre style=\"white-space:pre;overflow-x:auto;line-height:normal;font-family:Menlo,'DejaVu Sans Mono',consolas,'Courier New',monospace\"><span style=\"color: #008080; text-decoration-color: #008080; font-weight: bold\">[</span><span style=\"color: #008080; text-decoration-color: #008080\">INIT</span><span style=\"color: #008080; text-decoration-color: #008080; font-weight: bold\">]</span><span style=\"color: #008080; text-decoration-color: #008080\">.... → Crawl4AI </span><span style=\"color: #008080; text-decoration-color: #008080; font-weight: bold\">0.7</span><span style=\"color: #008080; text-decoration-color: #008080\">.</span><span style=\"color: #008080; text-decoration-color: #008080; font-weight: bold\">4</span><span style=\"color: #008080; text-decoration-color: #008080\"> </span>\n",
              "</pre>\n"
            ]
          },
          "metadata": {}
        },
        {
          "output_type": "display_data",
          "data": {
            "text/plain": [
              "\u001b[1;32m[\u001b[0m\u001b[32mFETCH\u001b[0m\u001b[1;32m]\u001b[0m\u001b[32m...\u001b[0m\u001b[32m ↓ \u001b[0m\u001b[4;32mhttps://www.startech.com.bd/zotac-portable-mini-pc\u001b[0m\u001b[32m                                                   |\u001b[0m\n",
              "\u001b[32m✓\u001b[0m\u001b[32m | ⏱: \u001b[0m\u001b[1;32m1.\u001b[0m\u001b[32m88s \u001b[0m\n"
            ],
            "text/html": [
              "<pre style=\"white-space:pre;overflow-x:auto;line-height:normal;font-family:Menlo,'DejaVu Sans Mono',consolas,'Courier New',monospace\"><span style=\"color: #008000; text-decoration-color: #008000; font-weight: bold\">[</span><span style=\"color: #008000; text-decoration-color: #008000\">FETCH</span><span style=\"color: #008000; text-decoration-color: #008000; font-weight: bold\">]</span><span style=\"color: #008000; text-decoration-color: #008000\">... ↓ </span><span style=\"color: #008000; text-decoration-color: #008000; text-decoration: underline\">https://www.startech.com.bd/zotac-portable-mini-pc</span><span style=\"color: #008000; text-decoration-color: #008000\">                                                   |</span>\n",
              "<span style=\"color: #008000; text-decoration-color: #008000\">✓ | ⏱: </span><span style=\"color: #008000; text-decoration-color: #008000; font-weight: bold\">1.</span><span style=\"color: #008000; text-decoration-color: #008000\">88s </span>\n",
              "</pre>\n"
            ]
          },
          "metadata": {}
        },
        {
          "output_type": "display_data",
          "data": {
            "text/plain": [
              "\u001b[1;32m[\u001b[0m\u001b[32mSCRAPE\u001b[0m\u001b[1;32m]\u001b[0m\u001b[32m.. ◆ \u001b[0m\u001b[4;32mhttps://www.startech.com.bd/zotac-portable-mini-pc\u001b[0m\u001b[32m                                                   |\u001b[0m\n",
              "\u001b[32m✓\u001b[0m\u001b[32m | ⏱: \u001b[0m\u001b[1;32m0.\u001b[0m\u001b[32m47s \u001b[0m\n"
            ],
            "text/html": [
              "<pre style=\"white-space:pre;overflow-x:auto;line-height:normal;font-family:Menlo,'DejaVu Sans Mono',consolas,'Courier New',monospace\"><span style=\"color: #008000; text-decoration-color: #008000; font-weight: bold\">[</span><span style=\"color: #008000; text-decoration-color: #008000\">SCRAPE</span><span style=\"color: #008000; text-decoration-color: #008000; font-weight: bold\">]</span><span style=\"color: #008000; text-decoration-color: #008000\">.. ◆ </span><span style=\"color: #008000; text-decoration-color: #008000; text-decoration: underline\">https://www.startech.com.bd/zotac-portable-mini-pc</span><span style=\"color: #008000; text-decoration-color: #008000\">                                                   |</span>\n",
              "<span style=\"color: #008000; text-decoration-color: #008000\">✓ | ⏱: </span><span style=\"color: #008000; text-decoration-color: #008000; font-weight: bold\">0.</span><span style=\"color: #008000; text-decoration-color: #008000\">47s </span>\n",
              "</pre>\n"
            ]
          },
          "metadata": {}
        },
        {
          "output_type": "display_data",
          "data": {
            "text/plain": [
              "\u001b[1;32m[\u001b[0m\u001b[32mCOMPLETE\u001b[0m\u001b[1;32m]\u001b[0m\u001b[32m ● \u001b[0m\u001b[4;32mhttps://www.startech.com.bd/zotac-portable-mini-pc\u001b[0m\u001b[32m                                                   |\u001b[0m\n",
              "\u001b[32m✓\u001b[0m\u001b[32m | ⏱: \u001b[0m\u001b[1;32m2.\u001b[0m\u001b[32m36s \u001b[0m\n"
            ],
            "text/html": [
              "<pre style=\"white-space:pre;overflow-x:auto;line-height:normal;font-family:Menlo,'DejaVu Sans Mono',consolas,'Courier New',monospace\"><span style=\"color: #008000; text-decoration-color: #008000; font-weight: bold\">[</span><span style=\"color: #008000; text-decoration-color: #008000\">COMPLETE</span><span style=\"color: #008000; text-decoration-color: #008000; font-weight: bold\">]</span><span style=\"color: #008000; text-decoration-color: #008000\"> ● </span><span style=\"color: #008000; text-decoration-color: #008000; text-decoration: underline\">https://www.startech.com.bd/zotac-portable-mini-pc</span><span style=\"color: #008000; text-decoration-color: #008000\">                                                   |</span>\n",
              "<span style=\"color: #008000; text-decoration-color: #008000\">✓ | ⏱: </span><span style=\"color: #008000; text-decoration-color: #008000; font-weight: bold\">2.</span><span style=\"color: #008000; text-decoration-color: #008000\">36s </span>\n",
              "</pre>\n"
            ]
          },
          "metadata": {}
        },
        {
          "output_type": "stream",
          "name": "stdout",
          "text": [
            "     ✅ 2 products\n",
            "📊 Total products so far: 322\n",
            "\n",
            "--- Processing Category 7/10: Laptop ---\n"
          ]
        },
        {
          "output_type": "display_data",
          "data": {
            "text/plain": [
              "\u001b[1;36m[\u001b[0m\u001b[36mINIT\u001b[0m\u001b[1;36m]\u001b[0m\u001b[36m...\u001b[0m\u001b[36m. → Crawl4AI \u001b[0m\u001b[1;36m0.7\u001b[0m\u001b[36m.\u001b[0m\u001b[1;36m4\u001b[0m\u001b[36m \u001b[0m\n"
            ],
            "text/html": [
              "<pre style=\"white-space:pre;overflow-x:auto;line-height:normal;font-family:Menlo,'DejaVu Sans Mono',consolas,'Courier New',monospace\"><span style=\"color: #008080; text-decoration-color: #008080; font-weight: bold\">[</span><span style=\"color: #008080; text-decoration-color: #008080\">INIT</span><span style=\"color: #008080; text-decoration-color: #008080; font-weight: bold\">]</span><span style=\"color: #008080; text-decoration-color: #008080\">.... → Crawl4AI </span><span style=\"color: #008080; text-decoration-color: #008080; font-weight: bold\">0.7</span><span style=\"color: #008080; text-decoration-color: #008080\">.</span><span style=\"color: #008080; text-decoration-color: #008080; font-weight: bold\">4</span><span style=\"color: #008080; text-decoration-color: #008080\"> </span>\n",
              "</pre>\n"
            ]
          },
          "metadata": {}
        },
        {
          "output_type": "display_data",
          "data": {
            "text/plain": [
              "\u001b[1;32m[\u001b[0m\u001b[32mFETCH\u001b[0m\u001b[1;32m]\u001b[0m\u001b[32m...\u001b[0m\u001b[32m ↓ \u001b[0m\u001b[4;32mhttps://www.startech.com.bd/laptop-notebook\u001b[0m\u001b[32m                                                          |\u001b[0m\n",
              "\u001b[32m✓\u001b[0m\u001b[32m | ⏱: \u001b[0m\u001b[1;32m1.\u001b[0m\u001b[32m62s \u001b[0m\n"
            ],
            "text/html": [
              "<pre style=\"white-space:pre;overflow-x:auto;line-height:normal;font-family:Menlo,'DejaVu Sans Mono',consolas,'Courier New',monospace\"><span style=\"color: #008000; text-decoration-color: #008000; font-weight: bold\">[</span><span style=\"color: #008000; text-decoration-color: #008000\">FETCH</span><span style=\"color: #008000; text-decoration-color: #008000; font-weight: bold\">]</span><span style=\"color: #008000; text-decoration-color: #008000\">... ↓ </span><span style=\"color: #008000; text-decoration-color: #008000; text-decoration: underline\">https://www.startech.com.bd/laptop-notebook</span><span style=\"color: #008000; text-decoration-color: #008000\">                                                          |</span>\n",
              "<span style=\"color: #008000; text-decoration-color: #008000\">✓ | ⏱: </span><span style=\"color: #008000; text-decoration-color: #008000; font-weight: bold\">1.</span><span style=\"color: #008000; text-decoration-color: #008000\">62s </span>\n",
              "</pre>\n"
            ]
          },
          "metadata": {}
        },
        {
          "output_type": "display_data",
          "data": {
            "text/plain": [
              "\u001b[1;32m[\u001b[0m\u001b[32mSCRAPE\u001b[0m\u001b[1;32m]\u001b[0m\u001b[32m.. ◆ \u001b[0m\u001b[4;32mhttps://www.startech.com.bd/laptop-notebook\u001b[0m\u001b[32m                                                          |\u001b[0m\n",
              "\u001b[32m✓\u001b[0m\u001b[32m | ⏱: \u001b[0m\u001b[1;32m0.\u001b[0m\u001b[32m30s \u001b[0m\n"
            ],
            "text/html": [
              "<pre style=\"white-space:pre;overflow-x:auto;line-height:normal;font-family:Menlo,'DejaVu Sans Mono',consolas,'Courier New',monospace\"><span style=\"color: #008000; text-decoration-color: #008000; font-weight: bold\">[</span><span style=\"color: #008000; text-decoration-color: #008000\">SCRAPE</span><span style=\"color: #008000; text-decoration-color: #008000; font-weight: bold\">]</span><span style=\"color: #008000; text-decoration-color: #008000\">.. ◆ </span><span style=\"color: #008000; text-decoration-color: #008000; text-decoration: underline\">https://www.startech.com.bd/laptop-notebook</span><span style=\"color: #008000; text-decoration-color: #008000\">                                                          |</span>\n",
              "<span style=\"color: #008000; text-decoration-color: #008000\">✓ | ⏱: </span><span style=\"color: #008000; text-decoration-color: #008000; font-weight: bold\">0.</span><span style=\"color: #008000; text-decoration-color: #008000\">30s </span>\n",
              "</pre>\n"
            ]
          },
          "metadata": {}
        },
        {
          "output_type": "display_data",
          "data": {
            "text/plain": [
              "\u001b[1;32m[\u001b[0m\u001b[32mCOMPLETE\u001b[0m\u001b[1;32m]\u001b[0m\u001b[32m ● \u001b[0m\u001b[4;32mhttps://www.startech.com.bd/laptop-notebook\u001b[0m\u001b[32m                                                          |\u001b[0m\n",
              "\u001b[32m✓\u001b[0m\u001b[32m | ⏱: \u001b[0m\u001b[1;32m1.\u001b[0m\u001b[32m92s \u001b[0m\n"
            ],
            "text/html": [
              "<pre style=\"white-space:pre;overflow-x:auto;line-height:normal;font-family:Menlo,'DejaVu Sans Mono',consolas,'Courier New',monospace\"><span style=\"color: #008000; text-decoration-color: #008000; font-weight: bold\">[</span><span style=\"color: #008000; text-decoration-color: #008000\">COMPLETE</span><span style=\"color: #008000; text-decoration-color: #008000; font-weight: bold\">]</span><span style=\"color: #008000; text-decoration-color: #008000\"> ● </span><span style=\"color: #008000; text-decoration-color: #008000; text-decoration: underline\">https://www.startech.com.bd/laptop-notebook</span><span style=\"color: #008000; text-decoration-color: #008000\">                                                          |</span>\n",
              "<span style=\"color: #008000; text-decoration-color: #008000\">✓ | ⏱: </span><span style=\"color: #008000; text-decoration-color: #008000; font-weight: bold\">1.</span><span style=\"color: #008000; text-decoration-color: #008000\">92s </span>\n",
              "</pre>\n"
            ]
          },
          "metadata": {}
        },
        {
          "output_type": "stream",
          "name": "stdout",
          "text": [
            "✅ Main category: 20 products\n",
            "  📂 Processing subcategory 1/5: All Laptop\n"
          ]
        },
        {
          "output_type": "display_data",
          "data": {
            "text/plain": [
              "\u001b[1;36m[\u001b[0m\u001b[36mINIT\u001b[0m\u001b[1;36m]\u001b[0m\u001b[36m...\u001b[0m\u001b[36m. → Crawl4AI \u001b[0m\u001b[1;36m0.7\u001b[0m\u001b[36m.\u001b[0m\u001b[1;36m4\u001b[0m\u001b[36m \u001b[0m\n"
            ],
            "text/html": [
              "<pre style=\"white-space:pre;overflow-x:auto;line-height:normal;font-family:Menlo,'DejaVu Sans Mono',consolas,'Courier New',monospace\"><span style=\"color: #008080; text-decoration-color: #008080; font-weight: bold\">[</span><span style=\"color: #008080; text-decoration-color: #008080\">INIT</span><span style=\"color: #008080; text-decoration-color: #008080; font-weight: bold\">]</span><span style=\"color: #008080; text-decoration-color: #008080\">.... → Crawl4AI </span><span style=\"color: #008080; text-decoration-color: #008080; font-weight: bold\">0.7</span><span style=\"color: #008080; text-decoration-color: #008080\">.</span><span style=\"color: #008080; text-decoration-color: #008080; font-weight: bold\">4</span><span style=\"color: #008080; text-decoration-color: #008080\"> </span>\n",
              "</pre>\n"
            ]
          },
          "metadata": {}
        },
        {
          "output_type": "display_data",
          "data": {
            "text/plain": [
              "\u001b[1;32m[\u001b[0m\u001b[32mFETCH\u001b[0m\u001b[1;32m]\u001b[0m\u001b[32m...\u001b[0m\u001b[32m ↓ \u001b[0m\u001b[4;32mhttps://www.startech.com.bd/laptop-notebook/laptop\u001b[0m\u001b[32m                                                   |\u001b[0m\n",
              "\u001b[32m✓\u001b[0m\u001b[32m | ⏱: \u001b[0m\u001b[1;32m1.\u001b[0m\u001b[32m54s \u001b[0m\n"
            ],
            "text/html": [
              "<pre style=\"white-space:pre;overflow-x:auto;line-height:normal;font-family:Menlo,'DejaVu Sans Mono',consolas,'Courier New',monospace\"><span style=\"color: #008000; text-decoration-color: #008000; font-weight: bold\">[</span><span style=\"color: #008000; text-decoration-color: #008000\">FETCH</span><span style=\"color: #008000; text-decoration-color: #008000; font-weight: bold\">]</span><span style=\"color: #008000; text-decoration-color: #008000\">... ↓ </span><span style=\"color: #008000; text-decoration-color: #008000; text-decoration: underline\">https://www.startech.com.bd/laptop-notebook/laptop</span><span style=\"color: #008000; text-decoration-color: #008000\">                                                   |</span>\n",
              "<span style=\"color: #008000; text-decoration-color: #008000\">✓ | ⏱: </span><span style=\"color: #008000; text-decoration-color: #008000; font-weight: bold\">1.</span><span style=\"color: #008000; text-decoration-color: #008000\">54s </span>\n",
              "</pre>\n"
            ]
          },
          "metadata": {}
        },
        {
          "output_type": "display_data",
          "data": {
            "text/plain": [
              "\u001b[1;32m[\u001b[0m\u001b[32mSCRAPE\u001b[0m\u001b[1;32m]\u001b[0m\u001b[32m.. ◆ \u001b[0m\u001b[4;32mhttps://www.startech.com.bd/laptop-notebook/laptop\u001b[0m\u001b[32m                                                   |\u001b[0m\n",
              "\u001b[32m✓\u001b[0m\u001b[32m | ⏱: \u001b[0m\u001b[1;32m0.\u001b[0m\u001b[32m35s \u001b[0m\n"
            ],
            "text/html": [
              "<pre style=\"white-space:pre;overflow-x:auto;line-height:normal;font-family:Menlo,'DejaVu Sans Mono',consolas,'Courier New',monospace\"><span style=\"color: #008000; text-decoration-color: #008000; font-weight: bold\">[</span><span style=\"color: #008000; text-decoration-color: #008000\">SCRAPE</span><span style=\"color: #008000; text-decoration-color: #008000; font-weight: bold\">]</span><span style=\"color: #008000; text-decoration-color: #008000\">.. ◆ </span><span style=\"color: #008000; text-decoration-color: #008000; text-decoration: underline\">https://www.startech.com.bd/laptop-notebook/laptop</span><span style=\"color: #008000; text-decoration-color: #008000\">                                                   |</span>\n",
              "<span style=\"color: #008000; text-decoration-color: #008000\">✓ | ⏱: </span><span style=\"color: #008000; text-decoration-color: #008000; font-weight: bold\">0.</span><span style=\"color: #008000; text-decoration-color: #008000\">35s </span>\n",
              "</pre>\n"
            ]
          },
          "metadata": {}
        },
        {
          "output_type": "display_data",
          "data": {
            "text/plain": [
              "\u001b[1;32m[\u001b[0m\u001b[32mCOMPLETE\u001b[0m\u001b[1;32m]\u001b[0m\u001b[32m ● \u001b[0m\u001b[4;32mhttps://www.startech.com.bd/laptop-notebook/laptop\u001b[0m\u001b[32m                                                   |\u001b[0m\n",
              "\u001b[32m✓\u001b[0m\u001b[32m | ⏱: \u001b[0m\u001b[1;32m1.\u001b[0m\u001b[32m91s \u001b[0m\n"
            ],
            "text/html": [
              "<pre style=\"white-space:pre;overflow-x:auto;line-height:normal;font-family:Menlo,'DejaVu Sans Mono',consolas,'Courier New',monospace\"><span style=\"color: #008000; text-decoration-color: #008000; font-weight: bold\">[</span><span style=\"color: #008000; text-decoration-color: #008000\">COMPLETE</span><span style=\"color: #008000; text-decoration-color: #008000; font-weight: bold\">]</span><span style=\"color: #008000; text-decoration-color: #008000\"> ● </span><span style=\"color: #008000; text-decoration-color: #008000; text-decoration: underline\">https://www.startech.com.bd/laptop-notebook/laptop</span><span style=\"color: #008000; text-decoration-color: #008000\">                                                   |</span>\n",
              "<span style=\"color: #008000; text-decoration-color: #008000\">✓ | ⏱: </span><span style=\"color: #008000; text-decoration-color: #008000; font-weight: bold\">1.</span><span style=\"color: #008000; text-decoration-color: #008000\">91s </span>\n",
              "</pre>\n"
            ]
          },
          "metadata": {}
        },
        {
          "output_type": "stream",
          "name": "stdout",
          "text": [
            "     ✅ 20 products\n",
            "  📂 Processing subcategory 2/5: Gaming Laptop\n"
          ]
        },
        {
          "output_type": "display_data",
          "data": {
            "text/plain": [
              "\u001b[1;36m[\u001b[0m\u001b[36mINIT\u001b[0m\u001b[1;36m]\u001b[0m\u001b[36m...\u001b[0m\u001b[36m. → Crawl4AI \u001b[0m\u001b[1;36m0.7\u001b[0m\u001b[36m.\u001b[0m\u001b[1;36m4\u001b[0m\u001b[36m \u001b[0m\n"
            ],
            "text/html": [
              "<pre style=\"white-space:pre;overflow-x:auto;line-height:normal;font-family:Menlo,'DejaVu Sans Mono',consolas,'Courier New',monospace\"><span style=\"color: #008080; text-decoration-color: #008080; font-weight: bold\">[</span><span style=\"color: #008080; text-decoration-color: #008080\">INIT</span><span style=\"color: #008080; text-decoration-color: #008080; font-weight: bold\">]</span><span style=\"color: #008080; text-decoration-color: #008080\">.... → Crawl4AI </span><span style=\"color: #008080; text-decoration-color: #008080; font-weight: bold\">0.7</span><span style=\"color: #008080; text-decoration-color: #008080\">.</span><span style=\"color: #008080; text-decoration-color: #008080; font-weight: bold\">4</span><span style=\"color: #008080; text-decoration-color: #008080\"> </span>\n",
              "</pre>\n"
            ]
          },
          "metadata": {}
        },
        {
          "output_type": "display_data",
          "data": {
            "text/plain": [
              "\u001b[1;32m[\u001b[0m\u001b[32mFETCH\u001b[0m\u001b[1;32m]\u001b[0m\u001b[32m...\u001b[0m\u001b[32m ↓ \u001b[0m\u001b[4;32mhttps://www.startech.com.bd/laptop-notebook/Gaming-Laptop\u001b[0m\u001b[32m                                            |\u001b[0m\n",
              "\u001b[32m✓\u001b[0m\u001b[32m | ⏱: \u001b[0m\u001b[1;32m1.\u001b[0m\u001b[32m97s \u001b[0m\n"
            ],
            "text/html": [
              "<pre style=\"white-space:pre;overflow-x:auto;line-height:normal;font-family:Menlo,'DejaVu Sans Mono',consolas,'Courier New',monospace\"><span style=\"color: #008000; text-decoration-color: #008000; font-weight: bold\">[</span><span style=\"color: #008000; text-decoration-color: #008000\">FETCH</span><span style=\"color: #008000; text-decoration-color: #008000; font-weight: bold\">]</span><span style=\"color: #008000; text-decoration-color: #008000\">... ↓ </span><span style=\"color: #008000; text-decoration-color: #008000; text-decoration: underline\">https://www.startech.com.bd/laptop-notebook/Gaming-Laptop</span><span style=\"color: #008000; text-decoration-color: #008000\">                                            |</span>\n",
              "<span style=\"color: #008000; text-decoration-color: #008000\">✓ | ⏱: </span><span style=\"color: #008000; text-decoration-color: #008000; font-weight: bold\">1.</span><span style=\"color: #008000; text-decoration-color: #008000\">97s </span>\n",
              "</pre>\n"
            ]
          },
          "metadata": {}
        },
        {
          "output_type": "display_data",
          "data": {
            "text/plain": [
              "\u001b[1;32m[\u001b[0m\u001b[32mSCRAPE\u001b[0m\u001b[1;32m]\u001b[0m\u001b[32m.. ◆ \u001b[0m\u001b[4;32mhttps://www.startech.com.bd/laptop-notebook/Gaming-Laptop\u001b[0m\u001b[32m                                            |\u001b[0m\n",
              "\u001b[32m✓\u001b[0m\u001b[32m | ⏱: \u001b[0m\u001b[1;33m0.\u001b[0m\u001b[33m49\u001b[0m\u001b[32ms \u001b[0m\n"
            ],
            "text/html": [
              "<pre style=\"white-space:pre;overflow-x:auto;line-height:normal;font-family:Menlo,'DejaVu Sans Mono',consolas,'Courier New',monospace\"><span style=\"color: #008000; text-decoration-color: #008000; font-weight: bold\">[</span><span style=\"color: #008000; text-decoration-color: #008000\">SCRAPE</span><span style=\"color: #008000; text-decoration-color: #008000; font-weight: bold\">]</span><span style=\"color: #008000; text-decoration-color: #008000\">.. ◆ </span><span style=\"color: #008000; text-decoration-color: #008000; text-decoration: underline\">https://www.startech.com.bd/laptop-notebook/Gaming-Laptop</span><span style=\"color: #008000; text-decoration-color: #008000\">                                            |</span>\n",
              "<span style=\"color: #008000; text-decoration-color: #008000\">✓ | ⏱: </span><span style=\"color: #808000; text-decoration-color: #808000; font-weight: bold\">0.</span><span style=\"color: #808000; text-decoration-color: #808000\">49</span><span style=\"color: #008000; text-decoration-color: #008000\">s </span>\n",
              "</pre>\n"
            ]
          },
          "metadata": {}
        },
        {
          "output_type": "display_data",
          "data": {
            "text/plain": [
              "\u001b[1;32m[\u001b[0m\u001b[32mCOMPLETE\u001b[0m\u001b[1;32m]\u001b[0m\u001b[32m ● \u001b[0m\u001b[4;32mhttps://www.startech.com.bd/laptop-notebook/Gaming-Laptop\u001b[0m\u001b[32m                                            |\u001b[0m\n",
              "\u001b[32m✓\u001b[0m\u001b[32m | ⏱: \u001b[0m\u001b[1;32m2.\u001b[0m\u001b[32m47s \u001b[0m\n"
            ],
            "text/html": [
              "<pre style=\"white-space:pre;overflow-x:auto;line-height:normal;font-family:Menlo,'DejaVu Sans Mono',consolas,'Courier New',monospace\"><span style=\"color: #008000; text-decoration-color: #008000; font-weight: bold\">[</span><span style=\"color: #008000; text-decoration-color: #008000\">COMPLETE</span><span style=\"color: #008000; text-decoration-color: #008000; font-weight: bold\">]</span><span style=\"color: #008000; text-decoration-color: #008000\"> ● </span><span style=\"color: #008000; text-decoration-color: #008000; text-decoration: underline\">https://www.startech.com.bd/laptop-notebook/Gaming-Laptop</span><span style=\"color: #008000; text-decoration-color: #008000\">                                            |</span>\n",
              "<span style=\"color: #008000; text-decoration-color: #008000\">✓ | ⏱: </span><span style=\"color: #008000; text-decoration-color: #008000; font-weight: bold\">2.</span><span style=\"color: #008000; text-decoration-color: #008000\">47s </span>\n",
              "</pre>\n"
            ]
          },
          "metadata": {}
        },
        {
          "output_type": "stream",
          "name": "stdout",
          "text": [
            "     ✅ 20 products\n",
            "  📂 Processing subcategory 3/5: Premium Ultrabook\n"
          ]
        },
        {
          "output_type": "display_data",
          "data": {
            "text/plain": [
              "\u001b[1;36m[\u001b[0m\u001b[36mINIT\u001b[0m\u001b[1;36m]\u001b[0m\u001b[36m...\u001b[0m\u001b[36m. → Crawl4AI \u001b[0m\u001b[1;36m0.7\u001b[0m\u001b[36m.\u001b[0m\u001b[1;36m4\u001b[0m\u001b[36m \u001b[0m\n"
            ],
            "text/html": [
              "<pre style=\"white-space:pre;overflow-x:auto;line-height:normal;font-family:Menlo,'DejaVu Sans Mono',consolas,'Courier New',monospace\"><span style=\"color: #008080; text-decoration-color: #008080; font-weight: bold\">[</span><span style=\"color: #008080; text-decoration-color: #008080\">INIT</span><span style=\"color: #008080; text-decoration-color: #008080; font-weight: bold\">]</span><span style=\"color: #008080; text-decoration-color: #008080\">.... → Crawl4AI </span><span style=\"color: #008080; text-decoration-color: #008080; font-weight: bold\">0.7</span><span style=\"color: #008080; text-decoration-color: #008080\">.</span><span style=\"color: #008080; text-decoration-color: #008080; font-weight: bold\">4</span><span style=\"color: #008080; text-decoration-color: #008080\"> </span>\n",
              "</pre>\n"
            ]
          },
          "metadata": {}
        },
        {
          "output_type": "display_data",
          "data": {
            "text/plain": [
              "\u001b[1;32m[\u001b[0m\u001b[32mFETCH\u001b[0m\u001b[1;32m]\u001b[0m\u001b[32m...\u001b[0m\u001b[32m ↓ \u001b[0m\u001b[4;32mhttps://www.startech.com.bd/laptop-notebook/ultrabook\u001b[0m\u001b[32m                                                |\u001b[0m\n",
              "\u001b[32m✓\u001b[0m\u001b[32m | ⏱: \u001b[0m\u001b[1;32m1.\u001b[0m\u001b[32m66s \u001b[0m\n"
            ],
            "text/html": [
              "<pre style=\"white-space:pre;overflow-x:auto;line-height:normal;font-family:Menlo,'DejaVu Sans Mono',consolas,'Courier New',monospace\"><span style=\"color: #008000; text-decoration-color: #008000; font-weight: bold\">[</span><span style=\"color: #008000; text-decoration-color: #008000\">FETCH</span><span style=\"color: #008000; text-decoration-color: #008000; font-weight: bold\">]</span><span style=\"color: #008000; text-decoration-color: #008000\">... ↓ </span><span style=\"color: #008000; text-decoration-color: #008000; text-decoration: underline\">https://www.startech.com.bd/laptop-notebook/ultrabook</span><span style=\"color: #008000; text-decoration-color: #008000\">                                                |</span>\n",
              "<span style=\"color: #008000; text-decoration-color: #008000\">✓ | ⏱: </span><span style=\"color: #008000; text-decoration-color: #008000; font-weight: bold\">1.</span><span style=\"color: #008000; text-decoration-color: #008000\">66s </span>\n",
              "</pre>\n"
            ]
          },
          "metadata": {}
        },
        {
          "output_type": "display_data",
          "data": {
            "text/plain": [
              "\u001b[1;32m[\u001b[0m\u001b[32mSCRAPE\u001b[0m\u001b[1;32m]\u001b[0m\u001b[32m.. ◆ \u001b[0m\u001b[4;32mhttps://www.startech.com.bd/laptop-notebook/ultrabook\u001b[0m\u001b[32m                                                |\u001b[0m\n",
              "\u001b[32m✓\u001b[0m\u001b[32m | ⏱: \u001b[0m\u001b[1;32m0.\u001b[0m\u001b[32m32s \u001b[0m\n"
            ],
            "text/html": [
              "<pre style=\"white-space:pre;overflow-x:auto;line-height:normal;font-family:Menlo,'DejaVu Sans Mono',consolas,'Courier New',monospace\"><span style=\"color: #008000; text-decoration-color: #008000; font-weight: bold\">[</span><span style=\"color: #008000; text-decoration-color: #008000\">SCRAPE</span><span style=\"color: #008000; text-decoration-color: #008000; font-weight: bold\">]</span><span style=\"color: #008000; text-decoration-color: #008000\">.. ◆ </span><span style=\"color: #008000; text-decoration-color: #008000; text-decoration: underline\">https://www.startech.com.bd/laptop-notebook/ultrabook</span><span style=\"color: #008000; text-decoration-color: #008000\">                                                |</span>\n",
              "<span style=\"color: #008000; text-decoration-color: #008000\">✓ | ⏱: </span><span style=\"color: #008000; text-decoration-color: #008000; font-weight: bold\">0.</span><span style=\"color: #008000; text-decoration-color: #008000\">32s </span>\n",
              "</pre>\n"
            ]
          },
          "metadata": {}
        },
        {
          "output_type": "display_data",
          "data": {
            "text/plain": [
              "\u001b[1;32m[\u001b[0m\u001b[32mCOMPLETE\u001b[0m\u001b[1;32m]\u001b[0m\u001b[32m ● \u001b[0m\u001b[4;32mhttps://www.startech.com.bd/laptop-notebook/ultrabook\u001b[0m\u001b[32m                                                |\u001b[0m\n",
              "\u001b[32m✓\u001b[0m\u001b[32m | ⏱: \u001b[0m\u001b[1;32m1.\u001b[0m\u001b[32m99s \u001b[0m\n"
            ],
            "text/html": [
              "<pre style=\"white-space:pre;overflow-x:auto;line-height:normal;font-family:Menlo,'DejaVu Sans Mono',consolas,'Courier New',monospace\"><span style=\"color: #008000; text-decoration-color: #008000; font-weight: bold\">[</span><span style=\"color: #008000; text-decoration-color: #008000\">COMPLETE</span><span style=\"color: #008000; text-decoration-color: #008000; font-weight: bold\">]</span><span style=\"color: #008000; text-decoration-color: #008000\"> ● </span><span style=\"color: #008000; text-decoration-color: #008000; text-decoration: underline\">https://www.startech.com.bd/laptop-notebook/ultrabook</span><span style=\"color: #008000; text-decoration-color: #008000\">                                                |</span>\n",
              "<span style=\"color: #008000; text-decoration-color: #008000\">✓ | ⏱: </span><span style=\"color: #008000; text-decoration-color: #008000; font-weight: bold\">1.</span><span style=\"color: #008000; text-decoration-color: #008000\">99s </span>\n",
              "</pre>\n"
            ]
          },
          "metadata": {}
        },
        {
          "output_type": "stream",
          "name": "stdout",
          "text": [
            "     ✅ 20 products\n",
            "  📂 Processing subcategory 4/5: Laptop Bag\n"
          ]
        },
        {
          "output_type": "display_data",
          "data": {
            "text/plain": [
              "\u001b[1;36m[\u001b[0m\u001b[36mINIT\u001b[0m\u001b[1;36m]\u001b[0m\u001b[36m...\u001b[0m\u001b[36m. → Crawl4AI \u001b[0m\u001b[1;36m0.7\u001b[0m\u001b[36m.\u001b[0m\u001b[1;36m4\u001b[0m\u001b[36m \u001b[0m\n"
            ],
            "text/html": [
              "<pre style=\"white-space:pre;overflow-x:auto;line-height:normal;font-family:Menlo,'DejaVu Sans Mono',consolas,'Courier New',monospace\"><span style=\"color: #008080; text-decoration-color: #008080; font-weight: bold\">[</span><span style=\"color: #008080; text-decoration-color: #008080\">INIT</span><span style=\"color: #008080; text-decoration-color: #008080; font-weight: bold\">]</span><span style=\"color: #008080; text-decoration-color: #008080\">.... → Crawl4AI </span><span style=\"color: #008080; text-decoration-color: #008080; font-weight: bold\">0.7</span><span style=\"color: #008080; text-decoration-color: #008080\">.</span><span style=\"color: #008080; text-decoration-color: #008080; font-weight: bold\">4</span><span style=\"color: #008080; text-decoration-color: #008080\"> </span>\n",
              "</pre>\n"
            ]
          },
          "metadata": {}
        },
        {
          "output_type": "display_data",
          "data": {
            "text/plain": [
              "\u001b[1;32m[\u001b[0m\u001b[32mFETCH\u001b[0m\u001b[1;32m]\u001b[0m\u001b[32m...\u001b[0m\u001b[32m ↓ \u001b[0m\u001b[4;32mhttps://www.startech.com.bd/laptop-bag-backpack\u001b[0m\u001b[32m                                                      |\u001b[0m\n",
              "\u001b[32m✓\u001b[0m\u001b[32m | ⏱: \u001b[0m\u001b[1;32m1.\u001b[0m\u001b[32m45s \u001b[0m\n"
            ],
            "text/html": [
              "<pre style=\"white-space:pre;overflow-x:auto;line-height:normal;font-family:Menlo,'DejaVu Sans Mono',consolas,'Courier New',monospace\"><span style=\"color: #008000; text-decoration-color: #008000; font-weight: bold\">[</span><span style=\"color: #008000; text-decoration-color: #008000\">FETCH</span><span style=\"color: #008000; text-decoration-color: #008000; font-weight: bold\">]</span><span style=\"color: #008000; text-decoration-color: #008000\">... ↓ </span><span style=\"color: #008000; text-decoration-color: #008000; text-decoration: underline\">https://www.startech.com.bd/laptop-bag-backpack</span><span style=\"color: #008000; text-decoration-color: #008000\">                                                      |</span>\n",
              "<span style=\"color: #008000; text-decoration-color: #008000\">✓ | ⏱: </span><span style=\"color: #008000; text-decoration-color: #008000; font-weight: bold\">1.</span><span style=\"color: #008000; text-decoration-color: #008000\">45s </span>\n",
              "</pre>\n"
            ]
          },
          "metadata": {}
        },
        {
          "output_type": "display_data",
          "data": {
            "text/plain": [
              "\u001b[1;32m[\u001b[0m\u001b[32mSCRAPE\u001b[0m\u001b[1;32m]\u001b[0m\u001b[32m.. ◆ \u001b[0m\u001b[4;32mhttps://www.startech.com.bd/laptop-bag-backpack\u001b[0m\u001b[32m                                                      |\u001b[0m\n",
              "\u001b[32m✓\u001b[0m\u001b[32m | ⏱: \u001b[0m\u001b[1;32m0.\u001b[0m\u001b[32m33s \u001b[0m\n"
            ],
            "text/html": [
              "<pre style=\"white-space:pre;overflow-x:auto;line-height:normal;font-family:Menlo,'DejaVu Sans Mono',consolas,'Courier New',monospace\"><span style=\"color: #008000; text-decoration-color: #008000; font-weight: bold\">[</span><span style=\"color: #008000; text-decoration-color: #008000\">SCRAPE</span><span style=\"color: #008000; text-decoration-color: #008000; font-weight: bold\">]</span><span style=\"color: #008000; text-decoration-color: #008000\">.. ◆ </span><span style=\"color: #008000; text-decoration-color: #008000; text-decoration: underline\">https://www.startech.com.bd/laptop-bag-backpack</span><span style=\"color: #008000; text-decoration-color: #008000\">                                                      |</span>\n",
              "<span style=\"color: #008000; text-decoration-color: #008000\">✓ | ⏱: </span><span style=\"color: #008000; text-decoration-color: #008000; font-weight: bold\">0.</span><span style=\"color: #008000; text-decoration-color: #008000\">33s </span>\n",
              "</pre>\n"
            ]
          },
          "metadata": {}
        },
        {
          "output_type": "display_data",
          "data": {
            "text/plain": [
              "\u001b[1;32m[\u001b[0m\u001b[32mCOMPLETE\u001b[0m\u001b[1;32m]\u001b[0m\u001b[32m ● \u001b[0m\u001b[4;32mhttps://www.startech.com.bd/laptop-bag-backpack\u001b[0m\u001b[32m                                                      |\u001b[0m\n",
              "\u001b[32m✓\u001b[0m\u001b[32m | ⏱: \u001b[0m\u001b[1;32m1.\u001b[0m\u001b[32m80s \u001b[0m\n"
            ],
            "text/html": [
              "<pre style=\"white-space:pre;overflow-x:auto;line-height:normal;font-family:Menlo,'DejaVu Sans Mono',consolas,'Courier New',monospace\"><span style=\"color: #008000; text-decoration-color: #008000; font-weight: bold\">[</span><span style=\"color: #008000; text-decoration-color: #008000\">COMPLETE</span><span style=\"color: #008000; text-decoration-color: #008000; font-weight: bold\">]</span><span style=\"color: #008000; text-decoration-color: #008000\"> ● </span><span style=\"color: #008000; text-decoration-color: #008000; text-decoration: underline\">https://www.startech.com.bd/laptop-bag-backpack</span><span style=\"color: #008000; text-decoration-color: #008000\">                                                      |</span>\n",
              "<span style=\"color: #008000; text-decoration-color: #008000\">✓ | ⏱: </span><span style=\"color: #008000; text-decoration-color: #008000; font-weight: bold\">1.</span><span style=\"color: #008000; text-decoration-color: #008000\">80s </span>\n",
              "</pre>\n"
            ]
          },
          "metadata": {}
        },
        {
          "output_type": "stream",
          "name": "stdout",
          "text": [
            "     ✅ 20 products\n",
            "  📂 Processing subcategory 5/5: Laptop Accessories\n"
          ]
        },
        {
          "output_type": "display_data",
          "data": {
            "text/plain": [
              "\u001b[1;36m[\u001b[0m\u001b[36mINIT\u001b[0m\u001b[1;36m]\u001b[0m\u001b[36m...\u001b[0m\u001b[36m. → Crawl4AI \u001b[0m\u001b[1;36m0.7\u001b[0m\u001b[36m.\u001b[0m\u001b[1;36m4\u001b[0m\u001b[36m \u001b[0m\n"
            ],
            "text/html": [
              "<pre style=\"white-space:pre;overflow-x:auto;line-height:normal;font-family:Menlo,'DejaVu Sans Mono',consolas,'Courier New',monospace\"><span style=\"color: #008080; text-decoration-color: #008080; font-weight: bold\">[</span><span style=\"color: #008080; text-decoration-color: #008080\">INIT</span><span style=\"color: #008080; text-decoration-color: #008080; font-weight: bold\">]</span><span style=\"color: #008080; text-decoration-color: #008080\">.... → Crawl4AI </span><span style=\"color: #008080; text-decoration-color: #008080; font-weight: bold\">0.7</span><span style=\"color: #008080; text-decoration-color: #008080\">.</span><span style=\"color: #008080; text-decoration-color: #008080; font-weight: bold\">4</span><span style=\"color: #008080; text-decoration-color: #008080\"> </span>\n",
              "</pre>\n"
            ]
          },
          "metadata": {}
        },
        {
          "output_type": "display_data",
          "data": {
            "text/plain": [
              "\u001b[1;32m[\u001b[0m\u001b[32mFETCH\u001b[0m\u001b[1;32m]\u001b[0m\u001b[32m...\u001b[0m\u001b[32m ↓ \u001b[0m\u001b[4;32mhttps://www.startech.com.bd/laptop-notebook/laptop-accessories\u001b[0m\u001b[32m                                       |\u001b[0m\n",
              "\u001b[32m✓\u001b[0m\u001b[32m | ⏱: \u001b[0m\u001b[1;32m1.\u001b[0m\u001b[32m35s \u001b[0m\n"
            ],
            "text/html": [
              "<pre style=\"white-space:pre;overflow-x:auto;line-height:normal;font-family:Menlo,'DejaVu Sans Mono',consolas,'Courier New',monospace\"><span style=\"color: #008000; text-decoration-color: #008000; font-weight: bold\">[</span><span style=\"color: #008000; text-decoration-color: #008000\">FETCH</span><span style=\"color: #008000; text-decoration-color: #008000; font-weight: bold\">]</span><span style=\"color: #008000; text-decoration-color: #008000\">... ↓ </span><span style=\"color: #008000; text-decoration-color: #008000; text-decoration: underline\">https://www.startech.com.bd/laptop-notebook/laptop-accessories</span><span style=\"color: #008000; text-decoration-color: #008000\">                                       |</span>\n",
              "<span style=\"color: #008000; text-decoration-color: #008000\">✓ | ⏱: </span><span style=\"color: #008000; text-decoration-color: #008000; font-weight: bold\">1.</span><span style=\"color: #008000; text-decoration-color: #008000\">35s </span>\n",
              "</pre>\n"
            ]
          },
          "metadata": {}
        },
        {
          "output_type": "display_data",
          "data": {
            "text/plain": [
              "\u001b[1;32m[\u001b[0m\u001b[32mSCRAPE\u001b[0m\u001b[1;32m]\u001b[0m\u001b[32m.. ◆ \u001b[0m\u001b[4;32mhttps://www.startech.com.bd/laptop-notebook/laptop-accessories\u001b[0m\u001b[32m                                       |\u001b[0m\n",
              "\u001b[32m✓\u001b[0m\u001b[32m | ⏱: \u001b[0m\u001b[1;32m0.\u001b[0m\u001b[32m28s \u001b[0m\n"
            ],
            "text/html": [
              "<pre style=\"white-space:pre;overflow-x:auto;line-height:normal;font-family:Menlo,'DejaVu Sans Mono',consolas,'Courier New',monospace\"><span style=\"color: #008000; text-decoration-color: #008000; font-weight: bold\">[</span><span style=\"color: #008000; text-decoration-color: #008000\">SCRAPE</span><span style=\"color: #008000; text-decoration-color: #008000; font-weight: bold\">]</span><span style=\"color: #008000; text-decoration-color: #008000\">.. ◆ </span><span style=\"color: #008000; text-decoration-color: #008000; text-decoration: underline\">https://www.startech.com.bd/laptop-notebook/laptop-accessories</span><span style=\"color: #008000; text-decoration-color: #008000\">                                       |</span>\n",
              "<span style=\"color: #008000; text-decoration-color: #008000\">✓ | ⏱: </span><span style=\"color: #008000; text-decoration-color: #008000; font-weight: bold\">0.</span><span style=\"color: #008000; text-decoration-color: #008000\">28s </span>\n",
              "</pre>\n"
            ]
          },
          "metadata": {}
        },
        {
          "output_type": "display_data",
          "data": {
            "text/plain": [
              "\u001b[1;32m[\u001b[0m\u001b[32mCOMPLETE\u001b[0m\u001b[1;32m]\u001b[0m\u001b[32m ● \u001b[0m\u001b[4;32mhttps://www.startech.com.bd/laptop-notebook/laptop-accessories\u001b[0m\u001b[32m                                       |\u001b[0m\n",
              "\u001b[32m✓\u001b[0m\u001b[32m | ⏱: \u001b[0m\u001b[1;32m1.\u001b[0m\u001b[32m64s \u001b[0m\n"
            ],
            "text/html": [
              "<pre style=\"white-space:pre;overflow-x:auto;line-height:normal;font-family:Menlo,'DejaVu Sans Mono',consolas,'Courier New',monospace\"><span style=\"color: #008000; text-decoration-color: #008000; font-weight: bold\">[</span><span style=\"color: #008000; text-decoration-color: #008000\">COMPLETE</span><span style=\"color: #008000; text-decoration-color: #008000; font-weight: bold\">]</span><span style=\"color: #008000; text-decoration-color: #008000\"> ● </span><span style=\"color: #008000; text-decoration-color: #008000; text-decoration: underline\">https://www.startech.com.bd/laptop-notebook/laptop-accessories</span><span style=\"color: #008000; text-decoration-color: #008000\">                                       |</span>\n",
              "<span style=\"color: #008000; text-decoration-color: #008000\">✓ | ⏱: </span><span style=\"color: #008000; text-decoration-color: #008000; font-weight: bold\">1.</span><span style=\"color: #008000; text-decoration-color: #008000\">64s </span>\n",
              "</pre>\n"
            ]
          },
          "metadata": {}
        },
        {
          "output_type": "stream",
          "name": "stdout",
          "text": [
            "     ✅ 20 products\n",
            "📊 Total products so far: 442\n",
            "\n",
            "--- Processing Category 8/10: All Laptop ---\n"
          ]
        },
        {
          "output_type": "display_data",
          "data": {
            "text/plain": [
              "\u001b[1;36m[\u001b[0m\u001b[36mINIT\u001b[0m\u001b[1;36m]\u001b[0m\u001b[36m...\u001b[0m\u001b[36m. → Crawl4AI \u001b[0m\u001b[1;36m0.7\u001b[0m\u001b[36m.\u001b[0m\u001b[1;36m4\u001b[0m\u001b[36m \u001b[0m\n"
            ],
            "text/html": [
              "<pre style=\"white-space:pre;overflow-x:auto;line-height:normal;font-family:Menlo,'DejaVu Sans Mono',consolas,'Courier New',monospace\"><span style=\"color: #008080; text-decoration-color: #008080; font-weight: bold\">[</span><span style=\"color: #008080; text-decoration-color: #008080\">INIT</span><span style=\"color: #008080; text-decoration-color: #008080; font-weight: bold\">]</span><span style=\"color: #008080; text-decoration-color: #008080\">.... → Crawl4AI </span><span style=\"color: #008080; text-decoration-color: #008080; font-weight: bold\">0.7</span><span style=\"color: #008080; text-decoration-color: #008080\">.</span><span style=\"color: #008080; text-decoration-color: #008080; font-weight: bold\">4</span><span style=\"color: #008080; text-decoration-color: #008080\"> </span>\n",
              "</pre>\n"
            ]
          },
          "metadata": {}
        },
        {
          "output_type": "display_data",
          "data": {
            "text/plain": [
              "\u001b[1;32m[\u001b[0m\u001b[32mFETCH\u001b[0m\u001b[1;32m]\u001b[0m\u001b[32m...\u001b[0m\u001b[32m ↓ \u001b[0m\u001b[4;32mhttps://www.startech.com.bd/laptop-notebook/laptop\u001b[0m\u001b[32m                                                   |\u001b[0m\n",
              "\u001b[32m✓\u001b[0m\u001b[32m | ⏱: \u001b[0m\u001b[1;32m1.\u001b[0m\u001b[32m59s \u001b[0m\n"
            ],
            "text/html": [
              "<pre style=\"white-space:pre;overflow-x:auto;line-height:normal;font-family:Menlo,'DejaVu Sans Mono',consolas,'Courier New',monospace\"><span style=\"color: #008000; text-decoration-color: #008000; font-weight: bold\">[</span><span style=\"color: #008000; text-decoration-color: #008000\">FETCH</span><span style=\"color: #008000; text-decoration-color: #008000; font-weight: bold\">]</span><span style=\"color: #008000; text-decoration-color: #008000\">... ↓ </span><span style=\"color: #008000; text-decoration-color: #008000; text-decoration: underline\">https://www.startech.com.bd/laptop-notebook/laptop</span><span style=\"color: #008000; text-decoration-color: #008000\">                                                   |</span>\n",
              "<span style=\"color: #008000; text-decoration-color: #008000\">✓ | ⏱: </span><span style=\"color: #008000; text-decoration-color: #008000; font-weight: bold\">1.</span><span style=\"color: #008000; text-decoration-color: #008000\">59s </span>\n",
              "</pre>\n"
            ]
          },
          "metadata": {}
        },
        {
          "output_type": "display_data",
          "data": {
            "text/plain": [
              "\u001b[1;32m[\u001b[0m\u001b[32mSCRAPE\u001b[0m\u001b[1;32m]\u001b[0m\u001b[32m.. ◆ \u001b[0m\u001b[4;32mhttps://www.startech.com.bd/laptop-notebook/laptop\u001b[0m\u001b[32m                                                   |\u001b[0m\n",
              "\u001b[32m✓\u001b[0m\u001b[32m | ⏱: \u001b[0m\u001b[1;33m0.\u001b[0m\u001b[33m32\u001b[0m\u001b[32ms \u001b[0m\n"
            ],
            "text/html": [
              "<pre style=\"white-space:pre;overflow-x:auto;line-height:normal;font-family:Menlo,'DejaVu Sans Mono',consolas,'Courier New',monospace\"><span style=\"color: #008000; text-decoration-color: #008000; font-weight: bold\">[</span><span style=\"color: #008000; text-decoration-color: #008000\">SCRAPE</span><span style=\"color: #008000; text-decoration-color: #008000; font-weight: bold\">]</span><span style=\"color: #008000; text-decoration-color: #008000\">.. ◆ </span><span style=\"color: #008000; text-decoration-color: #008000; text-decoration: underline\">https://www.startech.com.bd/laptop-notebook/laptop</span><span style=\"color: #008000; text-decoration-color: #008000\">                                                   |</span>\n",
              "<span style=\"color: #008000; text-decoration-color: #008000\">✓ | ⏱: </span><span style=\"color: #808000; text-decoration-color: #808000; font-weight: bold\">0.</span><span style=\"color: #808000; text-decoration-color: #808000\">32</span><span style=\"color: #008000; text-decoration-color: #008000\">s </span>\n",
              "</pre>\n"
            ]
          },
          "metadata": {}
        },
        {
          "output_type": "display_data",
          "data": {
            "text/plain": [
              "\u001b[1;32m[\u001b[0m\u001b[32mCOMPLETE\u001b[0m\u001b[1;32m]\u001b[0m\u001b[32m ● \u001b[0m\u001b[4;32mhttps://www.startech.com.bd/laptop-notebook/laptop\u001b[0m\u001b[32m                                                   |\u001b[0m\n",
              "\u001b[32m✓\u001b[0m\u001b[32m | ⏱: \u001b[0m\u001b[1;32m1.\u001b[0m\u001b[32m91s \u001b[0m\n"
            ],
            "text/html": [
              "<pre style=\"white-space:pre;overflow-x:auto;line-height:normal;font-family:Menlo,'DejaVu Sans Mono',consolas,'Courier New',monospace\"><span style=\"color: #008000; text-decoration-color: #008000; font-weight: bold\">[</span><span style=\"color: #008000; text-decoration-color: #008000\">COMPLETE</span><span style=\"color: #008000; text-decoration-color: #008000; font-weight: bold\">]</span><span style=\"color: #008000; text-decoration-color: #008000\"> ● </span><span style=\"color: #008000; text-decoration-color: #008000; text-decoration: underline\">https://www.startech.com.bd/laptop-notebook/laptop</span><span style=\"color: #008000; text-decoration-color: #008000\">                                                   |</span>\n",
              "<span style=\"color: #008000; text-decoration-color: #008000\">✓ | ⏱: </span><span style=\"color: #008000; text-decoration-color: #008000; font-weight: bold\">1.</span><span style=\"color: #008000; text-decoration-color: #008000\">91s </span>\n",
              "</pre>\n"
            ]
          },
          "metadata": {}
        },
        {
          "output_type": "stream",
          "name": "stdout",
          "text": [
            "✅ Main category: 20 products\n",
            "  📂 Processing subcategory 1/5: MSI\n"
          ]
        },
        {
          "output_type": "display_data",
          "data": {
            "text/plain": [
              "\u001b[1;36m[\u001b[0m\u001b[36mINIT\u001b[0m\u001b[1;36m]\u001b[0m\u001b[36m...\u001b[0m\u001b[36m. → Crawl4AI \u001b[0m\u001b[1;36m0.7\u001b[0m\u001b[36m.\u001b[0m\u001b[1;36m4\u001b[0m\u001b[36m \u001b[0m\n"
            ],
            "text/html": [
              "<pre style=\"white-space:pre;overflow-x:auto;line-height:normal;font-family:Menlo,'DejaVu Sans Mono',consolas,'Courier New',monospace\"><span style=\"color: #008080; text-decoration-color: #008080; font-weight: bold\">[</span><span style=\"color: #008080; text-decoration-color: #008080\">INIT</span><span style=\"color: #008080; text-decoration-color: #008080; font-weight: bold\">]</span><span style=\"color: #008080; text-decoration-color: #008080\">.... → Crawl4AI </span><span style=\"color: #008080; text-decoration-color: #008080; font-weight: bold\">0.7</span><span style=\"color: #008080; text-decoration-color: #008080\">.</span><span style=\"color: #008080; text-decoration-color: #008080; font-weight: bold\">4</span><span style=\"color: #008080; text-decoration-color: #008080\"> </span>\n",
              "</pre>\n"
            ]
          },
          "metadata": {}
        },
        {
          "output_type": "display_data",
          "data": {
            "text/plain": [
              "\u001b[1;32m[\u001b[0m\u001b[32mFETCH\u001b[0m\u001b[1;32m]\u001b[0m\u001b[32m...\u001b[0m\u001b[32m ↓ \u001b[0m\u001b[4;32mhttps://www.startech.com.bd/laptop-notebook/laptop/msi-laptop\u001b[0m\u001b[32m                                        |\u001b[0m\n",
              "\u001b[32m✓\u001b[0m\u001b[32m | ⏱: \u001b[0m\u001b[1;32m1.\u001b[0m\u001b[32m32s \u001b[0m\n"
            ],
            "text/html": [
              "<pre style=\"white-space:pre;overflow-x:auto;line-height:normal;font-family:Menlo,'DejaVu Sans Mono',consolas,'Courier New',monospace\"><span style=\"color: #008000; text-decoration-color: #008000; font-weight: bold\">[</span><span style=\"color: #008000; text-decoration-color: #008000\">FETCH</span><span style=\"color: #008000; text-decoration-color: #008000; font-weight: bold\">]</span><span style=\"color: #008000; text-decoration-color: #008000\">... ↓ </span><span style=\"color: #008000; text-decoration-color: #008000; text-decoration: underline\">https://www.startech.com.bd/laptop-notebook/laptop/msi-laptop</span><span style=\"color: #008000; text-decoration-color: #008000\">                                        |</span>\n",
              "<span style=\"color: #008000; text-decoration-color: #008000\">✓ | ⏱: </span><span style=\"color: #008000; text-decoration-color: #008000; font-weight: bold\">1.</span><span style=\"color: #008000; text-decoration-color: #008000\">32s </span>\n",
              "</pre>\n"
            ]
          },
          "metadata": {}
        },
        {
          "output_type": "display_data",
          "data": {
            "text/plain": [
              "\u001b[1;32m[\u001b[0m\u001b[32mSCRAPE\u001b[0m\u001b[1;32m]\u001b[0m\u001b[32m.. ◆ \u001b[0m\u001b[4;32mhttps://www.startech.com.bd/laptop-notebook/laptop/msi-laptop\u001b[0m\u001b[32m                                        |\u001b[0m\n",
              "\u001b[32m✓\u001b[0m\u001b[32m | ⏱: \u001b[0m\u001b[1;32m0.\u001b[0m\u001b[32m30s \u001b[0m\n"
            ],
            "text/html": [
              "<pre style=\"white-space:pre;overflow-x:auto;line-height:normal;font-family:Menlo,'DejaVu Sans Mono',consolas,'Courier New',monospace\"><span style=\"color: #008000; text-decoration-color: #008000; font-weight: bold\">[</span><span style=\"color: #008000; text-decoration-color: #008000\">SCRAPE</span><span style=\"color: #008000; text-decoration-color: #008000; font-weight: bold\">]</span><span style=\"color: #008000; text-decoration-color: #008000\">.. ◆ </span><span style=\"color: #008000; text-decoration-color: #008000; text-decoration: underline\">https://www.startech.com.bd/laptop-notebook/laptop/msi-laptop</span><span style=\"color: #008000; text-decoration-color: #008000\">                                        |</span>\n",
              "<span style=\"color: #008000; text-decoration-color: #008000\">✓ | ⏱: </span><span style=\"color: #008000; text-decoration-color: #008000; font-weight: bold\">0.</span><span style=\"color: #008000; text-decoration-color: #008000\">30s </span>\n",
              "</pre>\n"
            ]
          },
          "metadata": {}
        },
        {
          "output_type": "display_data",
          "data": {
            "text/plain": [
              "\u001b[1;32m[\u001b[0m\u001b[32mCOMPLETE\u001b[0m\u001b[1;32m]\u001b[0m\u001b[32m ● \u001b[0m\u001b[4;32mhttps://www.startech.com.bd/laptop-notebook/laptop/msi-laptop\u001b[0m\u001b[32m                                        |\u001b[0m\n",
              "\u001b[32m✓\u001b[0m\u001b[32m | ⏱: \u001b[0m\u001b[1;32m1.\u001b[0m\u001b[32m65s \u001b[0m\n"
            ],
            "text/html": [
              "<pre style=\"white-space:pre;overflow-x:auto;line-height:normal;font-family:Menlo,'DejaVu Sans Mono',consolas,'Courier New',monospace\"><span style=\"color: #008000; text-decoration-color: #008000; font-weight: bold\">[</span><span style=\"color: #008000; text-decoration-color: #008000\">COMPLETE</span><span style=\"color: #008000; text-decoration-color: #008000; font-weight: bold\">]</span><span style=\"color: #008000; text-decoration-color: #008000\"> ● </span><span style=\"color: #008000; text-decoration-color: #008000; text-decoration: underline\">https://www.startech.com.bd/laptop-notebook/laptop/msi-laptop</span><span style=\"color: #008000; text-decoration-color: #008000\">                                        |</span>\n",
              "<span style=\"color: #008000; text-decoration-color: #008000\">✓ | ⏱: </span><span style=\"color: #008000; text-decoration-color: #008000; font-weight: bold\">1.</span><span style=\"color: #008000; text-decoration-color: #008000\">65s </span>\n",
              "</pre>\n"
            ]
          },
          "metadata": {}
        },
        {
          "output_type": "stream",
          "name": "stdout",
          "text": [
            "     ✅ 20 products\n",
            "  📂 Processing subcategory 2/5: Lenovo\n"
          ]
        },
        {
          "output_type": "display_data",
          "data": {
            "text/plain": [
              "\u001b[1;36m[\u001b[0m\u001b[36mINIT\u001b[0m\u001b[1;36m]\u001b[0m\u001b[36m...\u001b[0m\u001b[36m. → Crawl4AI \u001b[0m\u001b[1;36m0.7\u001b[0m\u001b[36m.\u001b[0m\u001b[1;36m4\u001b[0m\u001b[36m \u001b[0m\n"
            ],
            "text/html": [
              "<pre style=\"white-space:pre;overflow-x:auto;line-height:normal;font-family:Menlo,'DejaVu Sans Mono',consolas,'Courier New',monospace\"><span style=\"color: #008080; text-decoration-color: #008080; font-weight: bold\">[</span><span style=\"color: #008080; text-decoration-color: #008080\">INIT</span><span style=\"color: #008080; text-decoration-color: #008080; font-weight: bold\">]</span><span style=\"color: #008080; text-decoration-color: #008080\">.... → Crawl4AI </span><span style=\"color: #008080; text-decoration-color: #008080; font-weight: bold\">0.7</span><span style=\"color: #008080; text-decoration-color: #008080\">.</span><span style=\"color: #008080; text-decoration-color: #008080; font-weight: bold\">4</span><span style=\"color: #008080; text-decoration-color: #008080\"> </span>\n",
              "</pre>\n"
            ]
          },
          "metadata": {}
        },
        {
          "output_type": "display_data",
          "data": {
            "text/plain": [
              "\u001b[1;32m[\u001b[0m\u001b[32mFETCH\u001b[0m\u001b[1;32m]\u001b[0m\u001b[32m...\u001b[0m\u001b[32m ↓ \u001b[0m\u001b[4;32mhttps://www.startech.com.bd/lenovo-laptop\u001b[0m\u001b[32m                                                            |\u001b[0m\n",
              "\u001b[32m✓\u001b[0m\u001b[32m | ⏱: \u001b[0m\u001b[1;32m1.\u001b[0m\u001b[32m37s \u001b[0m\n"
            ],
            "text/html": [
              "<pre style=\"white-space:pre;overflow-x:auto;line-height:normal;font-family:Menlo,'DejaVu Sans Mono',consolas,'Courier New',monospace\"><span style=\"color: #008000; text-decoration-color: #008000; font-weight: bold\">[</span><span style=\"color: #008000; text-decoration-color: #008000\">FETCH</span><span style=\"color: #008000; text-decoration-color: #008000; font-weight: bold\">]</span><span style=\"color: #008000; text-decoration-color: #008000\">... ↓ </span><span style=\"color: #008000; text-decoration-color: #008000; text-decoration: underline\">https://www.startech.com.bd/lenovo-laptop</span><span style=\"color: #008000; text-decoration-color: #008000\">                                                            |</span>\n",
              "<span style=\"color: #008000; text-decoration-color: #008000\">✓ | ⏱: </span><span style=\"color: #008000; text-decoration-color: #008000; font-weight: bold\">1.</span><span style=\"color: #008000; text-decoration-color: #008000\">37s </span>\n",
              "</pre>\n"
            ]
          },
          "metadata": {}
        },
        {
          "output_type": "display_data",
          "data": {
            "text/plain": [
              "\u001b[1;32m[\u001b[0m\u001b[32mSCRAPE\u001b[0m\u001b[1;32m]\u001b[0m\u001b[32m.. ◆ \u001b[0m\u001b[4;32mhttps://www.startech.com.bd/lenovo-laptop\u001b[0m\u001b[32m                                                            |\u001b[0m\n",
              "\u001b[32m✓\u001b[0m\u001b[32m | ⏱: \u001b[0m\u001b[1;32m0.\u001b[0m\u001b[32m29s \u001b[0m\n"
            ],
            "text/html": [
              "<pre style=\"white-space:pre;overflow-x:auto;line-height:normal;font-family:Menlo,'DejaVu Sans Mono',consolas,'Courier New',monospace\"><span style=\"color: #008000; text-decoration-color: #008000; font-weight: bold\">[</span><span style=\"color: #008000; text-decoration-color: #008000\">SCRAPE</span><span style=\"color: #008000; text-decoration-color: #008000; font-weight: bold\">]</span><span style=\"color: #008000; text-decoration-color: #008000\">.. ◆ </span><span style=\"color: #008000; text-decoration-color: #008000; text-decoration: underline\">https://www.startech.com.bd/lenovo-laptop</span><span style=\"color: #008000; text-decoration-color: #008000\">                                                            |</span>\n",
              "<span style=\"color: #008000; text-decoration-color: #008000\">✓ | ⏱: </span><span style=\"color: #008000; text-decoration-color: #008000; font-weight: bold\">0.</span><span style=\"color: #008000; text-decoration-color: #008000\">29s </span>\n",
              "</pre>\n"
            ]
          },
          "metadata": {}
        },
        {
          "output_type": "display_data",
          "data": {
            "text/plain": [
              "\u001b[1;32m[\u001b[0m\u001b[32mCOMPLETE\u001b[0m\u001b[1;32m]\u001b[0m\u001b[32m ● \u001b[0m\u001b[4;32mhttps://www.startech.com.bd/lenovo-laptop\u001b[0m\u001b[32m                                                            |\u001b[0m\n",
              "\u001b[32m✓\u001b[0m\u001b[32m | ⏱: \u001b[0m\u001b[1;32m1.\u001b[0m\u001b[32m68s \u001b[0m\n"
            ],
            "text/html": [
              "<pre style=\"white-space:pre;overflow-x:auto;line-height:normal;font-family:Menlo,'DejaVu Sans Mono',consolas,'Courier New',monospace\"><span style=\"color: #008000; text-decoration-color: #008000; font-weight: bold\">[</span><span style=\"color: #008000; text-decoration-color: #008000\">COMPLETE</span><span style=\"color: #008000; text-decoration-color: #008000; font-weight: bold\">]</span><span style=\"color: #008000; text-decoration-color: #008000\"> ● </span><span style=\"color: #008000; text-decoration-color: #008000; text-decoration: underline\">https://www.startech.com.bd/lenovo-laptop</span><span style=\"color: #008000; text-decoration-color: #008000\">                                                            |</span>\n",
              "<span style=\"color: #008000; text-decoration-color: #008000\">✓ | ⏱: </span><span style=\"color: #008000; text-decoration-color: #008000; font-weight: bold\">1.</span><span style=\"color: #008000; text-decoration-color: #008000\">68s </span>\n",
              "</pre>\n"
            ]
          },
          "metadata": {}
        },
        {
          "output_type": "stream",
          "name": "stdout",
          "text": [
            "     ✅ 20 products\n",
            "  📂 Processing subcategory 3/5: Asus\n"
          ]
        },
        {
          "output_type": "display_data",
          "data": {
            "text/plain": [
              "\u001b[1;36m[\u001b[0m\u001b[36mINIT\u001b[0m\u001b[1;36m]\u001b[0m\u001b[36m...\u001b[0m\u001b[36m. → Crawl4AI \u001b[0m\u001b[1;36m0.7\u001b[0m\u001b[36m.\u001b[0m\u001b[1;36m4\u001b[0m\u001b[36m \u001b[0m\n"
            ],
            "text/html": [
              "<pre style=\"white-space:pre;overflow-x:auto;line-height:normal;font-family:Menlo,'DejaVu Sans Mono',consolas,'Courier New',monospace\"><span style=\"color: #008080; text-decoration-color: #008080; font-weight: bold\">[</span><span style=\"color: #008080; text-decoration-color: #008080\">INIT</span><span style=\"color: #008080; text-decoration-color: #008080; font-weight: bold\">]</span><span style=\"color: #008080; text-decoration-color: #008080\">.... → Crawl4AI </span><span style=\"color: #008080; text-decoration-color: #008080; font-weight: bold\">0.7</span><span style=\"color: #008080; text-decoration-color: #008080\">.</span><span style=\"color: #008080; text-decoration-color: #008080; font-weight: bold\">4</span><span style=\"color: #008080; text-decoration-color: #008080\"> </span>\n",
              "</pre>\n"
            ]
          },
          "metadata": {}
        },
        {
          "output_type": "display_data",
          "data": {
            "text/plain": [
              "\u001b[1;32m[\u001b[0m\u001b[32mFETCH\u001b[0m\u001b[1;32m]\u001b[0m\u001b[32m...\u001b[0m\u001b[32m ↓ \u001b[0m\u001b[4;32mhttps://www.startech.com.bd/asus-laptop\u001b[0m\u001b[32m                                                              |\u001b[0m\n",
              "\u001b[32m✓\u001b[0m\u001b[32m | ⏱: \u001b[0m\u001b[1;32m1.\u001b[0m\u001b[32m89s \u001b[0m\n"
            ],
            "text/html": [
              "<pre style=\"white-space:pre;overflow-x:auto;line-height:normal;font-family:Menlo,'DejaVu Sans Mono',consolas,'Courier New',monospace\"><span style=\"color: #008000; text-decoration-color: #008000; font-weight: bold\">[</span><span style=\"color: #008000; text-decoration-color: #008000\">FETCH</span><span style=\"color: #008000; text-decoration-color: #008000; font-weight: bold\">]</span><span style=\"color: #008000; text-decoration-color: #008000\">... ↓ </span><span style=\"color: #008000; text-decoration-color: #008000; text-decoration: underline\">https://www.startech.com.bd/asus-laptop</span><span style=\"color: #008000; text-decoration-color: #008000\">                                                              |</span>\n",
              "<span style=\"color: #008000; text-decoration-color: #008000\">✓ | ⏱: </span><span style=\"color: #008000; text-decoration-color: #008000; font-weight: bold\">1.</span><span style=\"color: #008000; text-decoration-color: #008000\">89s </span>\n",
              "</pre>\n"
            ]
          },
          "metadata": {}
        },
        {
          "output_type": "display_data",
          "data": {
            "text/plain": [
              "\u001b[1;32m[\u001b[0m\u001b[32mSCRAPE\u001b[0m\u001b[1;32m]\u001b[0m\u001b[32m.. ◆ \u001b[0m\u001b[4;32mhttps://www.startech.com.bd/asus-laptop\u001b[0m\u001b[32m                                                              |\u001b[0m\n",
              "\u001b[32m✓\u001b[0m\u001b[32m | ⏱: \u001b[0m\u001b[1;32m0.\u001b[0m\u001b[32m36s \u001b[0m\n"
            ],
            "text/html": [
              "<pre style=\"white-space:pre;overflow-x:auto;line-height:normal;font-family:Menlo,'DejaVu Sans Mono',consolas,'Courier New',monospace\"><span style=\"color: #008000; text-decoration-color: #008000; font-weight: bold\">[</span><span style=\"color: #008000; text-decoration-color: #008000\">SCRAPE</span><span style=\"color: #008000; text-decoration-color: #008000; font-weight: bold\">]</span><span style=\"color: #008000; text-decoration-color: #008000\">.. ◆ </span><span style=\"color: #008000; text-decoration-color: #008000; text-decoration: underline\">https://www.startech.com.bd/asus-laptop</span><span style=\"color: #008000; text-decoration-color: #008000\">                                                              |</span>\n",
              "<span style=\"color: #008000; text-decoration-color: #008000\">✓ | ⏱: </span><span style=\"color: #008000; text-decoration-color: #008000; font-weight: bold\">0.</span><span style=\"color: #008000; text-decoration-color: #008000\">36s </span>\n",
              "</pre>\n"
            ]
          },
          "metadata": {}
        },
        {
          "output_type": "display_data",
          "data": {
            "text/plain": [
              "\u001b[1;32m[\u001b[0m\u001b[32mCOMPLETE\u001b[0m\u001b[1;32m]\u001b[0m\u001b[32m ● \u001b[0m\u001b[4;32mhttps://www.startech.com.bd/asus-laptop\u001b[0m\u001b[32m                                                              |\u001b[0m\n",
              "\u001b[32m✓\u001b[0m\u001b[32m | ⏱: \u001b[0m\u001b[1;32m2.\u001b[0m\u001b[32m26s \u001b[0m\n"
            ],
            "text/html": [
              "<pre style=\"white-space:pre;overflow-x:auto;line-height:normal;font-family:Menlo,'DejaVu Sans Mono',consolas,'Courier New',monospace\"><span style=\"color: #008000; text-decoration-color: #008000; font-weight: bold\">[</span><span style=\"color: #008000; text-decoration-color: #008000\">COMPLETE</span><span style=\"color: #008000; text-decoration-color: #008000; font-weight: bold\">]</span><span style=\"color: #008000; text-decoration-color: #008000\"> ● </span><span style=\"color: #008000; text-decoration-color: #008000; text-decoration: underline\">https://www.startech.com.bd/asus-laptop</span><span style=\"color: #008000; text-decoration-color: #008000\">                                                              |</span>\n",
              "<span style=\"color: #008000; text-decoration-color: #008000\">✓ | ⏱: </span><span style=\"color: #008000; text-decoration-color: #008000; font-weight: bold\">2.</span><span style=\"color: #008000; text-decoration-color: #008000\">26s </span>\n",
              "</pre>\n"
            ]
          },
          "metadata": {}
        },
        {
          "output_type": "stream",
          "name": "stdout",
          "text": [
            "     ✅ 20 products\n",
            "  📂 Processing subcategory 4/5: HP\n"
          ]
        },
        {
          "output_type": "display_data",
          "data": {
            "text/plain": [
              "\u001b[1;36m[\u001b[0m\u001b[36mINIT\u001b[0m\u001b[1;36m]\u001b[0m\u001b[36m...\u001b[0m\u001b[36m. → Crawl4AI \u001b[0m\u001b[1;36m0.7\u001b[0m\u001b[36m.\u001b[0m\u001b[1;36m4\u001b[0m\u001b[36m \u001b[0m\n"
            ],
            "text/html": [
              "<pre style=\"white-space:pre;overflow-x:auto;line-height:normal;font-family:Menlo,'DejaVu Sans Mono',consolas,'Courier New',monospace\"><span style=\"color: #008080; text-decoration-color: #008080; font-weight: bold\">[</span><span style=\"color: #008080; text-decoration-color: #008080\">INIT</span><span style=\"color: #008080; text-decoration-color: #008080; font-weight: bold\">]</span><span style=\"color: #008080; text-decoration-color: #008080\">.... → Crawl4AI </span><span style=\"color: #008080; text-decoration-color: #008080; font-weight: bold\">0.7</span><span style=\"color: #008080; text-decoration-color: #008080\">.</span><span style=\"color: #008080; text-decoration-color: #008080; font-weight: bold\">4</span><span style=\"color: #008080; text-decoration-color: #008080\"> </span>\n",
              "</pre>\n"
            ]
          },
          "metadata": {}
        },
        {
          "output_type": "display_data",
          "data": {
            "text/plain": [
              "\u001b[1;32m[\u001b[0m\u001b[32mFETCH\u001b[0m\u001b[1;32m]\u001b[0m\u001b[32m...\u001b[0m\u001b[32m ↓ \u001b[0m\u001b[4;32mhttps://www.startech.com.bd/hp-laptop\u001b[0m\u001b[32m                                                                |\u001b[0m\n",
              "\u001b[32m✓\u001b[0m\u001b[32m | ⏱: \u001b[0m\u001b[1;32m1.\u001b[0m\u001b[32m48s \u001b[0m\n"
            ],
            "text/html": [
              "<pre style=\"white-space:pre;overflow-x:auto;line-height:normal;font-family:Menlo,'DejaVu Sans Mono',consolas,'Courier New',monospace\"><span style=\"color: #008000; text-decoration-color: #008000; font-weight: bold\">[</span><span style=\"color: #008000; text-decoration-color: #008000\">FETCH</span><span style=\"color: #008000; text-decoration-color: #008000; font-weight: bold\">]</span><span style=\"color: #008000; text-decoration-color: #008000\">... ↓ </span><span style=\"color: #008000; text-decoration-color: #008000; text-decoration: underline\">https://www.startech.com.bd/hp-laptop</span><span style=\"color: #008000; text-decoration-color: #008000\">                                                                |</span>\n",
              "<span style=\"color: #008000; text-decoration-color: #008000\">✓ | ⏱: </span><span style=\"color: #008000; text-decoration-color: #008000; font-weight: bold\">1.</span><span style=\"color: #008000; text-decoration-color: #008000\">48s </span>\n",
              "</pre>\n"
            ]
          },
          "metadata": {}
        },
        {
          "output_type": "display_data",
          "data": {
            "text/plain": [
              "\u001b[1;32m[\u001b[0m\u001b[32mSCRAPE\u001b[0m\u001b[1;32m]\u001b[0m\u001b[32m.. ◆ \u001b[0m\u001b[4;32mhttps://www.startech.com.bd/hp-laptop\u001b[0m\u001b[32m                                                                |\u001b[0m\n",
              "\u001b[32m✓\u001b[0m\u001b[32m | ⏱: \u001b[0m\u001b[1;32m0.\u001b[0m\u001b[32m50s \u001b[0m\n"
            ],
            "text/html": [
              "<pre style=\"white-space:pre;overflow-x:auto;line-height:normal;font-family:Menlo,'DejaVu Sans Mono',consolas,'Courier New',monospace\"><span style=\"color: #008000; text-decoration-color: #008000; font-weight: bold\">[</span><span style=\"color: #008000; text-decoration-color: #008000\">SCRAPE</span><span style=\"color: #008000; text-decoration-color: #008000; font-weight: bold\">]</span><span style=\"color: #008000; text-decoration-color: #008000\">.. ◆ </span><span style=\"color: #008000; text-decoration-color: #008000; text-decoration: underline\">https://www.startech.com.bd/hp-laptop</span><span style=\"color: #008000; text-decoration-color: #008000\">                                                                |</span>\n",
              "<span style=\"color: #008000; text-decoration-color: #008000\">✓ | ⏱: </span><span style=\"color: #008000; text-decoration-color: #008000; font-weight: bold\">0.</span><span style=\"color: #008000; text-decoration-color: #008000\">50s </span>\n",
              "</pre>\n"
            ]
          },
          "metadata": {}
        },
        {
          "output_type": "display_data",
          "data": {
            "text/plain": [
              "\u001b[1;32m[\u001b[0m\u001b[32mCOMPLETE\u001b[0m\u001b[1;32m]\u001b[0m\u001b[32m ● \u001b[0m\u001b[4;32mhttps://www.startech.com.bd/hp-laptop\u001b[0m\u001b[32m                                                                |\u001b[0m\n",
              "\u001b[32m✓\u001b[0m\u001b[32m | ⏱: \u001b[0m\u001b[1;32m1.\u001b[0m\u001b[32m99s \u001b[0m\n"
            ],
            "text/html": [
              "<pre style=\"white-space:pre;overflow-x:auto;line-height:normal;font-family:Menlo,'DejaVu Sans Mono',consolas,'Courier New',monospace\"><span style=\"color: #008000; text-decoration-color: #008000; font-weight: bold\">[</span><span style=\"color: #008000; text-decoration-color: #008000\">COMPLETE</span><span style=\"color: #008000; text-decoration-color: #008000; font-weight: bold\">]</span><span style=\"color: #008000; text-decoration-color: #008000\"> ● </span><span style=\"color: #008000; text-decoration-color: #008000; text-decoration: underline\">https://www.startech.com.bd/hp-laptop</span><span style=\"color: #008000; text-decoration-color: #008000\">                                                                |</span>\n",
              "<span style=\"color: #008000; text-decoration-color: #008000\">✓ | ⏱: </span><span style=\"color: #008000; text-decoration-color: #008000; font-weight: bold\">1.</span><span style=\"color: #008000; text-decoration-color: #008000\">99s </span>\n",
              "</pre>\n"
            ]
          },
          "metadata": {}
        },
        {
          "output_type": "stream",
          "name": "stdout",
          "text": [
            "     ✅ 20 products\n",
            "  📂 Processing subcategory 5/5: Acer\n"
          ]
        },
        {
          "output_type": "display_data",
          "data": {
            "text/plain": [
              "\u001b[1;36m[\u001b[0m\u001b[36mINIT\u001b[0m\u001b[1;36m]\u001b[0m\u001b[36m...\u001b[0m\u001b[36m. → Crawl4AI \u001b[0m\u001b[1;36m0.7\u001b[0m\u001b[36m.\u001b[0m\u001b[1;36m4\u001b[0m\u001b[36m \u001b[0m\n"
            ],
            "text/html": [
              "<pre style=\"white-space:pre;overflow-x:auto;line-height:normal;font-family:Menlo,'DejaVu Sans Mono',consolas,'Courier New',monospace\"><span style=\"color: #008080; text-decoration-color: #008080; font-weight: bold\">[</span><span style=\"color: #008080; text-decoration-color: #008080\">INIT</span><span style=\"color: #008080; text-decoration-color: #008080; font-weight: bold\">]</span><span style=\"color: #008080; text-decoration-color: #008080\">.... → Crawl4AI </span><span style=\"color: #008080; text-decoration-color: #008080; font-weight: bold\">0.7</span><span style=\"color: #008080; text-decoration-color: #008080\">.</span><span style=\"color: #008080; text-decoration-color: #008080; font-weight: bold\">4</span><span style=\"color: #008080; text-decoration-color: #008080\"> </span>\n",
              "</pre>\n"
            ]
          },
          "metadata": {}
        },
        {
          "output_type": "display_data",
          "data": {
            "text/plain": [
              "\u001b[1;32m[\u001b[0m\u001b[32mFETCH\u001b[0m\u001b[1;32m]\u001b[0m\u001b[32m...\u001b[0m\u001b[32m ↓ \u001b[0m\u001b[4;32mhttps://www.startech.com.bd/acer-laptop\u001b[0m\u001b[32m                                                              |\u001b[0m\n",
              "\u001b[32m✓\u001b[0m\u001b[32m | ⏱: \u001b[0m\u001b[1;32m1.\u001b[0m\u001b[32m40s \u001b[0m\n"
            ],
            "text/html": [
              "<pre style=\"white-space:pre;overflow-x:auto;line-height:normal;font-family:Menlo,'DejaVu Sans Mono',consolas,'Courier New',monospace\"><span style=\"color: #008000; text-decoration-color: #008000; font-weight: bold\">[</span><span style=\"color: #008000; text-decoration-color: #008000\">FETCH</span><span style=\"color: #008000; text-decoration-color: #008000; font-weight: bold\">]</span><span style=\"color: #008000; text-decoration-color: #008000\">... ↓ </span><span style=\"color: #008000; text-decoration-color: #008000; text-decoration: underline\">https://www.startech.com.bd/acer-laptop</span><span style=\"color: #008000; text-decoration-color: #008000\">                                                              |</span>\n",
              "<span style=\"color: #008000; text-decoration-color: #008000\">✓ | ⏱: </span><span style=\"color: #008000; text-decoration-color: #008000; font-weight: bold\">1.</span><span style=\"color: #008000; text-decoration-color: #008000\">40s </span>\n",
              "</pre>\n"
            ]
          },
          "metadata": {}
        },
        {
          "output_type": "display_data",
          "data": {
            "text/plain": [
              "\u001b[1;32m[\u001b[0m\u001b[32mSCRAPE\u001b[0m\u001b[1;32m]\u001b[0m\u001b[32m.. ◆ \u001b[0m\u001b[4;32mhttps://www.startech.com.bd/acer-laptop\u001b[0m\u001b[32m                                                              |\u001b[0m\n",
              "\u001b[32m✓\u001b[0m\u001b[32m | ⏱: \u001b[0m\u001b[1;32m0.\u001b[0m\u001b[32m33s \u001b[0m\n"
            ],
            "text/html": [
              "<pre style=\"white-space:pre;overflow-x:auto;line-height:normal;font-family:Menlo,'DejaVu Sans Mono',consolas,'Courier New',monospace\"><span style=\"color: #008000; text-decoration-color: #008000; font-weight: bold\">[</span><span style=\"color: #008000; text-decoration-color: #008000\">SCRAPE</span><span style=\"color: #008000; text-decoration-color: #008000; font-weight: bold\">]</span><span style=\"color: #008000; text-decoration-color: #008000\">.. ◆ </span><span style=\"color: #008000; text-decoration-color: #008000; text-decoration: underline\">https://www.startech.com.bd/acer-laptop</span><span style=\"color: #008000; text-decoration-color: #008000\">                                                              |</span>\n",
              "<span style=\"color: #008000; text-decoration-color: #008000\">✓ | ⏱: </span><span style=\"color: #008000; text-decoration-color: #008000; font-weight: bold\">0.</span><span style=\"color: #008000; text-decoration-color: #008000\">33s </span>\n",
              "</pre>\n"
            ]
          },
          "metadata": {}
        },
        {
          "output_type": "display_data",
          "data": {
            "text/plain": [
              "\u001b[1;32m[\u001b[0m\u001b[32mCOMPLETE\u001b[0m\u001b[1;32m]\u001b[0m\u001b[32m ● \u001b[0m\u001b[4;32mhttps://www.startech.com.bd/acer-laptop\u001b[0m\u001b[32m                                                              |\u001b[0m\n",
              "\u001b[32m✓\u001b[0m\u001b[32m | ⏱: \u001b[0m\u001b[1;32m1.\u001b[0m\u001b[32m73s \u001b[0m\n"
            ],
            "text/html": [
              "<pre style=\"white-space:pre;overflow-x:auto;line-height:normal;font-family:Menlo,'DejaVu Sans Mono',consolas,'Courier New',monospace\"><span style=\"color: #008000; text-decoration-color: #008000; font-weight: bold\">[</span><span style=\"color: #008000; text-decoration-color: #008000\">COMPLETE</span><span style=\"color: #008000; text-decoration-color: #008000; font-weight: bold\">]</span><span style=\"color: #008000; text-decoration-color: #008000\"> ● </span><span style=\"color: #008000; text-decoration-color: #008000; text-decoration: underline\">https://www.startech.com.bd/acer-laptop</span><span style=\"color: #008000; text-decoration-color: #008000\">                                                              |</span>\n",
              "<span style=\"color: #008000; text-decoration-color: #008000\">✓ | ⏱: </span><span style=\"color: #008000; text-decoration-color: #008000; font-weight: bold\">1.</span><span style=\"color: #008000; text-decoration-color: #008000\">73s </span>\n",
              "</pre>\n"
            ]
          },
          "metadata": {}
        },
        {
          "output_type": "stream",
          "name": "stdout",
          "text": [
            "     ✅ 20 products\n",
            "📊 Total products so far: 562\n",
            "\n",
            "--- Processing Category 9/10: Gaming Laptop ---\n"
          ]
        },
        {
          "output_type": "display_data",
          "data": {
            "text/plain": [
              "\u001b[1;36m[\u001b[0m\u001b[36mINIT\u001b[0m\u001b[1;36m]\u001b[0m\u001b[36m...\u001b[0m\u001b[36m. → Crawl4AI \u001b[0m\u001b[1;36m0.7\u001b[0m\u001b[36m.\u001b[0m\u001b[1;36m4\u001b[0m\u001b[36m \u001b[0m\n"
            ],
            "text/html": [
              "<pre style=\"white-space:pre;overflow-x:auto;line-height:normal;font-family:Menlo,'DejaVu Sans Mono',consolas,'Courier New',monospace\"><span style=\"color: #008080; text-decoration-color: #008080; font-weight: bold\">[</span><span style=\"color: #008080; text-decoration-color: #008080\">INIT</span><span style=\"color: #008080; text-decoration-color: #008080; font-weight: bold\">]</span><span style=\"color: #008080; text-decoration-color: #008080\">.... → Crawl4AI </span><span style=\"color: #008080; text-decoration-color: #008080; font-weight: bold\">0.7</span><span style=\"color: #008080; text-decoration-color: #008080\">.</span><span style=\"color: #008080; text-decoration-color: #008080; font-weight: bold\">4</span><span style=\"color: #008080; text-decoration-color: #008080\"> </span>\n",
              "</pre>\n"
            ]
          },
          "metadata": {}
        },
        {
          "output_type": "display_data",
          "data": {
            "text/plain": [
              "\u001b[1;32m[\u001b[0m\u001b[32mFETCH\u001b[0m\u001b[1;32m]\u001b[0m\u001b[32m...\u001b[0m\u001b[32m ↓ \u001b[0m\u001b[4;32mhttps://www.startech.com.bd/laptop-notebook/Gaming-Laptop\u001b[0m\u001b[32m                                            |\u001b[0m\n",
              "\u001b[32m✓\u001b[0m\u001b[32m | ⏱: \u001b[0m\u001b[1;32m1.\u001b[0m\u001b[32m83s \u001b[0m\n"
            ],
            "text/html": [
              "<pre style=\"white-space:pre;overflow-x:auto;line-height:normal;font-family:Menlo,'DejaVu Sans Mono',consolas,'Courier New',monospace\"><span style=\"color: #008000; text-decoration-color: #008000; font-weight: bold\">[</span><span style=\"color: #008000; text-decoration-color: #008000\">FETCH</span><span style=\"color: #008000; text-decoration-color: #008000; font-weight: bold\">]</span><span style=\"color: #008000; text-decoration-color: #008000\">... ↓ </span><span style=\"color: #008000; text-decoration-color: #008000; text-decoration: underline\">https://www.startech.com.bd/laptop-notebook/Gaming-Laptop</span><span style=\"color: #008000; text-decoration-color: #008000\">                                            |</span>\n",
              "<span style=\"color: #008000; text-decoration-color: #008000\">✓ | ⏱: </span><span style=\"color: #008000; text-decoration-color: #008000; font-weight: bold\">1.</span><span style=\"color: #008000; text-decoration-color: #008000\">83s </span>\n",
              "</pre>\n"
            ]
          },
          "metadata": {}
        },
        {
          "output_type": "display_data",
          "data": {
            "text/plain": [
              "\u001b[1;32m[\u001b[0m\u001b[32mSCRAPE\u001b[0m\u001b[1;32m]\u001b[0m\u001b[32m.. ◆ \u001b[0m\u001b[4;32mhttps://www.startech.com.bd/laptop-notebook/Gaming-Laptop\u001b[0m\u001b[32m                                            |\u001b[0m\n",
              "\u001b[32m✓\u001b[0m\u001b[32m | ⏱: \u001b[0m\u001b[1;32m0.\u001b[0m\u001b[32m36s \u001b[0m\n"
            ],
            "text/html": [
              "<pre style=\"white-space:pre;overflow-x:auto;line-height:normal;font-family:Menlo,'DejaVu Sans Mono',consolas,'Courier New',monospace\"><span style=\"color: #008000; text-decoration-color: #008000; font-weight: bold\">[</span><span style=\"color: #008000; text-decoration-color: #008000\">SCRAPE</span><span style=\"color: #008000; text-decoration-color: #008000; font-weight: bold\">]</span><span style=\"color: #008000; text-decoration-color: #008000\">.. ◆ </span><span style=\"color: #008000; text-decoration-color: #008000; text-decoration: underline\">https://www.startech.com.bd/laptop-notebook/Gaming-Laptop</span><span style=\"color: #008000; text-decoration-color: #008000\">                                            |</span>\n",
              "<span style=\"color: #008000; text-decoration-color: #008000\">✓ | ⏱: </span><span style=\"color: #008000; text-decoration-color: #008000; font-weight: bold\">0.</span><span style=\"color: #008000; text-decoration-color: #008000\">36s </span>\n",
              "</pre>\n"
            ]
          },
          "metadata": {}
        },
        {
          "output_type": "display_data",
          "data": {
            "text/plain": [
              "\u001b[1;32m[\u001b[0m\u001b[32mCOMPLETE\u001b[0m\u001b[1;32m]\u001b[0m\u001b[32m ● \u001b[0m\u001b[4;32mhttps://www.startech.com.bd/laptop-notebook/Gaming-Laptop\u001b[0m\u001b[32m                                            |\u001b[0m\n",
              "\u001b[32m✓\u001b[0m\u001b[32m | ⏱: \u001b[0m\u001b[1;32m2.\u001b[0m\u001b[32m21s \u001b[0m\n"
            ],
            "text/html": [
              "<pre style=\"white-space:pre;overflow-x:auto;line-height:normal;font-family:Menlo,'DejaVu Sans Mono',consolas,'Courier New',monospace\"><span style=\"color: #008000; text-decoration-color: #008000; font-weight: bold\">[</span><span style=\"color: #008000; text-decoration-color: #008000\">COMPLETE</span><span style=\"color: #008000; text-decoration-color: #008000; font-weight: bold\">]</span><span style=\"color: #008000; text-decoration-color: #008000\"> ● </span><span style=\"color: #008000; text-decoration-color: #008000; text-decoration: underline\">https://www.startech.com.bd/laptop-notebook/Gaming-Laptop</span><span style=\"color: #008000; text-decoration-color: #008000\">                                            |</span>\n",
              "<span style=\"color: #008000; text-decoration-color: #008000\">✓ | ⏱: </span><span style=\"color: #008000; text-decoration-color: #008000; font-weight: bold\">2.</span><span style=\"color: #008000; text-decoration-color: #008000\">21s </span>\n",
              "</pre>\n"
            ]
          },
          "metadata": {}
        },
        {
          "output_type": "stream",
          "name": "stdout",
          "text": [
            "✅ Main category: 20 products\n",
            "  📂 Processing subcategory 1/5: HP\n"
          ]
        },
        {
          "output_type": "display_data",
          "data": {
            "text/plain": [
              "\u001b[1;36m[\u001b[0m\u001b[36mINIT\u001b[0m\u001b[1;36m]\u001b[0m\u001b[36m...\u001b[0m\u001b[36m. → Crawl4AI \u001b[0m\u001b[1;36m0.7\u001b[0m\u001b[36m.\u001b[0m\u001b[1;36m4\u001b[0m\u001b[36m \u001b[0m\n"
            ],
            "text/html": [
              "<pre style=\"white-space:pre;overflow-x:auto;line-height:normal;font-family:Menlo,'DejaVu Sans Mono',consolas,'Courier New',monospace\"><span style=\"color: #008080; text-decoration-color: #008080; font-weight: bold\">[</span><span style=\"color: #008080; text-decoration-color: #008080\">INIT</span><span style=\"color: #008080; text-decoration-color: #008080; font-weight: bold\">]</span><span style=\"color: #008080; text-decoration-color: #008080\">.... → Crawl4AI </span><span style=\"color: #008080; text-decoration-color: #008080; font-weight: bold\">0.7</span><span style=\"color: #008080; text-decoration-color: #008080\">.</span><span style=\"color: #008080; text-decoration-color: #008080; font-weight: bold\">4</span><span style=\"color: #008080; text-decoration-color: #008080\"> </span>\n",
              "</pre>\n"
            ]
          },
          "metadata": {}
        },
        {
          "output_type": "display_data",
          "data": {
            "text/plain": [
              "\u001b[1;32m[\u001b[0m\u001b[32mFETCH\u001b[0m\u001b[1;32m]\u001b[0m\u001b[32m...\u001b[0m\u001b[32m ↓ \u001b[0m\u001b[4;32mhttps://www.startech.com.bd/hp-gaming-laptop\u001b[0m\u001b[32m                                                         |\u001b[0m\n",
              "\u001b[32m✓\u001b[0m\u001b[32m | ⏱: \u001b[0m\u001b[1;32m1.\u001b[0m\u001b[32m29s \u001b[0m\n"
            ],
            "text/html": [
              "<pre style=\"white-space:pre;overflow-x:auto;line-height:normal;font-family:Menlo,'DejaVu Sans Mono',consolas,'Courier New',monospace\"><span style=\"color: #008000; text-decoration-color: #008000; font-weight: bold\">[</span><span style=\"color: #008000; text-decoration-color: #008000\">FETCH</span><span style=\"color: #008000; text-decoration-color: #008000; font-weight: bold\">]</span><span style=\"color: #008000; text-decoration-color: #008000\">... ↓ </span><span style=\"color: #008000; text-decoration-color: #008000; text-decoration: underline\">https://www.startech.com.bd/hp-gaming-laptop</span><span style=\"color: #008000; text-decoration-color: #008000\">                                                         |</span>\n",
              "<span style=\"color: #008000; text-decoration-color: #008000\">✓ | ⏱: </span><span style=\"color: #008000; text-decoration-color: #008000; font-weight: bold\">1.</span><span style=\"color: #008000; text-decoration-color: #008000\">29s </span>\n",
              "</pre>\n"
            ]
          },
          "metadata": {}
        },
        {
          "output_type": "display_data",
          "data": {
            "text/plain": [
              "\u001b[1;32m[\u001b[0m\u001b[32mSCRAPE\u001b[0m\u001b[1;32m]\u001b[0m\u001b[32m.. ◆ \u001b[0m\u001b[4;32mhttps://www.startech.com.bd/hp-gaming-laptop\u001b[0m\u001b[32m                                                         |\u001b[0m\n",
              "\u001b[32m✓\u001b[0m\u001b[32m | ⏱: \u001b[0m\u001b[1;32m0.\u001b[0m\u001b[32m31s \u001b[0m\n"
            ],
            "text/html": [
              "<pre style=\"white-space:pre;overflow-x:auto;line-height:normal;font-family:Menlo,'DejaVu Sans Mono',consolas,'Courier New',monospace\"><span style=\"color: #008000; text-decoration-color: #008000; font-weight: bold\">[</span><span style=\"color: #008000; text-decoration-color: #008000\">SCRAPE</span><span style=\"color: #008000; text-decoration-color: #008000; font-weight: bold\">]</span><span style=\"color: #008000; text-decoration-color: #008000\">.. ◆ </span><span style=\"color: #008000; text-decoration-color: #008000; text-decoration: underline\">https://www.startech.com.bd/hp-gaming-laptop</span><span style=\"color: #008000; text-decoration-color: #008000\">                                                         |</span>\n",
              "<span style=\"color: #008000; text-decoration-color: #008000\">✓ | ⏱: </span><span style=\"color: #008000; text-decoration-color: #008000; font-weight: bold\">0.</span><span style=\"color: #008000; text-decoration-color: #008000\">31s </span>\n",
              "</pre>\n"
            ]
          },
          "metadata": {}
        },
        {
          "output_type": "display_data",
          "data": {
            "text/plain": [
              "\u001b[1;32m[\u001b[0m\u001b[32mCOMPLETE\u001b[0m\u001b[1;32m]\u001b[0m\u001b[32m ● \u001b[0m\u001b[4;32mhttps://www.startech.com.bd/hp-gaming-laptop\u001b[0m\u001b[32m                                                         |\u001b[0m\n",
              "\u001b[32m✓\u001b[0m\u001b[32m | ⏱: \u001b[0m\u001b[1;32m1.\u001b[0m\u001b[32m60s \u001b[0m\n"
            ],
            "text/html": [
              "<pre style=\"white-space:pre;overflow-x:auto;line-height:normal;font-family:Menlo,'DejaVu Sans Mono',consolas,'Courier New',monospace\"><span style=\"color: #008000; text-decoration-color: #008000; font-weight: bold\">[</span><span style=\"color: #008000; text-decoration-color: #008000\">COMPLETE</span><span style=\"color: #008000; text-decoration-color: #008000; font-weight: bold\">]</span><span style=\"color: #008000; text-decoration-color: #008000\"> ● </span><span style=\"color: #008000; text-decoration-color: #008000; text-decoration: underline\">https://www.startech.com.bd/hp-gaming-laptop</span><span style=\"color: #008000; text-decoration-color: #008000\">                                                         |</span>\n",
              "<span style=\"color: #008000; text-decoration-color: #008000\">✓ | ⏱: </span><span style=\"color: #008000; text-decoration-color: #008000; font-weight: bold\">1.</span><span style=\"color: #008000; text-decoration-color: #008000\">60s </span>\n",
              "</pre>\n"
            ]
          },
          "metadata": {}
        },
        {
          "output_type": "stream",
          "name": "stdout",
          "text": [
            "     ✅ 6 products\n",
            "  📂 Processing subcategory 2/5: Lenovo\n"
          ]
        },
        {
          "output_type": "display_data",
          "data": {
            "text/plain": [
              "\u001b[1;36m[\u001b[0m\u001b[36mINIT\u001b[0m\u001b[1;36m]\u001b[0m\u001b[36m...\u001b[0m\u001b[36m. → Crawl4AI \u001b[0m\u001b[1;36m0.7\u001b[0m\u001b[36m.\u001b[0m\u001b[1;36m4\u001b[0m\u001b[36m \u001b[0m\n"
            ],
            "text/html": [
              "<pre style=\"white-space:pre;overflow-x:auto;line-height:normal;font-family:Menlo,'DejaVu Sans Mono',consolas,'Courier New',monospace\"><span style=\"color: #008080; text-decoration-color: #008080; font-weight: bold\">[</span><span style=\"color: #008080; text-decoration-color: #008080\">INIT</span><span style=\"color: #008080; text-decoration-color: #008080; font-weight: bold\">]</span><span style=\"color: #008080; text-decoration-color: #008080\">.... → Crawl4AI </span><span style=\"color: #008080; text-decoration-color: #008080; font-weight: bold\">0.7</span><span style=\"color: #008080; text-decoration-color: #008080\">.</span><span style=\"color: #008080; text-decoration-color: #008080; font-weight: bold\">4</span><span style=\"color: #008080; text-decoration-color: #008080\"> </span>\n",
              "</pre>\n"
            ]
          },
          "metadata": {}
        },
        {
          "output_type": "display_data",
          "data": {
            "text/plain": [
              "\u001b[1;32m[\u001b[0m\u001b[32mFETCH\u001b[0m\u001b[1;32m]\u001b[0m\u001b[32m...\u001b[0m\u001b[32m ↓ \u001b[0m\u001b[4;32mhttps://www.startech.com.bd/laptop-notebook/Gaming-Laptop/lenovo\u001b[0m\u001b[32m                                     |\u001b[0m\n",
              "\u001b[32m✓\u001b[0m\u001b[32m | ⏱: \u001b[0m\u001b[1;32m1.\u001b[0m\u001b[32m61s \u001b[0m\n"
            ],
            "text/html": [
              "<pre style=\"white-space:pre;overflow-x:auto;line-height:normal;font-family:Menlo,'DejaVu Sans Mono',consolas,'Courier New',monospace\"><span style=\"color: #008000; text-decoration-color: #008000; font-weight: bold\">[</span><span style=\"color: #008000; text-decoration-color: #008000\">FETCH</span><span style=\"color: #008000; text-decoration-color: #008000; font-weight: bold\">]</span><span style=\"color: #008000; text-decoration-color: #008000\">... ↓ </span><span style=\"color: #008000; text-decoration-color: #008000; text-decoration: underline\">https://www.startech.com.bd/laptop-notebook/Gaming-Laptop/lenovo</span><span style=\"color: #008000; text-decoration-color: #008000\">                                     |</span>\n",
              "<span style=\"color: #008000; text-decoration-color: #008000\">✓ | ⏱: </span><span style=\"color: #008000; text-decoration-color: #008000; font-weight: bold\">1.</span><span style=\"color: #008000; text-decoration-color: #008000\">61s </span>\n",
              "</pre>\n"
            ]
          },
          "metadata": {}
        },
        {
          "output_type": "display_data",
          "data": {
            "text/plain": [
              "\u001b[1;32m[\u001b[0m\u001b[32mSCRAPE\u001b[0m\u001b[1;32m]\u001b[0m\u001b[32m.. ◆ \u001b[0m\u001b[4;32mhttps://www.startech.com.bd/laptop-notebook/Gaming-Laptop/lenovo\u001b[0m\u001b[32m                                     |\u001b[0m\n",
              "\u001b[32m✓\u001b[0m\u001b[32m | ⏱: \u001b[0m\u001b[1;32m0.\u001b[0m\u001b[32m33s \u001b[0m\n"
            ],
            "text/html": [
              "<pre style=\"white-space:pre;overflow-x:auto;line-height:normal;font-family:Menlo,'DejaVu Sans Mono',consolas,'Courier New',monospace\"><span style=\"color: #008000; text-decoration-color: #008000; font-weight: bold\">[</span><span style=\"color: #008000; text-decoration-color: #008000\">SCRAPE</span><span style=\"color: #008000; text-decoration-color: #008000; font-weight: bold\">]</span><span style=\"color: #008000; text-decoration-color: #008000\">.. ◆ </span><span style=\"color: #008000; text-decoration-color: #008000; text-decoration: underline\">https://www.startech.com.bd/laptop-notebook/Gaming-Laptop/lenovo</span><span style=\"color: #008000; text-decoration-color: #008000\">                                     |</span>\n",
              "<span style=\"color: #008000; text-decoration-color: #008000\">✓ | ⏱: </span><span style=\"color: #008000; text-decoration-color: #008000; font-weight: bold\">0.</span><span style=\"color: #008000; text-decoration-color: #008000\">33s </span>\n",
              "</pre>\n"
            ]
          },
          "metadata": {}
        },
        {
          "output_type": "display_data",
          "data": {
            "text/plain": [
              "\u001b[1;32m[\u001b[0m\u001b[32mCOMPLETE\u001b[0m\u001b[1;32m]\u001b[0m\u001b[32m ● \u001b[0m\u001b[4;32mhttps://www.startech.com.bd/laptop-notebook/Gaming-Laptop/lenovo\u001b[0m\u001b[32m                                     |\u001b[0m\n",
              "\u001b[32m✓\u001b[0m\u001b[32m | ⏱: \u001b[0m\u001b[1;32m1.\u001b[0m\u001b[32m95s \u001b[0m\n"
            ],
            "text/html": [
              "<pre style=\"white-space:pre;overflow-x:auto;line-height:normal;font-family:Menlo,'DejaVu Sans Mono',consolas,'Courier New',monospace\"><span style=\"color: #008000; text-decoration-color: #008000; font-weight: bold\">[</span><span style=\"color: #008000; text-decoration-color: #008000\">COMPLETE</span><span style=\"color: #008000; text-decoration-color: #008000; font-weight: bold\">]</span><span style=\"color: #008000; text-decoration-color: #008000\"> ● </span><span style=\"color: #008000; text-decoration-color: #008000; text-decoration: underline\">https://www.startech.com.bd/laptop-notebook/Gaming-Laptop/lenovo</span><span style=\"color: #008000; text-decoration-color: #008000\">                                     |</span>\n",
              "<span style=\"color: #008000; text-decoration-color: #008000\">✓ | ⏱: </span><span style=\"color: #008000; text-decoration-color: #008000; font-weight: bold\">1.</span><span style=\"color: #008000; text-decoration-color: #008000\">95s </span>\n",
              "</pre>\n"
            ]
          },
          "metadata": {}
        },
        {
          "output_type": "stream",
          "name": "stdout",
          "text": [
            "     ✅ 17 products\n",
            "  📂 Processing subcategory 3/5: Asus\n"
          ]
        },
        {
          "output_type": "display_data",
          "data": {
            "text/plain": [
              "\u001b[1;36m[\u001b[0m\u001b[36mINIT\u001b[0m\u001b[1;36m]\u001b[0m\u001b[36m...\u001b[0m\u001b[36m. → Crawl4AI \u001b[0m\u001b[1;36m0.7\u001b[0m\u001b[36m.\u001b[0m\u001b[1;36m4\u001b[0m\u001b[36m \u001b[0m\n"
            ],
            "text/html": [
              "<pre style=\"white-space:pre;overflow-x:auto;line-height:normal;font-family:Menlo,'DejaVu Sans Mono',consolas,'Courier New',monospace\"><span style=\"color: #008080; text-decoration-color: #008080; font-weight: bold\">[</span><span style=\"color: #008080; text-decoration-color: #008080\">INIT</span><span style=\"color: #008080; text-decoration-color: #008080; font-weight: bold\">]</span><span style=\"color: #008080; text-decoration-color: #008080\">.... → Crawl4AI </span><span style=\"color: #008080; text-decoration-color: #008080; font-weight: bold\">0.7</span><span style=\"color: #008080; text-decoration-color: #008080\">.</span><span style=\"color: #008080; text-decoration-color: #008080; font-weight: bold\">4</span><span style=\"color: #008080; text-decoration-color: #008080\"> </span>\n",
              "</pre>\n"
            ]
          },
          "metadata": {}
        },
        {
          "output_type": "display_data",
          "data": {
            "text/plain": [
              "\u001b[1;32m[\u001b[0m\u001b[32mFETCH\u001b[0m\u001b[1;32m]\u001b[0m\u001b[32m...\u001b[0m\u001b[32m ↓ \u001b[0m\u001b[4;32mhttps://www.startech.com.bd/laptop-notebook/Gaming-Laptop/asus\u001b[0m\u001b[32m                                       |\u001b[0m\n",
              "\u001b[32m✓\u001b[0m\u001b[32m | ⏱: \u001b[0m\u001b[1;32m1.\u001b[0m\u001b[32m90s \u001b[0m\n"
            ],
            "text/html": [
              "<pre style=\"white-space:pre;overflow-x:auto;line-height:normal;font-family:Menlo,'DejaVu Sans Mono',consolas,'Courier New',monospace\"><span style=\"color: #008000; text-decoration-color: #008000; font-weight: bold\">[</span><span style=\"color: #008000; text-decoration-color: #008000\">FETCH</span><span style=\"color: #008000; text-decoration-color: #008000; font-weight: bold\">]</span><span style=\"color: #008000; text-decoration-color: #008000\">... ↓ </span><span style=\"color: #008000; text-decoration-color: #008000; text-decoration: underline\">https://www.startech.com.bd/laptop-notebook/Gaming-Laptop/asus</span><span style=\"color: #008000; text-decoration-color: #008000\">                                       |</span>\n",
              "<span style=\"color: #008000; text-decoration-color: #008000\">✓ | ⏱: </span><span style=\"color: #008000; text-decoration-color: #008000; font-weight: bold\">1.</span><span style=\"color: #008000; text-decoration-color: #008000\">90s </span>\n",
              "</pre>\n"
            ]
          },
          "metadata": {}
        },
        {
          "output_type": "display_data",
          "data": {
            "text/plain": [
              "\u001b[1;32m[\u001b[0m\u001b[32mSCRAPE\u001b[0m\u001b[1;32m]\u001b[0m\u001b[32m.. ◆ \u001b[0m\u001b[4;32mhttps://www.startech.com.bd/laptop-notebook/Gaming-Laptop/asus\u001b[0m\u001b[32m                                       |\u001b[0m\n",
              "\u001b[32m✓\u001b[0m\u001b[32m | ⏱: \u001b[0m\u001b[1;32m0.\u001b[0m\u001b[32m36s \u001b[0m\n"
            ],
            "text/html": [
              "<pre style=\"white-space:pre;overflow-x:auto;line-height:normal;font-family:Menlo,'DejaVu Sans Mono',consolas,'Courier New',monospace\"><span style=\"color: #008000; text-decoration-color: #008000; font-weight: bold\">[</span><span style=\"color: #008000; text-decoration-color: #008000\">SCRAPE</span><span style=\"color: #008000; text-decoration-color: #008000; font-weight: bold\">]</span><span style=\"color: #008000; text-decoration-color: #008000\">.. ◆ </span><span style=\"color: #008000; text-decoration-color: #008000; text-decoration: underline\">https://www.startech.com.bd/laptop-notebook/Gaming-Laptop/asus</span><span style=\"color: #008000; text-decoration-color: #008000\">                                       |</span>\n",
              "<span style=\"color: #008000; text-decoration-color: #008000\">✓ | ⏱: </span><span style=\"color: #008000; text-decoration-color: #008000; font-weight: bold\">0.</span><span style=\"color: #008000; text-decoration-color: #008000\">36s </span>\n",
              "</pre>\n"
            ]
          },
          "metadata": {}
        },
        {
          "output_type": "display_data",
          "data": {
            "text/plain": [
              "\u001b[1;32m[\u001b[0m\u001b[32mCOMPLETE\u001b[0m\u001b[1;32m]\u001b[0m\u001b[32m ● \u001b[0m\u001b[4;32mhttps://www.startech.com.bd/laptop-notebook/Gaming-Laptop/asus\u001b[0m\u001b[32m                                       |\u001b[0m\n",
              "\u001b[32m✓\u001b[0m\u001b[32m | ⏱: \u001b[0m\u001b[1;32m2.\u001b[0m\u001b[32m27s \u001b[0m\n"
            ],
            "text/html": [
              "<pre style=\"white-space:pre;overflow-x:auto;line-height:normal;font-family:Menlo,'DejaVu Sans Mono',consolas,'Courier New',monospace\"><span style=\"color: #008000; text-decoration-color: #008000; font-weight: bold\">[</span><span style=\"color: #008000; text-decoration-color: #008000\">COMPLETE</span><span style=\"color: #008000; text-decoration-color: #008000; font-weight: bold\">]</span><span style=\"color: #008000; text-decoration-color: #008000\"> ● </span><span style=\"color: #008000; text-decoration-color: #008000; text-decoration: underline\">https://www.startech.com.bd/laptop-notebook/Gaming-Laptop/asus</span><span style=\"color: #008000; text-decoration-color: #008000\">                                       |</span>\n",
              "<span style=\"color: #008000; text-decoration-color: #008000\">✓ | ⏱: </span><span style=\"color: #008000; text-decoration-color: #008000; font-weight: bold\">2.</span><span style=\"color: #008000; text-decoration-color: #008000\">27s </span>\n",
              "</pre>\n"
            ]
          },
          "metadata": {}
        },
        {
          "output_type": "stream",
          "name": "stdout",
          "text": [
            "     ✅ 20 products\n",
            "  📂 Processing subcategory 4/5: MSI\n"
          ]
        },
        {
          "output_type": "display_data",
          "data": {
            "text/plain": [
              "\u001b[1;36m[\u001b[0m\u001b[36mINIT\u001b[0m\u001b[1;36m]\u001b[0m\u001b[36m...\u001b[0m\u001b[36m. → Crawl4AI \u001b[0m\u001b[1;36m0.7\u001b[0m\u001b[36m.\u001b[0m\u001b[1;36m4\u001b[0m\u001b[36m \u001b[0m\n"
            ],
            "text/html": [
              "<pre style=\"white-space:pre;overflow-x:auto;line-height:normal;font-family:Menlo,'DejaVu Sans Mono',consolas,'Courier New',monospace\"><span style=\"color: #008080; text-decoration-color: #008080; font-weight: bold\">[</span><span style=\"color: #008080; text-decoration-color: #008080\">INIT</span><span style=\"color: #008080; text-decoration-color: #008080; font-weight: bold\">]</span><span style=\"color: #008080; text-decoration-color: #008080\">.... → Crawl4AI </span><span style=\"color: #008080; text-decoration-color: #008080; font-weight: bold\">0.7</span><span style=\"color: #008080; text-decoration-color: #008080\">.</span><span style=\"color: #008080; text-decoration-color: #008080; font-weight: bold\">4</span><span style=\"color: #008080; text-decoration-color: #008080\"> </span>\n",
              "</pre>\n"
            ]
          },
          "metadata": {}
        },
        {
          "output_type": "display_data",
          "data": {
            "text/plain": [
              "\u001b[1;32m[\u001b[0m\u001b[32mFETCH\u001b[0m\u001b[1;32m]\u001b[0m\u001b[32m...\u001b[0m\u001b[32m ↓ \u001b[0m\u001b[4;32mhttps://www.startech.com.bd/msi-gaming-laptop\u001b[0m\u001b[32m                                                        |\u001b[0m\n",
              "\u001b[32m✓\u001b[0m\u001b[32m | ⏱: \u001b[0m\u001b[1;32m1.\u001b[0m\u001b[32m34s \u001b[0m\n"
            ],
            "text/html": [
              "<pre style=\"white-space:pre;overflow-x:auto;line-height:normal;font-family:Menlo,'DejaVu Sans Mono',consolas,'Courier New',monospace\"><span style=\"color: #008000; text-decoration-color: #008000; font-weight: bold\">[</span><span style=\"color: #008000; text-decoration-color: #008000\">FETCH</span><span style=\"color: #008000; text-decoration-color: #008000; font-weight: bold\">]</span><span style=\"color: #008000; text-decoration-color: #008000\">... ↓ </span><span style=\"color: #008000; text-decoration-color: #008000; text-decoration: underline\">https://www.startech.com.bd/msi-gaming-laptop</span><span style=\"color: #008000; text-decoration-color: #008000\">                                                        |</span>\n",
              "<span style=\"color: #008000; text-decoration-color: #008000\">✓ | ⏱: </span><span style=\"color: #008000; text-decoration-color: #008000; font-weight: bold\">1.</span><span style=\"color: #008000; text-decoration-color: #008000\">34s </span>\n",
              "</pre>\n"
            ]
          },
          "metadata": {}
        },
        {
          "output_type": "display_data",
          "data": {
            "text/plain": [
              "\u001b[1;32m[\u001b[0m\u001b[32mSCRAPE\u001b[0m\u001b[1;32m]\u001b[0m\u001b[32m.. ◆ \u001b[0m\u001b[4;32mhttps://www.startech.com.bd/msi-gaming-laptop\u001b[0m\u001b[32m                                                        |\u001b[0m\n",
              "\u001b[32m✓\u001b[0m\u001b[32m | ⏱: \u001b[0m\u001b[1;32m0.\u001b[0m\u001b[32m32s \u001b[0m\n"
            ],
            "text/html": [
              "<pre style=\"white-space:pre;overflow-x:auto;line-height:normal;font-family:Menlo,'DejaVu Sans Mono',consolas,'Courier New',monospace\"><span style=\"color: #008000; text-decoration-color: #008000; font-weight: bold\">[</span><span style=\"color: #008000; text-decoration-color: #008000\">SCRAPE</span><span style=\"color: #008000; text-decoration-color: #008000; font-weight: bold\">]</span><span style=\"color: #008000; text-decoration-color: #008000\">.. ◆ </span><span style=\"color: #008000; text-decoration-color: #008000; text-decoration: underline\">https://www.startech.com.bd/msi-gaming-laptop</span><span style=\"color: #008000; text-decoration-color: #008000\">                                                        |</span>\n",
              "<span style=\"color: #008000; text-decoration-color: #008000\">✓ | ⏱: </span><span style=\"color: #008000; text-decoration-color: #008000; font-weight: bold\">0.</span><span style=\"color: #008000; text-decoration-color: #008000\">32s </span>\n",
              "</pre>\n"
            ]
          },
          "metadata": {}
        },
        {
          "output_type": "display_data",
          "data": {
            "text/plain": [
              "\u001b[1;32m[\u001b[0m\u001b[32mCOMPLETE\u001b[0m\u001b[1;32m]\u001b[0m\u001b[32m ● \u001b[0m\u001b[4;32mhttps://www.startech.com.bd/msi-gaming-laptop\u001b[0m\u001b[32m                                                        |\u001b[0m\n",
              "\u001b[32m✓\u001b[0m\u001b[32m | ⏱: \u001b[0m\u001b[1;32m1.\u001b[0m\u001b[32m66s \u001b[0m\n"
            ],
            "text/html": [
              "<pre style=\"white-space:pre;overflow-x:auto;line-height:normal;font-family:Menlo,'DejaVu Sans Mono',consolas,'Courier New',monospace\"><span style=\"color: #008000; text-decoration-color: #008000; font-weight: bold\">[</span><span style=\"color: #008000; text-decoration-color: #008000\">COMPLETE</span><span style=\"color: #008000; text-decoration-color: #008000; font-weight: bold\">]</span><span style=\"color: #008000; text-decoration-color: #008000\"> ● </span><span style=\"color: #008000; text-decoration-color: #008000; text-decoration: underline\">https://www.startech.com.bd/msi-gaming-laptop</span><span style=\"color: #008000; text-decoration-color: #008000\">                                                        |</span>\n",
              "<span style=\"color: #008000; text-decoration-color: #008000\">✓ | ⏱: </span><span style=\"color: #008000; text-decoration-color: #008000; font-weight: bold\">1.</span><span style=\"color: #008000; text-decoration-color: #008000\">66s </span>\n",
              "</pre>\n"
            ]
          },
          "metadata": {}
        },
        {
          "output_type": "stream",
          "name": "stdout",
          "text": [
            "     ✅ 20 products\n",
            "  📂 Processing subcategory 5/5: Acer\n"
          ]
        },
        {
          "output_type": "display_data",
          "data": {
            "text/plain": [
              "\u001b[1;36m[\u001b[0m\u001b[36mINIT\u001b[0m\u001b[1;36m]\u001b[0m\u001b[36m...\u001b[0m\u001b[36m. → Crawl4AI \u001b[0m\u001b[1;36m0.7\u001b[0m\u001b[36m.\u001b[0m\u001b[1;36m4\u001b[0m\u001b[36m \u001b[0m\n"
            ],
            "text/html": [
              "<pre style=\"white-space:pre;overflow-x:auto;line-height:normal;font-family:Menlo,'DejaVu Sans Mono',consolas,'Courier New',monospace\"><span style=\"color: #008080; text-decoration-color: #008080; font-weight: bold\">[</span><span style=\"color: #008080; text-decoration-color: #008080\">INIT</span><span style=\"color: #008080; text-decoration-color: #008080; font-weight: bold\">]</span><span style=\"color: #008080; text-decoration-color: #008080\">.... → Crawl4AI </span><span style=\"color: #008080; text-decoration-color: #008080; font-weight: bold\">0.7</span><span style=\"color: #008080; text-decoration-color: #008080\">.</span><span style=\"color: #008080; text-decoration-color: #008080; font-weight: bold\">4</span><span style=\"color: #008080; text-decoration-color: #008080\"> </span>\n",
              "</pre>\n"
            ]
          },
          "metadata": {}
        },
        {
          "output_type": "display_data",
          "data": {
            "text/plain": [
              "\u001b[1;32m[\u001b[0m\u001b[32mFETCH\u001b[0m\u001b[1;32m]\u001b[0m\u001b[32m...\u001b[0m\u001b[32m ↓ \u001b[0m\u001b[4;32mhttps://www.startech.com.bd/acer-gaming-laptop\u001b[0m\u001b[32m                                                       |\u001b[0m\n",
              "\u001b[32m✓\u001b[0m\u001b[32m | ⏱: \u001b[0m\u001b[1;32m1.\u001b[0m\u001b[32m40s \u001b[0m\n"
            ],
            "text/html": [
              "<pre style=\"white-space:pre;overflow-x:auto;line-height:normal;font-family:Menlo,'DejaVu Sans Mono',consolas,'Courier New',monospace\"><span style=\"color: #008000; text-decoration-color: #008000; font-weight: bold\">[</span><span style=\"color: #008000; text-decoration-color: #008000\">FETCH</span><span style=\"color: #008000; text-decoration-color: #008000; font-weight: bold\">]</span><span style=\"color: #008000; text-decoration-color: #008000\">... ↓ </span><span style=\"color: #008000; text-decoration-color: #008000; text-decoration: underline\">https://www.startech.com.bd/acer-gaming-laptop</span><span style=\"color: #008000; text-decoration-color: #008000\">                                                       |</span>\n",
              "<span style=\"color: #008000; text-decoration-color: #008000\">✓ | ⏱: </span><span style=\"color: #008000; text-decoration-color: #008000; font-weight: bold\">1.</span><span style=\"color: #008000; text-decoration-color: #008000\">40s </span>\n",
              "</pre>\n"
            ]
          },
          "metadata": {}
        },
        {
          "output_type": "display_data",
          "data": {
            "text/plain": [
              "\u001b[1;32m[\u001b[0m\u001b[32mSCRAPE\u001b[0m\u001b[1;32m]\u001b[0m\u001b[32m.. ◆ \u001b[0m\u001b[4;32mhttps://www.startech.com.bd/acer-gaming-laptop\u001b[0m\u001b[32m                                                       |\u001b[0m\n",
              "\u001b[32m✓\u001b[0m\u001b[32m | ⏱: \u001b[0m\u001b[1;32m0.\u001b[0m\u001b[32m32s \u001b[0m\n"
            ],
            "text/html": [
              "<pre style=\"white-space:pre;overflow-x:auto;line-height:normal;font-family:Menlo,'DejaVu Sans Mono',consolas,'Courier New',monospace\"><span style=\"color: #008000; text-decoration-color: #008000; font-weight: bold\">[</span><span style=\"color: #008000; text-decoration-color: #008000\">SCRAPE</span><span style=\"color: #008000; text-decoration-color: #008000; font-weight: bold\">]</span><span style=\"color: #008000; text-decoration-color: #008000\">.. ◆ </span><span style=\"color: #008000; text-decoration-color: #008000; text-decoration: underline\">https://www.startech.com.bd/acer-gaming-laptop</span><span style=\"color: #008000; text-decoration-color: #008000\">                                                       |</span>\n",
              "<span style=\"color: #008000; text-decoration-color: #008000\">✓ | ⏱: </span><span style=\"color: #008000; text-decoration-color: #008000; font-weight: bold\">0.</span><span style=\"color: #008000; text-decoration-color: #008000\">32s </span>\n",
              "</pre>\n"
            ]
          },
          "metadata": {}
        },
        {
          "output_type": "display_data",
          "data": {
            "text/plain": [
              "\u001b[1;32m[\u001b[0m\u001b[32mCOMPLETE\u001b[0m\u001b[1;32m]\u001b[0m\u001b[32m ● \u001b[0m\u001b[4;32mhttps://www.startech.com.bd/acer-gaming-laptop\u001b[0m\u001b[32m                                                       |\u001b[0m\n",
              "\u001b[32m✓\u001b[0m\u001b[32m | ⏱: \u001b[0m\u001b[1;32m1.\u001b[0m\u001b[32m72s \u001b[0m\n"
            ],
            "text/html": [
              "<pre style=\"white-space:pre;overflow-x:auto;line-height:normal;font-family:Menlo,'DejaVu Sans Mono',consolas,'Courier New',monospace\"><span style=\"color: #008000; text-decoration-color: #008000; font-weight: bold\">[</span><span style=\"color: #008000; text-decoration-color: #008000\">COMPLETE</span><span style=\"color: #008000; text-decoration-color: #008000; font-weight: bold\">]</span><span style=\"color: #008000; text-decoration-color: #008000\"> ● </span><span style=\"color: #008000; text-decoration-color: #008000; text-decoration: underline\">https://www.startech.com.bd/acer-gaming-laptop</span><span style=\"color: #008000; text-decoration-color: #008000\">                                                       |</span>\n",
              "<span style=\"color: #008000; text-decoration-color: #008000\">✓ | ⏱: </span><span style=\"color: #008000; text-decoration-color: #008000; font-weight: bold\">1.</span><span style=\"color: #008000; text-decoration-color: #008000\">72s </span>\n",
              "</pre>\n"
            ]
          },
          "metadata": {}
        },
        {
          "output_type": "stream",
          "name": "stdout",
          "text": [
            "     ✅ 6 products\n",
            "📊 Total products so far: 651\n",
            "\n",
            "--- Processing Category 10/10: Premium Ultrabook ---\n"
          ]
        },
        {
          "output_type": "display_data",
          "data": {
            "text/plain": [
              "\u001b[1;36m[\u001b[0m\u001b[36mINIT\u001b[0m\u001b[1;36m]\u001b[0m\u001b[36m...\u001b[0m\u001b[36m. → Crawl4AI \u001b[0m\u001b[1;36m0.7\u001b[0m\u001b[36m.\u001b[0m\u001b[1;36m4\u001b[0m\u001b[36m \u001b[0m\n"
            ],
            "text/html": [
              "<pre style=\"white-space:pre;overflow-x:auto;line-height:normal;font-family:Menlo,'DejaVu Sans Mono',consolas,'Courier New',monospace\"><span style=\"color: #008080; text-decoration-color: #008080; font-weight: bold\">[</span><span style=\"color: #008080; text-decoration-color: #008080\">INIT</span><span style=\"color: #008080; text-decoration-color: #008080; font-weight: bold\">]</span><span style=\"color: #008080; text-decoration-color: #008080\">.... → Crawl4AI </span><span style=\"color: #008080; text-decoration-color: #008080; font-weight: bold\">0.7</span><span style=\"color: #008080; text-decoration-color: #008080\">.</span><span style=\"color: #008080; text-decoration-color: #008080; font-weight: bold\">4</span><span style=\"color: #008080; text-decoration-color: #008080\"> </span>\n",
              "</pre>\n"
            ]
          },
          "metadata": {}
        },
        {
          "output_type": "display_data",
          "data": {
            "text/plain": [
              "\u001b[1;32m[\u001b[0m\u001b[32mFETCH\u001b[0m\u001b[1;32m]\u001b[0m\u001b[32m...\u001b[0m\u001b[32m ↓ \u001b[0m\u001b[4;32mhttps://www.startech.com.bd/laptop-notebook/ultrabook\u001b[0m\u001b[32m                                                |\u001b[0m\n",
              "\u001b[32m✓\u001b[0m\u001b[32m | ⏱: \u001b[0m\u001b[1;32m2.\u001b[0m\u001b[32m04s \u001b[0m\n"
            ],
            "text/html": [
              "<pre style=\"white-space:pre;overflow-x:auto;line-height:normal;font-family:Menlo,'DejaVu Sans Mono',consolas,'Courier New',monospace\"><span style=\"color: #008000; text-decoration-color: #008000; font-weight: bold\">[</span><span style=\"color: #008000; text-decoration-color: #008000\">FETCH</span><span style=\"color: #008000; text-decoration-color: #008000; font-weight: bold\">]</span><span style=\"color: #008000; text-decoration-color: #008000\">... ↓ </span><span style=\"color: #008000; text-decoration-color: #008000; text-decoration: underline\">https://www.startech.com.bd/laptop-notebook/ultrabook</span><span style=\"color: #008000; text-decoration-color: #008000\">                                                |</span>\n",
              "<span style=\"color: #008000; text-decoration-color: #008000\">✓ | ⏱: </span><span style=\"color: #008000; text-decoration-color: #008000; font-weight: bold\">2.</span><span style=\"color: #008000; text-decoration-color: #008000\">04s </span>\n",
              "</pre>\n"
            ]
          },
          "metadata": {}
        },
        {
          "output_type": "display_data",
          "data": {
            "text/plain": [
              "\u001b[1;32m[\u001b[0m\u001b[32mSCRAPE\u001b[0m\u001b[1;32m]\u001b[0m\u001b[32m.. ◆ \u001b[0m\u001b[4;32mhttps://www.startech.com.bd/laptop-notebook/ultrabook\u001b[0m\u001b[32m                                                |\u001b[0m\n",
              "\u001b[32m✓\u001b[0m\u001b[32m | ⏱: \u001b[0m\u001b[1;32m0.\u001b[0m\u001b[32m39s \u001b[0m\n"
            ],
            "text/html": [
              "<pre style=\"white-space:pre;overflow-x:auto;line-height:normal;font-family:Menlo,'DejaVu Sans Mono',consolas,'Courier New',monospace\"><span style=\"color: #008000; text-decoration-color: #008000; font-weight: bold\">[</span><span style=\"color: #008000; text-decoration-color: #008000\">SCRAPE</span><span style=\"color: #008000; text-decoration-color: #008000; font-weight: bold\">]</span><span style=\"color: #008000; text-decoration-color: #008000\">.. ◆ </span><span style=\"color: #008000; text-decoration-color: #008000; text-decoration: underline\">https://www.startech.com.bd/laptop-notebook/ultrabook</span><span style=\"color: #008000; text-decoration-color: #008000\">                                                |</span>\n",
              "<span style=\"color: #008000; text-decoration-color: #008000\">✓ | ⏱: </span><span style=\"color: #008000; text-decoration-color: #008000; font-weight: bold\">0.</span><span style=\"color: #008000; text-decoration-color: #008000\">39s </span>\n",
              "</pre>\n"
            ]
          },
          "metadata": {}
        },
        {
          "output_type": "display_data",
          "data": {
            "text/plain": [
              "\u001b[1;32m[\u001b[0m\u001b[32mCOMPLETE\u001b[0m\u001b[1;32m]\u001b[0m\u001b[32m ● \u001b[0m\u001b[4;32mhttps://www.startech.com.bd/laptop-notebook/ultrabook\u001b[0m\u001b[32m                                                |\u001b[0m\n",
              "\u001b[32m✓\u001b[0m\u001b[32m | ⏱: \u001b[0m\u001b[1;32m2.\u001b[0m\u001b[32m45s \u001b[0m\n"
            ],
            "text/html": [
              "<pre style=\"white-space:pre;overflow-x:auto;line-height:normal;font-family:Menlo,'DejaVu Sans Mono',consolas,'Courier New',monospace\"><span style=\"color: #008000; text-decoration-color: #008000; font-weight: bold\">[</span><span style=\"color: #008000; text-decoration-color: #008000\">COMPLETE</span><span style=\"color: #008000; text-decoration-color: #008000; font-weight: bold\">]</span><span style=\"color: #008000; text-decoration-color: #008000\"> ● </span><span style=\"color: #008000; text-decoration-color: #008000; text-decoration: underline\">https://www.startech.com.bd/laptop-notebook/ultrabook</span><span style=\"color: #008000; text-decoration-color: #008000\">                                                |</span>\n",
              "<span style=\"color: #008000; text-decoration-color: #008000\">✓ | ⏱: </span><span style=\"color: #008000; text-decoration-color: #008000; font-weight: bold\">2.</span><span style=\"color: #008000; text-decoration-color: #008000\">45s </span>\n",
              "</pre>\n"
            ]
          },
          "metadata": {}
        },
        {
          "output_type": "stream",
          "name": "stdout",
          "text": [
            "✅ Main category: 20 products\n",
            "  📂 Processing subcategory 1/5: Asus\n"
          ]
        },
        {
          "output_type": "display_data",
          "data": {
            "text/plain": [
              "\u001b[1;36m[\u001b[0m\u001b[36mINIT\u001b[0m\u001b[1;36m]\u001b[0m\u001b[36m...\u001b[0m\u001b[36m. → Crawl4AI \u001b[0m\u001b[1;36m0.7\u001b[0m\u001b[36m.\u001b[0m\u001b[1;36m4\u001b[0m\u001b[36m \u001b[0m\n"
            ],
            "text/html": [
              "<pre style=\"white-space:pre;overflow-x:auto;line-height:normal;font-family:Menlo,'DejaVu Sans Mono',consolas,'Courier New',monospace\"><span style=\"color: #008080; text-decoration-color: #008080; font-weight: bold\">[</span><span style=\"color: #008080; text-decoration-color: #008080\">INIT</span><span style=\"color: #008080; text-decoration-color: #008080; font-weight: bold\">]</span><span style=\"color: #008080; text-decoration-color: #008080\">.... → Crawl4AI </span><span style=\"color: #008080; text-decoration-color: #008080; font-weight: bold\">0.7</span><span style=\"color: #008080; text-decoration-color: #008080\">.</span><span style=\"color: #008080; text-decoration-color: #008080; font-weight: bold\">4</span><span style=\"color: #008080; text-decoration-color: #008080\"> </span>\n",
              "</pre>\n"
            ]
          },
          "metadata": {}
        },
        {
          "output_type": "display_data",
          "data": {
            "text/plain": [
              "\u001b[1;32m[\u001b[0m\u001b[32mFETCH\u001b[0m\u001b[1;32m]\u001b[0m\u001b[32m...\u001b[0m\u001b[32m ↓ \u001b[0m\u001b[4;32mhttps://www.startech.com.bd/laptop-notebook/ultrabook/asus\u001b[0m\u001b[32m                                           |\u001b[0m\n",
              "\u001b[32m✓\u001b[0m\u001b[32m | ⏱: \u001b[0m\u001b[1;32m1.\u001b[0m\u001b[32m43s \u001b[0m\n"
            ],
            "text/html": [
              "<pre style=\"white-space:pre;overflow-x:auto;line-height:normal;font-family:Menlo,'DejaVu Sans Mono',consolas,'Courier New',monospace\"><span style=\"color: #008000; text-decoration-color: #008000; font-weight: bold\">[</span><span style=\"color: #008000; text-decoration-color: #008000\">FETCH</span><span style=\"color: #008000; text-decoration-color: #008000; font-weight: bold\">]</span><span style=\"color: #008000; text-decoration-color: #008000\">... ↓ </span><span style=\"color: #008000; text-decoration-color: #008000; text-decoration: underline\">https://www.startech.com.bd/laptop-notebook/ultrabook/asus</span><span style=\"color: #008000; text-decoration-color: #008000\">                                           |</span>\n",
              "<span style=\"color: #008000; text-decoration-color: #008000\">✓ | ⏱: </span><span style=\"color: #008000; text-decoration-color: #008000; font-weight: bold\">1.</span><span style=\"color: #008000; text-decoration-color: #008000\">43s </span>\n",
              "</pre>\n"
            ]
          },
          "metadata": {}
        },
        {
          "output_type": "display_data",
          "data": {
            "text/plain": [
              "\u001b[1;32m[\u001b[0m\u001b[32mSCRAPE\u001b[0m\u001b[1;32m]\u001b[0m\u001b[32m.. ◆ \u001b[0m\u001b[4;32mhttps://www.startech.com.bd/laptop-notebook/ultrabook/asus\u001b[0m\u001b[32m                                           |\u001b[0m\n",
              "\u001b[32m✓\u001b[0m\u001b[32m | ⏱: \u001b[0m\u001b[1;32m0.\u001b[0m\u001b[32m31s \u001b[0m\n"
            ],
            "text/html": [
              "<pre style=\"white-space:pre;overflow-x:auto;line-height:normal;font-family:Menlo,'DejaVu Sans Mono',consolas,'Courier New',monospace\"><span style=\"color: #008000; text-decoration-color: #008000; font-weight: bold\">[</span><span style=\"color: #008000; text-decoration-color: #008000\">SCRAPE</span><span style=\"color: #008000; text-decoration-color: #008000; font-weight: bold\">]</span><span style=\"color: #008000; text-decoration-color: #008000\">.. ◆ </span><span style=\"color: #008000; text-decoration-color: #008000; text-decoration: underline\">https://www.startech.com.bd/laptop-notebook/ultrabook/asus</span><span style=\"color: #008000; text-decoration-color: #008000\">                                           |</span>\n",
              "<span style=\"color: #008000; text-decoration-color: #008000\">✓ | ⏱: </span><span style=\"color: #008000; text-decoration-color: #008000; font-weight: bold\">0.</span><span style=\"color: #008000; text-decoration-color: #008000\">31s </span>\n",
              "</pre>\n"
            ]
          },
          "metadata": {}
        },
        {
          "output_type": "display_data",
          "data": {
            "text/plain": [
              "\u001b[1;32m[\u001b[0m\u001b[32mCOMPLETE\u001b[0m\u001b[1;32m]\u001b[0m\u001b[32m ● \u001b[0m\u001b[4;32mhttps://www.startech.com.bd/laptop-notebook/ultrabook/asus\u001b[0m\u001b[32m                                           |\u001b[0m\n",
              "\u001b[32m✓\u001b[0m\u001b[32m | ⏱: \u001b[0m\u001b[1;32m1.\u001b[0m\u001b[32m75s \u001b[0m\n"
            ],
            "text/html": [
              "<pre style=\"white-space:pre;overflow-x:auto;line-height:normal;font-family:Menlo,'DejaVu Sans Mono',consolas,'Courier New',monospace\"><span style=\"color: #008000; text-decoration-color: #008000; font-weight: bold\">[</span><span style=\"color: #008000; text-decoration-color: #008000\">COMPLETE</span><span style=\"color: #008000; text-decoration-color: #008000; font-weight: bold\">]</span><span style=\"color: #008000; text-decoration-color: #008000\"> ● </span><span style=\"color: #008000; text-decoration-color: #008000; text-decoration: underline\">https://www.startech.com.bd/laptop-notebook/ultrabook/asus</span><span style=\"color: #008000; text-decoration-color: #008000\">                                           |</span>\n",
              "<span style=\"color: #008000; text-decoration-color: #008000\">✓ | ⏱: </span><span style=\"color: #008000; text-decoration-color: #008000; font-weight: bold\">1.</span><span style=\"color: #008000; text-decoration-color: #008000\">75s </span>\n",
              "</pre>\n"
            ]
          },
          "metadata": {}
        },
        {
          "output_type": "stream",
          "name": "stdout",
          "text": [
            "     ✅ 6 products\n",
            "  📂 Processing subcategory 2/5: Acer\n"
          ]
        },
        {
          "output_type": "display_data",
          "data": {
            "text/plain": [
              "\u001b[1;36m[\u001b[0m\u001b[36mINIT\u001b[0m\u001b[1;36m]\u001b[0m\u001b[36m...\u001b[0m\u001b[36m. → Crawl4AI \u001b[0m\u001b[1;36m0.7\u001b[0m\u001b[36m.\u001b[0m\u001b[1;36m4\u001b[0m\u001b[36m \u001b[0m\n"
            ],
            "text/html": [
              "<pre style=\"white-space:pre;overflow-x:auto;line-height:normal;font-family:Menlo,'DejaVu Sans Mono',consolas,'Courier New',monospace\"><span style=\"color: #008080; text-decoration-color: #008080; font-weight: bold\">[</span><span style=\"color: #008080; text-decoration-color: #008080\">INIT</span><span style=\"color: #008080; text-decoration-color: #008080; font-weight: bold\">]</span><span style=\"color: #008080; text-decoration-color: #008080\">.... → Crawl4AI </span><span style=\"color: #008080; text-decoration-color: #008080; font-weight: bold\">0.7</span><span style=\"color: #008080; text-decoration-color: #008080\">.</span><span style=\"color: #008080; text-decoration-color: #008080; font-weight: bold\">4</span><span style=\"color: #008080; text-decoration-color: #008080\"> </span>\n",
              "</pre>\n"
            ]
          },
          "metadata": {}
        },
        {
          "output_type": "display_data",
          "data": {
            "text/plain": [
              "\u001b[1;32m[\u001b[0m\u001b[32mFETCH\u001b[0m\u001b[1;32m]\u001b[0m\u001b[32m...\u001b[0m\u001b[32m ↓ \u001b[0m\u001b[4;32mhttps://www.startech.com.bd/laptop-notebook/ultrabook/acer\u001b[0m\u001b[32m                                           |\u001b[0m\n",
              "\u001b[32m✓\u001b[0m\u001b[32m | ⏱: \u001b[0m\u001b[1;32m1.\u001b[0m\u001b[32m28s \u001b[0m\n"
            ],
            "text/html": [
              "<pre style=\"white-space:pre;overflow-x:auto;line-height:normal;font-family:Menlo,'DejaVu Sans Mono',consolas,'Courier New',monospace\"><span style=\"color: #008000; text-decoration-color: #008000; font-weight: bold\">[</span><span style=\"color: #008000; text-decoration-color: #008000\">FETCH</span><span style=\"color: #008000; text-decoration-color: #008000; font-weight: bold\">]</span><span style=\"color: #008000; text-decoration-color: #008000\">... ↓ </span><span style=\"color: #008000; text-decoration-color: #008000; text-decoration: underline\">https://www.startech.com.bd/laptop-notebook/ultrabook/acer</span><span style=\"color: #008000; text-decoration-color: #008000\">                                           |</span>\n",
              "<span style=\"color: #008000; text-decoration-color: #008000\">✓ | ⏱: </span><span style=\"color: #008000; text-decoration-color: #008000; font-weight: bold\">1.</span><span style=\"color: #008000; text-decoration-color: #008000\">28s </span>\n",
              "</pre>\n"
            ]
          },
          "metadata": {}
        },
        {
          "output_type": "display_data",
          "data": {
            "text/plain": [
              "\u001b[1;32m[\u001b[0m\u001b[32mSCRAPE\u001b[0m\u001b[1;32m]\u001b[0m\u001b[32m.. ◆ \u001b[0m\u001b[4;32mhttps://www.startech.com.bd/laptop-notebook/ultrabook/acer\u001b[0m\u001b[32m                                           |\u001b[0m\n",
              "\u001b[32m✓\u001b[0m\u001b[32m | ⏱: \u001b[0m\u001b[1;32m0.\u001b[0m\u001b[32m27s \u001b[0m\n"
            ],
            "text/html": [
              "<pre style=\"white-space:pre;overflow-x:auto;line-height:normal;font-family:Menlo,'DejaVu Sans Mono',consolas,'Courier New',monospace\"><span style=\"color: #008000; text-decoration-color: #008000; font-weight: bold\">[</span><span style=\"color: #008000; text-decoration-color: #008000\">SCRAPE</span><span style=\"color: #008000; text-decoration-color: #008000; font-weight: bold\">]</span><span style=\"color: #008000; text-decoration-color: #008000\">.. ◆ </span><span style=\"color: #008000; text-decoration-color: #008000; text-decoration: underline\">https://www.startech.com.bd/laptop-notebook/ultrabook/acer</span><span style=\"color: #008000; text-decoration-color: #008000\">                                           |</span>\n",
              "<span style=\"color: #008000; text-decoration-color: #008000\">✓ | ⏱: </span><span style=\"color: #008000; text-decoration-color: #008000; font-weight: bold\">0.</span><span style=\"color: #008000; text-decoration-color: #008000\">27s </span>\n",
              "</pre>\n"
            ]
          },
          "metadata": {}
        },
        {
          "output_type": "display_data",
          "data": {
            "text/plain": [
              "\u001b[1;32m[\u001b[0m\u001b[32mCOMPLETE\u001b[0m\u001b[1;32m]\u001b[0m\u001b[32m ● \u001b[0m\u001b[4;32mhttps://www.startech.com.bd/laptop-notebook/ultrabook/acer\u001b[0m\u001b[32m                                           |\u001b[0m\n",
              "\u001b[32m✓\u001b[0m\u001b[32m | ⏱: \u001b[0m\u001b[1;32m1.\u001b[0m\u001b[32m56s \u001b[0m\n"
            ],
            "text/html": [
              "<pre style=\"white-space:pre;overflow-x:auto;line-height:normal;font-family:Menlo,'DejaVu Sans Mono',consolas,'Courier New',monospace\"><span style=\"color: #008000; text-decoration-color: #008000; font-weight: bold\">[</span><span style=\"color: #008000; text-decoration-color: #008000\">COMPLETE</span><span style=\"color: #008000; text-decoration-color: #008000; font-weight: bold\">]</span><span style=\"color: #008000; text-decoration-color: #008000\"> ● </span><span style=\"color: #008000; text-decoration-color: #008000; text-decoration: underline\">https://www.startech.com.bd/laptop-notebook/ultrabook/acer</span><span style=\"color: #008000; text-decoration-color: #008000\">                                           |</span>\n",
              "<span style=\"color: #008000; text-decoration-color: #008000\">✓ | ⏱: </span><span style=\"color: #008000; text-decoration-color: #008000; font-weight: bold\">1.</span><span style=\"color: #008000; text-decoration-color: #008000\">56s </span>\n",
              "</pre>\n"
            ]
          },
          "metadata": {}
        },
        {
          "output_type": "stream",
          "name": "stdout",
          "text": [
            "     ✅ 3 products\n",
            "  📂 Processing subcategory 3/5: HP\n"
          ]
        },
        {
          "output_type": "display_data",
          "data": {
            "text/plain": [
              "\u001b[1;36m[\u001b[0m\u001b[36mINIT\u001b[0m\u001b[1;36m]\u001b[0m\u001b[36m...\u001b[0m\u001b[36m. → Crawl4AI \u001b[0m\u001b[1;36m0.7\u001b[0m\u001b[36m.\u001b[0m\u001b[1;36m4\u001b[0m\u001b[36m \u001b[0m\n"
            ],
            "text/html": [
              "<pre style=\"white-space:pre;overflow-x:auto;line-height:normal;font-family:Menlo,'DejaVu Sans Mono',consolas,'Courier New',monospace\"><span style=\"color: #008080; text-decoration-color: #008080; font-weight: bold\">[</span><span style=\"color: #008080; text-decoration-color: #008080\">INIT</span><span style=\"color: #008080; text-decoration-color: #008080; font-weight: bold\">]</span><span style=\"color: #008080; text-decoration-color: #008080\">.... → Crawl4AI </span><span style=\"color: #008080; text-decoration-color: #008080; font-weight: bold\">0.7</span><span style=\"color: #008080; text-decoration-color: #008080\">.</span><span style=\"color: #008080; text-decoration-color: #008080; font-weight: bold\">4</span><span style=\"color: #008080; text-decoration-color: #008080\"> </span>\n",
              "</pre>\n"
            ]
          },
          "metadata": {}
        },
        {
          "output_type": "display_data",
          "data": {
            "text/plain": [
              "\u001b[1;32m[\u001b[0m\u001b[32mFETCH\u001b[0m\u001b[1;32m]\u001b[0m\u001b[32m...\u001b[0m\u001b[32m ↓ \u001b[0m\u001b[4;32mhttps://www.startech.com.bd/laptop-notebook/ultrabook/hp\u001b[0m\u001b[32m                                             |\u001b[0m\n",
              "\u001b[32m✓\u001b[0m\u001b[32m | ⏱: \u001b[0m\u001b[1;32m1.\u001b[0m\u001b[32m99s \u001b[0m\n"
            ],
            "text/html": [
              "<pre style=\"white-space:pre;overflow-x:auto;line-height:normal;font-family:Menlo,'DejaVu Sans Mono',consolas,'Courier New',monospace\"><span style=\"color: #008000; text-decoration-color: #008000; font-weight: bold\">[</span><span style=\"color: #008000; text-decoration-color: #008000\">FETCH</span><span style=\"color: #008000; text-decoration-color: #008000; font-weight: bold\">]</span><span style=\"color: #008000; text-decoration-color: #008000\">... ↓ </span><span style=\"color: #008000; text-decoration-color: #008000; text-decoration: underline\">https://www.startech.com.bd/laptop-notebook/ultrabook/hp</span><span style=\"color: #008000; text-decoration-color: #008000\">                                             |</span>\n",
              "<span style=\"color: #008000; text-decoration-color: #008000\">✓ | ⏱: </span><span style=\"color: #008000; text-decoration-color: #008000; font-weight: bold\">1.</span><span style=\"color: #008000; text-decoration-color: #008000\">99s </span>\n",
              "</pre>\n"
            ]
          },
          "metadata": {}
        },
        {
          "output_type": "display_data",
          "data": {
            "text/plain": [
              "\u001b[1;32m[\u001b[0m\u001b[32mSCRAPE\u001b[0m\u001b[1;32m]\u001b[0m\u001b[32m.. ◆ \u001b[0m\u001b[4;32mhttps://www.startech.com.bd/laptop-notebook/ultrabook/hp\u001b[0m\u001b[32m                                             |\u001b[0m\n",
              "\u001b[32m✓\u001b[0m\u001b[32m | ⏱: \u001b[0m\u001b[1;32m0.\u001b[0m\u001b[32m58s \u001b[0m\n"
            ],
            "text/html": [
              "<pre style=\"white-space:pre;overflow-x:auto;line-height:normal;font-family:Menlo,'DejaVu Sans Mono',consolas,'Courier New',monospace\"><span style=\"color: #008000; text-decoration-color: #008000; font-weight: bold\">[</span><span style=\"color: #008000; text-decoration-color: #008000\">SCRAPE</span><span style=\"color: #008000; text-decoration-color: #008000; font-weight: bold\">]</span><span style=\"color: #008000; text-decoration-color: #008000\">.. ◆ </span><span style=\"color: #008000; text-decoration-color: #008000; text-decoration: underline\">https://www.startech.com.bd/laptop-notebook/ultrabook/hp</span><span style=\"color: #008000; text-decoration-color: #008000\">                                             |</span>\n",
              "<span style=\"color: #008000; text-decoration-color: #008000\">✓ | ⏱: </span><span style=\"color: #008000; text-decoration-color: #008000; font-weight: bold\">0.</span><span style=\"color: #008000; text-decoration-color: #008000\">58s </span>\n",
              "</pre>\n"
            ]
          },
          "metadata": {}
        },
        {
          "output_type": "display_data",
          "data": {
            "text/plain": [
              "\u001b[1;32m[\u001b[0m\u001b[32mCOMPLETE\u001b[0m\u001b[1;32m]\u001b[0m\u001b[32m ● \u001b[0m\u001b[4;32mhttps://www.startech.com.bd/laptop-notebook/ultrabook/hp\u001b[0m\u001b[32m                                             |\u001b[0m\n",
              "\u001b[32m✓\u001b[0m\u001b[32m | ⏱: \u001b[0m\u001b[1;32m2.\u001b[0m\u001b[32m60s \u001b[0m\n"
            ],
            "text/html": [
              "<pre style=\"white-space:pre;overflow-x:auto;line-height:normal;font-family:Menlo,'DejaVu Sans Mono',consolas,'Courier New',monospace\"><span style=\"color: #008000; text-decoration-color: #008000; font-weight: bold\">[</span><span style=\"color: #008000; text-decoration-color: #008000\">COMPLETE</span><span style=\"color: #008000; text-decoration-color: #008000; font-weight: bold\">]</span><span style=\"color: #008000; text-decoration-color: #008000\"> ● </span><span style=\"color: #008000; text-decoration-color: #008000; text-decoration: underline\">https://www.startech.com.bd/laptop-notebook/ultrabook/hp</span><span style=\"color: #008000; text-decoration-color: #008000\">                                             |</span>\n",
              "<span style=\"color: #008000; text-decoration-color: #008000\">✓ | ⏱: </span><span style=\"color: #008000; text-decoration-color: #008000; font-weight: bold\">2.</span><span style=\"color: #008000; text-decoration-color: #008000\">60s </span>\n",
              "</pre>\n"
            ]
          },
          "metadata": {}
        },
        {
          "output_type": "stream",
          "name": "stdout",
          "text": [
            "     ✅ 3 products\n",
            "  📂 Processing subcategory 4/5: Microsoft\n"
          ]
        },
        {
          "output_type": "display_data",
          "data": {
            "text/plain": [
              "\u001b[1;36m[\u001b[0m\u001b[36mINIT\u001b[0m\u001b[1;36m]\u001b[0m\u001b[36m...\u001b[0m\u001b[36m. → Crawl4AI \u001b[0m\u001b[1;36m0.7\u001b[0m\u001b[36m.\u001b[0m\u001b[1;36m4\u001b[0m\u001b[36m \u001b[0m\n"
            ],
            "text/html": [
              "<pre style=\"white-space:pre;overflow-x:auto;line-height:normal;font-family:Menlo,'DejaVu Sans Mono',consolas,'Courier New',monospace\"><span style=\"color: #008080; text-decoration-color: #008080; font-weight: bold\">[</span><span style=\"color: #008080; text-decoration-color: #008080\">INIT</span><span style=\"color: #008080; text-decoration-color: #008080; font-weight: bold\">]</span><span style=\"color: #008080; text-decoration-color: #008080\">.... → Crawl4AI </span><span style=\"color: #008080; text-decoration-color: #008080; font-weight: bold\">0.7</span><span style=\"color: #008080; text-decoration-color: #008080\">.</span><span style=\"color: #008080; text-decoration-color: #008080; font-weight: bold\">4</span><span style=\"color: #008080; text-decoration-color: #008080\"> </span>\n",
              "</pre>\n"
            ]
          },
          "metadata": {}
        },
        {
          "output_type": "display_data",
          "data": {
            "text/plain": [
              "\u001b[1;32m[\u001b[0m\u001b[32mFETCH\u001b[0m\u001b[1;32m]\u001b[0m\u001b[32m...\u001b[0m\u001b[32m ↓ \u001b[0m\u001b[4;32mhttps://www.startech.com.bd/laptop-notebook/ultrabook/microsoft\u001b[0m\u001b[32m                                      |\u001b[0m\n",
              "\u001b[32m✓\u001b[0m\u001b[32m | ⏱: \u001b[0m\u001b[1;32m1.\u001b[0m\u001b[32m28s \u001b[0m\n"
            ],
            "text/html": [
              "<pre style=\"white-space:pre;overflow-x:auto;line-height:normal;font-family:Menlo,'DejaVu Sans Mono',consolas,'Courier New',monospace\"><span style=\"color: #008000; text-decoration-color: #008000; font-weight: bold\">[</span><span style=\"color: #008000; text-decoration-color: #008000\">FETCH</span><span style=\"color: #008000; text-decoration-color: #008000; font-weight: bold\">]</span><span style=\"color: #008000; text-decoration-color: #008000\">... ↓ </span><span style=\"color: #008000; text-decoration-color: #008000; text-decoration: underline\">https://www.startech.com.bd/laptop-notebook/ultrabook/microsoft</span><span style=\"color: #008000; text-decoration-color: #008000\">                                      |</span>\n",
              "<span style=\"color: #008000; text-decoration-color: #008000\">✓ | ⏱: </span><span style=\"color: #008000; text-decoration-color: #008000; font-weight: bold\">1.</span><span style=\"color: #008000; text-decoration-color: #008000\">28s </span>\n",
              "</pre>\n"
            ]
          },
          "metadata": {}
        },
        {
          "output_type": "display_data",
          "data": {
            "text/plain": [
              "\u001b[1;32m[\u001b[0m\u001b[32mSCRAPE\u001b[0m\u001b[1;32m]\u001b[0m\u001b[32m.. ◆ \u001b[0m\u001b[4;32mhttps://www.startech.com.bd/laptop-notebook/ultrabook/microsoft\u001b[0m\u001b[32m                                      |\u001b[0m\n",
              "\u001b[32m✓\u001b[0m\u001b[32m | ⏱: \u001b[0m\u001b[1;32m0.\u001b[0m\u001b[32m30s \u001b[0m\n"
            ],
            "text/html": [
              "<pre style=\"white-space:pre;overflow-x:auto;line-height:normal;font-family:Menlo,'DejaVu Sans Mono',consolas,'Courier New',monospace\"><span style=\"color: #008000; text-decoration-color: #008000; font-weight: bold\">[</span><span style=\"color: #008000; text-decoration-color: #008000\">SCRAPE</span><span style=\"color: #008000; text-decoration-color: #008000; font-weight: bold\">]</span><span style=\"color: #008000; text-decoration-color: #008000\">.. ◆ </span><span style=\"color: #008000; text-decoration-color: #008000; text-decoration: underline\">https://www.startech.com.bd/laptop-notebook/ultrabook/microsoft</span><span style=\"color: #008000; text-decoration-color: #008000\">                                      |</span>\n",
              "<span style=\"color: #008000; text-decoration-color: #008000\">✓ | ⏱: </span><span style=\"color: #008000; text-decoration-color: #008000; font-weight: bold\">0.</span><span style=\"color: #008000; text-decoration-color: #008000\">30s </span>\n",
              "</pre>\n"
            ]
          },
          "metadata": {}
        },
        {
          "output_type": "display_data",
          "data": {
            "text/plain": [
              "\u001b[1;32m[\u001b[0m\u001b[32mCOMPLETE\u001b[0m\u001b[1;32m]\u001b[0m\u001b[32m ● \u001b[0m\u001b[4;32mhttps://www.startech.com.bd/laptop-notebook/ultrabook/microsoft\u001b[0m\u001b[32m                                      |\u001b[0m\n",
              "\u001b[32m✓\u001b[0m\u001b[32m | ⏱: \u001b[0m\u001b[1;32m1.\u001b[0m\u001b[32m59s \u001b[0m\n"
            ],
            "text/html": [
              "<pre style=\"white-space:pre;overflow-x:auto;line-height:normal;font-family:Menlo,'DejaVu Sans Mono',consolas,'Courier New',monospace\"><span style=\"color: #008000; text-decoration-color: #008000; font-weight: bold\">[</span><span style=\"color: #008000; text-decoration-color: #008000\">COMPLETE</span><span style=\"color: #008000; text-decoration-color: #008000; font-weight: bold\">]</span><span style=\"color: #008000; text-decoration-color: #008000\"> ● </span><span style=\"color: #008000; text-decoration-color: #008000; text-decoration: underline\">https://www.startech.com.bd/laptop-notebook/ultrabook/microsoft</span><span style=\"color: #008000; text-decoration-color: #008000\">                                      |</span>\n",
              "<span style=\"color: #008000; text-decoration-color: #008000\">✓ | ⏱: </span><span style=\"color: #008000; text-decoration-color: #008000; font-weight: bold\">1.</span><span style=\"color: #008000; text-decoration-color: #008000\">59s </span>\n",
              "</pre>\n"
            ]
          },
          "metadata": {}
        },
        {
          "output_type": "stream",
          "name": "stdout",
          "text": [
            "     ✅ 12 products\n",
            "  📂 Processing subcategory 5/5: Dell\n"
          ]
        },
        {
          "output_type": "display_data",
          "data": {
            "text/plain": [
              "\u001b[1;36m[\u001b[0m\u001b[36mINIT\u001b[0m\u001b[1;36m]\u001b[0m\u001b[36m...\u001b[0m\u001b[36m. → Crawl4AI \u001b[0m\u001b[1;36m0.7\u001b[0m\u001b[36m.\u001b[0m\u001b[1;36m4\u001b[0m\u001b[36m \u001b[0m\n"
            ],
            "text/html": [
              "<pre style=\"white-space:pre;overflow-x:auto;line-height:normal;font-family:Menlo,'DejaVu Sans Mono',consolas,'Courier New',monospace\"><span style=\"color: #008080; text-decoration-color: #008080; font-weight: bold\">[</span><span style=\"color: #008080; text-decoration-color: #008080\">INIT</span><span style=\"color: #008080; text-decoration-color: #008080; font-weight: bold\">]</span><span style=\"color: #008080; text-decoration-color: #008080\">.... → Crawl4AI </span><span style=\"color: #008080; text-decoration-color: #008080; font-weight: bold\">0.7</span><span style=\"color: #008080; text-decoration-color: #008080\">.</span><span style=\"color: #008080; text-decoration-color: #008080; font-weight: bold\">4</span><span style=\"color: #008080; text-decoration-color: #008080\"> </span>\n",
              "</pre>\n"
            ]
          },
          "metadata": {}
        },
        {
          "output_type": "display_data",
          "data": {
            "text/plain": [
              "\u001b[1;32m[\u001b[0m\u001b[32mFETCH\u001b[0m\u001b[1;32m]\u001b[0m\u001b[32m...\u001b[0m\u001b[32m ↓ \u001b[0m\u001b[4;32mhttps://www.startech.com.bd/laptop-notebook/ultrabook/dell\u001b[0m\u001b[32m                                           |\u001b[0m\n",
              "\u001b[32m✓\u001b[0m\u001b[32m | ⏱: \u001b[0m\u001b[1;32m1.\u001b[0m\u001b[32m45s \u001b[0m\n"
            ],
            "text/html": [
              "<pre style=\"white-space:pre;overflow-x:auto;line-height:normal;font-family:Menlo,'DejaVu Sans Mono',consolas,'Courier New',monospace\"><span style=\"color: #008000; text-decoration-color: #008000; font-weight: bold\">[</span><span style=\"color: #008000; text-decoration-color: #008000\">FETCH</span><span style=\"color: #008000; text-decoration-color: #008000; font-weight: bold\">]</span><span style=\"color: #008000; text-decoration-color: #008000\">... ↓ </span><span style=\"color: #008000; text-decoration-color: #008000; text-decoration: underline\">https://www.startech.com.bd/laptop-notebook/ultrabook/dell</span><span style=\"color: #008000; text-decoration-color: #008000\">                                           |</span>\n",
              "<span style=\"color: #008000; text-decoration-color: #008000\">✓ | ⏱: </span><span style=\"color: #008000; text-decoration-color: #008000; font-weight: bold\">1.</span><span style=\"color: #008000; text-decoration-color: #008000\">45s </span>\n",
              "</pre>\n"
            ]
          },
          "metadata": {}
        },
        {
          "output_type": "display_data",
          "data": {
            "text/plain": [
              "\u001b[1;32m[\u001b[0m\u001b[32mSCRAPE\u001b[0m\u001b[1;32m]\u001b[0m\u001b[32m.. ◆ \u001b[0m\u001b[4;32mhttps://www.startech.com.bd/laptop-notebook/ultrabook/dell\u001b[0m\u001b[32m                                           |\u001b[0m\n",
              "\u001b[32m✓\u001b[0m\u001b[32m | ⏱: \u001b[0m\u001b[1;32m0.\u001b[0m\u001b[32m31s \u001b[0m\n"
            ],
            "text/html": [
              "<pre style=\"white-space:pre;overflow-x:auto;line-height:normal;font-family:Menlo,'DejaVu Sans Mono',consolas,'Courier New',monospace\"><span style=\"color: #008000; text-decoration-color: #008000; font-weight: bold\">[</span><span style=\"color: #008000; text-decoration-color: #008000\">SCRAPE</span><span style=\"color: #008000; text-decoration-color: #008000; font-weight: bold\">]</span><span style=\"color: #008000; text-decoration-color: #008000\">.. ◆ </span><span style=\"color: #008000; text-decoration-color: #008000; text-decoration: underline\">https://www.startech.com.bd/laptop-notebook/ultrabook/dell</span><span style=\"color: #008000; text-decoration-color: #008000\">                                           |</span>\n",
              "<span style=\"color: #008000; text-decoration-color: #008000\">✓ | ⏱: </span><span style=\"color: #008000; text-decoration-color: #008000; font-weight: bold\">0.</span><span style=\"color: #008000; text-decoration-color: #008000\">31s </span>\n",
              "</pre>\n"
            ]
          },
          "metadata": {}
        },
        {
          "output_type": "display_data",
          "data": {
            "text/plain": [
              "\u001b[1;32m[\u001b[0m\u001b[32mCOMPLETE\u001b[0m\u001b[1;32m]\u001b[0m\u001b[32m ● \u001b[0m\u001b[4;32mhttps://www.startech.com.bd/laptop-notebook/ultrabook/dell\u001b[0m\u001b[32m                                           |\u001b[0m\n",
              "\u001b[32m✓\u001b[0m\u001b[32m | ⏱: \u001b[0m\u001b[1;32m1.\u001b[0m\u001b[32m78s \u001b[0m\n"
            ],
            "text/html": [
              "<pre style=\"white-space:pre;overflow-x:auto;line-height:normal;font-family:Menlo,'DejaVu Sans Mono',consolas,'Courier New',monospace\"><span style=\"color: #008000; text-decoration-color: #008000; font-weight: bold\">[</span><span style=\"color: #008000; text-decoration-color: #008000\">COMPLETE</span><span style=\"color: #008000; text-decoration-color: #008000; font-weight: bold\">]</span><span style=\"color: #008000; text-decoration-color: #008000\"> ● </span><span style=\"color: #008000; text-decoration-color: #008000; text-decoration: underline\">https://www.startech.com.bd/laptop-notebook/ultrabook/dell</span><span style=\"color: #008000; text-decoration-color: #008000\">                                           |</span>\n",
              "<span style=\"color: #008000; text-decoration-color: #008000\">✓ | ⏱: </span><span style=\"color: #008000; text-decoration-color: #008000; font-weight: bold\">1.</span><span style=\"color: #008000; text-decoration-color: #008000\">78s </span>\n",
              "</pre>\n"
            ]
          },
          "metadata": {}
        },
        {
          "output_type": "stream",
          "name": "stdout",
          "text": [
            "     ✅ 2 products\n",
            "📊 Total products so far: 697\n",
            "\n",
            "💾 SAVING RESULTS...\n",
            "------------------------------\n",
            "✅ Saved categories to: startech_complete_categories.json\n",
            "✅ Saved products CSV to: startech_complete_products.csv\n",
            "✅ Saved products JSON to: startech_complete_products.json\n",
            "✅ Saved complete report to: startech_complete_complete_report.json\n",
            "\n",
            "🎉 SCRAPING COMPLETED SUCCESSFULLY!\n",
            "============================================================\n",
            "⏱️ Total Time: 219.8 seconds\n",
            "📊 Total Categories Found: 143\n",
            "🛍️ Total Products Scraped: 697\n",
            "⏰ Completed At: 2025-09-02 20:45:00\n",
            "\n",
            "📁 CATEGORY BREAKDOWN:\n",
            "   📂 Level 1: 143 categories\n",
            "   📂 Level 2: 1243 categories\n",
            "   📂 Level 3: 820 categories\n",
            "\n",
            "📋 FILES GENERATED:\n",
            "   📄 startech_complete_categories.json - Complete category hierarchy\n",
            "   📊 startech_complete_products.csv - Products in CSV format\n",
            "   📋 startech_complete_products.json - Products in JSON format\n",
            "   📈 startech_complete_complete_report.json - Complete scraping report\n",
            "\n",
            "🏆 TOP CATEGORIES BY PRODUCT COUNT:\n",
            "    1. Desktop: 20 products\n",
            "    2. Desktop/Desktop Offer: 20 products\n",
            "    3. Desktop/Gaming PC: 20 products\n",
            "    4. Desktop/Brand PC: 20 products\n",
            "    5. Desktop/All-in-One PC: 20 products\n",
            "    6. Gaming PC: 20 products\n",
            "    7. Gaming PC/RYZEN PC: 20 products\n",
            "    8. Brand PC: 20 products\n",
            "    9. Brand PC/Dell: 20 products\n",
            "   10. All-in-One PC: 20 products\n",
            "\n",
            "🛍️ SAMPLE PRODUCTS:\n",
            "------------------------------\n",
            "1. 📱 AMD Ryzen 5 3400G Processor Desktop PC\n",
            "   💰 Price: 21,999৳23,950৳\n",
            "   📂 Category: Desktop\n",
            "   🔗 https://www.startech.com.bd/amd-ryzen-5-3400g-processor-desktop-pc\n",
            "\n",
            "2. 📱 Asus NUC 13 Pro Core i3 13th Gen Portable Mini Pc\n",
            "   💰 Price: 46,500৳\n",
            "   📂 Category: Desktop\n",
            "   🔗 https://www.startech.com.bd/asus-nuc-13-pro-core-i3-13th-gen-mini-pc\n",
            "\n",
            "3. 📱 Asus NUC 13 Pro Core i5 13th Gen Portable Mini Pc\n",
            "   💰 Price: 60,500৳\n",
            "   📂 Category: Desktop\n",
            "   🔗 https://www.startech.com.bd/asus-nuc-13-pro-core-i5-13th-gen-mini-pc\n",
            "\n",
            "4. 📱 Asus PN41 Celeron N5100 Mini PC\n",
            "   💰 Price: 26,000৳\n",
            "   📂 Category: Desktop\n",
            "   🔗 https://www.startech.com.bd/asus-pn41-celeron-n5100-mini-pc\n",
            "\n",
            "5. 📱 AMD Ryzen 5 5600G Custom Desktop PC\n",
            "   💰 Price: 29,500৳31,700৳\n",
            "   📂 Category: Desktop\n",
            "   🔗 https://www.startech.com.bd/amd-ryzen-5-5600g-custom-desktop-pc\n",
            "\n",
            "🚀 STARTECH SCRAPER - COLAB USAGE\n",
            "==================================================\n",
            "\n",
            "📖 AVAILABLE FUNCTIONS:\n",
            "\n",
            "1️⃣ FULL SCRAPING (Categories + Products):\n",
            "   result = run_scraper()\n",
            "   • Extracts all categories & subcategories\n",
            "   • Scrapes products from top 10 categories\n",
            "   • Saves results to multiple files\n",
            "\n",
            "2️⃣ CATEGORIES ONLY (Quick Test):\n",
            "   categories = test_categories()\n",
            "   • Only extracts category hierarchy\n",
            "   • Faster for testing website structure\n",
            "\n",
            "3️⃣ SHOW THIS HELP:\n",
            "   show_usage()\n",
            "\n",
            "📁 OUTPUT FILES:\n",
            "   • startech_complete_categories.json\n",
            "   • startech_complete_products.csv\n",
            "   • startech_complete_products.json\n",
            "   • startech_complete_complete_report.json\n",
            "\n",
            "💡 TIP: Start with test_categories() to verify site access\n"
          ]
        }
      ]
    }
  ]
}